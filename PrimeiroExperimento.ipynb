{
 "cells": [
  {
   "cell_type": "code",
   "execution_count": 1,
   "metadata": {},
   "outputs": [
    {
     "name": "stdout",
     "output_type": "stream",
     "text": [
      "Hide toggle\n"
     ]
    },
    {
     "data": {
      "text/html": [
       "\n",
       "        <script>\n",
       "            function code_toggle_1108311703907353689() {\n",
       "                $('div.cell.code_cell.rendered.selected').find('div.input').toggle();\n",
       "            }\n",
       "\n",
       "            \n",
       "        </script>\n",
       "\n",
       "        <a href=\"javascript:code_toggle_1108311703907353689()\">Toggle show/hide</a>\n",
       "    "
      ],
      "text/plain": [
       "<IPython.core.display.HTML object>"
      ]
     },
     "execution_count": 1,
     "metadata": {},
     "output_type": "execute_result"
    }
   ],
   "source": [
    "from IPython.display import HTML\n",
    "import random\n",
    "\n",
    "def hide_toggle(for_next=False):\n",
    "    this_cell = \"\"\"$('div.cell.code_cell.rendered.selected')\"\"\"\n",
    "    next_cell = this_cell + '.next()'\n",
    "\n",
    "    toggle_text = 'Toggle show/hide'  # text shown on toggle link\n",
    "    target_cell = this_cell  # target cell to control with toggle\n",
    "    js_hide_current = ''  # bit of JS to permanently hide code in current cell (only when toggling next cell)\n",
    "\n",
    "    if for_next:\n",
    "        target_cell = next_cell\n",
    "        toggle_text += ' next cell'\n",
    "        js_hide_current = this_cell + '.find(\"div.input\").hide();'\n",
    "\n",
    "    js_f_name = 'code_toggle_{}'.format(str(random.randint(1,2**64)))\n",
    "\n",
    "    html = \"\"\"\n",
    "        <script>\n",
    "            function {f_name}() {{\n",
    "                {cell_selector}.find('div.input').toggle();\n",
    "            }}\n",
    "\n",
    "            {js_hide_current}\n",
    "        </script>\n",
    "\n",
    "        <a href=\"javascript:{f_name}()\">{toggle_text}</a>\n",
    "    \"\"\".format(\n",
    "        f_name=js_f_name,\n",
    "        cell_selector=target_cell,\n",
    "        js_hide_current=js_hide_current, \n",
    "        toggle_text=toggle_text\n",
    "    )\n",
    "\n",
    "    return HTML(html)\n",
    "\n",
    "print ('Hide toggle')\n",
    "hide_toggle()"
   ]
  },
  {
   "cell_type": "code",
   "execution_count": 2,
   "metadata": {},
   "outputs": [
    {
     "name": "stdout",
     "output_type": "stream",
     "text": [
      "Imports\n"
     ]
    },
    {
     "data": {
      "text/html": [
       "\n",
       "        <script>\n",
       "            function code_toggle_10211899384045262780() {\n",
       "                $('div.cell.code_cell.rendered.selected').find('div.input').toggle();\n",
       "            }\n",
       "\n",
       "            \n",
       "        </script>\n",
       "\n",
       "        <a href=\"javascript:code_toggle_10211899384045262780()\">Toggle show/hide</a>\n",
       "    "
      ],
      "text/plain": [
       "<IPython.core.display.HTML object>"
      ]
     },
     "execution_count": 2,
     "metadata": {},
     "output_type": "execute_result"
    }
   ],
   "source": [
    "import numpy as np\n",
    "import pandas as pd\n",
    "from sklearn.cluster import DBSCAN\n",
    "from sklearn import metrics\n",
    "from sklearn.datasets import make_blobs, make_circles\n",
    "from sklearn.preprocessing import StandardScaler\n",
    "import matplotlib.pyplot as plt\n",
    "import requests \n",
    "from collections import Counter\n",
    "import random\n",
    "import decimal\n",
    "import math\n",
    "import random\n",
    "from statsmodels.tsa.ar_model import AutoReg, ar_select_order\n",
    "\n",
    "print ('Imports')\n",
    "hide_toggle()"
   ]
  },
  {
   "cell_type": "code",
   "execution_count": 3,
   "metadata": {},
   "outputs": [
    {
     "name": "stdout",
     "output_type": "stream",
     "text": [
      "Dates\n"
     ]
    },
    {
     "data": {
      "text/html": [
       "\n",
       "        <script>\n",
       "            function code_toggle_4775081075995658300() {\n",
       "                $('div.cell.code_cell.rendered.selected').find('div.input').toggle();\n",
       "            }\n",
       "\n",
       "            \n",
       "        </script>\n",
       "\n",
       "        <a href=\"javascript:code_toggle_4775081075995658300()\">Toggle show/hide</a>\n",
       "    "
      ],
      "text/plain": [
       "<IPython.core.display.HTML object>"
      ]
     },
     "execution_count": 3,
     "metadata": {},
     "output_type": "execute_result"
    }
   ],
   "source": [
    "startDate = '2004-01-01'\n",
    "finalDate = '2021-12-31'\n",
    "\n",
    "print (\"Dates\")\n",
    "hide_toggle()"
   ]
  },
  {
   "cell_type": "code",
   "execution_count": 5,
   "metadata": {
    "scrolled": false
   },
   "outputs": [
    {
     "name": "stdout",
     "output_type": "stream",
     "text": [
      "Request datas\n"
     ]
    },
    {
     "data": {
      "text/html": [
       "\n",
       "        <script>\n",
       "            function code_toggle_5611923366811493733() {\n",
       "                $('div.cell.code_cell.rendered.selected').find('div.input').toggle();\n",
       "            }\n",
       "\n",
       "            \n",
       "        </script>\n",
       "\n",
       "        <a href=\"javascript:code_toggle_5611923366811493733()\">Toggle show/hide</a>\n",
       "    "
      ],
      "text/plain": [
       "<IPython.core.display.HTML object>"
      ]
     },
     "execution_count": 5,
     "metadata": {},
     "output_type": "execute_result"
    }
   ],
   "source": [
    "##------------------------------Pegando os Dados-----------------------------------\n",
    "\n",
    "#url = \"https://apitempo.inmet.gov.br/estacao/diaria/2018-12-21/2019-03-21/A307\"\n",
    "url_2020 = \"https://apitempo.inmet.gov.br/estacao/diaria/2020-01-01/2020-12-31/A307\"\n",
    "headers = {'User-Agent': 'Mozilla/5.0 (Macintosh; Intel Mac OS X 10_11_5) AppleWebKit/537.36 (KHTML, like Gecko) Chrome/50.0.2661.102 Safari/537.36'}\n",
    "resp_2020 = requests.get(url_2020, headers=headers)\n",
    "\n",
    "url_2021 = \"https://apitempo.inmet.gov.br/estacao/diaria/2021-01-01/2021-12-31/A307\"\n",
    "resp_2021 = requests.get(url_2021, headers=headers)\n",
    "\n",
    "df = None\n",
    "df_temp = None\n",
    "if resp_2020.status_code != 200 or resp_2021.status_code != 200:\n",
    "    print (resp_2020.raise_for_status())\n",
    "    print (resp_2021.raise_for_status())\n",
    "\n",
    "else:\n",
    "    df_2020 = pd.DataFrame(resp_2020.json())\n",
    "    df_2021 = pd.DataFrame(resp_2021.json())\n",
    "   \n",
    "    main_df_2020 = df_2020[['TEMP_MAX', 'UMID_MED', 'DT_MEDICAO']]\n",
    "    main_df_2021 = df_2021[['TEMP_MAX', 'UMID_MED', 'DT_MEDICAO']]\n",
    "\n",
    "frames = [main_df_2020, main_df_2021]\n",
    "main_df = pd.concat(frames)\n",
    "main_df = main_df.reset_index()\n",
    "main_df[\"id\"] = main_df.index + 1\n",
    "\n",
    "print (\"Request datas\")\n",
    "hide_toggle()"
   ]
  },
  {
   "cell_type": "code",
   "execution_count": 11,
   "metadata": {},
   "outputs": [],
   "source": [
    "temp_max = main_df['TEMP_MAX']"
   ]
  },
  {
   "cell_type": "code",
   "execution_count": 7,
   "metadata": {},
   "outputs": [
    {
     "name": "stdout",
     "output_type": "stream",
     "text": [
      "Functions\n"
     ]
    },
    {
     "data": {
      "text/html": [
       "\n",
       "        <script>\n",
       "            function code_toggle_4373547329375337830() {\n",
       "                $('div.cell.code_cell.rendered.selected').find('div.input').toggle();\n",
       "            }\n",
       "\n",
       "            \n",
       "        </script>\n",
       "\n",
       "        <a href=\"javascript:code_toggle_4373547329375337830()\">Toggle show/hide</a>\n",
       "    "
      ],
      "text/plain": [
       "<IPython.core.display.HTML object>"
      ]
     },
     "execution_count": 7,
     "metadata": {},
     "output_type": "execute_result"
    }
   ],
   "source": [
    "df_training_temp = None\n",
    "df_training_temp_anomalie_edit = None\n",
    "desvioPadraoTempTraining = 0\n",
    "desvioPadraoUmidTraining = 0\n",
    "\n",
    "desvioPadraoTempTest = 0\n",
    "desvioPadraoUmidTest = 0\n",
    "\n",
    "desvioPadrao = 0\n",
    "\n",
    "import statistics\n",
    "def replaceValues(listValues):\n",
    "    for i in range(len(listValues)):\n",
    "        if listValues[i] == None:\n",
    "            listAux = pd.to_numeric(listValues[i-7:i], errors='coerce')\n",
    "            listValues[i] = str(float(\"{:.2f}\".format(statistics.mean(listAux))))\n",
    "\n",
    "def valorFinalTemperatura(df_training_temp_anomalie_edit, treino, equacaoExponencial):\n",
    "    valorFinalTemp = equacaoExponencial * extrairErro(df_training_temp_anomalie_edit, 'TEMP_MAX')\n",
    "    return valorFinalTemp\n",
    "\n",
    "def valorFinalUmidade(df_training_temp_anomalie_edit, treino, equacaoExponencial):\n",
    "    valorFinalUmid = equacaoExponencial * extrairErro(df_training_temp_anomalie_edit, 'UMID_MED')\n",
    "    return valorFinalUmid\n",
    "\n",
    "def qtdRowsTemp():\n",
    "    count_row_temp = df_temp.shape[0]\n",
    "    return count_row_temp\n",
    "\n",
    "def extrairErro(dataframe, coluna):\n",
    "    train_size = int(dataframe.shape[0] * 1)\n",
    "    train_Real, train_Pred = dataframe.to_numpy()[:,0], dataframe.to_numpy()[:,1]\n",
    "    train_resid = [train_Real[i]-train_Pred[i] for i in range(len(dataframe))]\n",
    "    desvioErro = np.std(train_resid)\n",
    "    return desvioErro\n",
    "\n",
    "def TransformarEmEstacionaria(df_training_temp):\n",
    "    converterColunasToFloat(df_training_temp, \"TEMP_MAX\")\n",
    "    converterColunasToFloat(df_training_temp, \"UMID_MED\")\n",
    "\n",
    "    df_training_temp['UMID_MED'] = df_training_temp['UMID_MED'].diff()\n",
    "    df_training_temp['TEMP_MAX'] = df_training_temp['TEMP_MAX'].diff()\n",
    "    df_training_temp.dropna()\n",
    "    return df_training_temp\n",
    "\n",
    "def equacaoExponencial():\n",
    "    numberX = decimal.Decimal(random.randrange(-50, 50))/100\n",
    "    eq = math.exp((3 * abs(numberX))) + 3\n",
    "    return float(eq)\n",
    "\n",
    "def converterColunasToFloat(dataframe, coluna):\n",
    "    dataframe[coluna] = dataframe[coluna].astype(float)\n",
    "    dataframe[coluna].apply(lambda x: float(x))\n",
    "    return dataframe\n",
    "\n",
    "\n",
    "def autoReg(dataframe_anomalies_edit):\n",
    "    ar_model = AutoReg(np.array(dataframe_anomalies_edit), trend='n', lags=1).fit()\n",
    "    pred = ar_model.predict(start=0,end= dataframe_anomalies_edit.shape[0], dynamic=False)\n",
    "    return pred\n",
    "\n",
    "print (\"Functions\")\n",
    "hide_toggle()"
   ]
  },
  {
   "cell_type": "code",
   "execution_count": 8,
   "metadata": {},
   "outputs": [
    {
     "name": "stdout",
     "output_type": "stream",
     "text": [
      "Tratamento dos Dados\n"
     ]
    },
    {
     "data": {
      "text/html": [
       "\n",
       "        <script>\n",
       "            function code_toggle_3357131001050293278() {\n",
       "                $('div.cell.code_cell.rendered.selected').find('div.input').toggle();\n",
       "            }\n",
       "\n",
       "            \n",
       "        </script>\n",
       "\n",
       "        <a href=\"javascript:code_toggle_3357131001050293278()\">Toggle show/hide</a>\n",
       "    "
      ],
      "text/plain": [
       "<IPython.core.display.HTML object>"
      ]
     },
     "execution_count": 8,
     "metadata": {},
     "output_type": "execute_result"
    }
   ],
   "source": [
    "\n",
    "#------------------------------Tratando os Dados-----------------------------------\n",
    "\n",
    "dfAnomaliasFinal = pd.DataFrame()\n",
    "df_train = pd.DataFrame()\n",
    "\n",
    "def dataTraining(percentOutliers):\n",
    "\n",
    "    df_training_temp = main_df\n",
    "\n",
    "    df_training_temp = TransformarEmEstacionaria(df_training_temp) #Série Estacionária\n",
    "    df_train = TransformarEmEstacionaria(df_training_temp)\n",
    "    \n",
    "    count_training_temp = int((df_training_temp.shape[0] * percentOutliers) / 100)    \n",
    "    df_training_temp_anomalie_edit = df_training_temp.sample(n=count_training_temp)\n",
    "    \n",
    "    df_test_temp = pd.concat([df_temp, df_training_temp]).drop_duplicates(keep=False)\n",
    "\n",
    "    df_training_temp = pd.concat([df_training_temp, df_training_temp_anomalie_edit]).drop_duplicates(keep=False)\n",
    "    df_training_temp_anomalie_edit.dropna(inplace=True)\n",
    "\n",
    "    df_training_temp_anomalie_edit = converterColunasToFloat(df_training_temp_anomalie_edit, \"TEMP_MAX\")\n",
    "    #df_training_temp_anomalie_edit = converterColunasToFloat(df_training_temp_anomalie_edit, \"UMID_MED\")\n",
    "\n",
    "    equacaoExpo = equacaoExponencial()\n",
    "    \n",
    "    temperaturas = autoReg(df_training_temp_anomalie_edit['TEMP_MAX']) #AutoRegressão\n",
    "    umidades = autoReg(df_training_temp_anomalie_edit['UMID_MED']) #AutoRegressão\n",
    "    \n",
    "    df_ids = np.array(df_training_temp_anomalie_edit['id'])\n",
    "    \n",
    "    df_temp_real_pred = pd.DataFrame()\n",
    "    colTemp = ['temp_real','temp_pred']\n",
    "    df_temp_real_pred = pd.DataFrame(columns=colTemp)\n",
    "    df_temp_real_pred['temp_real'] = df_training_temp_anomalie_edit['TEMP_MAX']\n",
    "    df_temp_real_pred['temp_pred'] = temperaturas.tolist()\n",
    "\n",
    "    df_umid_real_pred = pd.DataFrame()\n",
    "    col_umid = ['umid_real','umid_pred']\n",
    "    df_umid_real_pred = pd.DataFrame(columns=col_umid)\n",
    "    df_umid_real_pred['umid_real'] = df_training_temp_anomalie_edit['UMID_MED']\n",
    "    df_umid_real_pred['umid_pred'] = umidades.tolist()\n",
    "    \n",
    "    valorFinalTemp = valorFinalTemperatura(df_temp_real_pred, True, equacaoExpo)\n",
    "    valorFinalUmid = valorFinalUmidade(df_umid_real_pred, True, equacaoExpo)\n",
    "    \n",
    "    df_training_temp_anomalie_edit = converterColunasToFloat(df_training_temp_anomalie_edit, \"UMID_MED\")\n",
    "    df_training_temp_anomalie_edit = converterColunasToFloat(df_training_temp_anomalie_edit, \"TEMP_MAX\")\n",
    "\n",
    "    dfAnomalias = pd.DataFrame()\n",
    "    col = ['TEMP_MAX','UMID_MED', 'id']\n",
    "\n",
    "    dfAnomalias = pd.DataFrame(columns=col)\n",
    "\n",
    "    df_training_temp_anomalie_edit.sort_index(inplace=True)\n",
    "\n",
    "    for index, row in df_training_temp_anomalie_edit.iterrows():\n",
    "        temp = row['TEMP_MAX'] + (np.sign(row['TEMP_MAX']) * valorFinalTemp)\n",
    "        umid = row['UMID_MED'] + (np.sign(row['UMID_MED']) * valorFinalUmid)\n",
    "        x = np.array([[temp, umid, row['id']]], np.float)\n",
    "        df1=pd.DataFrame(x, columns=['TEMP_MAX', 'UMID_MED', 'id'])        \n",
    "        df1.set_index('id',inplace=True)\n",
    "\n",
    "        dfAnomalias = pd.concat([df1, dfAnomalias])\n",
    "        \n",
    "    dfAnomalias = dfAnomalias.drop(columns='id')\n",
    "        \n",
    "    dfAnomalias.sort_index(inplace=True)    \n",
    "\n",
    "    print ('Anomalias: ')\n",
    "    print (dfAnomalias)\n",
    "    dfFinal = dfAnomalias\n",
    "\n",
    "    for index, row in df_training_temp.iterrows():\n",
    "        x = np.array([[row['TEMP_MAX'], row['UMID_MED'], row['id']]], np.float)\n",
    "        df1=pd.DataFrame(x, columns=['TEMP_MAX', 'UMID_MED', 'id'])\n",
    "        df1.set_index('id',inplace=True)\n",
    "        \n",
    "        dfFinal = pd.concat([df1, dfFinal])\n",
    "\n",
    "    dfFinal.sort_index(inplace=True)    \n",
    "    df_training_temp = dfFinal\n",
    "    df_training_temp.dropna(inplace=True)\n",
    "\n",
    "    dfAnomalias.sort_index(inplace=True)\n",
    " \n",
    "    #Treino\n",
    "    df_training_temp = converterColunasToFloat(df_training_temp, \"TEMP_MAX\")\n",
    "    df_training_temp = converterColunasToFloat(df_training_temp, \"UMID_MED\")\n",
    "    df_training_temp.sort_index(inplace=True)\n",
    "\n",
    "    return df_training_temp, dfAnomalias, df_train\n",
    "\n",
    "print (\"Tratamento dos Dados\")\n",
    "hide_toggle()"
   ]
  },
  {
   "cell_type": "code",
   "execution_count": 9,
   "metadata": {},
   "outputs": [],
   "source": [
    "replaceValues(temp_max)"
   ]
  },
  {
   "cell_type": "code",
   "execution_count": 16,
   "metadata": {},
   "outputs": [],
   "source": [
    "main_df['DT_MEDICAO'] = pd.to_datetime(main_df['DT_MEDICAO'])\n",
    "main_df['TEMP_MAX'] = main_df['TEMP_MAX'].astype(float)\n"
   ]
  },
  {
   "cell_type": "code",
   "execution_count": 17,
   "metadata": {},
   "outputs": [
    {
     "data": {
      "image/png": "[encoded data removed]",
      "text/plain": [
       "<Figure size 1080x360 with 1 Axes>"
      ]
     },
     "metadata": {
      "needs_background": "light"
     },
     "output_type": "display_data"
    }
   ],
   "source": [
    "plt.figure(figsize=(15,5))\n",
    "plt.plot(main_df['DT_MEDICAO'], main_df['TEMP_MAX'], color='#1f77b4')\n",
    "plt.title('Temperatura Máxima')\n",
    "plt.show()"
   ]
  },
  {
   "cell_type": "code",
   "execution_count": 18,
   "metadata": {
    "scrolled": true
   },
   "outputs": [
    {
     "name": "stderr",
     "output_type": "stream",
     "text": [
      "/home/anderson/Documentos/Python/anaconda3/lib/python3.8/site-packages/statsmodels/tsa/ar_model.py:248: FutureWarning: The parameter names will change after 0.12 is released. Set old_names to False to use the new names now. Set old_names to True to use the old names. \n",
      "  warnings.warn(\n",
      "/home/anderson/Documentos/Python/anaconda3/lib/python3.8/site-packages/statsmodels/tsa/ar_model.py:248: FutureWarning: The parameter names will change after 0.12 is released. Set old_names to False to use the new names now. Set old_names to True to use the old names. \n",
      "  warnings.warn(\n"
     ]
    },
    {
     "name": "stdout",
     "output_type": "stream",
     "text": [
      "Anomalias: \n",
      "        TEMP_MAX   UMID_MED\n",
      "12.0   15.781412 -36.903287\n",
      "14.0  -15.981412  40.603287\n",
      "24.0   25.281412 -50.703287\n",
      "67.0  -19.581412  36.003287\n",
      "81.0  -17.181412  41.803287\n",
      "91.0  -14.881412  35.703287\n",
      "123.0  16.881412 -37.303287\n",
      "125.0 -15.481412   0.000000\n",
      "147.0 -17.281412  45.403287\n",
      "150.0  18.181412 -57.203287\n",
      "185.0 -18.281412  46.803287\n",
      "235.0  14.681412 -37.203287\n",
      "255.0  14.881412  36.003287\n",
      "263.0 -15.281412  41.903287\n",
      "273.0   0.000000 -36.503287\n",
      "311.0 -17.281412 -37.503287\n",
      "330.0 -15.881412 -36.803287\n",
      "338.0 -14.981412  38.903287\n",
      "359.0 -15.781412  43.803287\n",
      "385.0 -15.381412 -37.603287\n",
      "396.0 -17.881412  43.403287\n",
      "426.0  14.781412 -48.403287\n",
      "435.0 -14.681412 -36.003287\n",
      "478.0 -16.881412  42.303287\n",
      "489.0  15.781412   0.000000\n",
      "498.0  16.981412  35.903287\n",
      "499.0 -15.881412  43.403287\n",
      "538.0 -17.181412  41.203287\n",
      "541.0 -15.381412 -37.703287\n",
      "548.0 -16.081412  45.303287\n",
      "577.0 -21.681412  45.503287\n",
      "596.0 -16.081412  43.203287\n",
      "604.0 -15.481412  40.503287\n",
      "607.0  15.881412 -39.703287\n",
      "672.0  16.681412  36.003287\n",
      "675.0 -18.681412  56.603287\n",
      "(36, 2)\n"
     ]
    }
   ],
   "source": [
    "#import random\n",
    "\n",
    "taxaContaminacao = 5\n",
    "dfs = dataTraining(taxaContaminacao)\n",
    "df_training_temp = dfs[0]\n",
    "dfAnomalias = dfs[1]\n",
    "dfTrain = dfs[2]\n",
    "print (dfAnomalias.shape)\n",
    "#df_training_temp = df_training_temp[df_training_temp.index.notnull()]"
   ]
  },
  {
   "cell_type": "code",
   "execution_count": 31,
   "metadata": {},
   "outputs": [],
   "source": [
    "\n",
    " = main_df.drop(main_df.index[0])"
   ]
  },
  {
   "cell_type": "code",
   "execution_count": 32,
   "metadata": {},
   "outputs": [
    {
     "data": {
      "text/html": [
       "<div>\n",
       "<style scoped>\n",
       "    .dataframe tbody tr th:only-of-type {\n",
       "        vertical-align: middle;\n",
       "    }\n",
       "\n",
       "    .dataframe tbody tr th {\n",
       "        vertical-align: top;\n",
       "    }\n",
       "\n",
       "    .dataframe thead th {\n",
       "        text-align: right;\n",
       "    }\n",
       "</style>\n",
       "<table border=\"1\" class=\"dataframe\">\n",
       "  <thead>\n",
       "    <tr style=\"text-align: right;\">\n",
       "      <th></th>\n",
       "      <th>index</th>\n",
       "      <th>TEMP_MAX</th>\n",
       "      <th>UMID_MED</th>\n",
       "      <th>DT_MEDICAO</th>\n",
       "      <th>id</th>\n",
       "    </tr>\n",
       "  </thead>\n",
       "  <tbody>\n",
       "    <tr>\n",
       "      <th>2</th>\n",
       "      <td>2</td>\n",
       "      <td>-6.7</td>\n",
       "      <td>19.7</td>\n",
       "      <td>2020-01-03</td>\n",
       "      <td>3</td>\n",
       "    </tr>\n",
       "    <tr>\n",
       "      <th>3</th>\n",
       "      <td>3</td>\n",
       "      <td>3.2</td>\n",
       "      <td>-15.4</td>\n",
       "      <td>2020-01-04</td>\n",
       "      <td>4</td>\n",
       "    </tr>\n",
       "    <tr>\n",
       "      <th>4</th>\n",
       "      <td>4</td>\n",
       "      <td>2.5</td>\n",
       "      <td>4.7</td>\n",
       "      <td>2020-01-05</td>\n",
       "      <td>5</td>\n",
       "    </tr>\n",
       "    <tr>\n",
       "      <th>5</th>\n",
       "      <td>5</td>\n",
       "      <td>1.2</td>\n",
       "      <td>-10.7</td>\n",
       "      <td>2020-01-06</td>\n",
       "      <td>6</td>\n",
       "    </tr>\n",
       "    <tr>\n",
       "      <th>6</th>\n",
       "      <td>6</td>\n",
       "      <td>-4.4</td>\n",
       "      <td>20.7</td>\n",
       "      <td>2020-01-07</td>\n",
       "      <td>7</td>\n",
       "    </tr>\n",
       "    <tr>\n",
       "      <th>...</th>\n",
       "      <td>...</td>\n",
       "      <td>...</td>\n",
       "      <td>...</td>\n",
       "      <td>...</td>\n",
       "      <td>...</td>\n",
       "    </tr>\n",
       "    <tr>\n",
       "      <th>726</th>\n",
       "      <td>360</td>\n",
       "      <td>-2.6</td>\n",
       "      <td>1.5</td>\n",
       "      <td>2021-12-27</td>\n",
       "      <td>727</td>\n",
       "    </tr>\n",
       "    <tr>\n",
       "      <th>727</th>\n",
       "      <td>361</td>\n",
       "      <td>-0.4</td>\n",
       "      <td>-0.6</td>\n",
       "      <td>2021-12-28</td>\n",
       "      <td>728</td>\n",
       "    </tr>\n",
       "    <tr>\n",
       "      <th>728</th>\n",
       "      <td>362</td>\n",
       "      <td>0.1</td>\n",
       "      <td>0.3</td>\n",
       "      <td>2021-12-29</td>\n",
       "      <td>729</td>\n",
       "    </tr>\n",
       "    <tr>\n",
       "      <th>729</th>\n",
       "      <td>363</td>\n",
       "      <td>0.2</td>\n",
       "      <td>7.5</td>\n",
       "      <td>2021-12-30</td>\n",
       "      <td>730</td>\n",
       "    </tr>\n",
       "    <tr>\n",
       "      <th>730</th>\n",
       "      <td>364</td>\n",
       "      <td>-2.8</td>\n",
       "      <td>8.4</td>\n",
       "      <td>2021-12-31</td>\n",
       "      <td>731</td>\n",
       "    </tr>\n",
       "  </tbody>\n",
       "</table>\n",
       "<p>729 rows × 5 columns</p>\n",
       "</div>"
      ],
      "text/plain": [
       "     index  TEMP_MAX  UMID_MED DT_MEDICAO   id\n",
       "2        2      -6.7      19.7 2020-01-03    3\n",
       "3        3       3.2     -15.4 2020-01-04    4\n",
       "4        4       2.5       4.7 2020-01-05    5\n",
       "5        5       1.2     -10.7 2020-01-06    6\n",
       "6        6      -4.4      20.7 2020-01-07    7\n",
       "..     ...       ...       ...        ...  ...\n",
       "726    360      -2.6       1.5 2021-12-27  727\n",
       "727    361      -0.4      -0.6 2021-12-28  728\n",
       "728    362       0.1       0.3 2021-12-29  729\n",
       "729    363       0.2       7.5 2021-12-30  730\n",
       "730    364      -2.8       8.4 2021-12-31  731\n",
       "\n",
       "[729 rows x 5 columns]"
      ]
     },
     "execution_count": 32,
     "metadata": {},
     "output_type": "execute_result"
    }
   ],
   "source": [
    "main_df"
   ]
  },
  {
   "cell_type": "code",
   "execution_count": 33,
   "metadata": {},
   "outputs": [
    {
     "data": {
      "image/png": "[encoded data removed]",
      "text/plain": [
       "<Figure size 1080x360 with 1 Axes>"
      ]
     },
     "metadata": {
      "needs_background": "light"
     },
     "output_type": "display_data"
    }
   ],
   "source": [
    "plt.figure(figsize=(15,5))\n",
    "plt.plot(main_df['DT_MEDICAO'], df_training_temp['TEMP_MAX'], color='#1f77b4')\n",
    "plt.title('Temperatura Máxima')\n",
    "plt.show()"
   ]
  },
  {
   "cell_type": "code",
   "execution_count": 11,
   "metadata": {},
   "outputs": [],
   "source": [
    "df_train_final = dfTrain.drop(['DT_MEDICAO', 'id'], axis=1)"
   ]
  },
  {
   "cell_type": "code",
   "execution_count": 46,
   "metadata": {},
   "outputs": [
    {
     "data": {
      "text/plain": [
       "731"
      ]
     },
     "execution_count": 46,
     "metadata": {},
     "output_type": "execute_result"
    }
   ],
   "source": [
    "len(df_train_final)"
   ]
  },
  {
   "cell_type": "code",
   "execution_count": 12,
   "metadata": {
    "scrolled": true
   },
   "outputs": [],
   "source": [
    "#Credits\n",
    "#https://github.com/chriswernst/dbscan-python/blob/master/dbscan.py\n",
    "\n",
    "#------------------------------Implementando o DBSCAN-----------------------------------\n",
    "def dbscan(df_used, eps, min_samples):\n",
    "    X = StandardScaler().fit_transform(df_used)\n",
    "    db = DBSCAN(eps=eps, min_samples=min_samples, algorithm='auto').fit(X)\n",
    "    core_samples_mask = np.zeros_like(db.labels_, dtype=bool)\n",
    "    core_samples_mask[db.core_sample_indices_] = True\n",
    "\n",
    "    labels = db.labels_\n",
    "\n",
    "    outliers = df_used[db.labels_ == -1]\n",
    "\n",
    "    n_clusters_ = len(set(labels)) - (1 if -1 in labels else 0)\n",
    "    n_noise_ = list(labels).count(-1)\n",
    "\n",
    "    unique_labels = set(labels)\n",
    "    colors = [plt.cm.Spectral(each)\n",
    "              for each in np.linspace(0, 1, len(unique_labels))]\n",
    "    for k, col in zip(unique_labels, colors):\n",
    "        if k == -1:\n",
    "            # Preto usado para ruído\n",
    "            col = [0, 0, 0, 1]\n",
    "\n",
    "        class_member_mask = (labels == k)\n",
    "\n",
    "        xy = X[class_member_mask & core_samples_mask]\n",
    "        plt.plot(xy[:, 0], xy[:, 1], 'o', markerfacecolor=tuple(col),\n",
    "                 markeredgecolor='k', markersize=14)\n",
    "\n",
    "        xy = X[class_member_mask & ~core_samples_mask]\n",
    "        plt.plot(xy[:, 0], xy[:, 1], 'o', markerfacecolor=tuple(col),\n",
    "                 markeredgecolor='k', markersize=6)\n",
    "\n",
    "    outliers = outliers[outliers.index.notnull()]\n",
    "    \n",
    "    #print('Outliers encontrados: ')\n",
    "    #print (outliers.shape)\n",
    "    #print (outliers)\n",
    "\n",
    "    plt.title('Número estimado de clusters: %d' % n_clusters_)\n",
    "    plt.xlabel(\"TEMP_MAX\")\n",
    "    plt.ylabel(\"UMID_MED\")\n",
    "    plt.show()\n",
    "    return outliers"
   ]
  },
  {
   "cell_type": "code",
   "execution_count": 37,
   "metadata": {},
   "outputs": [
    {
     "data": {
      "image/png": "[encoded data removed]",
      "text/plain": [
       "<Figure size 432x288 with 1 Axes>"
      ]
     },
     "metadata": {
      "needs_background": "light"
     },
     "output_type": "display_data"
    },
    {
     "name": "stdout",
     "output_type": "stream",
     "text": [
      "        TEMP_MAX   UMID_MED\n",
      "19.0  -13.377077 -34.927282\n",
      "22.0   -7.900000  32.600000\n",
      "24.0   10.700000 -15.200000\n",
      "31.0   11.877077  37.327282\n",
      "44.0   14.477077  47.527282\n",
      "66.0   10.900000 -20.800000\n",
      "67.0  -16.777077  33.427282\n",
      "73.0  -14.077077  47.027282\n",
      "95.0  -14.977077  34.627282\n",
      "128.0  14.777077 -45.027282\n",
      "175.0 -12.677077  43.027282\n",
      "199.0  15.077077 -42.727282\n",
      "212.0  14.277077 -52.527282\n",
      "287.0 -11.877077 -42.927282\n",
      "288.0 -12.677077  36.227282\n",
      "308.0   6.200000 -36.500000\n",
      "317.0 -14.077077  39.427282\n",
      "324.0 -13.577077  49.627282\n",
      "375.0 -13.077077 -33.127282\n",
      "378.0   9.900000 -37.200000\n",
      "379.0  -8.800000  32.600000\n",
      "380.0   7.200000 -33.100000\n",
      "413.0  -3.600000  34.600000\n",
      "414.0   0.800000 -32.800000\n",
      "417.0   9.700000 -22.100000\n",
      "420.0 -13.177077  49.527282\n",
      "425.0  12.977077  33.027282\n",
      "428.0   7.700000 -25.900000\n",
      "435.0 -11.877077 -33.427282\n",
      "444.0 -11.877077  34.727282\n",
      "464.0 -12.377077  37.427282\n",
      "474.0  15.077077 -34.627282\n",
      "496.0 -13.277077  40.127282\n",
      "500.0 -17.077077  36.327282\n",
      "568.0 -12.477077 -42.827282\n",
      "593.0   0.000000  39.127282\n",
      "647.0 -13.377077 -33.727282\n",
      "652.0  11.877077  36.327282\n",
      "662.0   3.900000 -30.700000\n",
      "700.0 -18.377077  41.227282\n",
      "701.0  10.100000 -20.700000\n",
      "709.0 -17.477077  52.927282\n"
     ]
    }
   ],
   "source": [
    "eps = 0.5\n",
    "min_samples = 10\n",
    "#print(df_training_temp.head(n=50).to_string(index=True))\n",
    "outliers = dbscan(df_training_temp, eps, min_samples)\n",
    "#dfOutliersErrados = pd.concat([outliers, dfAnomalias]).drop_duplicates(keep=False)\n",
    "#print (outliers)\n",
    "print(outliers.head(n=80).to_string(index=True))\n"
   ]
  },
  {
   "cell_type": "code",
   "execution_count": 18,
   "metadata": {
    "scrolled": true
   },
   "outputs": [
    {
     "name": "stdout",
     "output_type": "stream",
     "text": [
      "729\n",
      "        TEMP_MAX   UMID_MED  anomaly\n",
      "3.0    -6.700000  19.700000       -1\n",
      "7.0    -4.400000  20.700000       -1\n",
      "22.0   -7.900000  32.600000       -1\n",
      "23.0    0.600000 -24.500000       -1\n",
      "24.0   10.700000 -15.200000       -1\n",
      "26.0   -7.600000  15.900000       -1\n",
      "34.0  -11.321958  49.278148       -1\n",
      "35.0    5.300000 -16.700000       -1\n",
      "44.0    2.700000  14.600000       -1\n",
      "53.0    7.300000 -17.600000       -1\n",
      "65.0   -7.800000   5.400000       -1\n",
      "66.0   10.900000 -20.800000       -1\n",
      "73.0  -13.221958  52.978148       -1\n",
      "77.0    5.500000  -0.900000       -1\n",
      "82.0    4.500000 -10.000000       -1\n",
      "83.0   -8.100000  11.100000       -1\n",
      "84.0    8.700000 -10.700000       -1\n",
      "89.0   -5.500000  19.800000       -1\n",
      "93.0   -5.700000   0.200000       -1\n",
      "94.0    5.800000  -1.000000       -1\n",
      "103.0   3.900000 -19.300000       -1\n",
      "106.0  11.721958  49.378148       -1\n",
      "115.0 -12.421958  45.778148       -1\n",
      "143.0  11.821958 -49.178148       -1\n",
      "150.0   3.600000 -21.700000       -1\n",
      "154.0   4.900000  -1.800000       -1\n",
      "166.0   4.900000  -8.100000       -1\n",
      "171.0  12.521958 -45.078148       -1\n",
      "176.0   5.600000 -28.300000       -1\n",
      "177.0  -3.900000  24.800000       -1\n",
      "178.0   3.600000 -19.300000       -1\n",
      "187.0 -13.821958  47.578148       -1\n",
      "188.0   5.000000 -12.800000       -1\n",
      "205.0   4.800000 -27.800000       -1\n",
      "213.0  -1.000000  19.600000       -1\n",
      "241.0 -12.221958  48.878148       -1\n",
      "251.0  11.421958 -43.178148       -1\n",
      "252.0 -13.121958  46.478148       -1\n",
      "283.0 -12.121958  42.378148       -1\n",
      "301.0  -6.500000  20.800000       -1\n",
      "302.0  11.700000 -33.900000       -1\n",
      "307.0  -5.400000  23.900000       -1\n",
      "308.0   6.200000 -36.500000       -1\n",
      "309.0  -5.100000  20.400000       -1\n",
      "310.0   7.800000 -21.100000       -1\n",
      "324.0  -1.800000  16.700000       -1\n",
      "326.0  12.121958 -47.278148       -1\n",
      "336.0  11.621958 -44.578148       -1\n",
      "343.0  11.021958 -45.178148       -1\n",
      "361.0   6.200000 -19.200000       -1\n",
      "367.0   5.200000  -0.700000       -1\n",
      "377.0  -7.100000  16.400000       -1\n",
      "378.0   9.900000 -37.200000       -1\n",
      "379.0  -8.800000  32.600000       -1\n",
      "380.0   7.200000 -33.100000       -1\n",
      "381.0  -4.200000  15.000000       -1\n",
      "385.0 -11.721958 -40.978148       -1\n",
      "388.0  -6.000000  -3.300000       -1\n",
      "407.0  11.700000 -30.400000       -1\n",
      "408.0  -6.600000   7.600000       -1\n",
      "413.0  -3.600000  34.600000       -1\n",
      "414.0   0.800000 -32.800000       -1\n",
      "416.0 -13.121958 -41.678148       -1\n",
      "417.0   9.700000 -22.100000       -1\n",
      "418.0  -6.100000   3.600000       -1\n",
      "427.0  -5.500000  23.900000       -1\n",
      "428.0   7.700000 -25.900000       -1\n",
      "435.0 -11.021958 -39.378148       -1\n",
      "439.0 -11.521958  46.078148       -1\n",
      "459.0   0.700000 -20.400000       -1\n",
      "461.0  -4.300000  22.400000       -1\n",
      "462.0   4.800000 -26.900000       -1\n",
      "463.0  11.721958 -39.778148       -1\n",
      "475.0  -6.200000  12.900000       -1\n",
      "476.0   7.700000 -16.100000       -1\n",
      "479.0  -6.400000   8.400000       -1\n",
      "480.0  12.800000 -30.800000       -1\n",
      "481.0  -7.800000  17.300000       -1\n",
      "486.0 -11.021958 -47.578148       -1\n",
      "497.0  14.121958 -53.878148       -1\n",
      "500.0 -16.221958  42.278148       -1\n",
      "501.0   6.000000  -6.300000       -1\n",
      "502.0 -15.021958  39.578148       -1\n",
      "507.0 -11.621958  45.778148       -1\n",
      "532.0   6.900000 -13.400000       -1\n",
      "548.0 -12.421958  48.678148       -1\n",
      "572.0   2.300000 -21.500000       -1\n",
      "577.0  -7.100000  10.000000       -1\n",
      "578.0  -1.000000  21.700000       -1\n",
      "579.0   3.800000 -22.000000       -1\n",
      "600.0 -13.221958  54.978148       -1\n",
      "602.0 -13.421958 -42.078148       -1\n",
      "607.0  12.221958 -43.078148       -1\n",
      "621.0 -12.321958  41.278148       -1\n",
      "629.0 -12.921958 -40.778148       -1\n",
      "632.0  -8.600000  18.800000       -1\n",
      "634.0   5.400000 -13.700000       -1\n",
      "642.0 -12.421958 -40.978148       -1\n",
      "662.0   3.900000 -30.700000       -1\n",
      "671.0 -11.321958 -39.478148       -1\n",
      "674.0   1.900000 -22.800000       -1\n",
      "675.0  -4.100000  21.100000       -1\n",
      "678.0  13.821958 -44.778148       -1\n",
      "680.0  11.021958  40.178148       -1\n",
      "681.0 -12.721958  46.078148       -1\n",
      "684.0  11.921958  41.878148       -1\n",
      "697.0   6.800000 -10.300000       -1\n",
      "698.0  -7.100000  22.500000       -1\n",
      "699.0   5.600000 -19.700000       -1\n",
      "700.0  -6.600000   8.300000       -1\n",
      "701.0  10.100000 -20.700000       -1\n",
      "702.0  -8.400000  22.000000       -1\n",
      "709.0  -5.700000  20.000000       -1\n",
      "710.0   4.700000 -23.400000       -1\n",
      "724.0  -5.800000  18.300000       -1\n",
      "726.0   7.200000 -15.500000       -1\n",
      "116\n"
     ]
    }
   ],
   "source": [
    "import numpy as np\n",
    "import pandas as pd\n",
    "import seaborn as sns\n",
    "import matplotlib.pyplot as plt\n",
    "from sklearn.ensemble import IsolationForest\n",
    "from sklearn.metrics import roc_curve, auc\n",
    "\n",
    "dfTemp = pd.DataFrame()\n",
    "colTemp = ['TEMP_MAX', 'UMID_MED']\n",
    "dfTemp = pd.DataFrame(columns=colTemp)\n",
    "\n",
    "dfTemp[['TEMP_MAX', 'UMID_MED']] = df_training_temp[['TEMP_MAX', 'UMID_MED']]\n",
    "\n",
    "'''counter = int((dfTemp.shape[0] * 30) / 100)\n",
    "df_test_temp = dfTemp.sample(n=counter, random_state=1)\n",
    "df_train_temp = pd.concat([dfTemp, df_test_temp]).drop_duplicates(keep=False)'''\n",
    "\n",
    "model=IsolationForest(n_estimators=100, contamination='auto').fit(dfTemp)\n",
    "\n",
    "#dfTemp['scores']=model.decision_function(dfTemp)\n",
    "dfTemp['anomaly']=model.predict(dfTemp)\n",
    "\n",
    "anomalyTemp=dfTemp.loc[dfTemp['anomaly']==-1]\n",
    "anomaly_index=list(anomalyTemp.index)\n",
    "\n",
    "print (dfTemp.shape[0])\n",
    "print(anomalyTemp.head(n=200).to_string(index=True))\n",
    "print(len(anomalyTemp))"
   ]
  },
  {
   "cell_type": "code",
   "execution_count": 72,
   "metadata": {},
   "outputs": [
    {
     "name": "stderr",
     "output_type": "stream",
     "text": [
      "<ipython-input-72-8dbb64f5cf82>:1: SettingWithCopyWarning: \n",
      "A value is trying to be set on a copy of a slice from a DataFrame.\n",
      "Try using .loc[row_indexer,col_indexer] = value instead\n",
      "\n",
      "See the caveats in the documentation: https://pandas.pydata.org/pandas-docs/stable/user_guide/indexing.html#returning-a-view-versus-a-copy\n",
      "  anomalyTemp['ind'] = anomalyTemp.index\n"
     ]
    }
   ],
   "source": [
    "anomalyTemp['ind'] = anomalyTemp.index\n",
    "anomalies_pred_index = anomalyTemp['ind'].values"
   ]
  },
  {
   "cell_type": "code",
   "execution_count": 73,
   "metadata": {},
   "outputs": [],
   "source": [
    "df_anomalias = dfAnomalias\n",
    "df_anomalias['ind'] = dfAnomalias.index\n",
    "anomalies_index = df_anomalias['ind'].values"
   ]
  },
  {
   "cell_type": "code",
   "execution_count": 74,
   "metadata": {},
   "outputs": [
    {
     "name": "stdout",
     "output_type": "stream",
     "text": [
      "VP: 36\n",
      "VN: 656 de 693\n",
      "FP: 37\n",
      "FN: 0\n"
     ]
    }
   ],
   "source": [
    "VP = 0\n",
    "FN = 0\n",
    "for i in anomalies_pred_index:\n",
    "    if i in anomalies_index:\n",
    "        VP += 1\n",
    "\n",
    "for i in anomalies_index:\n",
    "    if i not in anomalies_pred_index:\n",
    "        FN += 1\n",
    "        \n",
    "FP = len(anomalyTemp) - len(dfAnomalias)\n",
    "qtd_sem_anomalia = len(df_training_temp) - len(dfAnomalias)\n",
    "VN = qtd_sem_anomalia - FP\n",
    "\n",
    "print ('VP: ' + str(VP))\n",
    "print ('VN: ' + str(VN) + \" de \" + str(qtd_sem_anomalia))\n",
    "print ('FP: ' + str(FP))\n",
    "print ('FN: ' + str(FN))\n"
   ]
  },
  {
   "cell_type": "code",
   "execution_count": 54,
   "metadata": {},
   "outputs": [
    {
     "data": {
      "text/plain": [
       "729"
      ]
     },
     "execution_count": 54,
     "metadata": {},
     "output_type": "execute_result"
    }
   ],
   "source": [
    "len(df_training_temp) "
   ]
  },
  {
   "cell_type": "code",
   "execution_count": 19,
   "metadata": {},
   "outputs": [
    {
     "data": {
      "text/plain": [
       "'plt.legend(\\n    [p1, p2],\\n    [\"training observations\", \"detected outliers\"],\\n    loc=\"lower right\",\\n)'"
      ]
     },
     "execution_count": 19,
     "metadata": {},
     "output_type": "execute_result"
    },
    {
     "data": {
      "image/png": "[encoded data removed]",
      "text/plain": [
       "<Figure size 432x288 with 1 Axes>"
      ]
     },
     "metadata": {
      "needs_background": "light"
     },
     "output_type": "display_data"
    }
   ],
   "source": [
    "p1 = plt.scatter(df_training_temp.TEMP_MAX, df_training_temp.UMID_MED, c=\"#a3021a\", edgecolor=\"black\", s=50)\n",
    "p2 = plt.scatter(anomalyTemp.TEMP_MAX, anomalyTemp.UMID_MED,\n",
    "    c=\"black\",\n",
    "    s=30\n",
    ")\n",
    "\n",
    "\n",
    "plt.xlim((-70, 70))\n",
    "plt.ylim((-70, 70))\n",
    "'''plt.legend(\n",
    "    [p1, p2],\n",
    "    [\"training observations\", \"detected outliers\"],\n",
    "    loc=\"lower right\",\n",
    ")'''"
   ]
  },
  {
   "cell_type": "code",
   "execution_count": 78,
   "metadata": {},
   "outputs": [],
   "source": [
    "df_without_anomalie = pd.concat([df_training_temp, dfAnomalias]).drop_duplicates(keep=False)"
   ]
  }
 ],
 "metadata": {
  "kernelspec": {
   "display_name": "Python 3",
   "language": "python",
   "name": "python3"
  },
  "language_info": {
   "codemirror_mode": {
    "name": "ipython",
    "version": 3
   },
   "file_extension": ".py",
   "mimetype": "text/x-python",
   "name": "python",
   "nbconvert_exporter": "python",
   "pygments_lexer": "ipython3",
   "version": "3.8.5"
  }
 },
 "nbformat": 4,
 "nbformat_minor": 4
}
