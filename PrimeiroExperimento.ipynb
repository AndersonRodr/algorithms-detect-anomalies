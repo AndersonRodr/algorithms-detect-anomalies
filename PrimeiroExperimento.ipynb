{
 "cells": [
  {
   "cell_type": "code",
   "execution_count": 1,
   "metadata": {},
   "outputs": [],
   "source": [
    "import numpy as np\n",
    "import pandas as pd\n",
    "from sklearn.cluster import DBSCAN\n",
    "from sklearn import metrics\n",
    "from sklearn.datasets import make_blobs, make_circles\n",
    "from sklearn.preprocessing import StandardScaler\n",
    "import matplotlib.pyplot as plt\n",
    "import requests \n",
    "from collections import Counter\n",
    "import random\n",
    "import decimal\n",
    "import math\n",
    "import random"
   ]
  },
  {
   "cell_type": "code",
   "execution_count": 2,
   "metadata": {},
   "outputs": [
    {
     "name": "stderr",
     "output_type": "stream",
     "text": [
      "<ipython-input-2-4c0a7404db43>:19: SettingWithCopyWarning: \n",
      "A value is trying to be set on a copy of a slice from a DataFrame.\n",
      "Try using .loc[row_indexer,col_indexer] = value instead\n",
      "\n",
      "See the caveats in the documentation: https://pandas.pydata.org/pandas-docs/stable/user_guide/indexing.html#returning-a-view-versus-a-copy\n",
      "  df_temp[\"id\"] = df.index + 1\n"
     ]
    }
   ],
   "source": [
    "##------------------------------Pegando os Dados-----------------------------------\n",
    "\n",
    "#url = \"https://apitempo.inmet.gov.br/estacao/diaria/2018-12-21/2019-03-21/A307\"\n",
    "url = \"https://apitempo.inmet.gov.br/estacao/diaria/2018-01-01/2019-12-31/A307\"\n",
    "headers = {'User-Agent': 'Mozilla/5.0 (Macintosh; Intel Mac OS X 10_11_5) AppleWebKit/537.36 (KHTML, like Gecko) Chrome/50.0.2661.102 Safari/537.36'}\n",
    "resp = requests.get(url, headers=headers)\n",
    "df = None\n",
    "df_temp = None\n",
    "if resp.status_code != 200:\n",
    "    print (resp.raise_for_status())\n",
    "else:\n",
    "    df = pd.DataFrame(resp.json())\n",
    "    df.dropna(inplace=True)\n",
    "    #df = df[df[\"TEM_MAX\"].astype('float') ]\n",
    "    df_temp = df[df['TEMP_MAX'].notnull()]\n",
    "    df_temp = df[df['UMID_MED'].notnull()]\n",
    "    \n",
    "    df_temp = df[['TEMP_MAX', 'UMID_MED']]\n",
    "    df_temp[\"id\"] = df.index + 1 \n",
    "\n",
    "    df_umid = df[df['UMID_MED'].notnull()]\n",
    "    df_umid = df[['UMID_MED']]\n",
    "    #df_umid[\"id\"] = df.index + 1"
   ]
  },
  {
   "cell_type": "code",
   "execution_count": 3,
   "metadata": {},
   "outputs": [],
   "source": [
    "\n",
    "df_training_temp = None\n",
    "df_training_temp_anomalie_edit = None\n",
    "desvioPadraoTempTraining = 0\n",
    "desvioPadraoUmidTraining = 0\n",
    "\n",
    "desvioPadraoTempTest = 0\n",
    "desvioPadraoUmidTest = 0\n",
    "\n",
    "desvioPadrao = 0\n",
    "\n",
    "def valorFinalTemperatura(df_training_temp_anomalie_edit, treino):\n",
    "    valorMediaTemp = df_training_temp_anomalie_edit['TEMP_MAX'].sum()/df_training_temp_anomalie_edit.shape[0]\n",
    "    desvioPadraoTemp = df_training_temp_anomalie_edit[\"TEMP_MAX\"].std()\n",
    "    if treino:\n",
    "        desvioPadraoTempTraining = desvioPadraoTemp\n",
    "    else:\n",
    "        desvioPadraoTempTest = desvioPadraoTemp\n",
    "    desvioPadraoEditadoTemp = 3 * desvioPadraoTemp\n",
    "    valorFinalTemp = desvioPadraoEditadoTemp + valorMediaTemp\n",
    "    #valorFinalTemp = equacaoExponencial()\n",
    "    valorFinalTemp = equacaoExponencial() * extrairErro(df_training_temp_anomalie_edit)\n",
    "    return valorFinalTemp\n",
    "\n",
    "def valorFinalUmidade(df_training_temp_anomalie_edit, treino):\n",
    "    valorMediaUmid = df_training_temp_anomalie_edit['UMID_MED'].sum()/df_training_temp_anomalie_edit.shape[0]\n",
    "    desvioPadraoUmid = df_training_temp_anomalie_edit[\"UMID_MED\"].std()\n",
    "    if treino:\n",
    "        desvioPadraoUmidTraining = desvioPadraoUmid\n",
    "    else:\n",
    "        desvioPadraoUmidTest = desvioPadraoUmid\n",
    "    desvioPadraoEditadoUmid = 3 * desvioPadraoUmid\n",
    "    valorFinalUmid = desvioPadraoEditadoUmid + valorMediaUmid\n",
    "    #valorFinalUmid = equacaoExponencial()\n",
    "    valorFinalUmid = equacaoExponencial() * extrairErro(df_training_temp_anomalie_edit)\n",
    "    return valorFinalUmid\n",
    "\n",
    "def qtdRowsTemp():\n",
    "    count_row_temp = df_temp.shape[0]\n",
    "    return count_row_temp\n",
    "\n",
    "def equacaoExponencial():\n",
    "    numberX = decimal.Decimal(random.randrange(-50, 50))/100\n",
    "    eq = math.exp((3 * abs(numberX))) + 3\n",
    "    return float(eq)\n",
    "\n",
    "def extrairErro(dataframe):\n",
    "    train_size = int(dataframe.shape[0] * 1)\n",
    "    train = dataframe[1:train_size]\n",
    "    train_X, train_y = train.to_numpy()[:,0], train.to_numpy()[:,1]\n",
    "    train_pred = [x for x in train_X]\n",
    "    train_resid = [train_y[i]-train_pred[i] for i in range(len(train_pred))]\n",
    "    desvio = np.std(train_resid)\n",
    "    return desvio\n",
    "\n",
    "def TransformarEmEstacionaria(df_training_temp):\n",
    "    df_training_temp[\"TEMP_MAX\"] = df_training_temp[\"TEMP_MAX\"].astype(float)\n",
    "    df_training_temp[\"UMID_MED\"] = df_training_temp[\"UMID_MED\"].astype(float)\n",
    "        \n",
    "    df_training_temp['UMID_MED'] = df_training_temp['UMID_MED'].diff()\n",
    "    df_training_temp['TEMP_MAX'] = df_training_temp['TEMP_MAX'].diff()\n",
    "    df_training_temp.dropna()\n",
    "    return df_training_temp"
   ]
  },
  {
   "cell_type": "code",
   "execution_count": 106,
   "metadata": {},
   "outputs": [],
   "source": [
    "#------------------------------Tratando os Dados-----------------------------------\n",
    "\n",
    "def dataTraining(percentOutliers, dbscan):\n",
    "    \n",
    "    qtd_training_temp = int(qtdRowsTemp()/3) * 2\n",
    "\n",
    "    if dbscan:\n",
    "        qtd_training_temp = qtdRowsTemp()\n",
    "    \n",
    "    df_training_temp = df_temp.sample(qtd_training_temp)\n",
    "\n",
    "    df_training_temp = TransformarEmEstacionaria(df_training_temp)\n",
    "    \n",
    "    count_training_temp = int((df_training_temp.shape[0] * percentOutliers) / 100)\n",
    "    \n",
    "    df_training_temp_anomalie_edit = df_training_temp.sample(n=count_training_temp)\n",
    "\n",
    "    df_test_temp = pd.concat([df_temp, df_training_temp]).drop_duplicates(keep=False)\n",
    "\n",
    "    df_training_temp = pd.concat([df_training_temp, df_training_temp_anomalie_edit]).drop_duplicates(keep=False)\n",
    "    df_training_temp_anomalie_edit.dropna(inplace=True)\n",
    "\n",
    "    df_training_temp_anomalie_edit[\"TEMP_MAX\"] = df_training_temp_anomalie_edit[\"TEMP_MAX\"].astype(float)\n",
    "    df_training_temp_anomalie_edit[\"UMID_MED\"] = df_training_temp_anomalie_edit[\"UMID_MED\"].astype(float)\n",
    "\n",
    "    valorFinalTemp = valorFinalTemperatura(df_training_temp_anomalie_edit, True)\n",
    "    valorFinalUmid = valorFinalUmidade(df_training_temp_anomalie_edit, True)\n",
    "    \n",
    "    df_training_temp_anomalie_edit[\"TEMP_MAX\"] = df_training_temp_anomalie_edit[\"TEMP_MAX\"].add(valorFinalTemp)\n",
    "    df_training_temp_anomalie_edit[\"UMID_MED\"] = df_training_temp_anomalie_edit[\"UMID_MED\"].add(valorFinalUmid)\n",
    "\n",
    "    df_training_temp_anomalie_edit.sort_index(inplace=True)\n",
    "    df_training_temp = pd.concat([df_training_temp, df_training_temp_anomalie_edit])\n",
    "\n",
    "    print (df_training_temp_anomalie_edit)\n",
    "    \n",
    "    #Treino\n",
    "    df_training_temp[\"TEMP_MAX\"] = df_training_temp[\"TEMP_MAX\"].astype(float)\n",
    "    df_training_temp[\"UMID_MED\"] = df_training_temp[\"UMID_MED\"].astype(float)\n",
    "    df_training_temp.dropna(inplace=True)\n",
    "    df_training_temp.sort_index(inplace=True)\n",
    "    df_training_temp = df_training_temp.drop(columns='id')\n",
    "    \n",
    "    #Teste\n",
    "    count_test_temp = int((df_test_temp.shape[0] * percentOutliers) / 100)\n",
    "    df_test_temp_anomalie_edit = df_test_temp.sample(n=count_test_temp, random_state=1)\n",
    "    df_test_temp = pd.concat([df_test_temp, df_test_temp_anomalie_edit]).drop_duplicates(keep=False)\n",
    "    df_test_temp_anomalie_edit.dropna(inplace=True)\n",
    "    \n",
    "    df_test_temp_anomalie_edit[\"TEMP_MAX\"] = df_test_temp_anomalie_edit[\"TEMP_MAX\"].astype(float)\n",
    "    df_test_temp_anomalie_edit[\"UMID_MED\"] = df_test_temp_anomalie_edit[\"UMID_MED\"].astype(float)\n",
    "    \n",
    "    valorFinalTemp = valorFinalTemperatura(df_test_temp_anomalie_edit, False)\n",
    "    valorFinalUmid = valorFinalUmidade(df_test_temp_anomalie_edit, False)\n",
    "    \n",
    "    df_test_temp_anomalie_edit[\"TEMP_MAX\"] = df_test_temp_anomalie_edit[\"TEMP_MAX\"].add(valorFinalTemp)\n",
    "    df_test_temp_anomalie_edit[\"UMID_MED\"] = df_test_temp_anomalie_edit[\"UMID_MED\"].add(valorFinalUmid)\n",
    "\n",
    "    df_test_temp = pd.concat([df_test_temp, df_test_temp_anomalie_edit])\n",
    "    \n",
    "    df_test_temp[\"TEMP_MAX\"] = df_test_temp[\"TEMP_MAX\"].astype(float)\n",
    "    df_test_temp[\"UMID_MED\"] = df_test_temp[\"UMID_MED\"].astype(float)\n",
    "    df_test_temp.sort_index(inplace=True)\n",
    "\n",
    "    df_test_temp.dropna(inplace=True)\n",
    "    df_test_temp = df_test_temp.drop(columns='id')\n",
    "    desvioPadrao = (desvioPadraoTempTraining + desvioPadraoUmidTraining) / 2\n",
    "    return df_training_temp, df_test_temp"
   ]
  },
  {
   "cell_type": "code",
   "execution_count": 107,
   "metadata": {},
   "outputs": [
    {
     "name": "stdout",
     "output_type": "stream",
     "text": [
      "      TEMP_MAX   UMID_MED   id\n",
      "235   4.768257  33.163977  236\n",
      "292   9.768257  18.063977  293\n",
      "347   5.368257  23.663977  348\n",
      "388   5.368257  38.963977  389\n",
      "528   4.168257  53.963977  529\n",
      "564   3.168257  41.963977  565\n",
      "567   1.868257  37.563977  568\n",
      "571   8.368257  17.763977  572\n",
      "587   8.068257  35.263977  588\n",
      "626  10.068257  28.563977  627\n",
      "649   4.168257  42.563977  650\n",
      "721   8.068257  30.163977  722\n",
      "     TEMP_MAX  UMID_MED\n",
      "0         1.2      -7.5\n",
      "1         3.3     -10.4\n",
      "2         2.7      -8.1\n",
      "3        -1.8      20.6\n",
      "4        -3.0      20.4\n",
      "..        ...       ...\n",
      "725       1.2      -0.5\n",
      "726      -2.9       4.2\n",
      "727       3.8      -1.0\n",
      "728       5.2     -12.2\n",
      "729      -6.8      32.2\n",
      "\n",
      "[611 rows x 2 columns]\n"
     ]
    }
   ],
   "source": [
    "#import random\n",
    "\n",
    "taxaContaminacao = 2\n",
    "dfs = dataTraining(taxaContaminacao, True)\n",
    "df_training_temp = dfs[0]\n",
    "df_test_temp = dfs[1]\n",
    "\n",
    "print (df_training_temp)"
   ]
  },
  {
   "cell_type": "code",
   "execution_count": 44,
   "metadata": {
    "scrolled": false
   },
   "outputs": [
    {
     "name": "stdout",
     "output_type": "stream",
     "text": [
      "14.552377531674816\n"
     ]
    }
   ],
   "source": [
    "from statsmodels.tsa.ar_model import AutoReg, AutoRegResults\n",
    "from statsmodels.tsa.stattools import adfuller\n",
    "from statsmodels.graphics.tsaplots import plot_pacf\n",
    "\n",
    "def AutoRegValue(df_training_temp):   \n",
    "    df_stationarityTest = adfuller(df_training_temp['TEMP_MAX'], autolag='AIC')\n",
    "    #pacf = plot_pacf(df_training_temp['TEMP_MAX'], lags=1)\n",
    "    train_data = df_training_temp['TEMP_MAX'][:len(df_training_temp)]\n",
    "    #test_data = df_training_temp['TEMP_MAX'][len(df_training_temp)-100:]\n",
    "    ar_model = AutoReg(train_data, lags=1, trend = 'n').fit()\n",
    "    return ar_model.bse\n"
   ]
  },
  {
   "cell_type": "code",
   "execution_count": 118,
   "metadata": {
    "scrolled": true
   },
   "outputs": [
    {
     "name": "stdout",
     "output_type": "stream",
     "text": [
      "\n",
      "Outliers encontrados: \n",
      "(11, 2)\n",
      "      TEMP_MAX   UMID_MED\n",
      "228   0.400000 -31.000000\n",
      "292   9.768257  18.063977\n",
      "313   9.400000 -36.300000\n",
      "347   5.368257  23.663977\n",
      "349  -3.900000 -20.400000\n",
      "528   4.168257  53.963977\n",
      "567   1.868257  37.563977\n",
      "571   8.368257  17.763977\n",
      "587   8.068257  35.263977\n",
      "626  10.068257  28.563977\n",
      "721   8.068257  30.163977\n"
     ]
    },
    {
     "data": {
      "image/png": "[encoded data removed]",
      "text/plain": [
       "<Figure size 432x288 with 1 Axes>"
      ]
     },
     "metadata": {
      "needs_background": "light"
     },
     "output_type": "display_data"
    }
   ],
   "source": [
    "#------------------------------Implementando o DBSCAN-----------------------------------\n",
    "def dbscan_part1(df, eps, min_samples):\n",
    "    #X = np.array([ [1, 2], [2, 2], [7, 6], [28, 7], [2, 3], [25, 8], [3, 2],[1, 3],[1.1, 2],[1.2, 2],[1.3, 2],[1.4, 2]])\n",
    "    X = np.array(df)\n",
    "    X = StandardScaler().fit_transform(df)\n",
    "    db = DBSCAN(eps=eps, min_samples=min_samples, algorithm='brute',p=100).fit(X)\n",
    "    core_samples_mask = np.zeros_like(db.labels_, dtype=bool)\n",
    "    core_samples_mask[db.core_sample_indices_] = True\n",
    "\n",
    "    labels = db.labels_\n",
    "\n",
    "    outliers = df[db.labels_ == -1]\n",
    "\n",
    "    n_clusters_ = len(set(labels)) - (1 if -1 in labels else 0)\n",
    "    n_noise_ = list(labels).count(-1)\n",
    "\n",
    "    unique_labels = set(labels)\n",
    "    colors = [plt.cm.Spectral(each)\n",
    "              for each in np.linspace(0, 1, len(unique_labels))]\n",
    "    for k, col in zip(unique_labels, colors):\n",
    "        if k == -1:\n",
    "            # Preto usado para ruído\n",
    "            col = [0, 0, 0, 1]\n",
    "\n",
    "        class_member_mask = (labels == k)\n",
    "\n",
    "        xy = X[class_member_mask & core_samples_mask]\n",
    "        plt.plot(xy[:, 0], xy[:, 1], 'o', markerfacecolor=tuple(col),\n",
    "                 markeredgecolor='k', markersize=14)\n",
    "\n",
    "        xy = X[class_member_mask & ~core_samples_mask]\n",
    "        plt.plot(xy[:, 0], xy[:, 1], 'o', markerfacecolor=tuple(col),\n",
    "                 markeredgecolor='k', markersize=6)\n",
    "\n",
    "    print ()\n",
    "    print('Outliers encontrados: ')\n",
    "    print (outliers.shape)\n",
    "    print (outliers)\n",
    "\n",
    "    plt.title('Número estimado de clusters: %d' % n_clusters_)\n",
    "    plt.xlabel(\"TEMP_MAX\")\n",
    "    plt.ylabel(\"UMID_MED\")\n",
    "    plt.show()\n",
    "\n",
    "eps = 0.5\n",
    "min_samples = 3\n",
    "#print (df_training_temp.shape)\n",
    "#print (df_training_temp)\n",
    "\n",
    "#x = np.array([[10, 50], [12, 50], [48, 70]], np.float)\n",
    "\n",
    "#df=pd.DataFrame(x, columns=['TEMP_MAX', 'UMID_MED'])\n",
    "#df_training_temp = pd.concat([df, df_training_temp]).drop_duplicates(keep=False)\n",
    "#df_training_temp = np.array([[10, 20], [12, 21], [10, 23], [57,75]], np.float)\n",
    "\n",
    "dbscan_part1(df_training_temp, eps, min_samples)\n"
   ]
  },
  {
   "cell_type": "code",
   "execution_count": 19,
   "metadata": {},
   "outputs": [
    {
     "data": {
      "image/png": "[encoded data removed]",
      "text/plain": [
       "<Figure size 432x288 with 1 Axes>"
      ]
     },
     "metadata": {
      "needs_background": "light"
     },
     "output_type": "display_data"
    }
   ],
   "source": [
    "from sklearn.svm import OneClassSVM\n",
    "import seaborn as sns\n",
    "\n",
    "x = np.array([[10, 50], [12, 50]], np.float)\n",
    "df=pd.DataFrame(x, columns=['TEMP_MAX', 'UMID_MED'])\n",
    "df_training_temp = pd.concat([df, df_training_temp]).drop_duplicates(keep=False)\n",
    "\n",
    "\n",
    "X = np.array(df_training_temp)\n",
    "X, _ = make_blobs(n_samples=df_training_temp.shape[0], centers=X, cluster_std=0.4,random_state=None)\n",
    "\n",
    "ocsvm = OneClassSVM(kernel='rbf', degree=3, gamma='scale', nu=0.5, coef0=0.0,tol=0.001,\n",
    "                    shrinking=True,cache_size=10,\n",
    "                    verbose=False,max_iter=-1).fit(X)\n",
    "pred = ocsvm.predict(X)\n",
    "outlier_index = np.where(pred==-1)\n",
    "outlier_values = X[outlier_index]\n",
    "\n",
    "sns.scatterplot(x=X[:,0], y=X[:,1])\n",
    "sns.scatterplot(x=outlier_values[:,0], \n",
    "                y=outlier_values[:,1], color='black')\n",
    "plt.title(\"OCSVM\", fontsize=15, pad=15)\n",
    "plt.savefig(\"One-Class SVM Detection.png\", dpi=80)"
   ]
  },
  {
   "cell_type": "code",
   "execution_count": 26,
   "metadata": {},
   "outputs": [
    {
     "data": {
      "text/plain": [
       "Text(0, 0.5, 'UMID_MED')"
      ]
     },
     "execution_count": 26,
     "metadata": {},
     "output_type": "execute_result"
    },
    {
     "data": {
      "image/png": "[encoded data removed]",
      "text/plain": [
       "<Figure size 432x288 with 1 Axes>"
      ]
     },
     "metadata": {
      "needs_background": "light"
     },
     "output_type": "display_data"
    }
   ],
   "source": [
    "from sklearn.ensemble import IsolationForest\n",
    "from sklearn.decomposition import PCA\n",
    "import seaborn as sns\n",
    "\n",
    "x = np.array([[10, 50], [12, 50]], np.float)\n",
    "df=pd.DataFrame(x, columns=['TEMP_MAX', 'UMID_MED'])\n",
    "df_training_temp = pd.concat([df, df_training_temp]).drop_duplicates(keep=False)\n",
    "\n",
    "X = np.array(df_training_temp)\n",
    "\n",
    "iforest = IsolationForest(n_estimators=300, max_samples=df_training_temp.shape[0], \n",
    "                          warm_start=False,\n",
    "                          contamination='auto', max_features=1.0, \n",
    "                          bootstrap=False, n_jobs=None, random_state=None)\n",
    "\n",
    "pred = iforest.fit_predict(X)\n",
    "outlier_index = np.where(pred==-1)\n",
    "outlier_values = X[outlier_index]\n",
    "\n",
    "sc=StandardScaler()\n",
    "X_scaled = sc.fit_transform(X)\n",
    "outlier_values_scaled = sc.transform(outlier_values)\n",
    "\n",
    "pca = PCA(n_components=2)\n",
    "X_pca = pca.fit_transform(X_scaled)\n",
    "outlier_values_pca = pca.transform(outlier_values_scaled)\n",
    "\n",
    "sns.scatterplot(x=X_pca[:,0], y=X_pca[:,1])\n",
    "sns.scatterplot(x=outlier_values_pca[:,0], \n",
    "                y=outlier_values_pca[:,1], color='r')\n",
    "plt.title(\"IF\", fontsize=15, pad=15)\n",
    "plt.xlabel(\"TEMP_MAX\")\n",
    "plt.ylabel(\"UMID_MED\")"
   ]
  },
  {
   "cell_type": "code",
   "execution_count": 27,
   "metadata": {},
   "outputs": [
    {
     "name": "stdout",
     "output_type": "stream",
     "text": [
      "[ 1 -1 -1  1 -1 -1  1  1 -1 -1  1 -1  1  1  1  1  1  1 -1  1  1  1  1 -1\n",
      " -1 -1  1 -1  1 -1  1  1 -1  1 -1  1 -1 -1  1 -1 -1  1 -1  1 -1 -1 -1  1\n",
      " -1  1  1 -1  1 -1 -1 -1 -1 -1  1  1 -1 -1 -1 -1  1  1  1  1  1 -1 -1 -1\n",
      " -1  1  1  1  1  1  1  1  1 -1 -1  1  1  1 -1  1  1  1 -1  1  1 -1  1 -1\n",
      "  1 -1  1  1  1  1 -1  1 -1 -1  1  1 -1 -1  1 -1 -1 -1 -1 -1  1  1 -1 -1\n",
      "  1  1 -1 -1 -1 -1 -1  1  1 -1  1 -1 -1 -1  1  1 -1  1 -1 -1  1  1  1  1\n",
      " -1 -1  1  1  1  1  1 -1 -1 -1 -1 -1 -1 -1 -1  1  1 -1  1 -1 -1  1  1  1\n",
      "  1 -1  1  1  1  1 -1  1  1  1  1  1 -1 -1  1  1 -1 -1  1 -1 -1  1 -1 -1\n",
      "  1  1 -1  1  1  1 -1 -1  1 -1  1  1  1  1  1 -1 -1  1  1 -1 -1  1 -1 -1\n",
      " -1 -1 -1  1 -1 -1 -1 -1 -1 -1 -1 -1 -1 -1 -1  1 -1 -1 -1  1 -1 -1 -1  1\n",
      "  1  1 -1  1 -1  1 -1 -1 -1  1 -1 -1  1 -1  1  1  1  1  1  1  1 -1  1 -1\n",
      " -1  1 -1  1 -1 -1 -1 -1 -1 -1 -1 -1 -1  1  1  1  1  1 -1 -1  1 -1 -1  1\n",
      " -1  1  1 -1  1 -1  1  1 -1  1 -1 -1 -1  1 -1  1  1  1 -1 -1 -1  1 -1  1\n",
      "  1 -1  1 -1  1  1  1 -1 -1 -1  1  1  1 -1  1  1  1 -1 -1  1 -1  1  1  1\n",
      "  1  1  1  1 -1 -1  1 -1  1 -1  1 -1  1  1  1  1 -1  1 -1 -1  1  1 -1  1\n",
      "  1  1  1  1  1  1 -1 -1 -1  1  1 -1  1 -1  1 -1 -1 -1  1  1  1 -1  1  1\n",
      " -1  1 -1  1  1 -1  1 -1 -1  1  1 -1  1  1  1  1 -1  1  1  1  1 -1 -1 -1\n",
      "  1  1  1  1 -1  1  1 -1  1 -1  1 -1 -1 -1  1  1 -1  1 -1 -1  1 -1  1 -1\n",
      " -1 -1  1 -1  1  1  1 -1  1  1 -1 -1  1  1  1  1 -1  1 -1 -1  1 -1  1 -1\n",
      " -1 -1 -1 -1 -1 -1  1 -1  1  1  1  1  1 -1 -1 -1 -1 -1  1  1  1  1  1  1\n",
      "  1  1  1 -1  1  1 -1 -1  1  1  1 -1  1  1 -1  1  1  1 -1 -1  1 -1  1  1\n",
      "  1 -1  1  1 -1  1 -1 -1  1 -1  1  1 -1  1  1 -1  1  1 -1  1  1  1  1  1\n",
      "  1 -1 -1  1 -1  1 -1  1 -1  1  1  1 -1 -1 -1 -1 -1  1  1 -1  1 -1 -1  1\n",
      " -1  1 -1 -1  1 -1  1  1  1  1 -1  1 -1  1  1 -1  1 -1  1  1 -1 -1  1  1\n",
      " -1 -1  1  1 -1 -1  1  1  1  1 -1 -1  1  1  1 -1 -1 -1 -1 -1 -1 -1  1 -1\n",
      " -1 -1 -1 -1 -1 -1 -1 -1 -1 -1 -1 -1 -1 -1 -1 -1 -1 -1 -1 -1 -1 -1 -1 -1\n",
      " -1 -1 -1 -1 -1 -1 -1]\n",
      "\n",
      "[-1  1  1 -1 -1 -1 -1  1  1 -1 -1 -1 -1  1  1  1  1 -1  1 -1  1  1 -1  1\n",
      "  1 -1  1  1  1  1 -1 -1  1  1  1  1  1 -1  1  1 -1 -1 -1 -1 -1 -1  1 -1\n",
      " -1 -1 -1 -1 -1 -1 -1 -1  1 -1  1 -1 -1  1  1 -1 -1 -1 -1 -1 -1 -1 -1  1\n",
      "  1  1 -1  1  1 -1  1  1 -1 -1 -1 -1  1 -1  1 -1  1  1 -1 -1 -1 -1  1  1\n",
      "  1 -1 -1 -1  1  1 -1  1 -1  1  1 -1 -1  1  1  1 -1  1  1  1  1  1  1  1\n",
      "  1  1  1  1  1  1  1  1  1  1  1  1  1  1  1  1  1  1 -1  1 -1 -1  1  1\n",
      "  1 -1 -1 -1 -1 -1  1  1  1  1 -1  1  1  1  1  1  1  1  1  1  1  1  1 -1\n",
      " -1  1  1  1 -1  1  1  1  1 -1  1  1 -1 -1 -1 -1 -1 -1 -1 -1 -1 -1 -1 -1\n",
      "  1 -1 -1 -1 -1 -1 -1  1 -1 -1  1  1  1  1  1  1  1 -1  1  1  1  1  1 -1\n",
      " -1 -1 -1  1  1 -1 -1 -1 -1  1 -1 -1  1  1  1  1 -1 -1 -1 -1 -1  1 -1 -1\n",
      " -1 -1 -1 -1  1  1 -1 -1 -1  1 -1 -1 -1  1  1  1  1  1  1  1 -1  1 -1  1\n",
      "  1  1 -1 -1  1  1  1  1 -1 -1 -1 -1  1  1  1  1  1  1  1  1  1 -1  1  1\n",
      "  1 -1 -1 -1 -1  1 -1 -1  1 -1 -1  1  1  1  1  1  1 -1  1  1  1  1  1  1\n",
      "  1 -1  1 -1  1 -1 -1 -1 -1 -1 -1 -1 -1 -1 -1 -1 -1 -1 -1 -1 -1]\n"
     ]
    },
    {
     "data": {
      "text/plain": [
       "'\\noutlier_index = np.where(y_pred_train==-1)\\noutlier_values = X_train[outlier_index]\\nprint (outlier_values)\\n'"
      ]
     },
     "execution_count": 27,
     "metadata": {},
     "output_type": "execute_result"
    }
   ],
   "source": [
    "import numpy as np\n",
    "import matplotlib.pyplot as plt\n",
    "import matplotlib.font_manager\n",
    "from sklearn import svm\n",
    "\n",
    "X_test = np.array(df_test_temp)\n",
    "X_train = np.array(df_training_temp)\n",
    "\n",
    "# fit the model\n",
    "clf = svm.OneClassSVM(nu=0.5, kernel=\"rbf\", gamma='scale').fit(X_train)\n",
    "y_pred_train = clf.predict(X_train)\n",
    "print (y_pred_train)\n",
    "print ()\n",
    "y_pred_test = clf.predict(X_test)\n",
    "print (y_pred_test)\n",
    "\n",
    "'''\n",
    "outlier_index = np.where(y_pred_train==-1)\n",
    "outlier_values = X_train[outlier_index]\n",
    "print (outlier_values)\n",
    "'''\n"
   ]
  }
 ],
 "metadata": {
  "kernelspec": {
   "display_name": "Python 3",
   "language": "python",
   "name": "python3"
  },
  "language_info": {
   "codemirror_mode": {
    "name": "ipython",
    "version": 3
   },
   "file_extension": ".py",
   "mimetype": "text/x-python",
   "name": "python",
   "nbconvert_exporter": "python",
   "pygments_lexer": "ipython3",
   "version": "3.8.5"
  }
 },
 "nbformat": 4,
 "nbformat_minor": 4
}
