{
 "cells": [
  {
   "cell_type": "code",
   "execution_count": 1,
   "metadata": {},
   "outputs": [],
   "source": [
    "import numpy as np\n",
    "import pandas as pd\n",
    "from sklearn.cluster import DBSCAN\n",
    "from sklearn import metrics\n",
    "from sklearn.datasets import make_blobs, make_circles\n",
    "from sklearn.preprocessing import StandardScaler\n",
    "import matplotlib.pyplot as plt\n",
    "import requests \n",
    "from collections import Counter\n",
    "import random\n",
    "import decimal\n",
    "import math\n",
    "import random\n",
    "from statsmodels.tsa.ar_model import AutoReg, ar_select_order"
   ]
  },
  {
   "cell_type": "code",
   "execution_count": 2,
   "metadata": {},
   "outputs": [],
   "source": [
    "dataInicial = '2017-11-20'\n",
    "dataFinal = '2021-11-20'"
   ]
  },
  {
   "cell_type": "code",
   "execution_count": 3,
   "metadata": {},
   "outputs": [
    {
     "name": "stderr",
     "output_type": "stream",
     "text": [
      "<ipython-input-3-ea3ea4aacd59>:18: SettingWithCopyWarning: \n",
      "A value is trying to be set on a copy of a slice from a DataFrame.\n",
      "Try using .loc[row_indexer,col_indexer] = value instead\n",
      "\n",
      "See the caveats in the documentation: https://pandas.pydata.org/pandas-docs/stable/user_guide/indexing.html#returning-a-view-versus-a-copy\n",
      "  df_temp[\"id\"] = df.index + 1\n",
      "<ipython-input-3-ea3ea4aacd59>:19: SettingWithCopyWarning: \n",
      "A value is trying to be set on a copy of a slice from a DataFrame\n",
      "\n",
      "See the caveats in the documentation: https://pandas.pydata.org/pandas-docs/stable/user_guide/indexing.html#returning-a-view-versus-a-copy\n",
      "  df_temp.dropna(inplace=True)\n",
      "<ipython-input-3-ea3ea4aacd59>:23: SettingWithCopyWarning: \n",
      "A value is trying to be set on a copy of a slice from a DataFrame.\n",
      "Try using .loc[row_indexer,col_indexer] = value instead\n",
      "\n",
      "See the caveats in the documentation: https://pandas.pydata.org/pandas-docs/stable/user_guide/indexing.html#returning-a-view-versus-a-copy\n",
      "  df_umid[\"id\"] = df.index + 1\n",
      "<ipython-input-3-ea3ea4aacd59>:24: SettingWithCopyWarning: \n",
      "A value is trying to be set on a copy of a slice from a DataFrame\n",
      "\n",
      "See the caveats in the documentation: https://pandas.pydata.org/pandas-docs/stable/user_guide/indexing.html#returning-a-view-versus-a-copy\n",
      "  df_umid.dropna(inplace=True)\n"
     ]
    }
   ],
   "source": [
    "##------------------------------Pegando os Dados-----------------------------------\n",
    "\n",
    "url = \"https://apitempo.inmet.gov.br/estacao/diaria/\" + dataInicial + \"/\" + dataFinal + \"/A307\"\n",
    "headers = {'User-Agent': 'Mozilla/5.0 (Macintosh; Intel Mac OS X 10_11_5) AppleWebKit/537.36 (KHTML, like Gecko) Chrome/50.0.2661.102 Safari/537.36'}\n",
    "resp = requests.get(url, headers=headers)\n",
    "df = None\n",
    "df_temp = None\n",
    "if resp.status_code != 200:\n",
    "    print (resp.raise_for_status())\n",
    "else:\n",
    "    df = pd.DataFrame(resp.json())\n",
    "    #df = df[df[\"TEM_MAX\"].astype('float') ]\n",
    "    df_temp = df[df['TEMP_MAX'].notnull()]\n",
    "    df_temp = df[df['UMID_MED'].notnull()]\n",
    "    df_temp = df[df['DT_MEDICAO'].notnull()]\n",
    "    \n",
    "    df_temp = df[['TEMP_MAX', 'UMID_MED', 'DT_MEDICAO']]\n",
    "    df_temp[\"id\"] = df.index + 1 \n",
    "    df_temp.dropna(inplace=True)\n",
    "\n",
    "    df_umid = df[df['UMID_MED'].notnull()]\n",
    "    df_umid = df[['UMID_MED']]\n",
    "    df_umid[\"id\"] = df.index + 1\n",
    "    df_umid.dropna(inplace=True)"
   ]
  },
  {
   "cell_type": "code",
   "execution_count": 4,
   "metadata": {},
   "outputs": [],
   "source": [
    "\n",
    "df_training_temp = None\n",
    "df_training_temp_anomalie_edit = None\n",
    "desvioPadraoTempTraining = 0\n",
    "desvioPadraoUmidTraining = 0\n",
    "\n",
    "desvioPadraoTempTest = 0\n",
    "desvioPadraoUmidTest = 0\n",
    "\n",
    "desvioPadrao = 0\n",
    "\n",
    "def valorFinalTemperatura(df_training_temp_anomalie_edit, treino, equacaoExponencial):\n",
    "    valorFinalTemp = equacaoExponencial * extrairErro(df_training_temp_anomalie_edit, 'TEMP_MAX')\n",
    "    return valorFinalTemp\n",
    "\n",
    "def valorFinalUmidade(df_training_temp_anomalie_edit, treino, equacaoExponencial):\n",
    "    valorFinalUmid = equacaoExponencial * extrairErro(df_training_temp_anomalie_edit, 'UMID_MED')\n",
    "    return valorFinalUmid\n",
    "\n",
    "def qtdRowsTemp():\n",
    "    count_row_temp = df_temp.shape[0]\n",
    "    return count_row_temp\n",
    "\n",
    "def extrairErro(dataframe, coluna):\n",
    "    train_size = int(dataframe.shape[0] * 1)\n",
    "    train_Real, train_Pred = dataframe.to_numpy()[:,0], dataframe.to_numpy()[:,1]\n",
    "    train_resid = [train_Real[i]-train_Pred[i] for i in range(len(dataframe))]\n",
    "    desvioErro = np.std(train_resid)\n",
    "    return desvioErro\n",
    "\n",
    "def TransformarEmEstacionaria(df_training_temp):\n",
    "    converterColunasToFloat(df_training_temp, \"TEMP_MAX\")\n",
    "    converterColunasToFloat(df_training_temp, \"UMID_MED\")\n",
    "\n",
    "    df_training_temp['UMID_MED'] = df_training_temp['UMID_MED'].diff()\n",
    "    df_training_temp['TEMP_MAX'] = df_training_temp['TEMP_MAX'].diff()\n",
    "    df_training_temp.dropna()\n",
    "    return df_training_temp\n",
    "\n",
    "def equacaoExponencial():\n",
    "    numberX = decimal.Decimal(random.randrange(-50, 50))/100\n",
    "    eq = math.exp((3 * abs(numberX))) + 3\n",
    "    return float(eq)\n",
    "\n",
    "def converterColunasToFloat(dataframe, coluna):\n",
    "    dataframe[coluna] = dataframe[coluna].astype(float)\n",
    "    dataframe[coluna].apply(lambda x: float(x))\n",
    "    return dataframe\n",
    "\n",
    "\n",
    "def autoReg(dataframe_anomalies_edit):\n",
    "    ar_model = AutoReg(np.array(dataframe_anomalies_edit), trend='n', lags=1).fit()\n",
    "    pred = ar_model.predict(start=0,end= dataframe_anomalies_edit.shape[0], dynamic=False)\n",
    "    return pred"
   ]
  },
  {
   "cell_type": "code",
   "execution_count": 5,
   "metadata": {},
   "outputs": [],
   "source": [
    "#------------------------------Tratando os Dados-----------------------------------\n",
    "\n",
    "dfAnomaliasFinal =  pd.DataFrame()\n",
    "\n",
    "def dataTraining(percentOutliers):\n",
    "    \n",
    "    qtd_training_temp = int(qtdRowsTemp()/3) * 2\n",
    "\n",
    "    qtd_training_temp = qtdRowsTemp()\n",
    "\n",
    "    df_training_temp = df_temp.sample(qtd_training_temp)\n",
    "\n",
    "    df_training_temp = TransformarEmEstacionaria(df_training_temp) #Série Estacionária\n",
    "\n",
    "    count_training_temp = int((df_training_temp.shape[0] * percentOutliers) / 100)    \n",
    "    df_training_temp_anomalie_edit = df_training_temp.sample(n=count_training_temp)\n",
    "    \n",
    "    df_test_temp = pd.concat([df_temp, df_training_temp]).drop_duplicates(keep=False)\n",
    "\n",
    "    df_training_temp = pd.concat([df_training_temp, df_training_temp_anomalie_edit]).drop_duplicates(keep=False)\n",
    "    df_training_temp_anomalie_edit.dropna(inplace=True)\n",
    "\n",
    "    df_training_temp_anomalie_edit = converterColunasToFloat(df_training_temp_anomalie_edit, \"TEMP_MAX\")\n",
    "    df_training_temp_anomalie_edit = converterColunasToFloat(df_training_temp_anomalie_edit, \"UMID_MED\")\n",
    "\n",
    "    equacaoExpo = equacaoExponencial()\n",
    "       \n",
    "    temperaturas = autoReg(df_training_temp_anomalie_edit['TEMP_MAX']) #AutoRegressão\n",
    "    umidades = autoReg(df_training_temp_anomalie_edit['UMID_MED']) #AutoRegressão\n",
    "    \n",
    "    df_ids = np.array(df_training_temp_anomalie_edit['id'])\n",
    "    \n",
    "    df_temp_real_pred = pd.DataFrame()\n",
    "    colTemp = ['temp_real','temp_pred']\n",
    "    df_temp_real_pred = pd.DataFrame(columns=colTemp)\n",
    "    df_temp_real_pred['temp_real'] = df_training_temp_anomalie_edit['TEMP_MAX']\n",
    "    df_temp_real_pred['temp_pred'] = temperaturas.tolist()\n",
    "\n",
    "    df_umid_real_pred = pd.DataFrame()\n",
    "    col_umid = ['umid_real','umid_pred']\n",
    "    df_umid_real_pred = pd.DataFrame(columns=col_umid)\n",
    "    df_umid_real_pred['umid_real'] = df_training_temp_anomalie_edit['UMID_MED']\n",
    "    df_umid_real_pred['umid_pred'] = umidades.tolist()\n",
    "    \n",
    "    valorFinalTemp = valorFinalTemperatura(df_temp_real_pred, True, equacaoExpo)\n",
    "    valorFinalUmid = valorFinalUmidade(df_umid_real_pred, True, equacaoExpo)\n",
    "    \n",
    "    df_training_temp_anomalie_edit = converterColunasToFloat(df_training_temp_anomalie_edit, \"UMID_MED\")\n",
    "    df_training_temp_anomalie_edit = converterColunasToFloat(df_training_temp_anomalie_edit, \"TEMP_MAX\")\n",
    "\n",
    "    dfAnomalias = pd.DataFrame()\n",
    "    col = ['TEMP_MAX','UMID_MED', 'DT_MEDICAO', 'id']\n",
    "\n",
    "    dfAnomalias = pd.DataFrame(columns=col)\n",
    "\n",
    "    df_training_temp_anomalie_edit.sort_index(inplace=True)\n",
    "\n",
    "    #Df Anomalias\n",
    "    for index, row in df_training_temp_anomalie_edit.iterrows():\n",
    "        temp = row['TEMP_MAX'] + (np.sign(row['TEMP_MAX']) * valorFinalTemp) #Cálculo outliers Temp\n",
    "        umid = row['UMID_MED'] + (np.sign(row['UMID_MED']) * valorFinalUmid) #Cálculo outliers Umid\n",
    "        x = np.array([[temp, umid, row['DT_MEDICAO'], row['id']]])\n",
    "        df1=pd.DataFrame(x, columns=['TEMP_MAX', 'UMID_MED', 'DT_MEDICAO', 'id'])\n",
    "        \n",
    "        df1.set_index('id',inplace=True)\n",
    "\n",
    "        dfAnomalias = pd.concat([df1, dfAnomalias])\n",
    "   \n",
    "    dfAnomalias = dfAnomalias.drop(columns='id')\n",
    "        \n",
    "    dfAnomalias.sort_index(inplace=True)    \n",
    "\n",
    "    dfFinal = dfAnomalias\n",
    "    \n",
    "\n",
    "    #Inserindo as Anomalias junto das temps normais\n",
    "    for index, row in df_training_temp.iterrows():\n",
    "        x = np.array([[row['TEMP_MAX'], row['UMID_MED'], row['DT_MEDICAO'], row['id']]])\n",
    "        df1=pd.DataFrame(x, columns=['TEMP_MAX', 'UMID_MED', 'DT_MEDICAO', 'id'])\n",
    "        \n",
    "        df1.set_index('id',inplace=True)\n",
    "        \n",
    "        dfFinal = pd.concat([df1, dfFinal])\n",
    "\n",
    "    dfFinal.sort_index(inplace=True)    \n",
    "    df_training_temp = dfFinal\n",
    "    df_training_temp.dropna(inplace=True)\n",
    "\n",
    "    dfAnomalias.sort_index(inplace=True)\n",
    "    df_training_temp.sort_index(inplace=True)\n",
    "    \n",
    "    df_training_temp = converterColunasToFloat(df_training_temp, \"TEMP_MAX\")\n",
    "    df_training_temp = converterColunasToFloat(df_training_temp, \"UMID_MED\")\n",
    "    \n",
    "    df_training_temp.dropna(inplace=True)\n",
    "    df_training_temp.sort_index(inplace=True)\n",
    "    \n",
    "    return df_training_temp, dfAnomalias    "
   ]
  },
  {
   "cell_type": "code",
   "execution_count": 22,
   "metadata": {},
   "outputs": [],
   "source": [
    "dfs = df_temp.sort_values(by=\"DT_MEDICAO\")\n",
    "\n",
    "df_temp['DT_MEDICAO'].astype('datetime64')\n",
    "df_filterDate = (df_temp['DT_MEDICAO'] >= dataInicial) & (df_temp['DT_MEDICAO'] < \"2019-11-20\")\n",
    "df_normal_values = df_temp.loc[df_filterDate]"
   ]
  },
  {
   "cell_type": "code",
   "execution_count": 24,
   "metadata": {},
   "outputs": [],
   "source": [
    "df_temp = pd.concat([df_temp, df_normal_values]).drop_duplicates(keep=False).sort_values(by=\"DT_MEDICAO\")"
   ]
  },
  {
   "cell_type": "code",
   "execution_count": 26,
   "metadata": {},
   "outputs": [],
   "source": [
    "df_normal_values = TransformarEmEstacionaria(df_normal_values)\n",
    "df_normal_values.dropna(inplace=True)\n",
    "\n",
    "df_normal_values = converterColunasToFloat(df_normal_values, \"TEMP_MAX\")\n",
    "df_normal_values = converterColunasToFloat(df_normal_values, \"UMID_MED\")"
   ]
  },
  {
   "cell_type": "code",
   "execution_count": 28,
   "metadata": {
    "scrolled": true
   },
   "outputs": [
    {
     "name": "stderr",
     "output_type": "stream",
     "text": [
      "/home/anderson/Documentos/Python/anaconda3/lib/python3.8/site-packages/statsmodels/tsa/ar_model.py:248: FutureWarning: The parameter names will change after 0.12 is released. Set old_names to False to use the new names now. Set old_names to True to use the old names. \n",
      "  warnings.warn(\n",
      "/home/anderson/Documentos/Python/anaconda3/lib/python3.8/site-packages/statsmodels/tsa/ar_model.py:248: FutureWarning: The parameter names will change after 0.12 is released. Set old_names to False to use the new names now. Set old_names to True to use the old names. \n",
      "  warnings.warn(\n"
     ]
    }
   ],
   "source": [
    "taxaContaminacao = 5\n",
    "dfs = dataTraining(taxaContaminacao)\n",
    "df_training_temp = dfs[0]\n",
    "dfAnomalias = dfs[1]\n",
    "\n",
    "dfAnomalias = dfAnomalias.sort_values(by=\"DT_MEDICAO\")\n",
    "\n",
    "df_training_temp = converterColunasToFloat(df_training_temp, \"TEMP_MAX\")\n",
    "df_training_temp['TEMP_MAX'] = df_training_temp['TEMP_MAX'].abs()\n",
    "\n",
    "df_training_temp = df_training_temp[df_training_temp.index.notnull()]\n",
    "\n",
    "df_training_temp = df_training_temp.sort_values(by=\"DT_MEDICAO\")"
   ]
  },
  {
   "cell_type": "code",
   "execution_count": 29,
   "metadata": {},
   "outputs": [
    {
     "name": "stdout",
     "output_type": "stream",
     "text": [
      "(36, 3)\n",
      "Anomalias:\n",
      "                 TEMP_MAX             UMID_MED  DT_MEDICAO\n",
      "805   -24.703078189444472    87.47229236782964  2020-02-02\n",
      "827     22.60307818944448    87.57229236782965  2020-02-24\n",
      "909    22.503078189444473    83.37229236782963  2020-05-16\n",
      "925    -28.20307818944448    88.57229236782965  2020-06-01\n",
      "935   -22.803078189444477    87.37229236782964  2020-06-11\n",
      "939   -26.103078189444474    93.07229236782965  2020-06-15\n",
      "961   -31.703078189444476   102.57229236782965  2020-07-07\n",
      "962   -25.803078189444474    98.77229236782964  2020-07-08\n",
      "1014   22.103078189444474   -86.07229236782965  2020-08-29\n",
      "1016  -23.603078189444474   -82.87229236782964  2020-08-31\n",
      "1024   23.403078189444475   -81.77229236782964  2020-09-08\n",
      "1038   22.203078189444476    84.27229236782964  2020-09-22\n",
      "1042   -21.80307818944447   -88.97229236782964  2020-09-26\n",
      "1051   23.003078189444473   -93.67229236782964  2020-10-05\n",
      "1067   22.803078189444477   -80.27229236782964  2020-10-21\n",
      "1087    22.70307818944448    82.87229236782963  2020-11-10\n",
      "1100  -23.803078189444477    85.37229236782963  2020-11-23\n",
      "1104  -23.203078189444476    83.47229236782964  2020-11-27\n",
      "1143   23.603078189444474  -101.17229236782964  2021-01-05\n",
      "1168   23.203078189444476   -81.77229236782964  2021-01-30\n",
      "1173   28.203078189444476   -96.57229236782965  2021-02-04\n",
      "1176   23.003078189444473    83.87229236782964  2021-02-07\n",
      "1187  -26.603078189444474   115.87229236782964  2021-02-18\n",
      "1216  -24.503078189444473    93.17229236782964  2021-03-19\n",
      "1229   30.003078189444473   -85.47229236782964  2021-04-01\n",
      "1245   -23.40307818944447    89.37229236782964  2021-04-17\n",
      "1252   23.103078189444478    95.37229236782964  2021-04-24\n",
      "1281  -24.803078189444477    94.17229236782964  2021-05-23\n",
      "1344  -24.503078189444476   -82.37229236782964  2021-07-25\n",
      "1372  -22.203078189444476    85.47229236782964  2021-08-22\n",
      "1375  -23.603078189444474   -84.37229236782963  2021-08-25\n",
      "1379   22.303078189444477                  0.0  2021-08-29\n",
      "1384    22.50307818944448   -87.87229236782963  2021-09-03\n",
      "1443    24.20307818944448   -93.37229236782964  2021-11-01\n",
      "1448  -28.403078189444475   106.77229236782964  2021-11-06\n",
      "1454  -28.103078189444474   109.37229236782964  2021-11-12\n"
     ]
    }
   ],
   "source": [
    "print (dfAnomalias.shape)\n",
    "print (\"Anomalias:\")\n",
    "print (dfAnomalias)"
   ]
  },
  {
   "cell_type": "code",
   "execution_count": 11,
   "metadata": {},
   "outputs": [
    {
     "data": {
      "image/png": "[encoded data removed]",
      "text/plain": [
       "<Figure size 432x288 with 1 Axes>"
      ]
     },
     "metadata": {
      "needs_background": "light"
     },
     "output_type": "display_data"
    },
    {
     "data": {
      "image/png": "[encoded data removed]",
      "text/plain": [
       "<Figure size 432x288 with 1 Axes>"
      ]
     },
     "metadata": {
      "needs_background": "light"
     },
     "output_type": "display_data"
    }
   ],
   "source": [
    "import matplotlib.pyplot as plt\n",
    "\n",
    "#df_normal_values['TEMP_MAX'] = df_normal_values['TEMP_MAX'].abs()\n",
    "series = pd.DataFrame(df_normal_values, columns = ['DT_MEDICAO', 'TEMP_MAX'])\n",
    "series.reset_index(drop=True, inplace=True)\n",
    "\n",
    "x = series['DT_MEDICAO']\n",
    "y = series['TEMP_MAX']\n",
    "plt.plot(x,y)\n",
    "plt.show()\n",
    "\n",
    "\n",
    "series = pd.DataFrame(df_training_temp, columns = ['DT_MEDICAO', 'TEMP_MAX'])\n",
    "series.reset_index(drop=True, inplace=True)\n",
    "\n",
    "x = series['DT_MEDICAO']\n",
    "y = series['TEMP_MAX']\n",
    "plt.plot(x,y)\n",
    "plt.show()"
   ]
  },
  {
   "cell_type": "code",
   "execution_count": 154,
   "metadata": {},
   "outputs": [],
   "source": [
    "# TDA magic\n",
    "import gtda.time_series as time_series\n",
    "import gtda.diagrams as diag\n",
    "import gtda.homology as hl\n",
    "import gtda.graphs as gr\n",
    "from gtda.plotting import plot_diagram, plot_point_cloud\n",
    "from gtda.pipeline import Pipeline\n",
    "from plotting.plotting import plot_crash_detections, plot_crash_comparisons\n",
    "from gtda.time_series import TakensEmbedding\n",
    "import gtda.time_series as ts"
   ]
  },
  {
   "cell_type": "code",
   "execution_count": 128,
   "metadata": {
    "scrolled": false
   },
   "outputs": [
    {
     "name": "stdout",
     "output_type": "stream",
     "text": [
      "(19, 9)\n"
     ]
    }
   ],
   "source": [
    "data = np.array(df_training_temp)\n",
    "\n",
    "df_training_temp.head()\n",
    "df_training_temp.tail()\n",
    "df_training_temp.shape\n",
    "\n",
    "df_training_temp.dropna(inplace=True)\n",
    "\n",
    "df_training_temp['DT_MEDICAO'] = df_training_temp['DT_MEDICAO'].astype('datetime64')\n",
    "\n",
    "temps_resampled_df = pd.DataFrame(df_training_temp, columns = ['DT_MEDICAO', 'TEMP_MAX'])\n",
    "\n",
    "#temps_resampled_df['DT_MEDICAO'] = temps_resampled_df['DT_MEDICAO'].astype('datetime64')\n",
    "\n",
    "temps_resampled_df.set_index('DT_MEDICAO',inplace=True)\n",
    "temps_values = temps_resampled_df[\"TEMP_MAX\"].tolist()\n",
    "\n",
    "embedding_series_with_anomalies = time_series.takens_embedding_optimal_parameters(temps_values, \n",
    "                                                            max_time_delay=20, \n",
    "                                                            max_dimension=20)\n",
    "\n",
    "\n",
    "print (embedding_series_with_anomalies)"
   ]
  },
  {
   "cell_type": "code",
   "execution_count": 129,
   "metadata": {},
   "outputs": [],
   "source": [
    "from gtda.time_series import SingleTakensEmbedding\n",
    "embedding_time_delay = embedding_series_with_anomalies[0]\n",
    "embedding_dimension = embedding_series_with_anomalies[1]\n",
    "stride = 5\n",
    "\n",
    "embedder = SingleTakensEmbedding(\n",
    "    parameters_type=\"search\", n_jobs=6, time_delay=embedding_time_delay, dimension=embedding_dimension, stride=stride\n",
    ")\n",
    "\n",
    "temps_values_anomalie_embedded = embedder.fit_transform(temps_values)"
   ]
  },
  {
   "cell_type": "code",
   "execution_count": 156,
   "metadata": {},
   "outputs": [],
   "source": [
    "sliding_window = ts.SlidingWindow(size=30, stride=5)\n",
    "temps_values_anomalie_windows = sliding_window.fit_transform(temps_values_anomalie_embedded)"
   ]
  },
  {
   "cell_type": "code",
   "execution_count": 158,
   "metadata": {},
   "outputs": [],
   "source": [
    "persistence = VietorisRipsPersistence(homology_dimensions=[0, 1, 2], n_jobs=-1)"
   ]
  },
  {
   "cell_type": "code",
   "execution_count": 159,
   "metadata": {},
   "outputs": [
    {
     "data": {
      "application/vnd.plotly.v1+json": {
       "config": {
        "plotlyServerURL": "https://plot.ly"
       },
       "data": [
        {
         "hoverinfo": "none",
         "line": {
          "color": "black",
          "dash": "dash",
          "width": 1
         },
         "mode": "lines",
         "showlegend": false,
         "type": "scatter",
         "x": [
          -0.3908477020263672,
          19.933232803344726
         ],
         "y": [
          -0.3908477020263672,
          19.933232803344726
         ]
        },
        {
         "hoverinfo": "text",
         "hovertext": [
          "(0.0, 1.7058721780776978)",
          "(0.0, 3.1622776985168457)",
          "(0.0, 3.284813642501831)",
          "(0.0, 3.3749074935913086)",
          "(0.0, 3.485685110092163)",
          "(0.0, 3.5028560161590576)",
          "(0.0, 3.7443289756774902)",
          "(0.0, 3.897434949874878)",
          "(0.0, 3.9012818336486816)",
          "(0.0, 4.178516387939453)",
          "(0.0, 4.2343831062316895)",
          "(0.0, 4.410215377807617)",
          "(0.0, 4.440720558166504)",
          "(0.0, 4.449718952178955)",
          "(0.0, 4.650806427001953)",
          "(0.0, 4.759201526641846)",
          "(0.0, 4.814561367034912)",
          "(0.0, 4.833218574523926)",
          "(0.0, 4.906118392944336)",
          "(0.0, 5.110773086547852)",
          "(0.0, 5.283937931060791)",
          "(0.0, 6.072890758514404)",
          "(0.0, 7.7961530685424805)",
          "(0.0, 13.320721626281738)",
          "(0.0, 14.741681098937988)",
          "(0.0, 16.36443519592285)",
          "(0.0, 16.597412109375)",
          "(0.0, 19.32607650756836)",
          "(0.0, 19.54238510131836)"
         ],
         "mode": "markers",
         "name": "H0",
         "type": "scatter",
         "x": [
          0,
          0,
          0,
          0,
          0,
          0,
          0,
          0,
          0,
          0,
          0,
          0,
          0,
          0,
          0,
          0,
          0,
          0,
          0,
          0,
          0,
          0,
          0,
          0,
          0,
          0,
          0,
          0,
          0
         ],
         "y": [
          1.7058721780776978,
          3.1622776985168457,
          3.284813642501831,
          3.3749074935913086,
          3.485685110092163,
          3.5028560161590576,
          3.7443289756774902,
          3.897434949874878,
          3.9012818336486816,
          4.178516387939453,
          4.2343831062316895,
          4.410215377807617,
          4.440720558166504,
          4.449718952178955,
          4.650806427001953,
          4.759201526641846,
          4.814561367034912,
          4.833218574523926,
          4.906118392944336,
          5.110773086547852,
          5.283937931060791,
          6.072890758514404,
          7.7961530685424805,
          13.320721626281738,
          14.741681098937988,
          16.36443519592285,
          16.597412109375,
          19.32607650756836,
          19.54238510131836
         ]
        },
        {
         "hoverinfo": "text",
         "hovertext": [
          "(6.583312034606934, 6.878226280212402)",
          "(5.806031227111816, 6.643041610717773)",
          "(5.380520343780518, 5.5362443923950195)",
          "(5.369357585906982, 5.4808759689331055)",
          "(5.199999809265137, 5.4175639152526855)",
          "(4.657252311706543, 5.015974521636963)",
          "(4.309292316436768, 4.714869976043701)"
         ],
         "mode": "markers",
         "name": "H1",
         "type": "scatter",
         "x": [
          6.583312034606934,
          5.806031227111816,
          5.380520343780518,
          5.369357585906982,
          5.199999809265137,
          4.657252311706543,
          4.309292316436768
         ],
         "y": [
          6.878226280212402,
          6.643041610717773,
          5.5362443923950195,
          5.4808759689331055,
          5.4175639152526855,
          5.015974521636963,
          4.714869976043701
         ]
        },
        {
         "hoverinfo": "text",
         "hovertext": [],
         "mode": "markers",
         "name": "H2",
         "type": "scatter",
         "x": [],
         "y": []
        }
       ],
       "layout": {
        "height": 500,
        "plot_bgcolor": "white",
        "template": {
         "data": {
          "bar": [
           {
            "error_x": {
             "color": "#2a3f5f"
            },
            "error_y": {
             "color": "#2a3f5f"
            },
            "marker": {
             "line": {
              "color": "#E5ECF6",
              "width": 0.5
             },
             "pattern": {
              "fillmode": "overlay",
              "size": 10,
              "solidity": 0.2
             }
            },
            "type": "bar"
           }
          ],
          "barpolar": [
           {
            "marker": {
             "line": {
              "color": "#E5ECF6",
              "width": 0.5
             },
             "pattern": {
              "fillmode": "overlay",
              "size": 10,
              "solidity": 0.2
             }
            },
            "type": "barpolar"
           }
          ],
          "carpet": [
           {
            "aaxis": {
             "endlinecolor": "#2a3f5f",
             "gridcolor": "white",
             "linecolor": "white",
             "minorgridcolor": "white",
             "startlinecolor": "#2a3f5f"
            },
            "baxis": {
             "endlinecolor": "#2a3f5f",
             "gridcolor": "white",
             "linecolor": "white",
             "minorgridcolor": "white",
             "startlinecolor": "#2a3f5f"
            },
            "type": "carpet"
           }
          ],
          "choropleth": [
           {
            "colorbar": {
             "outlinewidth": 0,
             "ticks": ""
            },
            "type": "choropleth"
           }
          ],
          "contour": [
           {
            "colorbar": {
             "outlinewidth": 0,
             "ticks": ""
            },
            "colorscale": [
             [
              0,
              "#0d0887"
             ],
             [
              0.1111111111111111,
              "#46039f"
             ],
             [
              0.2222222222222222,
              "#7201a8"
             ],
             [
              0.3333333333333333,
              "#9c179e"
             ],
             [
              0.4444444444444444,
              "#bd3786"
             ],
             [
              0.5555555555555556,
              "#d8576b"
             ],
             [
              0.6666666666666666,
              "#ed7953"
             ],
             [
              0.7777777777777778,
              "#fb9f3a"
             ],
             [
              0.8888888888888888,
              "#fdca26"
             ],
             [
              1,
              "#f0f921"
             ]
            ],
            "type": "contour"
           }
          ],
          "contourcarpet": [
           {
            "colorbar": {
             "outlinewidth": 0,
             "ticks": ""
            },
            "type": "contourcarpet"
           }
          ],
          "heatmap": [
           {
            "colorbar": {
             "outlinewidth": 0,
             "ticks": ""
            },
            "colorscale": [
             [
              0,
              "#0d0887"
             ],
             [
              0.1111111111111111,
              "#46039f"
             ],
             [
              0.2222222222222222,
              "#7201a8"
             ],
             [
              0.3333333333333333,
              "#9c179e"
             ],
             [
              0.4444444444444444,
              "#bd3786"
             ],
             [
              0.5555555555555556,
              "#d8576b"
             ],
             [
              0.6666666666666666,
              "#ed7953"
             ],
             [
              0.7777777777777778,
              "#fb9f3a"
             ],
             [
              0.8888888888888888,
              "#fdca26"
             ],
             [
              1,
              "#f0f921"
             ]
            ],
            "type": "heatmap"
           }
          ],
          "heatmapgl": [
           {
            "colorbar": {
             "outlinewidth": 0,
             "ticks": ""
            },
            "colorscale": [
             [
              0,
              "#0d0887"
             ],
             [
              0.1111111111111111,
              "#46039f"
             ],
             [
              0.2222222222222222,
              "#7201a8"
             ],
             [
              0.3333333333333333,
              "#9c179e"
             ],
             [
              0.4444444444444444,
              "#bd3786"
             ],
             [
              0.5555555555555556,
              "#d8576b"
             ],
             [
              0.6666666666666666,
              "#ed7953"
             ],
             [
              0.7777777777777778,
              "#fb9f3a"
             ],
             [
              0.8888888888888888,
              "#fdca26"
             ],
             [
              1,
              "#f0f921"
             ]
            ],
            "type": "heatmapgl"
           }
          ],
          "histogram": [
           {
            "marker": {
             "pattern": {
              "fillmode": "overlay",
              "size": 10,
              "solidity": 0.2
             }
            },
            "type": "histogram"
           }
          ],
          "histogram2d": [
           {
            "colorbar": {
             "outlinewidth": 0,
             "ticks": ""
            },
            "colorscale": [
             [
              0,
              "#0d0887"
             ],
             [
              0.1111111111111111,
              "#46039f"
             ],
             [
              0.2222222222222222,
              "#7201a8"
             ],
             [
              0.3333333333333333,
              "#9c179e"
             ],
             [
              0.4444444444444444,
              "#bd3786"
             ],
             [
              0.5555555555555556,
              "#d8576b"
             ],
             [
              0.6666666666666666,
              "#ed7953"
             ],
             [
              0.7777777777777778,
              "#fb9f3a"
             ],
             [
              0.8888888888888888,
              "#fdca26"
             ],
             [
              1,
              "#f0f921"
             ]
            ],
            "type": "histogram2d"
           }
          ],
          "histogram2dcontour": [
           {
            "colorbar": {
             "outlinewidth": 0,
             "ticks": ""
            },
            "colorscale": [
             [
              0,
              "#0d0887"
             ],
             [
              0.1111111111111111,
              "#46039f"
             ],
             [
              0.2222222222222222,
              "#7201a8"
             ],
             [
              0.3333333333333333,
              "#9c179e"
             ],
             [
              0.4444444444444444,
              "#bd3786"
             ],
             [
              0.5555555555555556,
              "#d8576b"
             ],
             [
              0.6666666666666666,
              "#ed7953"
             ],
             [
              0.7777777777777778,
              "#fb9f3a"
             ],
             [
              0.8888888888888888,
              "#fdca26"
             ],
             [
              1,
              "#f0f921"
             ]
            ],
            "type": "histogram2dcontour"
           }
          ],
          "mesh3d": [
           {
            "colorbar": {
             "outlinewidth": 0,
             "ticks": ""
            },
            "type": "mesh3d"
           }
          ],
          "parcoords": [
           {
            "line": {
             "colorbar": {
              "outlinewidth": 0,
              "ticks": ""
             }
            },
            "type": "parcoords"
           }
          ],
          "pie": [
           {
            "automargin": true,
            "type": "pie"
           }
          ],
          "scatter": [
           {
            "marker": {
             "colorbar": {
              "outlinewidth": 0,
              "ticks": ""
             }
            },
            "type": "scatter"
           }
          ],
          "scatter3d": [
           {
            "line": {
             "colorbar": {
              "outlinewidth": 0,
              "ticks": ""
             }
            },
            "marker": {
             "colorbar": {
              "outlinewidth": 0,
              "ticks": ""
             }
            },
            "type": "scatter3d"
           }
          ],
          "scattercarpet": [
           {
            "marker": {
             "colorbar": {
              "outlinewidth": 0,
              "ticks": ""
             }
            },
            "type": "scattercarpet"
           }
          ],
          "scattergeo": [
           {
            "marker": {
             "colorbar": {
              "outlinewidth": 0,
              "ticks": ""
             }
            },
            "type": "scattergeo"
           }
          ],
          "scattergl": [
           {
            "marker": {
             "colorbar": {
              "outlinewidth": 0,
              "ticks": ""
             }
            },
            "type": "scattergl"
           }
          ],
          "scattermapbox": [
           {
            "marker": {
             "colorbar": {
              "outlinewidth": 0,
              "ticks": ""
             }
            },
            "type": "scattermapbox"
           }
          ],
          "scatterpolar": [
           {
            "marker": {
             "colorbar": {
              "outlinewidth": 0,
              "ticks": ""
             }
            },
            "type": "scatterpolar"
           }
          ],
          "scatterpolargl": [
           {
            "marker": {
             "colorbar": {
              "outlinewidth": 0,
              "ticks": ""
             }
            },
            "type": "scatterpolargl"
           }
          ],
          "scatterternary": [
           {
            "marker": {
             "colorbar": {
              "outlinewidth": 0,
              "ticks": ""
             }
            },
            "type": "scatterternary"
           }
          ],
          "surface": [
           {
            "colorbar": {
             "outlinewidth": 0,
             "ticks": ""
            },
            "colorscale": [
             [
              0,
              "#0d0887"
             ],
             [
              0.1111111111111111,
              "#46039f"
             ],
             [
              0.2222222222222222,
              "#7201a8"
             ],
             [
              0.3333333333333333,
              "#9c179e"
             ],
             [
              0.4444444444444444,
              "#bd3786"
             ],
             [
              0.5555555555555556,
              "#d8576b"
             ],
             [
              0.6666666666666666,
              "#ed7953"
             ],
             [
              0.7777777777777778,
              "#fb9f3a"
             ],
             [
              0.8888888888888888,
              "#fdca26"
             ],
             [
              1,
              "#f0f921"
             ]
            ],
            "type": "surface"
           }
          ],
          "table": [
           {
            "cells": {
             "fill": {
              "color": "#EBF0F8"
             },
             "line": {
              "color": "white"
             }
            },
            "header": {
             "fill": {
              "color": "#C8D4E3"
             },
             "line": {
              "color": "white"
             }
            },
            "type": "table"
           }
          ]
         },
         "layout": {
          "annotationdefaults": {
           "arrowcolor": "#2a3f5f",
           "arrowhead": 0,
           "arrowwidth": 1
          },
          "autotypenumbers": "strict",
          "coloraxis": {
           "colorbar": {
            "outlinewidth": 0,
            "ticks": ""
           }
          },
          "colorscale": {
           "diverging": [
            [
             0,
             "#8e0152"
            ],
            [
             0.1,
             "#c51b7d"
            ],
            [
             0.2,
             "#de77ae"
            ],
            [
             0.3,
             "#f1b6da"
            ],
            [
             0.4,
             "#fde0ef"
            ],
            [
             0.5,
             "#f7f7f7"
            ],
            [
             0.6,
             "#e6f5d0"
            ],
            [
             0.7,
             "#b8e186"
            ],
            [
             0.8,
             "#7fbc41"
            ],
            [
             0.9,
             "#4d9221"
            ],
            [
             1,
             "#276419"
            ]
           ],
           "sequential": [
            [
             0,
             "#0d0887"
            ],
            [
             0.1111111111111111,
             "#46039f"
            ],
            [
             0.2222222222222222,
             "#7201a8"
            ],
            [
             0.3333333333333333,
             "#9c179e"
            ],
            [
             0.4444444444444444,
             "#bd3786"
            ],
            [
             0.5555555555555556,
             "#d8576b"
            ],
            [
             0.6666666666666666,
             "#ed7953"
            ],
            [
             0.7777777777777778,
             "#fb9f3a"
            ],
            [
             0.8888888888888888,
             "#fdca26"
            ],
            [
             1,
             "#f0f921"
            ]
           ],
           "sequentialminus": [
            [
             0,
             "#0d0887"
            ],
            [
             0.1111111111111111,
             "#46039f"
            ],
            [
             0.2222222222222222,
             "#7201a8"
            ],
            [
             0.3333333333333333,
             "#9c179e"
            ],
            [
             0.4444444444444444,
             "#bd3786"
            ],
            [
             0.5555555555555556,
             "#d8576b"
            ],
            [
             0.6666666666666666,
             "#ed7953"
            ],
            [
             0.7777777777777778,
             "#fb9f3a"
            ],
            [
             0.8888888888888888,
             "#fdca26"
            ],
            [
             1,
             "#f0f921"
            ]
           ]
          },
          "colorway": [
           "#636efa",
           "#EF553B",
           "#00cc96",
           "#ab63fa",
           "#FFA15A",
           "#19d3f3",
           "#FF6692",
           "#B6E880",
           "#FF97FF",
           "#FECB52"
          ],
          "font": {
           "color": "#2a3f5f"
          },
          "geo": {
           "bgcolor": "white",
           "lakecolor": "white",
           "landcolor": "#E5ECF6",
           "showlakes": true,
           "showland": true,
           "subunitcolor": "white"
          },
          "hoverlabel": {
           "align": "left"
          },
          "hovermode": "closest",
          "mapbox": {
           "style": "light"
          },
          "paper_bgcolor": "white",
          "plot_bgcolor": "#E5ECF6",
          "polar": {
           "angularaxis": {
            "gridcolor": "white",
            "linecolor": "white",
            "ticks": ""
           },
           "bgcolor": "#E5ECF6",
           "radialaxis": {
            "gridcolor": "white",
            "linecolor": "white",
            "ticks": ""
           }
          },
          "scene": {
           "xaxis": {
            "backgroundcolor": "#E5ECF6",
            "gridcolor": "white",
            "gridwidth": 2,
            "linecolor": "white",
            "showbackground": true,
            "ticks": "",
            "zerolinecolor": "white"
           },
           "yaxis": {
            "backgroundcolor": "#E5ECF6",
            "gridcolor": "white",
            "gridwidth": 2,
            "linecolor": "white",
            "showbackground": true,
            "ticks": "",
            "zerolinecolor": "white"
           },
           "zaxis": {
            "backgroundcolor": "#E5ECF6",
            "gridcolor": "white",
            "gridwidth": 2,
            "linecolor": "white",
            "showbackground": true,
            "ticks": "",
            "zerolinecolor": "white"
           }
          },
          "shapedefaults": {
           "line": {
            "color": "#2a3f5f"
           }
          },
          "ternary": {
           "aaxis": {
            "gridcolor": "white",
            "linecolor": "white",
            "ticks": ""
           },
           "baxis": {
            "gridcolor": "white",
            "linecolor": "white",
            "ticks": ""
           },
           "bgcolor": "#E5ECF6",
           "caxis": {
            "gridcolor": "white",
            "linecolor": "white",
            "ticks": ""
           }
          },
          "title": {
           "x": 0.05
          },
          "xaxis": {
           "automargin": true,
           "gridcolor": "white",
           "linecolor": "white",
           "ticks": "",
           "title": {
            "standoff": 15
           },
           "zerolinecolor": "white",
           "zerolinewidth": 2
          },
          "yaxis": {
           "automargin": true,
           "gridcolor": "white",
           "linecolor": "white",
           "ticks": "",
           "title": {
            "standoff": 15
           },
           "zerolinecolor": "white",
           "zerolinewidth": 2
          }
         }
        },
        "width": 500,
        "xaxis": {
         "autorange": false,
         "exponentformat": "e",
         "linecolor": "black",
         "linewidth": 1,
         "mirror": false,
         "range": [
          -0.3908477020263672,
          19.933232803344726
         ],
         "showexponent": "all",
         "showline": true,
         "side": "bottom",
         "ticks": "outside",
         "title": {
          "text": "Birth"
         },
         "type": "linear",
         "zeroline": true
        },
        "yaxis": {
         "autorange": false,
         "exponentformat": "e",
         "linecolor": "black",
         "linewidth": 1,
         "mirror": false,
         "range": [
          -0.3908477020263672,
          19.933232803344726
         ],
         "scaleanchor": "x",
         "scaleratio": 1,
         "showexponent": "all",
         "showline": true,
         "side": "left",
         "ticks": "outside",
         "title": {
          "text": "Death"
         },
         "type": "linear",
         "zeroline": true
        }
       }
      },
      "text/html": [
       "<div>                            <div id=\"1d9299d5-d31e-4ebe-a16f-f13380ca8925\" class=\"plotly-graph-div\" style=\"height:500px; width:500px;\"></div>            <script type=\"text/javascript\">                require([\"plotly\"], function(Plotly) {                    window.PLOTLYENV=window.PLOTLYENV || {};                                    if (document.getElementById(\"1d9299d5-d31e-4ebe-a16f-f13380ca8925\")) {                    Plotly.newPlot(                        \"1d9299d5-d31e-4ebe-a16f-f13380ca8925\",                        [{\"hoverinfo\":\"none\",\"line\":{\"color\":\"black\",\"dash\":\"dash\",\"width\":1},\"mode\":\"lines\",\"showlegend\":false,\"type\":\"scatter\",\"x\":[-0.3908477020263672,19.933232803344726],\"y\":[-0.3908477020263672,19.933232803344726]},{\"hoverinfo\":\"text\",\"hovertext\":[\"(0.0, 1.7058721780776978)\",\"(0.0, 3.1622776985168457)\",\"(0.0, 3.284813642501831)\",\"(0.0, 3.3749074935913086)\",\"(0.0, 3.485685110092163)\",\"(0.0, 3.5028560161590576)\",\"(0.0, 3.7443289756774902)\",\"(0.0, 3.897434949874878)\",\"(0.0, 3.9012818336486816)\",\"(0.0, 4.178516387939453)\",\"(0.0, 4.2343831062316895)\",\"(0.0, 4.410215377807617)\",\"(0.0, 4.440720558166504)\",\"(0.0, 4.449718952178955)\",\"(0.0, 4.650806427001953)\",\"(0.0, 4.759201526641846)\",\"(0.0, 4.814561367034912)\",\"(0.0, 4.833218574523926)\",\"(0.0, 4.906118392944336)\",\"(0.0, 5.110773086547852)\",\"(0.0, 5.283937931060791)\",\"(0.0, 6.072890758514404)\",\"(0.0, 7.7961530685424805)\",\"(0.0, 13.320721626281738)\",\"(0.0, 14.741681098937988)\",\"(0.0, 16.36443519592285)\",\"(0.0, 16.597412109375)\",\"(0.0, 19.32607650756836)\",\"(0.0, 19.54238510131836)\"],\"mode\":\"markers\",\"name\":\"H0\",\"type\":\"scatter\",\"x\":[0.0,0.0,0.0,0.0,0.0,0.0,0.0,0.0,0.0,0.0,0.0,0.0,0.0,0.0,0.0,0.0,0.0,0.0,0.0,0.0,0.0,0.0,0.0,0.0,0.0,0.0,0.0,0.0,0.0],\"y\":[1.7058721780776978,3.1622776985168457,3.284813642501831,3.3749074935913086,3.485685110092163,3.5028560161590576,3.7443289756774902,3.897434949874878,3.9012818336486816,4.178516387939453,4.2343831062316895,4.410215377807617,4.440720558166504,4.449718952178955,4.650806427001953,4.759201526641846,4.814561367034912,4.833218574523926,4.906118392944336,5.110773086547852,5.283937931060791,6.072890758514404,7.7961530685424805,13.320721626281738,14.741681098937988,16.36443519592285,16.597412109375,19.32607650756836,19.54238510131836]},{\"hoverinfo\":\"text\",\"hovertext\":[\"(6.583312034606934, 6.878226280212402)\",\"(5.806031227111816, 6.643041610717773)\",\"(5.380520343780518, 5.5362443923950195)\",\"(5.369357585906982, 5.4808759689331055)\",\"(5.199999809265137, 5.4175639152526855)\",\"(4.657252311706543, 5.015974521636963)\",\"(4.309292316436768, 4.714869976043701)\"],\"mode\":\"markers\",\"name\":\"H1\",\"type\":\"scatter\",\"x\":[6.583312034606934,5.806031227111816,5.380520343780518,5.369357585906982,5.199999809265137,4.657252311706543,4.309292316436768],\"y\":[6.878226280212402,6.643041610717773,5.5362443923950195,5.4808759689331055,5.4175639152526855,5.015974521636963,4.714869976043701]},{\"hoverinfo\":\"text\",\"hovertext\":[],\"mode\":\"markers\",\"name\":\"H2\",\"type\":\"scatter\",\"x\":[],\"y\":[]}],                        {\"height\":500,\"plot_bgcolor\":\"white\",\"template\":{\"data\":{\"bar\":[{\"error_x\":{\"color\":\"#2a3f5f\"},\"error_y\":{\"color\":\"#2a3f5f\"},\"marker\":{\"line\":{\"color\":\"#E5ECF6\",\"width\":0.5},\"pattern\":{\"fillmode\":\"overlay\",\"size\":10,\"solidity\":0.2}},\"type\":\"bar\"}],\"barpolar\":[{\"marker\":{\"line\":{\"color\":\"#E5ECF6\",\"width\":0.5},\"pattern\":{\"fillmode\":\"overlay\",\"size\":10,\"solidity\":0.2}},\"type\":\"barpolar\"}],\"carpet\":[{\"aaxis\":{\"endlinecolor\":\"#2a3f5f\",\"gridcolor\":\"white\",\"linecolor\":\"white\",\"minorgridcolor\":\"white\",\"startlinecolor\":\"#2a3f5f\"},\"baxis\":{\"endlinecolor\":\"#2a3f5f\",\"gridcolor\":\"white\",\"linecolor\":\"white\",\"minorgridcolor\":\"white\",\"startlinecolor\":\"#2a3f5f\"},\"type\":\"carpet\"}],\"choropleth\":[{\"colorbar\":{\"outlinewidth\":0,\"ticks\":\"\"},\"type\":\"choropleth\"}],\"contour\":[{\"colorbar\":{\"outlinewidth\":0,\"ticks\":\"\"},\"colorscale\":[[0.0,\"#0d0887\"],[0.1111111111111111,\"#46039f\"],[0.2222222222222222,\"#7201a8\"],[0.3333333333333333,\"#9c179e\"],[0.4444444444444444,\"#bd3786\"],[0.5555555555555556,\"#d8576b\"],[0.6666666666666666,\"#ed7953\"],[0.7777777777777778,\"#fb9f3a\"],[0.8888888888888888,\"#fdca26\"],[1.0,\"#f0f921\"]],\"type\":\"contour\"}],\"contourcarpet\":[{\"colorbar\":{\"outlinewidth\":0,\"ticks\":\"\"},\"type\":\"contourcarpet\"}],\"heatmap\":[{\"colorbar\":{\"outlinewidth\":0,\"ticks\":\"\"},\"colorscale\":[[0.0,\"#0d0887\"],[0.1111111111111111,\"#46039f\"],[0.2222222222222222,\"#7201a8\"],[0.3333333333333333,\"#9c179e\"],[0.4444444444444444,\"#bd3786\"],[0.5555555555555556,\"#d8576b\"],[0.6666666666666666,\"#ed7953\"],[0.7777777777777778,\"#fb9f3a\"],[0.8888888888888888,\"#fdca26\"],[1.0,\"#f0f921\"]],\"type\":\"heatmap\"}],\"heatmapgl\":[{\"colorbar\":{\"outlinewidth\":0,\"ticks\":\"\"},\"colorscale\":[[0.0,\"#0d0887\"],[0.1111111111111111,\"#46039f\"],[0.2222222222222222,\"#7201a8\"],[0.3333333333333333,\"#9c179e\"],[0.4444444444444444,\"#bd3786\"],[0.5555555555555556,\"#d8576b\"],[0.6666666666666666,\"#ed7953\"],[0.7777777777777778,\"#fb9f3a\"],[0.8888888888888888,\"#fdca26\"],[1.0,\"#f0f921\"]],\"type\":\"heatmapgl\"}],\"histogram\":[{\"marker\":{\"pattern\":{\"fillmode\":\"overlay\",\"size\":10,\"solidity\":0.2}},\"type\":\"histogram\"}],\"histogram2d\":[{\"colorbar\":{\"outlinewidth\":0,\"ticks\":\"\"},\"colorscale\":[[0.0,\"#0d0887\"],[0.1111111111111111,\"#46039f\"],[0.2222222222222222,\"#7201a8\"],[0.3333333333333333,\"#9c179e\"],[0.4444444444444444,\"#bd3786\"],[0.5555555555555556,\"#d8576b\"],[0.6666666666666666,\"#ed7953\"],[0.7777777777777778,\"#fb9f3a\"],[0.8888888888888888,\"#fdca26\"],[1.0,\"#f0f921\"]],\"type\":\"histogram2d\"}],\"histogram2dcontour\":[{\"colorbar\":{\"outlinewidth\":0,\"ticks\":\"\"},\"colorscale\":[[0.0,\"#0d0887\"],[0.1111111111111111,\"#46039f\"],[0.2222222222222222,\"#7201a8\"],[0.3333333333333333,\"#9c179e\"],[0.4444444444444444,\"#bd3786\"],[0.5555555555555556,\"#d8576b\"],[0.6666666666666666,\"#ed7953\"],[0.7777777777777778,\"#fb9f3a\"],[0.8888888888888888,\"#fdca26\"],[1.0,\"#f0f921\"]],\"type\":\"histogram2dcontour\"}],\"mesh3d\":[{\"colorbar\":{\"outlinewidth\":0,\"ticks\":\"\"},\"type\":\"mesh3d\"}],\"parcoords\":[{\"line\":{\"colorbar\":{\"outlinewidth\":0,\"ticks\":\"\"}},\"type\":\"parcoords\"}],\"pie\":[{\"automargin\":true,\"type\":\"pie\"}],\"scatter\":[{\"marker\":{\"colorbar\":{\"outlinewidth\":0,\"ticks\":\"\"}},\"type\":\"scatter\"}],\"scatter3d\":[{\"line\":{\"colorbar\":{\"outlinewidth\":0,\"ticks\":\"\"}},\"marker\":{\"colorbar\":{\"outlinewidth\":0,\"ticks\":\"\"}},\"type\":\"scatter3d\"}],\"scattercarpet\":[{\"marker\":{\"colorbar\":{\"outlinewidth\":0,\"ticks\":\"\"}},\"type\":\"scattercarpet\"}],\"scattergeo\":[{\"marker\":{\"colorbar\":{\"outlinewidth\":0,\"ticks\":\"\"}},\"type\":\"scattergeo\"}],\"scattergl\":[{\"marker\":{\"colorbar\":{\"outlinewidth\":0,\"ticks\":\"\"}},\"type\":\"scattergl\"}],\"scattermapbox\":[{\"marker\":{\"colorbar\":{\"outlinewidth\":0,\"ticks\":\"\"}},\"type\":\"scattermapbox\"}],\"scatterpolar\":[{\"marker\":{\"colorbar\":{\"outlinewidth\":0,\"ticks\":\"\"}},\"type\":\"scatterpolar\"}],\"scatterpolargl\":[{\"marker\":{\"colorbar\":{\"outlinewidth\":0,\"ticks\":\"\"}},\"type\":\"scatterpolargl\"}],\"scatterternary\":[{\"marker\":{\"colorbar\":{\"outlinewidth\":0,\"ticks\":\"\"}},\"type\":\"scatterternary\"}],\"surface\":[{\"colorbar\":{\"outlinewidth\":0,\"ticks\":\"\"},\"colorscale\":[[0.0,\"#0d0887\"],[0.1111111111111111,\"#46039f\"],[0.2222222222222222,\"#7201a8\"],[0.3333333333333333,\"#9c179e\"],[0.4444444444444444,\"#bd3786\"],[0.5555555555555556,\"#d8576b\"],[0.6666666666666666,\"#ed7953\"],[0.7777777777777778,\"#fb9f3a\"],[0.8888888888888888,\"#fdca26\"],[1.0,\"#f0f921\"]],\"type\":\"surface\"}],\"table\":[{\"cells\":{\"fill\":{\"color\":\"#EBF0F8\"},\"line\":{\"color\":\"white\"}},\"header\":{\"fill\":{\"color\":\"#C8D4E3\"},\"line\":{\"color\":\"white\"}},\"type\":\"table\"}]},\"layout\":{\"annotationdefaults\":{\"arrowcolor\":\"#2a3f5f\",\"arrowhead\":0,\"arrowwidth\":1},\"autotypenumbers\":\"strict\",\"coloraxis\":{\"colorbar\":{\"outlinewidth\":0,\"ticks\":\"\"}},\"colorscale\":{\"diverging\":[[0,\"#8e0152\"],[0.1,\"#c51b7d\"],[0.2,\"#de77ae\"],[0.3,\"#f1b6da\"],[0.4,\"#fde0ef\"],[0.5,\"#f7f7f7\"],[0.6,\"#e6f5d0\"],[0.7,\"#b8e186\"],[0.8,\"#7fbc41\"],[0.9,\"#4d9221\"],[1,\"#276419\"]],\"sequential\":[[0.0,\"#0d0887\"],[0.1111111111111111,\"#46039f\"],[0.2222222222222222,\"#7201a8\"],[0.3333333333333333,\"#9c179e\"],[0.4444444444444444,\"#bd3786\"],[0.5555555555555556,\"#d8576b\"],[0.6666666666666666,\"#ed7953\"],[0.7777777777777778,\"#fb9f3a\"],[0.8888888888888888,\"#fdca26\"],[1.0,\"#f0f921\"]],\"sequentialminus\":[[0.0,\"#0d0887\"],[0.1111111111111111,\"#46039f\"],[0.2222222222222222,\"#7201a8\"],[0.3333333333333333,\"#9c179e\"],[0.4444444444444444,\"#bd3786\"],[0.5555555555555556,\"#d8576b\"],[0.6666666666666666,\"#ed7953\"],[0.7777777777777778,\"#fb9f3a\"],[0.8888888888888888,\"#fdca26\"],[1.0,\"#f0f921\"]]},\"colorway\":[\"#636efa\",\"#EF553B\",\"#00cc96\",\"#ab63fa\",\"#FFA15A\",\"#19d3f3\",\"#FF6692\",\"#B6E880\",\"#FF97FF\",\"#FECB52\"],\"font\":{\"color\":\"#2a3f5f\"},\"geo\":{\"bgcolor\":\"white\",\"lakecolor\":\"white\",\"landcolor\":\"#E5ECF6\",\"showlakes\":true,\"showland\":true,\"subunitcolor\":\"white\"},\"hoverlabel\":{\"align\":\"left\"},\"hovermode\":\"closest\",\"mapbox\":{\"style\":\"light\"},\"paper_bgcolor\":\"white\",\"plot_bgcolor\":\"#E5ECF6\",\"polar\":{\"angularaxis\":{\"gridcolor\":\"white\",\"linecolor\":\"white\",\"ticks\":\"\"},\"bgcolor\":\"#E5ECF6\",\"radialaxis\":{\"gridcolor\":\"white\",\"linecolor\":\"white\",\"ticks\":\"\"}},\"scene\":{\"xaxis\":{\"backgroundcolor\":\"#E5ECF6\",\"gridcolor\":\"white\",\"gridwidth\":2,\"linecolor\":\"white\",\"showbackground\":true,\"ticks\":\"\",\"zerolinecolor\":\"white\"},\"yaxis\":{\"backgroundcolor\":\"#E5ECF6\",\"gridcolor\":\"white\",\"gridwidth\":2,\"linecolor\":\"white\",\"showbackground\":true,\"ticks\":\"\",\"zerolinecolor\":\"white\"},\"zaxis\":{\"backgroundcolor\":\"#E5ECF6\",\"gridcolor\":\"white\",\"gridwidth\":2,\"linecolor\":\"white\",\"showbackground\":true,\"ticks\":\"\",\"zerolinecolor\":\"white\"}},\"shapedefaults\":{\"line\":{\"color\":\"#2a3f5f\"}},\"ternary\":{\"aaxis\":{\"gridcolor\":\"white\",\"linecolor\":\"white\",\"ticks\":\"\"},\"baxis\":{\"gridcolor\":\"white\",\"linecolor\":\"white\",\"ticks\":\"\"},\"bgcolor\":\"#E5ECF6\",\"caxis\":{\"gridcolor\":\"white\",\"linecolor\":\"white\",\"ticks\":\"\"}},\"title\":{\"x\":0.05},\"xaxis\":{\"automargin\":true,\"gridcolor\":\"white\",\"linecolor\":\"white\",\"ticks\":\"\",\"title\":{\"standoff\":15},\"zerolinecolor\":\"white\",\"zerolinewidth\":2},\"yaxis\":{\"automargin\":true,\"gridcolor\":\"white\",\"linecolor\":\"white\",\"ticks\":\"\",\"title\":{\"standoff\":15},\"zerolinecolor\":\"white\",\"zerolinewidth\":2}}},\"width\":500,\"xaxis\":{\"autorange\":false,\"exponentformat\":\"e\",\"linecolor\":\"black\",\"linewidth\":1,\"mirror\":false,\"range\":[-0.3908477020263672,19.933232803344726],\"showexponent\":\"all\",\"showline\":true,\"side\":\"bottom\",\"ticks\":\"outside\",\"title\":{\"text\":\"Birth\"},\"type\":\"linear\",\"zeroline\":true},\"yaxis\":{\"autorange\":false,\"exponentformat\":\"e\",\"linecolor\":\"black\",\"linewidth\":1,\"mirror\":false,\"range\":[-0.3908477020263672,19.933232803344726],\"scaleanchor\":\"x\",\"scaleratio\":1,\"showexponent\":\"all\",\"showline\":true,\"side\":\"left\",\"ticks\":\"outside\",\"title\":{\"text\":\"Death\"},\"type\":\"linear\",\"zeroline\":true}},                        {\"responsive\": true}                    ).then(function(){\n",
       "                            \n",
       "var gd = document.getElementById('1d9299d5-d31e-4ebe-a16f-f13380ca8925');\n",
       "var x = new MutationObserver(function (mutations, observer) {{\n",
       "        var display = window.getComputedStyle(gd).display;\n",
       "        if (!display || display === 'none') {{\n",
       "            console.log([gd, 'removed!']);\n",
       "            Plotly.purge(gd);\n",
       "            observer.disconnect();\n",
       "        }}\n",
       "}});\n",
       "\n",
       "// Listen for the removal of the full notebook cells\n",
       "var notebookContainer = gd.closest('#notebook-container');\n",
       "if (notebookContainer) {{\n",
       "    x.observe(notebookContainer, {childList: true});\n",
       "}}\n",
       "\n",
       "// Listen for the clearing of the current output cell\n",
       "var outputEl = gd.closest('.output');\n",
       "if (outputEl) {{\n",
       "    x.observe(outputEl, {childList: true});\n",
       "}}\n",
       "\n",
       "                        })                };                });            </script>        </div>"
      ]
     },
     "metadata": {},
     "output_type": "display_data"
    }
   ],
   "source": [
    "#final_embbeded_anomalies = temps_values_anomalie_embedded[None, :, :]\n",
    "\n",
    "persistences_diagrams_anomalies = persistence.fit_transform(temps_values_anomalie_windows)\n",
    "\n",
    "plot_diagram(persistences_diagrams_anomalies[0])"
   ]
  },
  {
   "cell_type": "code",
   "execution_count": 160,
   "metadata": {},
   "outputs": [
    {
     "data": {
      "text/plain": [
       "array([[ 0.        ,  1.70587218,  0.        ],\n",
       "       [ 0.        ,  3.1622777 ,  0.        ],\n",
       "       [ 0.        ,  3.28481364,  0.        ],\n",
       "       [ 0.        ,  3.37490749,  0.        ],\n",
       "       [ 0.        ,  3.48568511,  0.        ],\n",
       "       [ 0.        ,  3.50285602,  0.        ],\n",
       "       [ 0.        ,  3.74432898,  0.        ],\n",
       "       [ 0.        ,  3.89743495,  0.        ],\n",
       "       [ 0.        ,  3.90128183,  0.        ],\n",
       "       [ 0.        ,  4.17851639,  0.        ],\n",
       "       [ 0.        ,  4.23438311,  0.        ],\n",
       "       [ 0.        ,  4.41021538,  0.        ],\n",
       "       [ 0.        ,  4.44072056,  0.        ],\n",
       "       [ 0.        ,  4.44971895,  0.        ],\n",
       "       [ 0.        ,  4.65080643,  0.        ],\n",
       "       [ 0.        ,  4.75920153,  0.        ],\n",
       "       [ 0.        ,  4.81456137,  0.        ],\n",
       "       [ 0.        ,  4.83321857,  0.        ],\n",
       "       [ 0.        ,  4.90611839,  0.        ],\n",
       "       [ 0.        ,  5.11077309,  0.        ],\n",
       "       [ 0.        ,  5.28393793,  0.        ],\n",
       "       [ 0.        ,  6.07289076,  0.        ],\n",
       "       [ 0.        ,  7.79615307,  0.        ],\n",
       "       [ 0.        , 13.32072163,  0.        ],\n",
       "       [ 0.        , 14.7416811 ,  0.        ],\n",
       "       [ 0.        , 16.3644352 ,  0.        ],\n",
       "       [ 0.        , 16.59741211,  0.        ],\n",
       "       [ 0.        , 19.32607651,  0.        ],\n",
       "       [ 0.        , 19.5423851 ,  0.        ],\n",
       "       [ 6.58331203,  6.87822628,  1.        ],\n",
       "       [ 5.80603123,  6.64304161,  1.        ],\n",
       "       [ 5.38052034,  5.53624439,  1.        ],\n",
       "       [ 5.36935759,  5.48087597,  1.        ],\n",
       "       [ 5.19999981,  5.41756392,  1.        ],\n",
       "       [ 4.65725231,  5.01597452,  1.        ],\n",
       "       [ 4.30929232,  4.71486998,  1.        ],\n",
       "       [ 4.30929232,  4.30929232,  1.        ],\n",
       "       [ 4.30929232,  4.30929232,  1.        ],\n",
       "       [ 4.30929232,  4.30929232,  1.        ],\n",
       "       [ 4.30929232,  4.30929232,  1.        ],\n",
       "       [ 4.30929232,  4.30929232,  1.        ],\n",
       "       [ 4.30929232,  4.30929232,  1.        ],\n",
       "       [ 4.30929232,  4.30929232,  1.        ],\n",
       "       [ 5.70175409,  5.70175409,  2.        ],\n",
       "       [ 5.70175409,  5.70175409,  2.        ],\n",
       "       [ 5.70175409,  5.70175409,  2.        ]])"
      ]
     },
     "execution_count": 160,
     "metadata": {},
     "output_type": "execute_result"
    }
   ],
   "source": [
    "persistences_diagrams_anomalies[0]"
   ]
  },
  {
   "cell_type": "code",
   "execution_count": null,
   "metadata": {},
   "outputs": [],
   "source": [
    "########"
   ]
  },
  {
   "cell_type": "code",
   "execution_count": null,
   "metadata": {},
   "outputs": [],
   "source": [
    "########"
   ]
  },
  {
   "cell_type": "code",
   "execution_count": null,
   "metadata": {},
   "outputs": [],
   "source": [
    "###Data without anomalies##### "
   ]
  },
  {
   "cell_type": "code",
   "execution_count": 136,
   "metadata": {},
   "outputs": [
    {
     "name": "stdout",
     "output_type": "stream",
     "text": [
      "(10, 6)\n"
     ]
    }
   ],
   "source": [
    "df_normal_values.head()\n",
    "df_normal_values.tail()\n",
    "df_normal_values.shape\n",
    "\n",
    "df_normal_values.dropna(inplace=True)\n",
    "\n",
    "df_normal_values['DT_MEDICAO'] = df_normal_values['DT_MEDICAO'].astype('datetime64')\n",
    "df_normal_resampled = pd.DataFrame(df_normal_values, columns = ['DT_MEDICAO', 'TEMP_MAX'])\n",
    "df_normal_resampled.set_index('DT_MEDICAO',inplace=True)\n",
    "normal_temps_values = df_normal_resampled[\"TEMP_MAX\"].tolist()\n",
    "\n",
    "\n",
    "embedding_series_without_anomalies = time_series.takens_embedding_optimal_parameters(normal_temps_values, \n",
    "                                                            max_time_delay=20, \n",
    "                                                            max_dimension=20)\n",
    "print (embedding_series_without_anomalies)"
   ]
  },
  {
   "cell_type": "code",
   "execution_count": 137,
   "metadata": {},
   "outputs": [],
   "source": [
    "embedding_time_delay = embedding_series_without_anomalies[0]\n",
    "embedding_dimension = embedding_series_without_anomalies[1]\n",
    "stride = 5\n",
    "\n",
    "embedder = SingleTakensEmbedding(\n",
    "    parameters_type=\"search\", n_jobs=6, time_delay=embedding_time_delay, dimension=embedding_dimension, stride=stride\n",
    ")\n",
    "\n",
    "normal_values_embedded = embedder.fit_transform(normal_temps_values)"
   ]
  },
  {
   "cell_type": "code",
   "execution_count": 143,
   "metadata": {},
   "outputs": [
    {
     "data": {
      "application/vnd.plotly.v1+json": {
       "config": {
        "plotlyServerURL": "https://plot.ly"
       },
       "data": [
        {
         "marker": {
          "color": [
           0,
           1,
           2,
           3,
           4,
           5,
           6,
           7,
           8,
           9,
           10,
           11,
           12,
           13,
           14,
           15,
           16,
           17,
           18,
           19,
           20,
           21,
           22,
           23,
           24,
           25,
           26,
           27,
           28,
           29,
           30,
           31,
           32,
           33,
           34,
           35,
           36,
           37,
           38,
           39,
           40,
           41,
           42,
           43,
           44,
           45,
           46,
           47,
           48,
           49,
           50,
           51,
           52,
           53,
           54,
           55,
           56,
           57,
           58,
           59,
           60,
           61,
           62,
           63,
           64,
           65,
           66,
           67,
           68,
           69,
           70,
           71,
           72,
           73,
           74,
           75,
           76,
           77,
           78,
           79,
           80,
           81,
           82,
           83,
           84,
           85,
           86,
           87,
           88,
           89,
           90,
           91,
           92,
           93,
           94,
           95,
           96,
           97,
           98,
           99,
           100,
           101,
           102,
           103,
           104,
           105,
           106,
           107,
           108,
           109,
           110,
           111,
           112,
           113,
           114,
           115
          ],
          "colorscale": [
           [
            0,
            "#440154"
           ],
           [
            0.1111111111111111,
            "#482878"
           ],
           [
            0.2222222222222222,
            "#3e4989"
           ],
           [
            0.3333333333333333,
            "#31688e"
           ],
           [
            0.4444444444444444,
            "#26828e"
           ],
           [
            0.5555555555555556,
            "#1f9e89"
           ],
           [
            0.6666666666666666,
            "#35b779"
           ],
           [
            0.7777777777777778,
            "#6ece58"
           ],
           [
            0.8888888888888888,
            "#b5de2b"
           ],
           [
            1,
            "#fde725"
           ]
          ],
          "opacity": 0.8,
          "size": 4
         },
         "mode": "markers",
         "type": "scatter3d",
         "x": [
          -1.5,
          0,
          -0.30000000000000426,
          -0.19999999999999574,
          4.599999999999998,
          1.3999999999999986,
          0,
          0.20000000000000284,
          0.3999999999999986,
          -3.200000000000003,
          1,
          -0.3999999999999986,
          0,
          -0.29999999999999716,
          0.7000000000000028,
          -0.7999999999999972,
          0,
          0.6000000000000014,
          2.4999999999999964,
          1.1000000000000014,
          0.7999999999999972,
          0.5,
          -0.5999999999999979,
          1.1999999999999993,
          0.09999999999999787,
          1.1999999999999993,
          0.40000000000000213,
          0.6999999999999993,
          0.6999999999999993,
          -1.5,
          1.2000000000000028,
          0.3999999999999986,
          0.8999999999999986,
          -0.20000000000000284,
          0.1999999999999993,
          0.8999999999999986,
          0,
          1.1999999999999957,
          -1.3999999999999986,
          -1,
          -2,
          -0.3999999999999986,
          -0.5,
          -0.29999999999999716,
          0.7999999999999972,
          0.5,
          -4.899999999999999,
          -0.5,
          0.8999999999999986,
          -0.09999999999999432,
          0,
          1.2000000000000028,
          1.2000000000000028,
          -6.399999999999999,
          -3.6000000000000014,
          2.1000000000000014,
          0.9000000000000057,
          -4.300000000000004,
          -0.6999999999999957,
          0,
          1.1000000000000014,
          -0.8000000000000043,
          0.8999999999999986,
          -0.3999999999999986,
          -0.6000000000000014,
          0,
          0.7999999999999972,
          -1.2999999999999972,
          1.3999999999999986,
          -0.30000000000000426,
          -2.3999999999999986,
          -2.6000000000000014,
          0,
          -1.2000000000000028,
          0.10000000000000142,
          -0.40000000000000213,
          0.19999999999999574,
          0.6000000000000014,
          0.10000000000000142,
          -1.1999999999999957,
          0.6000000000000014,
          -1,
          0,
          1.2999999999999972,
          -0.6000000000000014,
          1.1999999999999957,
          1.5999999999999979,
          1.3999999999999986,
          -1.1000000000000014,
          -0.3999999999999986,
          -2.5,
          2,
          -0.1999999999999993,
          -1.1000000000000014,
          -1.1999999999999993,
          -0.40000000000000213,
          -3.1000000000000014,
          1.3999999999999986,
          1.4000000000000021,
          -1.6000000000000014,
          -0.5999999999999979,
          -0.1999999999999993,
          -0.1999999999999993,
          0.6000000000000014,
          1.1000000000000014,
          -0.10000000000000142,
          -3.6000000000000014,
          0.6000000000000014,
          -0.10000000000000142,
          1.2999999999999972,
          0.10000000000000142,
          0.10000000000000142,
          1,
          0.5,
          -1.7000000000000028,
          -0.8000000000000043
         ],
         "y": [
          -0.30000000000000426,
          -0.19999999999999574,
          4.599999999999998,
          1.3999999999999986,
          0,
          0.20000000000000284,
          0.3999999999999986,
          -3.200000000000003,
          1,
          -0.3999999999999986,
          0,
          -0.29999999999999716,
          0.7000000000000028,
          -0.7999999999999972,
          0,
          0.6000000000000014,
          2.4999999999999964,
          1.1000000000000014,
          0.7999999999999972,
          0.5,
          -0.5999999999999979,
          1.1999999999999993,
          0.09999999999999787,
          1.1999999999999993,
          0.40000000000000213,
          0.6999999999999993,
          0.6999999999999993,
          -1.5,
          1.2000000000000028,
          0.3999999999999986,
          0.8999999999999986,
          -0.20000000000000284,
          0.1999999999999993,
          0.8999999999999986,
          0,
          1.1999999999999957,
          -1.3999999999999986,
          -1,
          -2,
          -0.3999999999999986,
          -0.5,
          -0.29999999999999716,
          0.7999999999999972,
          0.5,
          -4.899999999999999,
          -0.5,
          0.8999999999999986,
          -0.09999999999999432,
          0,
          1.2000000000000028,
          1.2000000000000028,
          -6.399999999999999,
          -3.6000000000000014,
          2.1000000000000014,
          0.9000000000000057,
          -4.300000000000004,
          -0.6999999999999957,
          0,
          1.1000000000000014,
          -0.8000000000000043,
          0.8999999999999986,
          -0.3999999999999986,
          -0.6000000000000014,
          0,
          0.7999999999999972,
          -1.2999999999999972,
          1.3999999999999986,
          -0.30000000000000426,
          -2.3999999999999986,
          -2.6000000000000014,
          0,
          -1.2000000000000028,
          0.10000000000000142,
          -0.40000000000000213,
          0.19999999999999574,
          0.6000000000000014,
          0.10000000000000142,
          -1.1999999999999957,
          0.6000000000000014,
          -1,
          0,
          1.2999999999999972,
          -0.6000000000000014,
          1.1999999999999957,
          1.5999999999999979,
          1.3999999999999986,
          -1.1000000000000014,
          -0.3999999999999986,
          -2.5,
          2,
          -0.1999999999999993,
          -1.1000000000000014,
          -1.1999999999999993,
          -0.40000000000000213,
          -3.1000000000000014,
          1.3999999999999986,
          1.4000000000000021,
          -1.6000000000000014,
          -0.5999999999999979,
          -0.1999999999999993,
          -0.1999999999999993,
          0.6000000000000014,
          1.1000000000000014,
          -0.10000000000000142,
          -3.6000000000000014,
          0.6000000000000014,
          -0.10000000000000142,
          1.2999999999999972,
          0.10000000000000142,
          0.10000000000000142,
          1,
          0.5,
          -1.7000000000000028,
          -0.8000000000000043,
          0.20000000000000284,
          2.700000000000003
         ],
         "z": [
          4.599999999999998,
          1.3999999999999986,
          0,
          0.20000000000000284,
          0.3999999999999986,
          -3.200000000000003,
          1,
          -0.3999999999999986,
          0,
          -0.29999999999999716,
          0.7000000000000028,
          -0.7999999999999972,
          0,
          0.6000000000000014,
          2.4999999999999964,
          1.1000000000000014,
          0.7999999999999972,
          0.5,
          -0.5999999999999979,
          1.1999999999999993,
          0.09999999999999787,
          1.1999999999999993,
          0.40000000000000213,
          0.6999999999999993,
          0.6999999999999993,
          -1.5,
          1.2000000000000028,
          0.3999999999999986,
          0.8999999999999986,
          -0.20000000000000284,
          0.1999999999999993,
          0.8999999999999986,
          0,
          1.1999999999999957,
          -1.3999999999999986,
          -1,
          -2,
          -0.3999999999999986,
          -0.5,
          -0.29999999999999716,
          0.7999999999999972,
          0.5,
          -4.899999999999999,
          -0.5,
          0.8999999999999986,
          -0.09999999999999432,
          0,
          1.2000000000000028,
          1.2000000000000028,
          -6.399999999999999,
          -3.6000000000000014,
          2.1000000000000014,
          0.9000000000000057,
          -4.300000000000004,
          -0.6999999999999957,
          0,
          1.1000000000000014,
          -0.8000000000000043,
          0.8999999999999986,
          -0.3999999999999986,
          -0.6000000000000014,
          0,
          0.7999999999999972,
          -1.2999999999999972,
          1.3999999999999986,
          -0.30000000000000426,
          -2.3999999999999986,
          -2.6000000000000014,
          0,
          -1.2000000000000028,
          0.10000000000000142,
          -0.40000000000000213,
          0.19999999999999574,
          0.6000000000000014,
          0.10000000000000142,
          -1.1999999999999957,
          0.6000000000000014,
          -1,
          0,
          1.2999999999999972,
          -0.6000000000000014,
          1.1999999999999957,
          1.5999999999999979,
          1.3999999999999986,
          -1.1000000000000014,
          -0.3999999999999986,
          -2.5,
          2,
          -0.1999999999999993,
          -1.1000000000000014,
          -1.1999999999999993,
          -0.40000000000000213,
          -3.1000000000000014,
          1.3999999999999986,
          1.4000000000000021,
          -1.6000000000000014,
          -0.5999999999999979,
          -0.1999999999999993,
          -0.1999999999999993,
          0.6000000000000014,
          1.1000000000000014,
          -0.10000000000000142,
          -3.6000000000000014,
          0.6000000000000014,
          -0.10000000000000142,
          1.2999999999999972,
          0.10000000000000142,
          0.10000000000000142,
          1,
          0.5,
          -1.7000000000000028,
          -0.8000000000000043,
          0.20000000000000284,
          2.700000000000003,
          1,
          -0.29999999999999716
         ]
        }
       ],
       "layout": {
        "scene": {
         "xaxis": {
          "exponentformat": "e",
          "showexponent": "all",
          "title": {
           "text": "0th"
          },
          "type": "linear"
         },
         "yaxis": {
          "exponentformat": "e",
          "showexponent": "all",
          "title": {
           "text": "1st"
          },
          "type": "linear"
         },
         "zaxis": {
          "exponentformat": "e",
          "showexponent": "all",
          "title": {
           "text": "2nd"
          },
          "type": "linear"
         }
        },
        "template": {
         "data": {
          "bar": [
           {
            "error_x": {
             "color": "#2a3f5f"
            },
            "error_y": {
             "color": "#2a3f5f"
            },
            "marker": {
             "line": {
              "color": "#E5ECF6",
              "width": 0.5
             },
             "pattern": {
              "fillmode": "overlay",
              "size": 10,
              "solidity": 0.2
             }
            },
            "type": "bar"
           }
          ],
          "barpolar": [
           {
            "marker": {
             "line": {
              "color": "#E5ECF6",
              "width": 0.5
             },
             "pattern": {
              "fillmode": "overlay",
              "size": 10,
              "solidity": 0.2
             }
            },
            "type": "barpolar"
           }
          ],
          "carpet": [
           {
            "aaxis": {
             "endlinecolor": "#2a3f5f",
             "gridcolor": "white",
             "linecolor": "white",
             "minorgridcolor": "white",
             "startlinecolor": "#2a3f5f"
            },
            "baxis": {
             "endlinecolor": "#2a3f5f",
             "gridcolor": "white",
             "linecolor": "white",
             "minorgridcolor": "white",
             "startlinecolor": "#2a3f5f"
            },
            "type": "carpet"
           }
          ],
          "choropleth": [
           {
            "colorbar": {
             "outlinewidth": 0,
             "ticks": ""
            },
            "type": "choropleth"
           }
          ],
          "contour": [
           {
            "colorbar": {
             "outlinewidth": 0,
             "ticks": ""
            },
            "colorscale": [
             [
              0,
              "#0d0887"
             ],
             [
              0.1111111111111111,
              "#46039f"
             ],
             [
              0.2222222222222222,
              "#7201a8"
             ],
             [
              0.3333333333333333,
              "#9c179e"
             ],
             [
              0.4444444444444444,
              "#bd3786"
             ],
             [
              0.5555555555555556,
              "#d8576b"
             ],
             [
              0.6666666666666666,
              "#ed7953"
             ],
             [
              0.7777777777777778,
              "#fb9f3a"
             ],
             [
              0.8888888888888888,
              "#fdca26"
             ],
             [
              1,
              "#f0f921"
             ]
            ],
            "type": "contour"
           }
          ],
          "contourcarpet": [
           {
            "colorbar": {
             "outlinewidth": 0,
             "ticks": ""
            },
            "type": "contourcarpet"
           }
          ],
          "heatmap": [
           {
            "colorbar": {
             "outlinewidth": 0,
             "ticks": ""
            },
            "colorscale": [
             [
              0,
              "#0d0887"
             ],
             [
              0.1111111111111111,
              "#46039f"
             ],
             [
              0.2222222222222222,
              "#7201a8"
             ],
             [
              0.3333333333333333,
              "#9c179e"
             ],
             [
              0.4444444444444444,
              "#bd3786"
             ],
             [
              0.5555555555555556,
              "#d8576b"
             ],
             [
              0.6666666666666666,
              "#ed7953"
             ],
             [
              0.7777777777777778,
              "#fb9f3a"
             ],
             [
              0.8888888888888888,
              "#fdca26"
             ],
             [
              1,
              "#f0f921"
             ]
            ],
            "type": "heatmap"
           }
          ],
          "heatmapgl": [
           {
            "colorbar": {
             "outlinewidth": 0,
             "ticks": ""
            },
            "colorscale": [
             [
              0,
              "#0d0887"
             ],
             [
              0.1111111111111111,
              "#46039f"
             ],
             [
              0.2222222222222222,
              "#7201a8"
             ],
             [
              0.3333333333333333,
              "#9c179e"
             ],
             [
              0.4444444444444444,
              "#bd3786"
             ],
             [
              0.5555555555555556,
              "#d8576b"
             ],
             [
              0.6666666666666666,
              "#ed7953"
             ],
             [
              0.7777777777777778,
              "#fb9f3a"
             ],
             [
              0.8888888888888888,
              "#fdca26"
             ],
             [
              1,
              "#f0f921"
             ]
            ],
            "type": "heatmapgl"
           }
          ],
          "histogram": [
           {
            "marker": {
             "pattern": {
              "fillmode": "overlay",
              "size": 10,
              "solidity": 0.2
             }
            },
            "type": "histogram"
           }
          ],
          "histogram2d": [
           {
            "colorbar": {
             "outlinewidth": 0,
             "ticks": ""
            },
            "colorscale": [
             [
              0,
              "#0d0887"
             ],
             [
              0.1111111111111111,
              "#46039f"
             ],
             [
              0.2222222222222222,
              "#7201a8"
             ],
             [
              0.3333333333333333,
              "#9c179e"
             ],
             [
              0.4444444444444444,
              "#bd3786"
             ],
             [
              0.5555555555555556,
              "#d8576b"
             ],
             [
              0.6666666666666666,
              "#ed7953"
             ],
             [
              0.7777777777777778,
              "#fb9f3a"
             ],
             [
              0.8888888888888888,
              "#fdca26"
             ],
             [
              1,
              "#f0f921"
             ]
            ],
            "type": "histogram2d"
           }
          ],
          "histogram2dcontour": [
           {
            "colorbar": {
             "outlinewidth": 0,
             "ticks": ""
            },
            "colorscale": [
             [
              0,
              "#0d0887"
             ],
             [
              0.1111111111111111,
              "#46039f"
             ],
             [
              0.2222222222222222,
              "#7201a8"
             ],
             [
              0.3333333333333333,
              "#9c179e"
             ],
             [
              0.4444444444444444,
              "#bd3786"
             ],
             [
              0.5555555555555556,
              "#d8576b"
             ],
             [
              0.6666666666666666,
              "#ed7953"
             ],
             [
              0.7777777777777778,
              "#fb9f3a"
             ],
             [
              0.8888888888888888,
              "#fdca26"
             ],
             [
              1,
              "#f0f921"
             ]
            ],
            "type": "histogram2dcontour"
           }
          ],
          "mesh3d": [
           {
            "colorbar": {
             "outlinewidth": 0,
             "ticks": ""
            },
            "type": "mesh3d"
           }
          ],
          "parcoords": [
           {
            "line": {
             "colorbar": {
              "outlinewidth": 0,
              "ticks": ""
             }
            },
            "type": "parcoords"
           }
          ],
          "pie": [
           {
            "automargin": true,
            "type": "pie"
           }
          ],
          "scatter": [
           {
            "marker": {
             "colorbar": {
              "outlinewidth": 0,
              "ticks": ""
             }
            },
            "type": "scatter"
           }
          ],
          "scatter3d": [
           {
            "line": {
             "colorbar": {
              "outlinewidth": 0,
              "ticks": ""
             }
            },
            "marker": {
             "colorbar": {
              "outlinewidth": 0,
              "ticks": ""
             }
            },
            "type": "scatter3d"
           }
          ],
          "scattercarpet": [
           {
            "marker": {
             "colorbar": {
              "outlinewidth": 0,
              "ticks": ""
             }
            },
            "type": "scattercarpet"
           }
          ],
          "scattergeo": [
           {
            "marker": {
             "colorbar": {
              "outlinewidth": 0,
              "ticks": ""
             }
            },
            "type": "scattergeo"
           }
          ],
          "scattergl": [
           {
            "marker": {
             "colorbar": {
              "outlinewidth": 0,
              "ticks": ""
             }
            },
            "type": "scattergl"
           }
          ],
          "scattermapbox": [
           {
            "marker": {
             "colorbar": {
              "outlinewidth": 0,
              "ticks": ""
             }
            },
            "type": "scattermapbox"
           }
          ],
          "scatterpolar": [
           {
            "marker": {
             "colorbar": {
              "outlinewidth": 0,
              "ticks": ""
             }
            },
            "type": "scatterpolar"
           }
          ],
          "scatterpolargl": [
           {
            "marker": {
             "colorbar": {
              "outlinewidth": 0,
              "ticks": ""
             }
            },
            "type": "scatterpolargl"
           }
          ],
          "scatterternary": [
           {
            "marker": {
             "colorbar": {
              "outlinewidth": 0,
              "ticks": ""
             }
            },
            "type": "scatterternary"
           }
          ],
          "surface": [
           {
            "colorbar": {
             "outlinewidth": 0,
             "ticks": ""
            },
            "colorscale": [
             [
              0,
              "#0d0887"
             ],
             [
              0.1111111111111111,
              "#46039f"
             ],
             [
              0.2222222222222222,
              "#7201a8"
             ],
             [
              0.3333333333333333,
              "#9c179e"
             ],
             [
              0.4444444444444444,
              "#bd3786"
             ],
             [
              0.5555555555555556,
              "#d8576b"
             ],
             [
              0.6666666666666666,
              "#ed7953"
             ],
             [
              0.7777777777777778,
              "#fb9f3a"
             ],
             [
              0.8888888888888888,
              "#fdca26"
             ],
             [
              1,
              "#f0f921"
             ]
            ],
            "type": "surface"
           }
          ],
          "table": [
           {
            "cells": {
             "fill": {
              "color": "#EBF0F8"
             },
             "line": {
              "color": "white"
             }
            },
            "header": {
             "fill": {
              "color": "#C8D4E3"
             },
             "line": {
              "color": "white"
             }
            },
            "type": "table"
           }
          ]
         },
         "layout": {
          "annotationdefaults": {
           "arrowcolor": "#2a3f5f",
           "arrowhead": 0,
           "arrowwidth": 1
          },
          "autotypenumbers": "strict",
          "coloraxis": {
           "colorbar": {
            "outlinewidth": 0,
            "ticks": ""
           }
          },
          "colorscale": {
           "diverging": [
            [
             0,
             "#8e0152"
            ],
            [
             0.1,
             "#c51b7d"
            ],
            [
             0.2,
             "#de77ae"
            ],
            [
             0.3,
             "#f1b6da"
            ],
            [
             0.4,
             "#fde0ef"
            ],
            [
             0.5,
             "#f7f7f7"
            ],
            [
             0.6,
             "#e6f5d0"
            ],
            [
             0.7,
             "#b8e186"
            ],
            [
             0.8,
             "#7fbc41"
            ],
            [
             0.9,
             "#4d9221"
            ],
            [
             1,
             "#276419"
            ]
           ],
           "sequential": [
            [
             0,
             "#0d0887"
            ],
            [
             0.1111111111111111,
             "#46039f"
            ],
            [
             0.2222222222222222,
             "#7201a8"
            ],
            [
             0.3333333333333333,
             "#9c179e"
            ],
            [
             0.4444444444444444,
             "#bd3786"
            ],
            [
             0.5555555555555556,
             "#d8576b"
            ],
            [
             0.6666666666666666,
             "#ed7953"
            ],
            [
             0.7777777777777778,
             "#fb9f3a"
            ],
            [
             0.8888888888888888,
             "#fdca26"
            ],
            [
             1,
             "#f0f921"
            ]
           ],
           "sequentialminus": [
            [
             0,
             "#0d0887"
            ],
            [
             0.1111111111111111,
             "#46039f"
            ],
            [
             0.2222222222222222,
             "#7201a8"
            ],
            [
             0.3333333333333333,
             "#9c179e"
            ],
            [
             0.4444444444444444,
             "#bd3786"
            ],
            [
             0.5555555555555556,
             "#d8576b"
            ],
            [
             0.6666666666666666,
             "#ed7953"
            ],
            [
             0.7777777777777778,
             "#fb9f3a"
            ],
            [
             0.8888888888888888,
             "#fdca26"
            ],
            [
             1,
             "#f0f921"
            ]
           ]
          },
          "colorway": [
           "#636efa",
           "#EF553B",
           "#00cc96",
           "#ab63fa",
           "#FFA15A",
           "#19d3f3",
           "#FF6692",
           "#B6E880",
           "#FF97FF",
           "#FECB52"
          ],
          "font": {
           "color": "#2a3f5f"
          },
          "geo": {
           "bgcolor": "white",
           "lakecolor": "white",
           "landcolor": "#E5ECF6",
           "showlakes": true,
           "showland": true,
           "subunitcolor": "white"
          },
          "hoverlabel": {
           "align": "left"
          },
          "hovermode": "closest",
          "mapbox": {
           "style": "light"
          },
          "paper_bgcolor": "white",
          "plot_bgcolor": "#E5ECF6",
          "polar": {
           "angularaxis": {
            "gridcolor": "white",
            "linecolor": "white",
            "ticks": ""
           },
           "bgcolor": "#E5ECF6",
           "radialaxis": {
            "gridcolor": "white",
            "linecolor": "white",
            "ticks": ""
           }
          },
          "scene": {
           "xaxis": {
            "backgroundcolor": "#E5ECF6",
            "gridcolor": "white",
            "gridwidth": 2,
            "linecolor": "white",
            "showbackground": true,
            "ticks": "",
            "zerolinecolor": "white"
           },
           "yaxis": {
            "backgroundcolor": "#E5ECF6",
            "gridcolor": "white",
            "gridwidth": 2,
            "linecolor": "white",
            "showbackground": true,
            "ticks": "",
            "zerolinecolor": "white"
           },
           "zaxis": {
            "backgroundcolor": "#E5ECF6",
            "gridcolor": "white",
            "gridwidth": 2,
            "linecolor": "white",
            "showbackground": true,
            "ticks": "",
            "zerolinecolor": "white"
           }
          },
          "shapedefaults": {
           "line": {
            "color": "#2a3f5f"
           }
          },
          "ternary": {
           "aaxis": {
            "gridcolor": "white",
            "linecolor": "white",
            "ticks": ""
           },
           "baxis": {
            "gridcolor": "white",
            "linecolor": "white",
            "ticks": ""
           },
           "bgcolor": "#E5ECF6",
           "caxis": {
            "gridcolor": "white",
            "linecolor": "white",
            "ticks": ""
           }
          },
          "title": {
           "x": 0.05
          },
          "xaxis": {
           "automargin": true,
           "gridcolor": "white",
           "linecolor": "white",
           "ticks": "",
           "title": {
            "standoff": 15
           },
           "zerolinecolor": "white",
           "zerolinewidth": 2
          },
          "yaxis": {
           "automargin": true,
           "gridcolor": "white",
           "linecolor": "white",
           "ticks": "",
           "title": {
            "standoff": 15
           },
           "zerolinecolor": "white",
           "zerolinewidth": 2
          }
         }
        }
       }
      },
      "text/html": [
       "<div>                            <div id=\"ad921b9e-50fe-4f3d-adb2-f27bb88d99d5\" class=\"plotly-graph-div\" style=\"height:525px; width:100%;\"></div>            <script type=\"text/javascript\">                require([\"plotly\"], function(Plotly) {                    window.PLOTLYENV=window.PLOTLYENV || {};                                    if (document.getElementById(\"ad921b9e-50fe-4f3d-adb2-f27bb88d99d5\")) {                    Plotly.newPlot(                        \"ad921b9e-50fe-4f3d-adb2-f27bb88d99d5\",                        [{\"marker\":{\"color\":[0,1,2,3,4,5,6,7,8,9,10,11,12,13,14,15,16,17,18,19,20,21,22,23,24,25,26,27,28,29,30,31,32,33,34,35,36,37,38,39,40,41,42,43,44,45,46,47,48,49,50,51,52,53,54,55,56,57,58,59,60,61,62,63,64,65,66,67,68,69,70,71,72,73,74,75,76,77,78,79,80,81,82,83,84,85,86,87,88,89,90,91,92,93,94,95,96,97,98,99,100,101,102,103,104,105,106,107,108,109,110,111,112,113,114,115],\"colorscale\":[[0.0,\"#440154\"],[0.1111111111111111,\"#482878\"],[0.2222222222222222,\"#3e4989\"],[0.3333333333333333,\"#31688e\"],[0.4444444444444444,\"#26828e\"],[0.5555555555555556,\"#1f9e89\"],[0.6666666666666666,\"#35b779\"],[0.7777777777777778,\"#6ece58\"],[0.8888888888888888,\"#b5de2b\"],[1.0,\"#fde725\"]],\"opacity\":0.8,\"size\":4},\"mode\":\"markers\",\"type\":\"scatter3d\",\"x\":[-1.5,0.0,-0.30000000000000426,-0.19999999999999574,4.599999999999998,1.3999999999999986,0.0,0.20000000000000284,0.3999999999999986,-3.200000000000003,1.0,-0.3999999999999986,0.0,-0.29999999999999716,0.7000000000000028,-0.7999999999999972,0.0,0.6000000000000014,2.4999999999999964,1.1000000000000014,0.7999999999999972,0.5,-0.5999999999999979,1.1999999999999993,0.09999999999999787,1.1999999999999993,0.40000000000000213,0.6999999999999993,0.6999999999999993,-1.5,1.2000000000000028,0.3999999999999986,0.8999999999999986,-0.20000000000000284,0.1999999999999993,0.8999999999999986,0.0,1.1999999999999957,-1.3999999999999986,-1.0,-2.0,-0.3999999999999986,-0.5,-0.29999999999999716,0.7999999999999972,0.5,-4.899999999999999,-0.5,0.8999999999999986,-0.09999999999999432,0.0,1.2000000000000028,1.2000000000000028,-6.399999999999999,-3.6000000000000014,2.1000000000000014,0.9000000000000057,-4.300000000000004,-0.6999999999999957,0.0,1.1000000000000014,-0.8000000000000043,0.8999999999999986,-0.3999999999999986,-0.6000000000000014,0.0,0.7999999999999972,-1.2999999999999972,1.3999999999999986,-0.30000000000000426,-2.3999999999999986,-2.6000000000000014,0.0,-1.2000000000000028,0.10000000000000142,-0.40000000000000213,0.19999999999999574,0.6000000000000014,0.10000000000000142,-1.1999999999999957,0.6000000000000014,-1.0,0.0,1.2999999999999972,-0.6000000000000014,1.1999999999999957,1.5999999999999979,1.3999999999999986,-1.1000000000000014,-0.3999999999999986,-2.5,2.0,-0.1999999999999993,-1.1000000000000014,-1.1999999999999993,-0.40000000000000213,-3.1000000000000014,1.3999999999999986,1.4000000000000021,-1.6000000000000014,-0.5999999999999979,-0.1999999999999993,-0.1999999999999993,0.6000000000000014,1.1000000000000014,-0.10000000000000142,-3.6000000000000014,0.6000000000000014,-0.10000000000000142,1.2999999999999972,0.10000000000000142,0.10000000000000142,1.0,0.5,-1.7000000000000028,-0.8000000000000043],\"y\":[-0.30000000000000426,-0.19999999999999574,4.599999999999998,1.3999999999999986,0.0,0.20000000000000284,0.3999999999999986,-3.200000000000003,1.0,-0.3999999999999986,0.0,-0.29999999999999716,0.7000000000000028,-0.7999999999999972,0.0,0.6000000000000014,2.4999999999999964,1.1000000000000014,0.7999999999999972,0.5,-0.5999999999999979,1.1999999999999993,0.09999999999999787,1.1999999999999993,0.40000000000000213,0.6999999999999993,0.6999999999999993,-1.5,1.2000000000000028,0.3999999999999986,0.8999999999999986,-0.20000000000000284,0.1999999999999993,0.8999999999999986,0.0,1.1999999999999957,-1.3999999999999986,-1.0,-2.0,-0.3999999999999986,-0.5,-0.29999999999999716,0.7999999999999972,0.5,-4.899999999999999,-0.5,0.8999999999999986,-0.09999999999999432,0.0,1.2000000000000028,1.2000000000000028,-6.399999999999999,-3.6000000000000014,2.1000000000000014,0.9000000000000057,-4.300000000000004,-0.6999999999999957,0.0,1.1000000000000014,-0.8000000000000043,0.8999999999999986,-0.3999999999999986,-0.6000000000000014,0.0,0.7999999999999972,-1.2999999999999972,1.3999999999999986,-0.30000000000000426,-2.3999999999999986,-2.6000000000000014,0.0,-1.2000000000000028,0.10000000000000142,-0.40000000000000213,0.19999999999999574,0.6000000000000014,0.10000000000000142,-1.1999999999999957,0.6000000000000014,-1.0,0.0,1.2999999999999972,-0.6000000000000014,1.1999999999999957,1.5999999999999979,1.3999999999999986,-1.1000000000000014,-0.3999999999999986,-2.5,2.0,-0.1999999999999993,-1.1000000000000014,-1.1999999999999993,-0.40000000000000213,-3.1000000000000014,1.3999999999999986,1.4000000000000021,-1.6000000000000014,-0.5999999999999979,-0.1999999999999993,-0.1999999999999993,0.6000000000000014,1.1000000000000014,-0.10000000000000142,-3.6000000000000014,0.6000000000000014,-0.10000000000000142,1.2999999999999972,0.10000000000000142,0.10000000000000142,1.0,0.5,-1.7000000000000028,-0.8000000000000043,0.20000000000000284,2.700000000000003],\"z\":[4.599999999999998,1.3999999999999986,0.0,0.20000000000000284,0.3999999999999986,-3.200000000000003,1.0,-0.3999999999999986,0.0,-0.29999999999999716,0.7000000000000028,-0.7999999999999972,0.0,0.6000000000000014,2.4999999999999964,1.1000000000000014,0.7999999999999972,0.5,-0.5999999999999979,1.1999999999999993,0.09999999999999787,1.1999999999999993,0.40000000000000213,0.6999999999999993,0.6999999999999993,-1.5,1.2000000000000028,0.3999999999999986,0.8999999999999986,-0.20000000000000284,0.1999999999999993,0.8999999999999986,0.0,1.1999999999999957,-1.3999999999999986,-1.0,-2.0,-0.3999999999999986,-0.5,-0.29999999999999716,0.7999999999999972,0.5,-4.899999999999999,-0.5,0.8999999999999986,-0.09999999999999432,0.0,1.2000000000000028,1.2000000000000028,-6.399999999999999,-3.6000000000000014,2.1000000000000014,0.9000000000000057,-4.300000000000004,-0.6999999999999957,0.0,1.1000000000000014,-0.8000000000000043,0.8999999999999986,-0.3999999999999986,-0.6000000000000014,0.0,0.7999999999999972,-1.2999999999999972,1.3999999999999986,-0.30000000000000426,-2.3999999999999986,-2.6000000000000014,0.0,-1.2000000000000028,0.10000000000000142,-0.40000000000000213,0.19999999999999574,0.6000000000000014,0.10000000000000142,-1.1999999999999957,0.6000000000000014,-1.0,0.0,1.2999999999999972,-0.6000000000000014,1.1999999999999957,1.5999999999999979,1.3999999999999986,-1.1000000000000014,-0.3999999999999986,-2.5,2.0,-0.1999999999999993,-1.1000000000000014,-1.1999999999999993,-0.40000000000000213,-3.1000000000000014,1.3999999999999986,1.4000000000000021,-1.6000000000000014,-0.5999999999999979,-0.1999999999999993,-0.1999999999999993,0.6000000000000014,1.1000000000000014,-0.10000000000000142,-3.6000000000000014,0.6000000000000014,-0.10000000000000142,1.2999999999999972,0.10000000000000142,0.10000000000000142,1.0,0.5,-1.7000000000000028,-0.8000000000000043,0.20000000000000284,2.700000000000003,1.0,-0.29999999999999716]}],                        {\"scene\":{\"xaxis\":{\"exponentformat\":\"e\",\"showexponent\":\"all\",\"title\":{\"text\":\"0th\"},\"type\":\"linear\"},\"yaxis\":{\"exponentformat\":\"e\",\"showexponent\":\"all\",\"title\":{\"text\":\"1st\"},\"type\":\"linear\"},\"zaxis\":{\"exponentformat\":\"e\",\"showexponent\":\"all\",\"title\":{\"text\":\"2nd\"},\"type\":\"linear\"}},\"template\":{\"data\":{\"bar\":[{\"error_x\":{\"color\":\"#2a3f5f\"},\"error_y\":{\"color\":\"#2a3f5f\"},\"marker\":{\"line\":{\"color\":\"#E5ECF6\",\"width\":0.5},\"pattern\":{\"fillmode\":\"overlay\",\"size\":10,\"solidity\":0.2}},\"type\":\"bar\"}],\"barpolar\":[{\"marker\":{\"line\":{\"color\":\"#E5ECF6\",\"width\":0.5},\"pattern\":{\"fillmode\":\"overlay\",\"size\":10,\"solidity\":0.2}},\"type\":\"barpolar\"}],\"carpet\":[{\"aaxis\":{\"endlinecolor\":\"#2a3f5f\",\"gridcolor\":\"white\",\"linecolor\":\"white\",\"minorgridcolor\":\"white\",\"startlinecolor\":\"#2a3f5f\"},\"baxis\":{\"endlinecolor\":\"#2a3f5f\",\"gridcolor\":\"white\",\"linecolor\":\"white\",\"minorgridcolor\":\"white\",\"startlinecolor\":\"#2a3f5f\"},\"type\":\"carpet\"}],\"choropleth\":[{\"colorbar\":{\"outlinewidth\":0,\"ticks\":\"\"},\"type\":\"choropleth\"}],\"contour\":[{\"colorbar\":{\"outlinewidth\":0,\"ticks\":\"\"},\"colorscale\":[[0.0,\"#0d0887\"],[0.1111111111111111,\"#46039f\"],[0.2222222222222222,\"#7201a8\"],[0.3333333333333333,\"#9c179e\"],[0.4444444444444444,\"#bd3786\"],[0.5555555555555556,\"#d8576b\"],[0.6666666666666666,\"#ed7953\"],[0.7777777777777778,\"#fb9f3a\"],[0.8888888888888888,\"#fdca26\"],[1.0,\"#f0f921\"]],\"type\":\"contour\"}],\"contourcarpet\":[{\"colorbar\":{\"outlinewidth\":0,\"ticks\":\"\"},\"type\":\"contourcarpet\"}],\"heatmap\":[{\"colorbar\":{\"outlinewidth\":0,\"ticks\":\"\"},\"colorscale\":[[0.0,\"#0d0887\"],[0.1111111111111111,\"#46039f\"],[0.2222222222222222,\"#7201a8\"],[0.3333333333333333,\"#9c179e\"],[0.4444444444444444,\"#bd3786\"],[0.5555555555555556,\"#d8576b\"],[0.6666666666666666,\"#ed7953\"],[0.7777777777777778,\"#fb9f3a\"],[0.8888888888888888,\"#fdca26\"],[1.0,\"#f0f921\"]],\"type\":\"heatmap\"}],\"heatmapgl\":[{\"colorbar\":{\"outlinewidth\":0,\"ticks\":\"\"},\"colorscale\":[[0.0,\"#0d0887\"],[0.1111111111111111,\"#46039f\"],[0.2222222222222222,\"#7201a8\"],[0.3333333333333333,\"#9c179e\"],[0.4444444444444444,\"#bd3786\"],[0.5555555555555556,\"#d8576b\"],[0.6666666666666666,\"#ed7953\"],[0.7777777777777778,\"#fb9f3a\"],[0.8888888888888888,\"#fdca26\"],[1.0,\"#f0f921\"]],\"type\":\"heatmapgl\"}],\"histogram\":[{\"marker\":{\"pattern\":{\"fillmode\":\"overlay\",\"size\":10,\"solidity\":0.2}},\"type\":\"histogram\"}],\"histogram2d\":[{\"colorbar\":{\"outlinewidth\":0,\"ticks\":\"\"},\"colorscale\":[[0.0,\"#0d0887\"],[0.1111111111111111,\"#46039f\"],[0.2222222222222222,\"#7201a8\"],[0.3333333333333333,\"#9c179e\"],[0.4444444444444444,\"#bd3786\"],[0.5555555555555556,\"#d8576b\"],[0.6666666666666666,\"#ed7953\"],[0.7777777777777778,\"#fb9f3a\"],[0.8888888888888888,\"#fdca26\"],[1.0,\"#f0f921\"]],\"type\":\"histogram2d\"}],\"histogram2dcontour\":[{\"colorbar\":{\"outlinewidth\":0,\"ticks\":\"\"},\"colorscale\":[[0.0,\"#0d0887\"],[0.1111111111111111,\"#46039f\"],[0.2222222222222222,\"#7201a8\"],[0.3333333333333333,\"#9c179e\"],[0.4444444444444444,\"#bd3786\"],[0.5555555555555556,\"#d8576b\"],[0.6666666666666666,\"#ed7953\"],[0.7777777777777778,\"#fb9f3a\"],[0.8888888888888888,\"#fdca26\"],[1.0,\"#f0f921\"]],\"type\":\"histogram2dcontour\"}],\"mesh3d\":[{\"colorbar\":{\"outlinewidth\":0,\"ticks\":\"\"},\"type\":\"mesh3d\"}],\"parcoords\":[{\"line\":{\"colorbar\":{\"outlinewidth\":0,\"ticks\":\"\"}},\"type\":\"parcoords\"}],\"pie\":[{\"automargin\":true,\"type\":\"pie\"}],\"scatter\":[{\"marker\":{\"colorbar\":{\"outlinewidth\":0,\"ticks\":\"\"}},\"type\":\"scatter\"}],\"scatter3d\":[{\"line\":{\"colorbar\":{\"outlinewidth\":0,\"ticks\":\"\"}},\"marker\":{\"colorbar\":{\"outlinewidth\":0,\"ticks\":\"\"}},\"type\":\"scatter3d\"}],\"scattercarpet\":[{\"marker\":{\"colorbar\":{\"outlinewidth\":0,\"ticks\":\"\"}},\"type\":\"scattercarpet\"}],\"scattergeo\":[{\"marker\":{\"colorbar\":{\"outlinewidth\":0,\"ticks\":\"\"}},\"type\":\"scattergeo\"}],\"scattergl\":[{\"marker\":{\"colorbar\":{\"outlinewidth\":0,\"ticks\":\"\"}},\"type\":\"scattergl\"}],\"scattermapbox\":[{\"marker\":{\"colorbar\":{\"outlinewidth\":0,\"ticks\":\"\"}},\"type\":\"scattermapbox\"}],\"scatterpolar\":[{\"marker\":{\"colorbar\":{\"outlinewidth\":0,\"ticks\":\"\"}},\"type\":\"scatterpolar\"}],\"scatterpolargl\":[{\"marker\":{\"colorbar\":{\"outlinewidth\":0,\"ticks\":\"\"}},\"type\":\"scatterpolargl\"}],\"scatterternary\":[{\"marker\":{\"colorbar\":{\"outlinewidth\":0,\"ticks\":\"\"}},\"type\":\"scatterternary\"}],\"surface\":[{\"colorbar\":{\"outlinewidth\":0,\"ticks\":\"\"},\"colorscale\":[[0.0,\"#0d0887\"],[0.1111111111111111,\"#46039f\"],[0.2222222222222222,\"#7201a8\"],[0.3333333333333333,\"#9c179e\"],[0.4444444444444444,\"#bd3786\"],[0.5555555555555556,\"#d8576b\"],[0.6666666666666666,\"#ed7953\"],[0.7777777777777778,\"#fb9f3a\"],[0.8888888888888888,\"#fdca26\"],[1.0,\"#f0f921\"]],\"type\":\"surface\"}],\"table\":[{\"cells\":{\"fill\":{\"color\":\"#EBF0F8\"},\"line\":{\"color\":\"white\"}},\"header\":{\"fill\":{\"color\":\"#C8D4E3\"},\"line\":{\"color\":\"white\"}},\"type\":\"table\"}]},\"layout\":{\"annotationdefaults\":{\"arrowcolor\":\"#2a3f5f\",\"arrowhead\":0,\"arrowwidth\":1},\"autotypenumbers\":\"strict\",\"coloraxis\":{\"colorbar\":{\"outlinewidth\":0,\"ticks\":\"\"}},\"colorscale\":{\"diverging\":[[0,\"#8e0152\"],[0.1,\"#c51b7d\"],[0.2,\"#de77ae\"],[0.3,\"#f1b6da\"],[0.4,\"#fde0ef\"],[0.5,\"#f7f7f7\"],[0.6,\"#e6f5d0\"],[0.7,\"#b8e186\"],[0.8,\"#7fbc41\"],[0.9,\"#4d9221\"],[1,\"#276419\"]],\"sequential\":[[0.0,\"#0d0887\"],[0.1111111111111111,\"#46039f\"],[0.2222222222222222,\"#7201a8\"],[0.3333333333333333,\"#9c179e\"],[0.4444444444444444,\"#bd3786\"],[0.5555555555555556,\"#d8576b\"],[0.6666666666666666,\"#ed7953\"],[0.7777777777777778,\"#fb9f3a\"],[0.8888888888888888,\"#fdca26\"],[1.0,\"#f0f921\"]],\"sequentialminus\":[[0.0,\"#0d0887\"],[0.1111111111111111,\"#46039f\"],[0.2222222222222222,\"#7201a8\"],[0.3333333333333333,\"#9c179e\"],[0.4444444444444444,\"#bd3786\"],[0.5555555555555556,\"#d8576b\"],[0.6666666666666666,\"#ed7953\"],[0.7777777777777778,\"#fb9f3a\"],[0.8888888888888888,\"#fdca26\"],[1.0,\"#f0f921\"]]},\"colorway\":[\"#636efa\",\"#EF553B\",\"#00cc96\",\"#ab63fa\",\"#FFA15A\",\"#19d3f3\",\"#FF6692\",\"#B6E880\",\"#FF97FF\",\"#FECB52\"],\"font\":{\"color\":\"#2a3f5f\"},\"geo\":{\"bgcolor\":\"white\",\"lakecolor\":\"white\",\"landcolor\":\"#E5ECF6\",\"showlakes\":true,\"showland\":true,\"subunitcolor\":\"white\"},\"hoverlabel\":{\"align\":\"left\"},\"hovermode\":\"closest\",\"mapbox\":{\"style\":\"light\"},\"paper_bgcolor\":\"white\",\"plot_bgcolor\":\"#E5ECF6\",\"polar\":{\"angularaxis\":{\"gridcolor\":\"white\",\"linecolor\":\"white\",\"ticks\":\"\"},\"bgcolor\":\"#E5ECF6\",\"radialaxis\":{\"gridcolor\":\"white\",\"linecolor\":\"white\",\"ticks\":\"\"}},\"scene\":{\"xaxis\":{\"backgroundcolor\":\"#E5ECF6\",\"gridcolor\":\"white\",\"gridwidth\":2,\"linecolor\":\"white\",\"showbackground\":true,\"ticks\":\"\",\"zerolinecolor\":\"white\"},\"yaxis\":{\"backgroundcolor\":\"#E5ECF6\",\"gridcolor\":\"white\",\"gridwidth\":2,\"linecolor\":\"white\",\"showbackground\":true,\"ticks\":\"\",\"zerolinecolor\":\"white\"},\"zaxis\":{\"backgroundcolor\":\"#E5ECF6\",\"gridcolor\":\"white\",\"gridwidth\":2,\"linecolor\":\"white\",\"showbackground\":true,\"ticks\":\"\",\"zerolinecolor\":\"white\"}},\"shapedefaults\":{\"line\":{\"color\":\"#2a3f5f\"}},\"ternary\":{\"aaxis\":{\"gridcolor\":\"white\",\"linecolor\":\"white\",\"ticks\":\"\"},\"baxis\":{\"gridcolor\":\"white\",\"linecolor\":\"white\",\"ticks\":\"\"},\"bgcolor\":\"#E5ECF6\",\"caxis\":{\"gridcolor\":\"white\",\"linecolor\":\"white\",\"ticks\":\"\"}},\"title\":{\"x\":0.05},\"xaxis\":{\"automargin\":true,\"gridcolor\":\"white\",\"linecolor\":\"white\",\"ticks\":\"\",\"title\":{\"standoff\":15},\"zerolinecolor\":\"white\",\"zerolinewidth\":2},\"yaxis\":{\"automargin\":true,\"gridcolor\":\"white\",\"linecolor\":\"white\",\"ticks\":\"\",\"title\":{\"standoff\":15},\"zerolinecolor\":\"white\",\"zerolinewidth\":2}}}},                        {\"responsive\": true}                    ).then(function(){\n",
       "                            \n",
       "var gd = document.getElementById('ad921b9e-50fe-4f3d-adb2-f27bb88d99d5');\n",
       "var x = new MutationObserver(function (mutations, observer) {{\n",
       "        var display = window.getComputedStyle(gd).display;\n",
       "        if (!display || display === 'none') {{\n",
       "            console.log([gd, 'removed!']);\n",
       "            Plotly.purge(gd);\n",
       "            observer.disconnect();\n",
       "        }}\n",
       "}});\n",
       "\n",
       "// Listen for the removal of the full notebook cells\n",
       "var notebookContainer = gd.closest('#notebook-container');\n",
       "if (notebookContainer) {{\n",
       "    x.observe(notebookContainer, {childList: true});\n",
       "}}\n",
       "\n",
       "// Listen for the clearing of the current output cell\n",
       "var outputEl = gd.closest('.output');\n",
       "if (outputEl) {{\n",
       "    x.observe(outputEl, {childList: true});\n",
       "}}\n",
       "\n",
       "                        })                };                });            </script>        </div>"
      ]
     },
     "metadata": {},
     "output_type": "display_data"
    }
   ],
   "source": [
    "plot_point_cloud(normal_values_embedded)"
   ]
  },
  {
   "cell_type": "code",
   "execution_count": 151,
   "metadata": {},
   "outputs": [
    {
     "data": {
      "application/vnd.plotly.v1+json": {
       "config": {
        "plotlyServerURL": "https://plot.ly"
       },
       "data": [
        {
         "hoverinfo": "none",
         "line": {
          "color": "black",
          "dash": "dash",
          "width": 1
         },
         "mode": "lines",
         "showlegend": false,
         "type": "scatter",
         "x": [
          -0.09433980941772462,
          4.811330280303955
         ],
         "y": [
          -0.09433980941772462,
          4.811330280303955
         ]
        },
        {
         "hoverinfo": "text",
         "hovertext": [
          "(0.0, 0.4358898997306824)",
          "(0.0, 0.800000011920929)",
          "(0.0, 0.8246211409568787), multiplicity: 2",
          "(0.0, 0.8246211409568787), multiplicity: 2",
          "(0.0, 0.8602325320243835)",
          "(0.0, 0.8660253882408142), multiplicity: 2",
          "(0.0, 0.8660253882408142), multiplicity: 2",
          "(0.0, 0.8888194561004639)",
          "(0.0, 0.9055384993553162), multiplicity: 3",
          "(0.0, 0.9055384993553162), multiplicity: 3",
          "(0.0, 0.9055384993553162), multiplicity: 3",
          "(0.0, 0.9110433459281921)",
          "(0.0, 0.9327378869056702), multiplicity: 2",
          "(0.0, 0.9327378869056702), multiplicity: 2",
          "(0.0, 0.9797958731651306)",
          "(0.0, 0.994987428188324)",
          "(0.0, 1.0)",
          "(0.0, 1.0049875974655151), multiplicity: 2",
          "(0.0, 1.0049875974655151), multiplicity: 2",
          "(0.0, 1.0099505186080933), multiplicity: 2",
          "(0.0, 1.0099505186080933), multiplicity: 2",
          "(0.0, 1.014889121055603)",
          "(0.0, 1.0440306663513184)",
          "(0.0, 1.0488088130950928), multiplicity: 2",
          "(0.0, 1.0488088130950928), multiplicity: 2",
          "(0.0, 1.0677077770233154)",
          "(0.0, 1.1135529279708862), multiplicity: 3",
          "(0.0, 1.1135529279708862), multiplicity: 3",
          "(0.0, 1.1135529279708862), multiplicity: 3",
          "(0.0, 1.126942753791809)",
          "(0.0, 1.1357816457748413)",
          "(0.0, 1.140175461769104)",
          "(0.0, 1.1445523500442505)",
          "(0.0, 1.1532562971115112)",
          "(0.0, 1.1618950366973877), multiplicity: 2",
          "(0.0, 1.1618950366973877), multiplicity: 2",
          "(0.0, 1.1958260536193848)",
          "(0.0, 1.2041594982147217)",
          "(0.0, 1.2247449159622192)",
          "(0.0, 1.2409673929214478)",
          "(0.0, 1.256980538368225)",
          "(0.0, 1.268857717514038)",
          "(0.0, 1.2884098291397095)",
          "(0.0, 1.2999999523162842)",
          "(0.0, 1.3038405179977417)",
          "(0.0, 1.3076696395874023)",
          "(0.0, 1.3266499042510986)",
          "(0.0, 1.3892444372177124)",
          "(0.0, 1.3928388357162476)",
          "(0.0, 1.4106736183166504), multiplicity: 2",
          "(0.0, 1.4106736183166504), multiplicity: 2",
          "(0.0, 1.4352699518203735), multiplicity: 2",
          "(0.0, 1.4352699518203735), multiplicity: 2",
          "(0.0, 1.452583909034729)",
          "(0.0, 1.462873935699463)",
          "(0.0, 1.469693899154663)",
          "(0.0, 1.4764822721481323)",
          "(0.0, 1.4866068363189697)",
          "(0.0, 1.4899663925170898)",
          "(0.0, 1.496662974357605)",
          "(0.0, 1.5132745504379272)",
          "(0.0, 1.5165750980377197)",
          "(0.0, 1.5329710245132446), multiplicity: 2",
          "(0.0, 1.5329710245132446), multiplicity: 2",
          "(0.0, 1.542724847793579)",
          "(0.0, 1.5459624528884888)",
          "(0.0, 1.5556349754333496), multiplicity: 2",
          "(0.0, 1.5556349754333496), multiplicity: 2",
          "(0.0, 1.5588457584381104)",
          "(0.0, 1.5811388492584229)",
          "(0.0, 1.5874507427215576)",
          "(0.0, 1.5937377214431763), multiplicity: 2",
          "(0.0, 1.5937377214431763), multiplicity: 2",
          "(0.0, 1.6093477010726929)",
          "(0.0, 1.6278820037841797)",
          "(0.0, 1.6613247394561768), multiplicity: 2",
          "(0.0, 1.6613247394561768), multiplicity: 2",
          "(0.0, 1.6673332452774048)",
          "(0.0, 1.6822603940963745)",
          "(0.0, 1.6852298974990845)",
          "(0.0, 1.6941074132919312)",
          "(0.0, 1.7117242813110352)",
          "(0.0, 1.7146427631378174)",
          "(0.0, 1.720465064048767)",
          "(0.0, 1.7521415948867798), multiplicity: 2",
          "(0.0, 1.7521415948867798), multiplicity: 2",
          "(0.0, 1.7606816291809082)",
          "(0.0, 1.7944358587265015)",
          "(0.0, 1.8165901899337769)",
          "(0.0, 1.8357559442520142)",
          "(0.0, 1.8411952257156372)",
          "(0.0, 1.8439089059829712)",
          "(0.0, 1.8466185331344604)",
          "(0.0, 1.8708287477493286)",
          "(0.0, 1.892088770866394)",
          "(0.0, 1.905255913734436)",
          "(0.0, 1.9467922449111938)",
          "(0.0, 1.987460732460022)",
          "(0.0, 2.00748610496521)",
          "(0.0, 2.0663979053497314)",
          "(0.0, 2.1047565937042236)",
          "(0.0, 2.197726011276245)",
          "(0.0, 2.379075527191162)",
          "(0.0, 2.5019991397857666)",
          "(0.0, 2.5119712352752686)",
          "(0.0, 2.519920587539673)",
          "(0.0, 2.6495282649993896)",
          "(0.0, 2.696293830871582)",
          "(0.0, 2.7694764137268066)",
          "(0.0, 2.8266587257385254)",
          "(0.0, 2.868797540664673)",
          "(0.0, 2.9034461975097656)",
          "(0.0, 4.676537036895752)",
          "(0.0, 4.694677829742432)",
          "(0.0, 4.7169904708862305)"
         ],
         "mode": "markers",
         "name": "H0",
         "type": "scatter",
         "x": [
          0,
          0,
          0,
          0,
          0,
          0,
          0,
          0,
          0,
          0,
          0,
          0,
          0,
          0,
          0,
          0,
          0,
          0,
          0,
          0,
          0,
          0,
          0,
          0,
          0,
          0,
          0,
          0,
          0,
          0,
          0,
          0,
          0,
          0,
          0,
          0,
          0,
          0,
          0,
          0,
          0,
          0,
          0,
          0,
          0,
          0,
          0,
          0,
          0,
          0,
          0,
          0,
          0,
          0,
          0,
          0,
          0,
          0,
          0,
          0,
          0,
          0,
          0,
          0,
          0,
          0,
          0,
          0,
          0,
          0,
          0,
          0,
          0,
          0,
          0,
          0,
          0,
          0,
          0,
          0,
          0,
          0,
          0,
          0,
          0,
          0,
          0,
          0,
          0,
          0,
          0,
          0,
          0,
          0,
          0,
          0,
          0,
          0,
          0,
          0,
          0,
          0,
          0,
          0,
          0,
          0,
          0,
          0,
          0,
          0,
          0,
          0,
          0,
          0,
          0
         ],
         "y": [
          0.4358898997306824,
          0.800000011920929,
          0.8246211409568787,
          0.8246211409568787,
          0.8602325320243835,
          0.8660253882408142,
          0.8660253882408142,
          0.8888194561004639,
          0.9055384993553162,
          0.9055384993553162,
          0.9055384993553162,
          0.9110433459281921,
          0.9327378869056702,
          0.9327378869056702,
          0.9797958731651306,
          0.994987428188324,
          1,
          1.0049875974655151,
          1.0049875974655151,
          1.0099505186080933,
          1.0099505186080933,
          1.014889121055603,
          1.0440306663513184,
          1.0488088130950928,
          1.0488088130950928,
          1.0677077770233154,
          1.1135529279708862,
          1.1135529279708862,
          1.1135529279708862,
          1.126942753791809,
          1.1357816457748413,
          1.140175461769104,
          1.1445523500442505,
          1.1532562971115112,
          1.1618950366973877,
          1.1618950366973877,
          1.1958260536193848,
          1.2041594982147217,
          1.2247449159622192,
          1.2409673929214478,
          1.256980538368225,
          1.268857717514038,
          1.2884098291397095,
          1.2999999523162842,
          1.3038405179977417,
          1.3076696395874023,
          1.3266499042510986,
          1.3892444372177124,
          1.3928388357162476,
          1.4106736183166504,
          1.4106736183166504,
          1.4352699518203735,
          1.4352699518203735,
          1.452583909034729,
          1.462873935699463,
          1.469693899154663,
          1.4764822721481323,
          1.4866068363189697,
          1.4899663925170898,
          1.496662974357605,
          1.5132745504379272,
          1.5165750980377197,
          1.5329710245132446,
          1.5329710245132446,
          1.542724847793579,
          1.5459624528884888,
          1.5556349754333496,
          1.5556349754333496,
          1.5588457584381104,
          1.5811388492584229,
          1.5874507427215576,
          1.5937377214431763,
          1.5937377214431763,
          1.6093477010726929,
          1.6278820037841797,
          1.6613247394561768,
          1.6613247394561768,
          1.6673332452774048,
          1.6822603940963745,
          1.6852298974990845,
          1.6941074132919312,
          1.7117242813110352,
          1.7146427631378174,
          1.720465064048767,
          1.7521415948867798,
          1.7521415948867798,
          1.7606816291809082,
          1.7944358587265015,
          1.8165901899337769,
          1.8357559442520142,
          1.8411952257156372,
          1.8439089059829712,
          1.8466185331344604,
          1.8708287477493286,
          1.892088770866394,
          1.905255913734436,
          1.9467922449111938,
          1.987460732460022,
          2.00748610496521,
          2.0663979053497314,
          2.1047565937042236,
          2.197726011276245,
          2.379075527191162,
          2.5019991397857666,
          2.5119712352752686,
          2.519920587539673,
          2.6495282649993896,
          2.696293830871582,
          2.7694764137268066,
          2.8266587257385254,
          2.868797540664673,
          2.9034461975097656,
          4.676537036895752,
          4.694677829742432,
          4.7169904708862305
         ]
        },
        {
         "hoverinfo": "text",
         "hovertext": [
          "(3.077336549758911, 3.1906111240386963)",
          "(2.946183919906616, 3.4727511405944824)",
          "(2.8844411373138428, 2.969848394393921)",
          "(2.880972146987915, 2.935983657836914)",
          "(2.7982137203216553, 3.3763885498046875)",
          "(2.6191601753234863, 2.6795523166656494)",
          "(2.555386543273926, 2.8035690784454346)",
          "(2.395829677581787, 2.5357444286346436)",
          "(2.3727622032165527, 2.5884358882904053)",
          "(2.2781572341918945, 2.5099799633026123)",
          "(2.2583179473876953, 2.4269323348999023)",
          "(2.2360680103302, 2.2383029460906982)",
          "(2.177154064178467, 2.4839484691619873)",
          "(2.1656408309936523, 2.291287899017334)",
          "(2.102379560470581, 2.1679482460021973)",
          "(2.090454578399658, 2.1656408309936523)",
          "(2.085665464401245, 2.692582368850708)",
          "(2.0712316036224365, 2.0928449630737305)",
          "(2.0663979053497314, 2.1118712425231934)",
          "(2.0542638301849365, 2.213594436645508)",
          "(2.027313470840454, 2.3388030529022217)",
          "(1.9646883010864258, 2.0124611854553223)",
          "(1.954482078552246, 2.2516660690307617)",
          "(1.9416488409042358, 2.027313470840454)",
          "(1.9104973077774048, 2.537715435028076)",
          "(1.8814888000488281, 2.034698963165283)",
          "(1.8814888000488281, 2.2068076133728027)",
          "(1.8601075410842896, 1.892088770866394)",
          "(1.720465064048767, 1.8654757738113403)",
          "(1.717556357383728, 1.780449390411377)",
          "(1.6552945375442505, 1.726267695426941)",
          "(1.6522711515426636, 1.6673332452774048)",
          "(1.600000023841858, 1.720465064048767)",
          "(1.5811388492584229, 2.1656408309936523)",
          "(1.5556349754333496, 1.6822603940963745)",
          "(1.539480447769165, 1.892088770866394)",
          "(1.5297058820724487, 1.6613247394561768)",
          "(1.4594519138336182, 1.6881942749023438)",
          "(1.4282857179641724, 1.552417516708374)",
          "(1.4247807264328003, 1.4662878513336182)",
          "(1.4071247577667236, 1.5198683738708496)",
          "(1.4071247577667236, 1.4798648357391357)",
          "(1.3964240550994873, 1.4071247577667236)",
          "(1.3490737676620483, 1.5)",
          "(1.2609519958496094, 1.334166407585144)",
          "(1.1224972009658813, 1.2845232486724854)",
          "(1.0908712148666382, 1.2961481809616089)",
          "(1.0862780809402466, 1.2449899911880493)",
          "(1.0770329236984253, 1.2845232486724854)",
          "(1.058300495147705, 1.256980538368225)"
         ],
         "mode": "markers",
         "name": "H1",
         "type": "scatter",
         "x": [
          3.077336549758911,
          2.946183919906616,
          2.8844411373138428,
          2.880972146987915,
          2.7982137203216553,
          2.6191601753234863,
          2.555386543273926,
          2.395829677581787,
          2.3727622032165527,
          2.2781572341918945,
          2.2583179473876953,
          2.2360680103302,
          2.177154064178467,
          2.1656408309936523,
          2.102379560470581,
          2.090454578399658,
          2.085665464401245,
          2.0712316036224365,
          2.0663979053497314,
          2.0542638301849365,
          2.027313470840454,
          1.9646883010864258,
          1.954482078552246,
          1.9416488409042358,
          1.9104973077774048,
          1.8814888000488281,
          1.8814888000488281,
          1.8601075410842896,
          1.720465064048767,
          1.717556357383728,
          1.6552945375442505,
          1.6522711515426636,
          1.600000023841858,
          1.5811388492584229,
          1.5556349754333496,
          1.539480447769165,
          1.5297058820724487,
          1.4594519138336182,
          1.4282857179641724,
          1.4247807264328003,
          1.4071247577667236,
          1.4071247577667236,
          1.3964240550994873,
          1.3490737676620483,
          1.2609519958496094,
          1.1224972009658813,
          1.0908712148666382,
          1.0862780809402466,
          1.0770329236984253,
          1.058300495147705
         ],
         "y": [
          3.1906111240386963,
          3.4727511405944824,
          2.969848394393921,
          2.935983657836914,
          3.3763885498046875,
          2.6795523166656494,
          2.8035690784454346,
          2.5357444286346436,
          2.5884358882904053,
          2.5099799633026123,
          2.4269323348999023,
          2.2383029460906982,
          2.4839484691619873,
          2.291287899017334,
          2.1679482460021973,
          2.1656408309936523,
          2.692582368850708,
          2.0928449630737305,
          2.1118712425231934,
          2.213594436645508,
          2.3388030529022217,
          2.0124611854553223,
          2.2516660690307617,
          2.027313470840454,
          2.537715435028076,
          2.034698963165283,
          2.2068076133728027,
          1.892088770866394,
          1.8654757738113403,
          1.780449390411377,
          1.726267695426941,
          1.6673332452774048,
          1.720465064048767,
          2.1656408309936523,
          1.6822603940963745,
          1.892088770866394,
          1.6613247394561768,
          1.6881942749023438,
          1.552417516708374,
          1.4662878513336182,
          1.5198683738708496,
          1.4798648357391357,
          1.4071247577667236,
          1.5,
          1.334166407585144,
          1.2845232486724854,
          1.2961481809616089,
          1.2449899911880493,
          1.2845232486724854,
          1.256980538368225
         ]
        },
        {
         "hoverinfo": "text",
         "hovertext": [
          "(3.011644124984741, 3.047950029373169)",
          "(2.8792359828948975, 2.880972146987915)",
          "(2.8460497856140137, 2.915475845336914)",
          "(2.7258026599884033, 2.812472105026245)",
          "(2.705549955368042, 2.812472105026245)",
          "(2.6944386959075928, 2.7092435359954834)",
          "(2.634387969970703, 2.6944386959075928)",
          "(2.47991943359375, 2.543619394302368)",
          "(2.437211513519287, 2.453568935394287)",
          "(2.193171262741089, 2.2427661418914795)",
          "(1.4352699518203735, 1.469693899154663)"
         ],
         "mode": "markers",
         "name": "H2",
         "type": "scatter",
         "x": [
          3.011644124984741,
          2.8792359828948975,
          2.8460497856140137,
          2.7258026599884033,
          2.705549955368042,
          2.6944386959075928,
          2.634387969970703,
          2.47991943359375,
          2.437211513519287,
          2.193171262741089,
          1.4352699518203735
         ],
         "y": [
          3.047950029373169,
          2.880972146987915,
          2.915475845336914,
          2.812472105026245,
          2.812472105026245,
          2.7092435359954834,
          2.6944386959075928,
          2.543619394302368,
          2.453568935394287,
          2.2427661418914795,
          1.469693899154663
         ]
        }
       ],
       "layout": {
        "height": 500,
        "plot_bgcolor": "white",
        "template": {
         "data": {
          "bar": [
           {
            "error_x": {
             "color": "#2a3f5f"
            },
            "error_y": {
             "color": "#2a3f5f"
            },
            "marker": {
             "line": {
              "color": "#E5ECF6",
              "width": 0.5
             },
             "pattern": {
              "fillmode": "overlay",
              "size": 10,
              "solidity": 0.2
             }
            },
            "type": "bar"
           }
          ],
          "barpolar": [
           {
            "marker": {
             "line": {
              "color": "#E5ECF6",
              "width": 0.5
             },
             "pattern": {
              "fillmode": "overlay",
              "size": 10,
              "solidity": 0.2
             }
            },
            "type": "barpolar"
           }
          ],
          "carpet": [
           {
            "aaxis": {
             "endlinecolor": "#2a3f5f",
             "gridcolor": "white",
             "linecolor": "white",
             "minorgridcolor": "white",
             "startlinecolor": "#2a3f5f"
            },
            "baxis": {
             "endlinecolor": "#2a3f5f",
             "gridcolor": "white",
             "linecolor": "white",
             "minorgridcolor": "white",
             "startlinecolor": "#2a3f5f"
            },
            "type": "carpet"
           }
          ],
          "choropleth": [
           {
            "colorbar": {
             "outlinewidth": 0,
             "ticks": ""
            },
            "type": "choropleth"
           }
          ],
          "contour": [
           {
            "colorbar": {
             "outlinewidth": 0,
             "ticks": ""
            },
            "colorscale": [
             [
              0,
              "#0d0887"
             ],
             [
              0.1111111111111111,
              "#46039f"
             ],
             [
              0.2222222222222222,
              "#7201a8"
             ],
             [
              0.3333333333333333,
              "#9c179e"
             ],
             [
              0.4444444444444444,
              "#bd3786"
             ],
             [
              0.5555555555555556,
              "#d8576b"
             ],
             [
              0.6666666666666666,
              "#ed7953"
             ],
             [
              0.7777777777777778,
              "#fb9f3a"
             ],
             [
              0.8888888888888888,
              "#fdca26"
             ],
             [
              1,
              "#f0f921"
             ]
            ],
            "type": "contour"
           }
          ],
          "contourcarpet": [
           {
            "colorbar": {
             "outlinewidth": 0,
             "ticks": ""
            },
            "type": "contourcarpet"
           }
          ],
          "heatmap": [
           {
            "colorbar": {
             "outlinewidth": 0,
             "ticks": ""
            },
            "colorscale": [
             [
              0,
              "#0d0887"
             ],
             [
              0.1111111111111111,
              "#46039f"
             ],
             [
              0.2222222222222222,
              "#7201a8"
             ],
             [
              0.3333333333333333,
              "#9c179e"
             ],
             [
              0.4444444444444444,
              "#bd3786"
             ],
             [
              0.5555555555555556,
              "#d8576b"
             ],
             [
              0.6666666666666666,
              "#ed7953"
             ],
             [
              0.7777777777777778,
              "#fb9f3a"
             ],
             [
              0.8888888888888888,
              "#fdca26"
             ],
             [
              1,
              "#f0f921"
             ]
            ],
            "type": "heatmap"
           }
          ],
          "heatmapgl": [
           {
            "colorbar": {
             "outlinewidth": 0,
             "ticks": ""
            },
            "colorscale": [
             [
              0,
              "#0d0887"
             ],
             [
              0.1111111111111111,
              "#46039f"
             ],
             [
              0.2222222222222222,
              "#7201a8"
             ],
             [
              0.3333333333333333,
              "#9c179e"
             ],
             [
              0.4444444444444444,
              "#bd3786"
             ],
             [
              0.5555555555555556,
              "#d8576b"
             ],
             [
              0.6666666666666666,
              "#ed7953"
             ],
             [
              0.7777777777777778,
              "#fb9f3a"
             ],
             [
              0.8888888888888888,
              "#fdca26"
             ],
             [
              1,
              "#f0f921"
             ]
            ],
            "type": "heatmapgl"
           }
          ],
          "histogram": [
           {
            "marker": {
             "pattern": {
              "fillmode": "overlay",
              "size": 10,
              "solidity": 0.2
             }
            },
            "type": "histogram"
           }
          ],
          "histogram2d": [
           {
            "colorbar": {
             "outlinewidth": 0,
             "ticks": ""
            },
            "colorscale": [
             [
              0,
              "#0d0887"
             ],
             [
              0.1111111111111111,
              "#46039f"
             ],
             [
              0.2222222222222222,
              "#7201a8"
             ],
             [
              0.3333333333333333,
              "#9c179e"
             ],
             [
              0.4444444444444444,
              "#bd3786"
             ],
             [
              0.5555555555555556,
              "#d8576b"
             ],
             [
              0.6666666666666666,
              "#ed7953"
             ],
             [
              0.7777777777777778,
              "#fb9f3a"
             ],
             [
              0.8888888888888888,
              "#fdca26"
             ],
             [
              1,
              "#f0f921"
             ]
            ],
            "type": "histogram2d"
           }
          ],
          "histogram2dcontour": [
           {
            "colorbar": {
             "outlinewidth": 0,
             "ticks": ""
            },
            "colorscale": [
             [
              0,
              "#0d0887"
             ],
             [
              0.1111111111111111,
              "#46039f"
             ],
             [
              0.2222222222222222,
              "#7201a8"
             ],
             [
              0.3333333333333333,
              "#9c179e"
             ],
             [
              0.4444444444444444,
              "#bd3786"
             ],
             [
              0.5555555555555556,
              "#d8576b"
             ],
             [
              0.6666666666666666,
              "#ed7953"
             ],
             [
              0.7777777777777778,
              "#fb9f3a"
             ],
             [
              0.8888888888888888,
              "#fdca26"
             ],
             [
              1,
              "#f0f921"
             ]
            ],
            "type": "histogram2dcontour"
           }
          ],
          "mesh3d": [
           {
            "colorbar": {
             "outlinewidth": 0,
             "ticks": ""
            },
            "type": "mesh3d"
           }
          ],
          "parcoords": [
           {
            "line": {
             "colorbar": {
              "outlinewidth": 0,
              "ticks": ""
             }
            },
            "type": "parcoords"
           }
          ],
          "pie": [
           {
            "automargin": true,
            "type": "pie"
           }
          ],
          "scatter": [
           {
            "marker": {
             "colorbar": {
              "outlinewidth": 0,
              "ticks": ""
             }
            },
            "type": "scatter"
           }
          ],
          "scatter3d": [
           {
            "line": {
             "colorbar": {
              "outlinewidth": 0,
              "ticks": ""
             }
            },
            "marker": {
             "colorbar": {
              "outlinewidth": 0,
              "ticks": ""
             }
            },
            "type": "scatter3d"
           }
          ],
          "scattercarpet": [
           {
            "marker": {
             "colorbar": {
              "outlinewidth": 0,
              "ticks": ""
             }
            },
            "type": "scattercarpet"
           }
          ],
          "scattergeo": [
           {
            "marker": {
             "colorbar": {
              "outlinewidth": 0,
              "ticks": ""
             }
            },
            "type": "scattergeo"
           }
          ],
          "scattergl": [
           {
            "marker": {
             "colorbar": {
              "outlinewidth": 0,
              "ticks": ""
             }
            },
            "type": "scattergl"
           }
          ],
          "scattermapbox": [
           {
            "marker": {
             "colorbar": {
              "outlinewidth": 0,
              "ticks": ""
             }
            },
            "type": "scattermapbox"
           }
          ],
          "scatterpolar": [
           {
            "marker": {
             "colorbar": {
              "outlinewidth": 0,
              "ticks": ""
             }
            },
            "type": "scatterpolar"
           }
          ],
          "scatterpolargl": [
           {
            "marker": {
             "colorbar": {
              "outlinewidth": 0,
              "ticks": ""
             }
            },
            "type": "scatterpolargl"
           }
          ],
          "scatterternary": [
           {
            "marker": {
             "colorbar": {
              "outlinewidth": 0,
              "ticks": ""
             }
            },
            "type": "scatterternary"
           }
          ],
          "surface": [
           {
            "colorbar": {
             "outlinewidth": 0,
             "ticks": ""
            },
            "colorscale": [
             [
              0,
              "#0d0887"
             ],
             [
              0.1111111111111111,
              "#46039f"
             ],
             [
              0.2222222222222222,
              "#7201a8"
             ],
             [
              0.3333333333333333,
              "#9c179e"
             ],
             [
              0.4444444444444444,
              "#bd3786"
             ],
             [
              0.5555555555555556,
              "#d8576b"
             ],
             [
              0.6666666666666666,
              "#ed7953"
             ],
             [
              0.7777777777777778,
              "#fb9f3a"
             ],
             [
              0.8888888888888888,
              "#fdca26"
             ],
             [
              1,
              "#f0f921"
             ]
            ],
            "type": "surface"
           }
          ],
          "table": [
           {
            "cells": {
             "fill": {
              "color": "#EBF0F8"
             },
             "line": {
              "color": "white"
             }
            },
            "header": {
             "fill": {
              "color": "#C8D4E3"
             },
             "line": {
              "color": "white"
             }
            },
            "type": "table"
           }
          ]
         },
         "layout": {
          "annotationdefaults": {
           "arrowcolor": "#2a3f5f",
           "arrowhead": 0,
           "arrowwidth": 1
          },
          "autotypenumbers": "strict",
          "coloraxis": {
           "colorbar": {
            "outlinewidth": 0,
            "ticks": ""
           }
          },
          "colorscale": {
           "diverging": [
            [
             0,
             "#8e0152"
            ],
            [
             0.1,
             "#c51b7d"
            ],
            [
             0.2,
             "#de77ae"
            ],
            [
             0.3,
             "#f1b6da"
            ],
            [
             0.4,
             "#fde0ef"
            ],
            [
             0.5,
             "#f7f7f7"
            ],
            [
             0.6,
             "#e6f5d0"
            ],
            [
             0.7,
             "#b8e186"
            ],
            [
             0.8,
             "#7fbc41"
            ],
            [
             0.9,
             "#4d9221"
            ],
            [
             1,
             "#276419"
            ]
           ],
           "sequential": [
            [
             0,
             "#0d0887"
            ],
            [
             0.1111111111111111,
             "#46039f"
            ],
            [
             0.2222222222222222,
             "#7201a8"
            ],
            [
             0.3333333333333333,
             "#9c179e"
            ],
            [
             0.4444444444444444,
             "#bd3786"
            ],
            [
             0.5555555555555556,
             "#d8576b"
            ],
            [
             0.6666666666666666,
             "#ed7953"
            ],
            [
             0.7777777777777778,
             "#fb9f3a"
            ],
            [
             0.8888888888888888,
             "#fdca26"
            ],
            [
             1,
             "#f0f921"
            ]
           ],
           "sequentialminus": [
            [
             0,
             "#0d0887"
            ],
            [
             0.1111111111111111,
             "#46039f"
            ],
            [
             0.2222222222222222,
             "#7201a8"
            ],
            [
             0.3333333333333333,
             "#9c179e"
            ],
            [
             0.4444444444444444,
             "#bd3786"
            ],
            [
             0.5555555555555556,
             "#d8576b"
            ],
            [
             0.6666666666666666,
             "#ed7953"
            ],
            [
             0.7777777777777778,
             "#fb9f3a"
            ],
            [
             0.8888888888888888,
             "#fdca26"
            ],
            [
             1,
             "#f0f921"
            ]
           ]
          },
          "colorway": [
           "#636efa",
           "#EF553B",
           "#00cc96",
           "#ab63fa",
           "#FFA15A",
           "#19d3f3",
           "#FF6692",
           "#B6E880",
           "#FF97FF",
           "#FECB52"
          ],
          "font": {
           "color": "#2a3f5f"
          },
          "geo": {
           "bgcolor": "white",
           "lakecolor": "white",
           "landcolor": "#E5ECF6",
           "showlakes": true,
           "showland": true,
           "subunitcolor": "white"
          },
          "hoverlabel": {
           "align": "left"
          },
          "hovermode": "closest",
          "mapbox": {
           "style": "light"
          },
          "paper_bgcolor": "white",
          "plot_bgcolor": "#E5ECF6",
          "polar": {
           "angularaxis": {
            "gridcolor": "white",
            "linecolor": "white",
            "ticks": ""
           },
           "bgcolor": "#E5ECF6",
           "radialaxis": {
            "gridcolor": "white",
            "linecolor": "white",
            "ticks": ""
           }
          },
          "scene": {
           "xaxis": {
            "backgroundcolor": "#E5ECF6",
            "gridcolor": "white",
            "gridwidth": 2,
            "linecolor": "white",
            "showbackground": true,
            "ticks": "",
            "zerolinecolor": "white"
           },
           "yaxis": {
            "backgroundcolor": "#E5ECF6",
            "gridcolor": "white",
            "gridwidth": 2,
            "linecolor": "white",
            "showbackground": true,
            "ticks": "",
            "zerolinecolor": "white"
           },
           "zaxis": {
            "backgroundcolor": "#E5ECF6",
            "gridcolor": "white",
            "gridwidth": 2,
            "linecolor": "white",
            "showbackground": true,
            "ticks": "",
            "zerolinecolor": "white"
           }
          },
          "shapedefaults": {
           "line": {
            "color": "#2a3f5f"
           }
          },
          "ternary": {
           "aaxis": {
            "gridcolor": "white",
            "linecolor": "white",
            "ticks": ""
           },
           "baxis": {
            "gridcolor": "white",
            "linecolor": "white",
            "ticks": ""
           },
           "bgcolor": "#E5ECF6",
           "caxis": {
            "gridcolor": "white",
            "linecolor": "white",
            "ticks": ""
           }
          },
          "title": {
           "x": 0.05
          },
          "xaxis": {
           "automargin": true,
           "gridcolor": "white",
           "linecolor": "white",
           "ticks": "",
           "title": {
            "standoff": 15
           },
           "zerolinecolor": "white",
           "zerolinewidth": 2
          },
          "yaxis": {
           "automargin": true,
           "gridcolor": "white",
           "linecolor": "white",
           "ticks": "",
           "title": {
            "standoff": 15
           },
           "zerolinecolor": "white",
           "zerolinewidth": 2
          }
         }
        },
        "width": 500,
        "xaxis": {
         "autorange": false,
         "exponentformat": "e",
         "linecolor": "black",
         "linewidth": 1,
         "mirror": false,
         "range": [
          -0.09433980941772462,
          4.811330280303955
         ],
         "showexponent": "all",
         "showline": true,
         "side": "bottom",
         "ticks": "outside",
         "title": {
          "text": "Birth"
         },
         "type": "linear",
         "zeroline": true
        },
        "yaxis": {
         "autorange": false,
         "exponentformat": "e",
         "linecolor": "black",
         "linewidth": 1,
         "mirror": false,
         "range": [
          -0.09433980941772462,
          4.811330280303955
         ],
         "scaleanchor": "x",
         "scaleratio": 1,
         "showexponent": "all",
         "showline": true,
         "side": "left",
         "ticks": "outside",
         "title": {
          "text": "Death"
         },
         "type": "linear",
         "zeroline": true
        }
       }
      },
      "text/html": [
       "<div>                            <div id=\"03d34fdc-7ccd-418a-8ade-1eef0d1a7058\" class=\"plotly-graph-div\" style=\"height:500px; width:500px;\"></div>            <script type=\"text/javascript\">                require([\"plotly\"], function(Plotly) {                    window.PLOTLYENV=window.PLOTLYENV || {};                                    if (document.getElementById(\"03d34fdc-7ccd-418a-8ade-1eef0d1a7058\")) {                    Plotly.newPlot(                        \"03d34fdc-7ccd-418a-8ade-1eef0d1a7058\",                        [{\"hoverinfo\":\"none\",\"line\":{\"color\":\"black\",\"dash\":\"dash\",\"width\":1},\"mode\":\"lines\",\"showlegend\":false,\"type\":\"scatter\",\"x\":[-0.09433980941772462,4.811330280303955],\"y\":[-0.09433980941772462,4.811330280303955]},{\"hoverinfo\":\"text\",\"hovertext\":[\"(0.0, 0.4358898997306824)\",\"(0.0, 0.800000011920929)\",\"(0.0, 0.8246211409568787), multiplicity: 2\",\"(0.0, 0.8246211409568787), multiplicity: 2\",\"(0.0, 0.8602325320243835)\",\"(0.0, 0.8660253882408142), multiplicity: 2\",\"(0.0, 0.8660253882408142), multiplicity: 2\",\"(0.0, 0.8888194561004639)\",\"(0.0, 0.9055384993553162), multiplicity: 3\",\"(0.0, 0.9055384993553162), multiplicity: 3\",\"(0.0, 0.9055384993553162), multiplicity: 3\",\"(0.0, 0.9110433459281921)\",\"(0.0, 0.9327378869056702), multiplicity: 2\",\"(0.0, 0.9327378869056702), multiplicity: 2\",\"(0.0, 0.9797958731651306)\",\"(0.0, 0.994987428188324)\",\"(0.0, 1.0)\",\"(0.0, 1.0049875974655151), multiplicity: 2\",\"(0.0, 1.0049875974655151), multiplicity: 2\",\"(0.0, 1.0099505186080933), multiplicity: 2\",\"(0.0, 1.0099505186080933), multiplicity: 2\",\"(0.0, 1.014889121055603)\",\"(0.0, 1.0440306663513184)\",\"(0.0, 1.0488088130950928), multiplicity: 2\",\"(0.0, 1.0488088130950928), multiplicity: 2\",\"(0.0, 1.0677077770233154)\",\"(0.0, 1.1135529279708862), multiplicity: 3\",\"(0.0, 1.1135529279708862), multiplicity: 3\",\"(0.0, 1.1135529279708862), multiplicity: 3\",\"(0.0, 1.126942753791809)\",\"(0.0, 1.1357816457748413)\",\"(0.0, 1.140175461769104)\",\"(0.0, 1.1445523500442505)\",\"(0.0, 1.1532562971115112)\",\"(0.0, 1.1618950366973877), multiplicity: 2\",\"(0.0, 1.1618950366973877), multiplicity: 2\",\"(0.0, 1.1958260536193848)\",\"(0.0, 1.2041594982147217)\",\"(0.0, 1.2247449159622192)\",\"(0.0, 1.2409673929214478)\",\"(0.0, 1.256980538368225)\",\"(0.0, 1.268857717514038)\",\"(0.0, 1.2884098291397095)\",\"(0.0, 1.2999999523162842)\",\"(0.0, 1.3038405179977417)\",\"(0.0, 1.3076696395874023)\",\"(0.0, 1.3266499042510986)\",\"(0.0, 1.3892444372177124)\",\"(0.0, 1.3928388357162476)\",\"(0.0, 1.4106736183166504), multiplicity: 2\",\"(0.0, 1.4106736183166504), multiplicity: 2\",\"(0.0, 1.4352699518203735), multiplicity: 2\",\"(0.0, 1.4352699518203735), multiplicity: 2\",\"(0.0, 1.452583909034729)\",\"(0.0, 1.462873935699463)\",\"(0.0, 1.469693899154663)\",\"(0.0, 1.4764822721481323)\",\"(0.0, 1.4866068363189697)\",\"(0.0, 1.4899663925170898)\",\"(0.0, 1.496662974357605)\",\"(0.0, 1.5132745504379272)\",\"(0.0, 1.5165750980377197)\",\"(0.0, 1.5329710245132446), multiplicity: 2\",\"(0.0, 1.5329710245132446), multiplicity: 2\",\"(0.0, 1.542724847793579)\",\"(0.0, 1.5459624528884888)\",\"(0.0, 1.5556349754333496), multiplicity: 2\",\"(0.0, 1.5556349754333496), multiplicity: 2\",\"(0.0, 1.5588457584381104)\",\"(0.0, 1.5811388492584229)\",\"(0.0, 1.5874507427215576)\",\"(0.0, 1.5937377214431763), multiplicity: 2\",\"(0.0, 1.5937377214431763), multiplicity: 2\",\"(0.0, 1.6093477010726929)\",\"(0.0, 1.6278820037841797)\",\"(0.0, 1.6613247394561768), multiplicity: 2\",\"(0.0, 1.6613247394561768), multiplicity: 2\",\"(0.0, 1.6673332452774048)\",\"(0.0, 1.6822603940963745)\",\"(0.0, 1.6852298974990845)\",\"(0.0, 1.6941074132919312)\",\"(0.0, 1.7117242813110352)\",\"(0.0, 1.7146427631378174)\",\"(0.0, 1.720465064048767)\",\"(0.0, 1.7521415948867798), multiplicity: 2\",\"(0.0, 1.7521415948867798), multiplicity: 2\",\"(0.0, 1.7606816291809082)\",\"(0.0, 1.7944358587265015)\",\"(0.0, 1.8165901899337769)\",\"(0.0, 1.8357559442520142)\",\"(0.0, 1.8411952257156372)\",\"(0.0, 1.8439089059829712)\",\"(0.0, 1.8466185331344604)\",\"(0.0, 1.8708287477493286)\",\"(0.0, 1.892088770866394)\",\"(0.0, 1.905255913734436)\",\"(0.0, 1.9467922449111938)\",\"(0.0, 1.987460732460022)\",\"(0.0, 2.00748610496521)\",\"(0.0, 2.0663979053497314)\",\"(0.0, 2.1047565937042236)\",\"(0.0, 2.197726011276245)\",\"(0.0, 2.379075527191162)\",\"(0.0, 2.5019991397857666)\",\"(0.0, 2.5119712352752686)\",\"(0.0, 2.519920587539673)\",\"(0.0, 2.6495282649993896)\",\"(0.0, 2.696293830871582)\",\"(0.0, 2.7694764137268066)\",\"(0.0, 2.8266587257385254)\",\"(0.0, 2.868797540664673)\",\"(0.0, 2.9034461975097656)\",\"(0.0, 4.676537036895752)\",\"(0.0, 4.694677829742432)\",\"(0.0, 4.7169904708862305)\"],\"mode\":\"markers\",\"name\":\"H0\",\"type\":\"scatter\",\"x\":[0.0,0.0,0.0,0.0,0.0,0.0,0.0,0.0,0.0,0.0,0.0,0.0,0.0,0.0,0.0,0.0,0.0,0.0,0.0,0.0,0.0,0.0,0.0,0.0,0.0,0.0,0.0,0.0,0.0,0.0,0.0,0.0,0.0,0.0,0.0,0.0,0.0,0.0,0.0,0.0,0.0,0.0,0.0,0.0,0.0,0.0,0.0,0.0,0.0,0.0,0.0,0.0,0.0,0.0,0.0,0.0,0.0,0.0,0.0,0.0,0.0,0.0,0.0,0.0,0.0,0.0,0.0,0.0,0.0,0.0,0.0,0.0,0.0,0.0,0.0,0.0,0.0,0.0,0.0,0.0,0.0,0.0,0.0,0.0,0.0,0.0,0.0,0.0,0.0,0.0,0.0,0.0,0.0,0.0,0.0,0.0,0.0,0.0,0.0,0.0,0.0,0.0,0.0,0.0,0.0,0.0,0.0,0.0,0.0,0.0,0.0,0.0,0.0,0.0,0.0],\"y\":[0.4358898997306824,0.800000011920929,0.8246211409568787,0.8246211409568787,0.8602325320243835,0.8660253882408142,0.8660253882408142,0.8888194561004639,0.9055384993553162,0.9055384993553162,0.9055384993553162,0.9110433459281921,0.9327378869056702,0.9327378869056702,0.9797958731651306,0.994987428188324,1.0,1.0049875974655151,1.0049875974655151,1.0099505186080933,1.0099505186080933,1.014889121055603,1.0440306663513184,1.0488088130950928,1.0488088130950928,1.0677077770233154,1.1135529279708862,1.1135529279708862,1.1135529279708862,1.126942753791809,1.1357816457748413,1.140175461769104,1.1445523500442505,1.1532562971115112,1.1618950366973877,1.1618950366973877,1.1958260536193848,1.2041594982147217,1.2247449159622192,1.2409673929214478,1.256980538368225,1.268857717514038,1.2884098291397095,1.2999999523162842,1.3038405179977417,1.3076696395874023,1.3266499042510986,1.3892444372177124,1.3928388357162476,1.4106736183166504,1.4106736183166504,1.4352699518203735,1.4352699518203735,1.452583909034729,1.462873935699463,1.469693899154663,1.4764822721481323,1.4866068363189697,1.4899663925170898,1.496662974357605,1.5132745504379272,1.5165750980377197,1.5329710245132446,1.5329710245132446,1.542724847793579,1.5459624528884888,1.5556349754333496,1.5556349754333496,1.5588457584381104,1.5811388492584229,1.5874507427215576,1.5937377214431763,1.5937377214431763,1.6093477010726929,1.6278820037841797,1.6613247394561768,1.6613247394561768,1.6673332452774048,1.6822603940963745,1.6852298974990845,1.6941074132919312,1.7117242813110352,1.7146427631378174,1.720465064048767,1.7521415948867798,1.7521415948867798,1.7606816291809082,1.7944358587265015,1.8165901899337769,1.8357559442520142,1.8411952257156372,1.8439089059829712,1.8466185331344604,1.8708287477493286,1.892088770866394,1.905255913734436,1.9467922449111938,1.987460732460022,2.00748610496521,2.0663979053497314,2.1047565937042236,2.197726011276245,2.379075527191162,2.5019991397857666,2.5119712352752686,2.519920587539673,2.6495282649993896,2.696293830871582,2.7694764137268066,2.8266587257385254,2.868797540664673,2.9034461975097656,4.676537036895752,4.694677829742432,4.7169904708862305]},{\"hoverinfo\":\"text\",\"hovertext\":[\"(3.077336549758911, 3.1906111240386963)\",\"(2.946183919906616, 3.4727511405944824)\",\"(2.8844411373138428, 2.969848394393921)\",\"(2.880972146987915, 2.935983657836914)\",\"(2.7982137203216553, 3.3763885498046875)\",\"(2.6191601753234863, 2.6795523166656494)\",\"(2.555386543273926, 2.8035690784454346)\",\"(2.395829677581787, 2.5357444286346436)\",\"(2.3727622032165527, 2.5884358882904053)\",\"(2.2781572341918945, 2.5099799633026123)\",\"(2.2583179473876953, 2.4269323348999023)\",\"(2.2360680103302, 2.2383029460906982)\",\"(2.177154064178467, 2.4839484691619873)\",\"(2.1656408309936523, 2.291287899017334)\",\"(2.102379560470581, 2.1679482460021973)\",\"(2.090454578399658, 2.1656408309936523)\",\"(2.085665464401245, 2.692582368850708)\",\"(2.0712316036224365, 2.0928449630737305)\",\"(2.0663979053497314, 2.1118712425231934)\",\"(2.0542638301849365, 2.213594436645508)\",\"(2.027313470840454, 2.3388030529022217)\",\"(1.9646883010864258, 2.0124611854553223)\",\"(1.954482078552246, 2.2516660690307617)\",\"(1.9416488409042358, 2.027313470840454)\",\"(1.9104973077774048, 2.537715435028076)\",\"(1.8814888000488281, 2.034698963165283)\",\"(1.8814888000488281, 2.2068076133728027)\",\"(1.8601075410842896, 1.892088770866394)\",\"(1.720465064048767, 1.8654757738113403)\",\"(1.717556357383728, 1.780449390411377)\",\"(1.6552945375442505, 1.726267695426941)\",\"(1.6522711515426636, 1.6673332452774048)\",\"(1.600000023841858, 1.720465064048767)\",\"(1.5811388492584229, 2.1656408309936523)\",\"(1.5556349754333496, 1.6822603940963745)\",\"(1.539480447769165, 1.892088770866394)\",\"(1.5297058820724487, 1.6613247394561768)\",\"(1.4594519138336182, 1.6881942749023438)\",\"(1.4282857179641724, 1.552417516708374)\",\"(1.4247807264328003, 1.4662878513336182)\",\"(1.4071247577667236, 1.5198683738708496)\",\"(1.4071247577667236, 1.4798648357391357)\",\"(1.3964240550994873, 1.4071247577667236)\",\"(1.3490737676620483, 1.5)\",\"(1.2609519958496094, 1.334166407585144)\",\"(1.1224972009658813, 1.2845232486724854)\",\"(1.0908712148666382, 1.2961481809616089)\",\"(1.0862780809402466, 1.2449899911880493)\",\"(1.0770329236984253, 1.2845232486724854)\",\"(1.058300495147705, 1.256980538368225)\"],\"mode\":\"markers\",\"name\":\"H1\",\"type\":\"scatter\",\"x\":[3.077336549758911,2.946183919906616,2.8844411373138428,2.880972146987915,2.7982137203216553,2.6191601753234863,2.555386543273926,2.395829677581787,2.3727622032165527,2.2781572341918945,2.2583179473876953,2.2360680103302,2.177154064178467,2.1656408309936523,2.102379560470581,2.090454578399658,2.085665464401245,2.0712316036224365,2.0663979053497314,2.0542638301849365,2.027313470840454,1.9646883010864258,1.954482078552246,1.9416488409042358,1.9104973077774048,1.8814888000488281,1.8814888000488281,1.8601075410842896,1.720465064048767,1.717556357383728,1.6552945375442505,1.6522711515426636,1.600000023841858,1.5811388492584229,1.5556349754333496,1.539480447769165,1.5297058820724487,1.4594519138336182,1.4282857179641724,1.4247807264328003,1.4071247577667236,1.4071247577667236,1.3964240550994873,1.3490737676620483,1.2609519958496094,1.1224972009658813,1.0908712148666382,1.0862780809402466,1.0770329236984253,1.058300495147705],\"y\":[3.1906111240386963,3.4727511405944824,2.969848394393921,2.935983657836914,3.3763885498046875,2.6795523166656494,2.8035690784454346,2.5357444286346436,2.5884358882904053,2.5099799633026123,2.4269323348999023,2.2383029460906982,2.4839484691619873,2.291287899017334,2.1679482460021973,2.1656408309936523,2.692582368850708,2.0928449630737305,2.1118712425231934,2.213594436645508,2.3388030529022217,2.0124611854553223,2.2516660690307617,2.027313470840454,2.537715435028076,2.034698963165283,2.2068076133728027,1.892088770866394,1.8654757738113403,1.780449390411377,1.726267695426941,1.6673332452774048,1.720465064048767,2.1656408309936523,1.6822603940963745,1.892088770866394,1.6613247394561768,1.6881942749023438,1.552417516708374,1.4662878513336182,1.5198683738708496,1.4798648357391357,1.4071247577667236,1.5,1.334166407585144,1.2845232486724854,1.2961481809616089,1.2449899911880493,1.2845232486724854,1.256980538368225]},{\"hoverinfo\":\"text\",\"hovertext\":[\"(3.011644124984741, 3.047950029373169)\",\"(2.8792359828948975, 2.880972146987915)\",\"(2.8460497856140137, 2.915475845336914)\",\"(2.7258026599884033, 2.812472105026245)\",\"(2.705549955368042, 2.812472105026245)\",\"(2.6944386959075928, 2.7092435359954834)\",\"(2.634387969970703, 2.6944386959075928)\",\"(2.47991943359375, 2.543619394302368)\",\"(2.437211513519287, 2.453568935394287)\",\"(2.193171262741089, 2.2427661418914795)\",\"(1.4352699518203735, 1.469693899154663)\"],\"mode\":\"markers\",\"name\":\"H2\",\"type\":\"scatter\",\"x\":[3.011644124984741,2.8792359828948975,2.8460497856140137,2.7258026599884033,2.705549955368042,2.6944386959075928,2.634387969970703,2.47991943359375,2.437211513519287,2.193171262741089,1.4352699518203735],\"y\":[3.047950029373169,2.880972146987915,2.915475845336914,2.812472105026245,2.812472105026245,2.7092435359954834,2.6944386959075928,2.543619394302368,2.453568935394287,2.2427661418914795,1.469693899154663]}],                        {\"height\":500,\"plot_bgcolor\":\"white\",\"template\":{\"data\":{\"bar\":[{\"error_x\":{\"color\":\"#2a3f5f\"},\"error_y\":{\"color\":\"#2a3f5f\"},\"marker\":{\"line\":{\"color\":\"#E5ECF6\",\"width\":0.5},\"pattern\":{\"fillmode\":\"overlay\",\"size\":10,\"solidity\":0.2}},\"type\":\"bar\"}],\"barpolar\":[{\"marker\":{\"line\":{\"color\":\"#E5ECF6\",\"width\":0.5},\"pattern\":{\"fillmode\":\"overlay\",\"size\":10,\"solidity\":0.2}},\"type\":\"barpolar\"}],\"carpet\":[{\"aaxis\":{\"endlinecolor\":\"#2a3f5f\",\"gridcolor\":\"white\",\"linecolor\":\"white\",\"minorgridcolor\":\"white\",\"startlinecolor\":\"#2a3f5f\"},\"baxis\":{\"endlinecolor\":\"#2a3f5f\",\"gridcolor\":\"white\",\"linecolor\":\"white\",\"minorgridcolor\":\"white\",\"startlinecolor\":\"#2a3f5f\"},\"type\":\"carpet\"}],\"choropleth\":[{\"colorbar\":{\"outlinewidth\":0,\"ticks\":\"\"},\"type\":\"choropleth\"}],\"contour\":[{\"colorbar\":{\"outlinewidth\":0,\"ticks\":\"\"},\"colorscale\":[[0.0,\"#0d0887\"],[0.1111111111111111,\"#46039f\"],[0.2222222222222222,\"#7201a8\"],[0.3333333333333333,\"#9c179e\"],[0.4444444444444444,\"#bd3786\"],[0.5555555555555556,\"#d8576b\"],[0.6666666666666666,\"#ed7953\"],[0.7777777777777778,\"#fb9f3a\"],[0.8888888888888888,\"#fdca26\"],[1.0,\"#f0f921\"]],\"type\":\"contour\"}],\"contourcarpet\":[{\"colorbar\":{\"outlinewidth\":0,\"ticks\":\"\"},\"type\":\"contourcarpet\"}],\"heatmap\":[{\"colorbar\":{\"outlinewidth\":0,\"ticks\":\"\"},\"colorscale\":[[0.0,\"#0d0887\"],[0.1111111111111111,\"#46039f\"],[0.2222222222222222,\"#7201a8\"],[0.3333333333333333,\"#9c179e\"],[0.4444444444444444,\"#bd3786\"],[0.5555555555555556,\"#d8576b\"],[0.6666666666666666,\"#ed7953\"],[0.7777777777777778,\"#fb9f3a\"],[0.8888888888888888,\"#fdca26\"],[1.0,\"#f0f921\"]],\"type\":\"heatmap\"}],\"heatmapgl\":[{\"colorbar\":{\"outlinewidth\":0,\"ticks\":\"\"},\"colorscale\":[[0.0,\"#0d0887\"],[0.1111111111111111,\"#46039f\"],[0.2222222222222222,\"#7201a8\"],[0.3333333333333333,\"#9c179e\"],[0.4444444444444444,\"#bd3786\"],[0.5555555555555556,\"#d8576b\"],[0.6666666666666666,\"#ed7953\"],[0.7777777777777778,\"#fb9f3a\"],[0.8888888888888888,\"#fdca26\"],[1.0,\"#f0f921\"]],\"type\":\"heatmapgl\"}],\"histogram\":[{\"marker\":{\"pattern\":{\"fillmode\":\"overlay\",\"size\":10,\"solidity\":0.2}},\"type\":\"histogram\"}],\"histogram2d\":[{\"colorbar\":{\"outlinewidth\":0,\"ticks\":\"\"},\"colorscale\":[[0.0,\"#0d0887\"],[0.1111111111111111,\"#46039f\"],[0.2222222222222222,\"#7201a8\"],[0.3333333333333333,\"#9c179e\"],[0.4444444444444444,\"#bd3786\"],[0.5555555555555556,\"#d8576b\"],[0.6666666666666666,\"#ed7953\"],[0.7777777777777778,\"#fb9f3a\"],[0.8888888888888888,\"#fdca26\"],[1.0,\"#f0f921\"]],\"type\":\"histogram2d\"}],\"histogram2dcontour\":[{\"colorbar\":{\"outlinewidth\":0,\"ticks\":\"\"},\"colorscale\":[[0.0,\"#0d0887\"],[0.1111111111111111,\"#46039f\"],[0.2222222222222222,\"#7201a8\"],[0.3333333333333333,\"#9c179e\"],[0.4444444444444444,\"#bd3786\"],[0.5555555555555556,\"#d8576b\"],[0.6666666666666666,\"#ed7953\"],[0.7777777777777778,\"#fb9f3a\"],[0.8888888888888888,\"#fdca26\"],[1.0,\"#f0f921\"]],\"type\":\"histogram2dcontour\"}],\"mesh3d\":[{\"colorbar\":{\"outlinewidth\":0,\"ticks\":\"\"},\"type\":\"mesh3d\"}],\"parcoords\":[{\"line\":{\"colorbar\":{\"outlinewidth\":0,\"ticks\":\"\"}},\"type\":\"parcoords\"}],\"pie\":[{\"automargin\":true,\"type\":\"pie\"}],\"scatter\":[{\"marker\":{\"colorbar\":{\"outlinewidth\":0,\"ticks\":\"\"}},\"type\":\"scatter\"}],\"scatter3d\":[{\"line\":{\"colorbar\":{\"outlinewidth\":0,\"ticks\":\"\"}},\"marker\":{\"colorbar\":{\"outlinewidth\":0,\"ticks\":\"\"}},\"type\":\"scatter3d\"}],\"scattercarpet\":[{\"marker\":{\"colorbar\":{\"outlinewidth\":0,\"ticks\":\"\"}},\"type\":\"scattercarpet\"}],\"scattergeo\":[{\"marker\":{\"colorbar\":{\"outlinewidth\":0,\"ticks\":\"\"}},\"type\":\"scattergeo\"}],\"scattergl\":[{\"marker\":{\"colorbar\":{\"outlinewidth\":0,\"ticks\":\"\"}},\"type\":\"scattergl\"}],\"scattermapbox\":[{\"marker\":{\"colorbar\":{\"outlinewidth\":0,\"ticks\":\"\"}},\"type\":\"scattermapbox\"}],\"scatterpolar\":[{\"marker\":{\"colorbar\":{\"outlinewidth\":0,\"ticks\":\"\"}},\"type\":\"scatterpolar\"}],\"scatterpolargl\":[{\"marker\":{\"colorbar\":{\"outlinewidth\":0,\"ticks\":\"\"}},\"type\":\"scatterpolargl\"}],\"scatterternary\":[{\"marker\":{\"colorbar\":{\"outlinewidth\":0,\"ticks\":\"\"}},\"type\":\"scatterternary\"}],\"surface\":[{\"colorbar\":{\"outlinewidth\":0,\"ticks\":\"\"},\"colorscale\":[[0.0,\"#0d0887\"],[0.1111111111111111,\"#46039f\"],[0.2222222222222222,\"#7201a8\"],[0.3333333333333333,\"#9c179e\"],[0.4444444444444444,\"#bd3786\"],[0.5555555555555556,\"#d8576b\"],[0.6666666666666666,\"#ed7953\"],[0.7777777777777778,\"#fb9f3a\"],[0.8888888888888888,\"#fdca26\"],[1.0,\"#f0f921\"]],\"type\":\"surface\"}],\"table\":[{\"cells\":{\"fill\":{\"color\":\"#EBF0F8\"},\"line\":{\"color\":\"white\"}},\"header\":{\"fill\":{\"color\":\"#C8D4E3\"},\"line\":{\"color\":\"white\"}},\"type\":\"table\"}]},\"layout\":{\"annotationdefaults\":{\"arrowcolor\":\"#2a3f5f\",\"arrowhead\":0,\"arrowwidth\":1},\"autotypenumbers\":\"strict\",\"coloraxis\":{\"colorbar\":{\"outlinewidth\":0,\"ticks\":\"\"}},\"colorscale\":{\"diverging\":[[0,\"#8e0152\"],[0.1,\"#c51b7d\"],[0.2,\"#de77ae\"],[0.3,\"#f1b6da\"],[0.4,\"#fde0ef\"],[0.5,\"#f7f7f7\"],[0.6,\"#e6f5d0\"],[0.7,\"#b8e186\"],[0.8,\"#7fbc41\"],[0.9,\"#4d9221\"],[1,\"#276419\"]],\"sequential\":[[0.0,\"#0d0887\"],[0.1111111111111111,\"#46039f\"],[0.2222222222222222,\"#7201a8\"],[0.3333333333333333,\"#9c179e\"],[0.4444444444444444,\"#bd3786\"],[0.5555555555555556,\"#d8576b\"],[0.6666666666666666,\"#ed7953\"],[0.7777777777777778,\"#fb9f3a\"],[0.8888888888888888,\"#fdca26\"],[1.0,\"#f0f921\"]],\"sequentialminus\":[[0.0,\"#0d0887\"],[0.1111111111111111,\"#46039f\"],[0.2222222222222222,\"#7201a8\"],[0.3333333333333333,\"#9c179e\"],[0.4444444444444444,\"#bd3786\"],[0.5555555555555556,\"#d8576b\"],[0.6666666666666666,\"#ed7953\"],[0.7777777777777778,\"#fb9f3a\"],[0.8888888888888888,\"#fdca26\"],[1.0,\"#f0f921\"]]},\"colorway\":[\"#636efa\",\"#EF553B\",\"#00cc96\",\"#ab63fa\",\"#FFA15A\",\"#19d3f3\",\"#FF6692\",\"#B6E880\",\"#FF97FF\",\"#FECB52\"],\"font\":{\"color\":\"#2a3f5f\"},\"geo\":{\"bgcolor\":\"white\",\"lakecolor\":\"white\",\"landcolor\":\"#E5ECF6\",\"showlakes\":true,\"showland\":true,\"subunitcolor\":\"white\"},\"hoverlabel\":{\"align\":\"left\"},\"hovermode\":\"closest\",\"mapbox\":{\"style\":\"light\"},\"paper_bgcolor\":\"white\",\"plot_bgcolor\":\"#E5ECF6\",\"polar\":{\"angularaxis\":{\"gridcolor\":\"white\",\"linecolor\":\"white\",\"ticks\":\"\"},\"bgcolor\":\"#E5ECF6\",\"radialaxis\":{\"gridcolor\":\"white\",\"linecolor\":\"white\",\"ticks\":\"\"}},\"scene\":{\"xaxis\":{\"backgroundcolor\":\"#E5ECF6\",\"gridcolor\":\"white\",\"gridwidth\":2,\"linecolor\":\"white\",\"showbackground\":true,\"ticks\":\"\",\"zerolinecolor\":\"white\"},\"yaxis\":{\"backgroundcolor\":\"#E5ECF6\",\"gridcolor\":\"white\",\"gridwidth\":2,\"linecolor\":\"white\",\"showbackground\":true,\"ticks\":\"\",\"zerolinecolor\":\"white\"},\"zaxis\":{\"backgroundcolor\":\"#E5ECF6\",\"gridcolor\":\"white\",\"gridwidth\":2,\"linecolor\":\"white\",\"showbackground\":true,\"ticks\":\"\",\"zerolinecolor\":\"white\"}},\"shapedefaults\":{\"line\":{\"color\":\"#2a3f5f\"}},\"ternary\":{\"aaxis\":{\"gridcolor\":\"white\",\"linecolor\":\"white\",\"ticks\":\"\"},\"baxis\":{\"gridcolor\":\"white\",\"linecolor\":\"white\",\"ticks\":\"\"},\"bgcolor\":\"#E5ECF6\",\"caxis\":{\"gridcolor\":\"white\",\"linecolor\":\"white\",\"ticks\":\"\"}},\"title\":{\"x\":0.05},\"xaxis\":{\"automargin\":true,\"gridcolor\":\"white\",\"linecolor\":\"white\",\"ticks\":\"\",\"title\":{\"standoff\":15},\"zerolinecolor\":\"white\",\"zerolinewidth\":2},\"yaxis\":{\"automargin\":true,\"gridcolor\":\"white\",\"linecolor\":\"white\",\"ticks\":\"\",\"title\":{\"standoff\":15},\"zerolinecolor\":\"white\",\"zerolinewidth\":2}}},\"width\":500,\"xaxis\":{\"autorange\":false,\"exponentformat\":\"e\",\"linecolor\":\"black\",\"linewidth\":1,\"mirror\":false,\"range\":[-0.09433980941772462,4.811330280303955],\"showexponent\":\"all\",\"showline\":true,\"side\":\"bottom\",\"ticks\":\"outside\",\"title\":{\"text\":\"Birth\"},\"type\":\"linear\",\"zeroline\":true},\"yaxis\":{\"autorange\":false,\"exponentformat\":\"e\",\"linecolor\":\"black\",\"linewidth\":1,\"mirror\":false,\"range\":[-0.09433980941772462,4.811330280303955],\"scaleanchor\":\"x\",\"scaleratio\":1,\"showexponent\":\"all\",\"showline\":true,\"side\":\"left\",\"ticks\":\"outside\",\"title\":{\"text\":\"Death\"},\"type\":\"linear\",\"zeroline\":true}},                        {\"responsive\": true}                    ).then(function(){\n",
       "                            \n",
       "var gd = document.getElementById('03d34fdc-7ccd-418a-8ade-1eef0d1a7058');\n",
       "var x = new MutationObserver(function (mutations, observer) {{\n",
       "        var display = window.getComputedStyle(gd).display;\n",
       "        if (!display || display === 'none') {{\n",
       "            console.log([gd, 'removed!']);\n",
       "            Plotly.purge(gd);\n",
       "            observer.disconnect();\n",
       "        }}\n",
       "}});\n",
       "\n",
       "// Listen for the removal of the full notebook cells\n",
       "var notebookContainer = gd.closest('#notebook-container');\n",
       "if (notebookContainer) {{\n",
       "    x.observe(notebookContainer, {childList: true});\n",
       "}}\n",
       "\n",
       "// Listen for the clearing of the current output cell\n",
       "var outputEl = gd.closest('.output');\n",
       "if (outputEl) {{\n",
       "    x.observe(outputEl, {childList: true});\n",
       "}}\n",
       "\n",
       "                        })                };                });            </script>        </div>"
      ]
     },
     "metadata": {},
     "output_type": "display_data"
    }
   ],
   "source": [
    "final_embbeded_normal_values = normal_values_embedded[None, :, :]\n",
    "\n",
    "persistences_diagrams_normal_values = persistence.fit_transform(final_embbeded_normal_values)\n",
    "\n",
    "plot_diagram(persistences_diagrams_normal_values[0])"
   ]
  }
 ],
 "metadata": {
  "kernelspec": {
   "display_name": "Python 3",
   "language": "python",
   "name": "python3"
  },
  "language_info": {
   "codemirror_mode": {
    "name": "ipython",
    "version": 3
   },
   "file_extension": ".py",
   "mimetype": "text/x-python",
   "name": "python",
   "nbconvert_exporter": "python",
   "pygments_lexer": "ipython3",
   "version": "3.8.5"
  }
 },
 "nbformat": 4,
 "nbformat_minor": 4
}
