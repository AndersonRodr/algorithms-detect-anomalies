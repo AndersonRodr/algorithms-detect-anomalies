{
 "cells": [
  {
   "cell_type": "code",
   "execution_count": 1,
   "metadata": {},
   "outputs": [],
   "source": [
    "import numpy as np\n",
    "import pandas as pd\n",
    "from sklearn.cluster import DBSCAN\n",
    "from sklearn import metrics\n",
    "from sklearn.datasets import make_blobs, make_circles\n",
    "from sklearn.preprocessing import StandardScaler\n",
    "import matplotlib.pyplot as plt\n",
    "import requests \n",
    "from collections import Counter\n",
    "import random\n",
    "import decimal\n",
    "import math\n",
    "import random"
   ]
  },
  {
   "cell_type": "code",
   "execution_count": 76,
   "metadata": {},
   "outputs": [
    {
     "name": "stderr",
     "output_type": "stream",
     "text": [
      "<ipython-input-76-4c0a7404db43>:19: SettingWithCopyWarning: \n",
      "A value is trying to be set on a copy of a slice from a DataFrame.\n",
      "Try using .loc[row_indexer,col_indexer] = value instead\n",
      "\n",
      "See the caveats in the documentation: https://pandas.pydata.org/pandas-docs/stable/user_guide/indexing.html#returning-a-view-versus-a-copy\n",
      "  df_temp[\"id\"] = df.index + 1\n"
     ]
    }
   ],
   "source": [
    "##------------------------------Pegando os Dados-----------------------------------\n",
    "\n",
    "#url = \"https://apitempo.inmet.gov.br/estacao/diaria/2018-12-21/2019-03-21/A307\"\n",
    "url = \"https://apitempo.inmet.gov.br/estacao/diaria/2018-01-01/2019-12-31/A307\"\n",
    "headers = {'User-Agent': 'Mozilla/5.0 (Macintosh; Intel Mac OS X 10_11_5) AppleWebKit/537.36 (KHTML, like Gecko) Chrome/50.0.2661.102 Safari/537.36'}\n",
    "resp = requests.get(url, headers=headers)\n",
    "df = None\n",
    "df_temp = None\n",
    "if resp.status_code != 200:\n",
    "    print (resp.raise_for_status())\n",
    "else:\n",
    "    df = pd.DataFrame(resp.json())\n",
    "    df.dropna(inplace=True)\n",
    "    #df = df[df[\"TEM_MAX\"].astype('float') ]\n",
    "    df_temp = df[df['TEMP_MAX'].notnull()]\n",
    "    df_temp = df[df['UMID_MED'].notnull()]\n",
    "    \n",
    "    df_temp = df[['TEMP_MAX', 'UMID_MED']]\n",
    "    df_temp[\"id\"] = df.index + 1 \n",
    "\n",
    "    df_umid = df[df['UMID_MED'].notnull()]\n",
    "    df_umid = df[['UMID_MED']]\n",
    "    #df_umid[\"id\"] = df.index + 1\n"
   ]
  },
  {
   "cell_type": "code",
   "execution_count": 103,
   "metadata": {},
   "outputs": [],
   "source": [
    "\n",
    "df_training_temp = None\n",
    "df_training_temp_anomalie_edit = None\n",
    "desvioPadraoTempTraining = 0\n",
    "desvioPadraoUmidTraining = 0\n",
    "\n",
    "desvioPadraoTempTest = 0\n",
    "desvioPadraoUmidTest = 0\n",
    "\n",
    "desvioPadrao = 0\n",
    "\n",
    "def valorFinalTemperatura(df_training_temp_anomalie_edit, treino):\n",
    "    valorMediaTemp = df_training_temp_anomalie_edit['TEMP_MAX'].sum()/df_training_temp_anomalie_edit.shape[0]\n",
    "    desvioPadraoTemp = df_training_temp_anomalie_edit[\"TEMP_MAX\"].std()\n",
    "    if treino:\n",
    "        desvioPadraoTempTraining = desvioPadraoTemp\n",
    "    else:\n",
    "        desvioPadraoTempTest = desvioPadraoTemp\n",
    "    desvioPadraoEditadoTemp = 3 * desvioPadraoTemp\n",
    "    valorFinalTemp = desvioPadraoEditadoTemp + valorMediaTemp\n",
    "    valorFinalTemp = equacaoExponencial()\n",
    "    return valorFinalTemp\n",
    "\n",
    "def valorFinalUmidade(df_training_temp_anomalie_edit):\n",
    "    valorMediaUmid = df_training_temp_anomalie_edit['UMID_MED'].sum()/df_training_temp_anomalie_edit.shape[0]\n",
    "    desvioPadraoUmid = df_training_temp_anomalie_edit[\"UMID_MED\"].std()\n",
    "    desvioPadraoUmidTraining = desvioPadraoUmid\n",
    "    desvioPadraoEditadoUmid = 3 * desvioPadraoUmid\n",
    "    valorFinalUmid = desvioPadraoEditadoUmid + valorMediaUmid\n",
    "    valorFinalUmid = equacaoExponencial()\n",
    "    return valorFinalUmid\n",
    "\n",
    "def qtdRowsTemp():\n",
    "    count_row_temp = df_temp.shape[0]\n",
    "    return count_row_temp\n",
    "\n",
    "def equacaoExponencial():\n",
    "    numberX = decimal.Decimal(random.randrange(-50, 50))/100\n",
    "    eq = math.exp(3 * abs(numberX)) + 3\n",
    "    return float(eq)"
   ]
  },
  {
   "cell_type": "code",
   "execution_count": 109,
   "metadata": {},
   "outputs": [],
   "source": [
    "#------------------------------Tratando os Dados-----------------------------------\n",
    "\n",
    "df_training_temp_anomalie_edit = df_temp.sample(n=30, random_state=1)\n",
    "\n",
    "def dataTraining(percentOutliers, dbscan):\n",
    "    \n",
    "    qtd_training_temp = int(qtdRowsTemp()/3) * 2\n",
    "\n",
    "    if dbscan:\n",
    "        qtd_training_temp = qtdRowsTemp()\n",
    "\n",
    "    df_training_temp = df_temp.sample(qtd_training_temp)\n",
    "\n",
    "    count_training_temp = int((df_training_temp.shape[0] * percentOutliers) / 100)\n",
    "        \n",
    "    \n",
    "    df_test_temp = pd.concat([df_temp, df_training_temp]).drop_duplicates(keep=False)\n",
    "\n",
    "    df_training_temp = pd.concat([df_training_temp, df_training_temp_anomalie_edit]).drop_duplicates(keep=False)\n",
    "    df_training_temp_anomalie_edit.dropna(inplace=True)\n",
    "\n",
    "    df_training_temp_anomalie_edit[\"TEMP_MAX\"] = df_training_temp_anomalie_edit[\"TEMP_MAX\"].astype(float)\n",
    "    df_training_temp_anomalie_edit[\"UMID_MED\"] = df_training_temp_anomalie_edit[\"UMID_MED\"].astype(float)\n",
    "    \n",
    "    valorFinalTemp = valorFinalTemperatura(df_training_temp_anomalie_edit, True)\n",
    "    valorFinalUmid = valorFinalUmidade(df_training_temp_anomalie_edit)\n",
    "\n",
    "    df_training_temp_anomalie_edit[\"TEMP_MAX\"] = df_training_temp_anomalie_edit[\"TEMP_MAX\"].add(valorFinalTemp)\n",
    "    df_training_temp_anomalie_edit[\"UMID_MED\"] = df_training_temp_anomalie_edit[\"UMID_MED\"].add(valorFinalUmid)\n",
    "\n",
    "    df_training_temp_anomalie_edit.sort_index(inplace=True)\n",
    "    \n",
    "    #print (df_training_temp_anomalie_edit.shape)\n",
    "    print (df_training_temp_anomalie_edit)\n",
    "\n",
    "    df_training_temp = pd.concat([df_training_temp, df_training_temp_anomalie_edit])\n",
    "\n",
    "    #Treino\n",
    "    df_training_temp[\"TEMP_MAX\"] = df_training_temp[\"TEMP_MAX\"].astype(float)\n",
    "    df_training_temp[\"UMID_MED\"] = df_training_temp[\"UMID_MED\"].astype(float)\n",
    "    df_training_temp.dropna(inplace=True)\n",
    "    df_training_temp.sort_index(inplace=True)\n",
    "    #df_training_temp.sort_values(by=['TEMP_MAX'], ascending=True)\n",
    "    df_training_temp = df_training_temp.drop(columns='id')\n",
    "\n",
    "    #Teste\n",
    "    count_test_temp = int((df_test_temp.shape[0] * percentOutliers) / 100)\n",
    "    df_test_temp_anomalie_edit = df_test_temp.sample(n=count_test_temp, random_state=1)\n",
    "    df_test_temp = pd.concat([df_test_temp, df_test_temp_anomalie_edit]).drop_duplicates(keep=False)\n",
    "    df_test_temp_anomalie_edit.dropna(inplace=True)\n",
    "    \n",
    "    df_test_temp_anomalie_edit[\"TEMP_MAX\"] = df_test_temp_anomalie_edit[\"TEMP_MAX\"].astype(float)\n",
    "    df_test_temp_anomalie_edit[\"UMID_MED\"] = df_test_temp_anomalie_edit[\"UMID_MED\"].astype(float)\n",
    "    \n",
    "    valorFinalTemp = valorFinalTemperatura(df_test_temp_anomalie_edit, False)\n",
    "    valorFinalUmid = valorFinalUmidade(df_test_temp_anomalie_edit)\n",
    "    \n",
    "    df_test_temp_anomalie_edit[\"TEMP_MAX\"] = df_test_temp_anomalie_edit[\"TEMP_MAX\"].add(valorFinalTemp)\n",
    "    df_test_temp_anomalie_edit[\"UMID_MED\"] = df_test_temp_anomalie_edit[\"UMID_MED\"].add(valorFinalUmid)\n",
    "\n",
    "    df_test_temp = pd.concat([df_test_temp, df_test_temp_anomalie_edit])\n",
    "    \n",
    "    df_test_temp[\"TEMP_MAX\"] = df_test_temp[\"TEMP_MAX\"].astype(float)\n",
    "    df_test_temp[\"UMID_MED\"] = df_test_temp[\"UMID_MED\"].astype(float)\n",
    "    df_test_temp.sort_index(inplace=True)\n",
    "\n",
    "    df_test_temp.dropna(inplace=True)\n",
    "    df_test_temp = df_test_temp.drop(columns='id')\n",
    "    desvioPadrao = (desvioPadraoTempTraining + desvioPadraoUmidTraining) / 2\n",
    "    return df_training_temp, df_test_temp"
   ]
  },
  {
   "cell_type": "code",
   "execution_count": 110,
   "metadata": {},
   "outputs": [
    {
     "name": "stdout",
     "output_type": "stream",
     "text": [
      "      TEMP_MAX   UMID_MED   id\n",
      "0    43.732787  47.332787    1\n",
      "13   42.232787  58.532787   14\n",
      "23   41.932787  52.432787   24\n",
      "64   42.332787  56.632787   65\n",
      "184  37.432787  54.232787  185\n",
      "210  37.432787  55.132787  211\n",
      "225  39.532787  52.032787  226\n",
      "266  41.032787  50.132787  267\n",
      "290  40.232787  56.032787  291\n",
      "291  41.732787  49.632787  292\n",
      "315  41.232787  48.632787  316\n",
      "402  39.432787  70.232787  403\n",
      "446  37.432787  82.232787  447\n",
      "478  40.932787  57.132787  479\n",
      "482  40.432787  56.932787  483\n",
      "496  40.332787  62.632787  497\n",
      "501  38.432787  66.432787  502\n",
      "512  39.132787  58.732787  513\n",
      "528  36.432787  74.432787  529\n",
      "548  39.732787  58.432787  549\n",
      "552  38.632787  54.632787  553\n",
      "563  35.132787  67.532787  564\n",
      "590  37.532787  62.632787  591\n",
      "601  38.632787  56.632787  602\n",
      "606  38.032787  60.632787  607\n",
      "609  41.032787  51.832787  610\n",
      "611  39.732787  54.632787  612\n",
      "653  39.532787  52.332787  654\n",
      "676  42.432787  47.932787  677\n",
      "690  41.032787  48.732787  691\n"
     ]
    },
    {
     "name": "stderr",
     "output_type": "stream",
     "text": [
      "<ipython-input-103-f906378f122b>:12: RuntimeWarning: invalid value encountered in double_scalars\n",
      "  valorMediaTemp = df_training_temp_anomalie_edit['TEMP_MAX'].sum()/df_training_temp_anomalie_edit.shape[0]\n",
      "<ipython-input-103-f906378f122b>:24: RuntimeWarning: invalid value encountered in double_scalars\n",
      "  valorMediaUmid = df_training_temp_anomalie_edit['UMID_MED'].sum()/df_training_temp_anomalie_edit.shape[0]\n"
     ]
    }
   ],
   "source": [
    "#import random\n",
    "\n",
    "taxaContaminacao = 15\n",
    "dfs = dataTraining(taxaContaminacao, True)\n",
    "df_training_temp = dfs[0]\n",
    "df_test_temp = dfs[1]"
   ]
  },
  {
   "cell_type": "code",
   "execution_count": 111,
   "metadata": {
    "scrolled": false
   },
   "outputs": [
    {
     "name": "stdout",
     "output_type": "stream",
     "text": [
      "\n",
      "Outliers encontrados: \n",
      "(25, 2)\n",
      "      TEMP_MAX   UMID_MED\n",
      "0    43.732787  47.332787\n",
      "13   42.232787  58.532787\n",
      "26   35.800000  64.600000\n",
      "40   29.300000  80.900000\n",
      "336  32.800000  74.300000\n",
      "337  26.400000  80.100000\n",
      "338  29.500000  77.800000\n",
      "402  39.432787  70.232787\n",
      "446  37.432787  82.232787\n",
      "459  32.000000  74.500000\n",
      "496  40.332787  62.632787\n",
      "501  38.432787  66.432787\n",
      "522  26.400000  68.900000\n",
      "528  36.432787  74.432787\n",
      "554  25.700000  69.800000\n",
      "555  25.900000  64.400000\n",
      "563  35.132787  67.532787\n",
      "564  26.300000  59.900000\n",
      "583  26.300000  69.700000\n",
      "590  37.532787  62.632787\n",
      "692  40.100000  33.000000\n",
      "699  38.400000  31.300000\n",
      "700  39.000000  27.400000\n",
      "701  39.300000  27.700000\n",
      "705  38.600000  30.000000\n"
     ]
    },
    {
     "data": {
      "image/png": "[encoded data removed]",
      "text/plain": [
       "<Figure size 432x288 with 1 Axes>"
      ]
     },
     "metadata": {
      "needs_background": "light"
     },
     "output_type": "display_data"
    }
   ],
   "source": [
    "#------------------------------Implementando o DBSCAN-----------------------------------\n",
    "def dbscan_part1(df, eps, min_samples):\n",
    "    #X = np.array([ [1, 2], [2, 2], [7, 6], [28, 7], [2, 3], [25, 8], [3, 2],[1, 3],[1.1, 2],[1.2, 2],[1.3, 2],[1.4, 2]])\n",
    "    X = np.array(df)\n",
    "    X = StandardScaler().fit_transform(df)\n",
    "    db = DBSCAN(eps=eps, min_samples=min_samples, algorithm='brute',p=100).fit(X)\n",
    "    core_samples_mask = np.zeros_like(db.labels_, dtype=bool)\n",
    "    core_samples_mask[db.core_sample_indices_] = True\n",
    "\n",
    "    labels = db.labels_\n",
    "\n",
    "    outliers = df[db.labels_ == -1]\n",
    "\n",
    "    n_clusters_ = len(set(labels)) - (1 if -1 in labels else 0)\n",
    "    n_noise_ = list(labels).count(-1)\n",
    "\n",
    "    unique_labels = set(labels)\n",
    "    colors = [plt.cm.Spectral(each)\n",
    "              for each in np.linspace(0, 1, len(unique_labels))]\n",
    "    for k, col in zip(unique_labels, colors):\n",
    "        if k == -1:\n",
    "            # Preto usado para ruído\n",
    "            col = [0, 0, 0, 1]\n",
    "\n",
    "        class_member_mask = (labels == k)\n",
    "\n",
    "        xy = X[class_member_mask & core_samples_mask]\n",
    "        plt.plot(xy[:, 0], xy[:, 1], 'o', markerfacecolor=tuple(col),\n",
    "                 markeredgecolor='k', markersize=14)\n",
    "\n",
    "        xy = X[class_member_mask & ~core_samples_mask]\n",
    "        plt.plot(xy[:, 0], xy[:, 1], 'o', markerfacecolor=tuple(col),\n",
    "                 markeredgecolor='k', markersize=6)\n",
    "\n",
    "    print ()\n",
    "    print('Outliers encontrados: ')\n",
    "    print (outliers.shape)\n",
    "    print (outliers)\n",
    "    \n",
    "    plt.title('Número estimado de clusters: %d' % n_clusters_)\n",
    "    plt.xlabel(\"TEMP_MAX\")\n",
    "    plt.ylabel(\"UMID_MED\")\n",
    "    plt.show()\n",
    "\n",
    "eps = 0.5\n",
    "min_samples = 5\n",
    "#print (df_training_temp.shape)\n",
    "#print (df_training_temp)\n",
    "\n",
    "#x = np.array([[10, 50], [12, 50], [48, 70]], np.float)\n",
    "\n",
    "#df=pd.DataFrame(x, columns=['TEMP_MAX', 'UMID_MED'])\n",
    "#df_training_temp = pd.concat([df, df_training_temp]).drop_duplicates(keep=False)\n",
    "#df_training_temp = np.array([[10, 20], [12, 21], [10, 23], [57,75]], np.float)\n",
    "\n",
    "dbscan_part1(df_training_temp, eps, min_samples)\n"
   ]
  },
  {
   "cell_type": "code",
   "execution_count": 19,
   "metadata": {},
   "outputs": [
    {
     "data": {
      "image/png": "[encoded data removed]",
      "text/plain": [
       "<Figure size 432x288 with 1 Axes>"
      ]
     },
     "metadata": {
      "needs_background": "light"
     },
     "output_type": "display_data"
    }
   ],
   "source": [
    "from sklearn.svm import OneClassSVM\n",
    "import seaborn as sns\n",
    "\n",
    "x = np.array([[10, 50], [12, 50]], np.float)\n",
    "df=pd.DataFrame(x, columns=['TEMP_MAX', 'UMID_MED'])\n",
    "df_training_temp = pd.concat([df, df_training_temp]).drop_duplicates(keep=False)\n",
    "\n",
    "\n",
    "X = np.array(df_training_temp)\n",
    "X, _ = make_blobs(n_samples=df_training_temp.shape[0], centers=X, cluster_std=0.4,random_state=None)\n",
    "\n",
    "ocsvm = OneClassSVM(kernel='rbf', degree=3, gamma='scale', nu=0.5, coef0=0.0,tol=0.001,\n",
    "                    shrinking=True,cache_size=10,\n",
    "                    verbose=False,max_iter=-1).fit(X)\n",
    "pred = ocsvm.predict(X)\n",
    "outlier_index = np.where(pred==-1)\n",
    "outlier_values = X[outlier_index]\n",
    "\n",
    "sns.scatterplot(x=X[:,0], y=X[:,1])\n",
    "sns.scatterplot(x=outlier_values[:,0], \n",
    "                y=outlier_values[:,1], color='black')\n",
    "plt.title(\"OCSVM\", fontsize=15, pad=15)\n",
    "plt.savefig(\"One-Class SVM Detection.png\", dpi=80)"
   ]
  },
  {
   "cell_type": "code",
   "execution_count": 26,
   "metadata": {},
   "outputs": [
    {
     "data": {
      "text/plain": [
       "Text(0, 0.5, 'UMID_MED')"
      ]
     },
     "execution_count": 26,
     "metadata": {},
     "output_type": "execute_result"
    },
    {
     "data": {
      "image/png": "[encoded data removed]",
      "text/plain": [
       "<Figure size 432x288 with 1 Axes>"
      ]
     },
     "metadata": {
      "needs_background": "light"
     },
     "output_type": "display_data"
    }
   ],
   "source": [
    "from sklearn.ensemble import IsolationForest\n",
    "from sklearn.decomposition import PCA\n",
    "import seaborn as sns\n",
    "\n",
    "x = np.array([[10, 50], [12, 50]], np.float)\n",
    "df=pd.DataFrame(x, columns=['TEMP_MAX', 'UMID_MED'])\n",
    "df_training_temp = pd.concat([df, df_training_temp]).drop_duplicates(keep=False)\n",
    "\n",
    "X = np.array(df_training_temp)\n",
    "\n",
    "iforest = IsolationForest(n_estimators=300, max_samples=df_training_temp.shape[0], \n",
    "                          warm_start=False,\n",
    "                          contamination='auto', max_features=1.0, \n",
    "                          bootstrap=False, n_jobs=None, random_state=None)\n",
    "\n",
    "pred = iforest.fit_predict(X)\n",
    "outlier_index = np.where(pred==-1)\n",
    "outlier_values = X[outlier_index]\n",
    "\n",
    "sc=StandardScaler()\n",
    "X_scaled = sc.fit_transform(X)\n",
    "outlier_values_scaled = sc.transform(outlier_values)\n",
    "\n",
    "pca = PCA(n_components=2)\n",
    "X_pca = pca.fit_transform(X_scaled)\n",
    "outlier_values_pca = pca.transform(outlier_values_scaled)\n",
    "\n",
    "sns.scatterplot(x=X_pca[:,0], y=X_pca[:,1])\n",
    "sns.scatterplot(x=outlier_values_pca[:,0], \n",
    "                y=outlier_values_pca[:,1], color='r')\n",
    "plt.title(\"IF\", fontsize=15, pad=15)\n",
    "plt.xlabel(\"TEMP_MAX\")\n",
    "plt.ylabel(\"UMID_MED\")"
   ]
  },
  {
   "cell_type": "code",
   "execution_count": 27,
   "metadata": {},
   "outputs": [
    {
     "name": "stdout",
     "output_type": "stream",
     "text": [
      "[ 1 -1 -1  1 -1 -1  1  1 -1 -1  1 -1  1  1  1  1  1  1 -1  1  1  1  1 -1\n",
      " -1 -1  1 -1  1 -1  1  1 -1  1 -1  1 -1 -1  1 -1 -1  1 -1  1 -1 -1 -1  1\n",
      " -1  1  1 -1  1 -1 -1 -1 -1 -1  1  1 -1 -1 -1 -1  1  1  1  1  1 -1 -1 -1\n",
      " -1  1  1  1  1  1  1  1  1 -1 -1  1  1  1 -1  1  1  1 -1  1  1 -1  1 -1\n",
      "  1 -1  1  1  1  1 -1  1 -1 -1  1  1 -1 -1  1 -1 -1 -1 -1 -1  1  1 -1 -1\n",
      "  1  1 -1 -1 -1 -1 -1  1  1 -1  1 -1 -1 -1  1  1 -1  1 -1 -1  1  1  1  1\n",
      " -1 -1  1  1  1  1  1 -1 -1 -1 -1 -1 -1 -1 -1  1  1 -1  1 -1 -1  1  1  1\n",
      "  1 -1  1  1  1  1 -1  1  1  1  1  1 -1 -1  1  1 -1 -1  1 -1 -1  1 -1 -1\n",
      "  1  1 -1  1  1  1 -1 -1  1 -1  1  1  1  1  1 -1 -1  1  1 -1 -1  1 -1 -1\n",
      " -1 -1 -1  1 -1 -1 -1 -1 -1 -1 -1 -1 -1 -1 -1  1 -1 -1 -1  1 -1 -1 -1  1\n",
      "  1  1 -1  1 -1  1 -1 -1 -1  1 -1 -1  1 -1  1  1  1  1  1  1  1 -1  1 -1\n",
      " -1  1 -1  1 -1 -1 -1 -1 -1 -1 -1 -1 -1  1  1  1  1  1 -1 -1  1 -1 -1  1\n",
      " -1  1  1 -1  1 -1  1  1 -1  1 -1 -1 -1  1 -1  1  1  1 -1 -1 -1  1 -1  1\n",
      "  1 -1  1 -1  1  1  1 -1 -1 -1  1  1  1 -1  1  1  1 -1 -1  1 -1  1  1  1\n",
      "  1  1  1  1 -1 -1  1 -1  1 -1  1 -1  1  1  1  1 -1  1 -1 -1  1  1 -1  1\n",
      "  1  1  1  1  1  1 -1 -1 -1  1  1 -1  1 -1  1 -1 -1 -1  1  1  1 -1  1  1\n",
      " -1  1 -1  1  1 -1  1 -1 -1  1  1 -1  1  1  1  1 -1  1  1  1  1 -1 -1 -1\n",
      "  1  1  1  1 -1  1  1 -1  1 -1  1 -1 -1 -1  1  1 -1  1 -1 -1  1 -1  1 -1\n",
      " -1 -1  1 -1  1  1  1 -1  1  1 -1 -1  1  1  1  1 -1  1 -1 -1  1 -1  1 -1\n",
      " -1 -1 -1 -1 -1 -1  1 -1  1  1  1  1  1 -1 -1 -1 -1 -1  1  1  1  1  1  1\n",
      "  1  1  1 -1  1  1 -1 -1  1  1  1 -1  1  1 -1  1  1  1 -1 -1  1 -1  1  1\n",
      "  1 -1  1  1 -1  1 -1 -1  1 -1  1  1 -1  1  1 -1  1  1 -1  1  1  1  1  1\n",
      "  1 -1 -1  1 -1  1 -1  1 -1  1  1  1 -1 -1 -1 -1 -1  1  1 -1  1 -1 -1  1\n",
      " -1  1 -1 -1  1 -1  1  1  1  1 -1  1 -1  1  1 -1  1 -1  1  1 -1 -1  1  1\n",
      " -1 -1  1  1 -1 -1  1  1  1  1 -1 -1  1  1  1 -1 -1 -1 -1 -1 -1 -1  1 -1\n",
      " -1 -1 -1 -1 -1 -1 -1 -1 -1 -1 -1 -1 -1 -1 -1 -1 -1 -1 -1 -1 -1 -1 -1 -1\n",
      " -1 -1 -1 -1 -1 -1 -1]\n",
      "\n",
      "[-1  1  1 -1 -1 -1 -1  1  1 -1 -1 -1 -1  1  1  1  1 -1  1 -1  1  1 -1  1\n",
      "  1 -1  1  1  1  1 -1 -1  1  1  1  1  1 -1  1  1 -1 -1 -1 -1 -1 -1  1 -1\n",
      " -1 -1 -1 -1 -1 -1 -1 -1  1 -1  1 -1 -1  1  1 -1 -1 -1 -1 -1 -1 -1 -1  1\n",
      "  1  1 -1  1  1 -1  1  1 -1 -1 -1 -1  1 -1  1 -1  1  1 -1 -1 -1 -1  1  1\n",
      "  1 -1 -1 -1  1  1 -1  1 -1  1  1 -1 -1  1  1  1 -1  1  1  1  1  1  1  1\n",
      "  1  1  1  1  1  1  1  1  1  1  1  1  1  1  1  1  1  1 -1  1 -1 -1  1  1\n",
      "  1 -1 -1 -1 -1 -1  1  1  1  1 -1  1  1  1  1  1  1  1  1  1  1  1  1 -1\n",
      " -1  1  1  1 -1  1  1  1  1 -1  1  1 -1 -1 -1 -1 -1 -1 -1 -1 -1 -1 -1 -1\n",
      "  1 -1 -1 -1 -1 -1 -1  1 -1 -1  1  1  1  1  1  1  1 -1  1  1  1  1  1 -1\n",
      " -1 -1 -1  1  1 -1 -1 -1 -1  1 -1 -1  1  1  1  1 -1 -1 -1 -1 -1  1 -1 -1\n",
      " -1 -1 -1 -1  1  1 -1 -1 -1  1 -1 -1 -1  1  1  1  1  1  1  1 -1  1 -1  1\n",
      "  1  1 -1 -1  1  1  1  1 -1 -1 -1 -1  1  1  1  1  1  1  1  1  1 -1  1  1\n",
      "  1 -1 -1 -1 -1  1 -1 -1  1 -1 -1  1  1  1  1  1  1 -1  1  1  1  1  1  1\n",
      "  1 -1  1 -1  1 -1 -1 -1 -1 -1 -1 -1 -1 -1 -1 -1 -1 -1 -1 -1 -1]\n"
     ]
    },
    {
     "data": {
      "text/plain": [
       "'\\noutlier_index = np.where(y_pred_train==-1)\\noutlier_values = X_train[outlier_index]\\nprint (outlier_values)\\n'"
      ]
     },
     "execution_count": 27,
     "metadata": {},
     "output_type": "execute_result"
    }
   ],
   "source": [
    "import numpy as np\n",
    "import matplotlib.pyplot as plt\n",
    "import matplotlib.font_manager\n",
    "from sklearn import svm\n",
    "\n",
    "X_test = np.array(df_test_temp)\n",
    "X_train = np.array(df_training_temp)\n",
    "\n",
    "# fit the model\n",
    "clf = svm.OneClassSVM(nu=0.5, kernel=\"rbf\", gamma='scale').fit(X_train)\n",
    "y_pred_train = clf.predict(X_train)\n",
    "print (y_pred_train)\n",
    "print ()\n",
    "y_pred_test = clf.predict(X_test)\n",
    "print (y_pred_test)\n",
    "\n",
    "'''\n",
    "outlier_index = np.where(y_pred_train==-1)\n",
    "outlier_values = X_train[outlier_index]\n",
    "print (outlier_values)\n",
    "'''\n"
   ]
  }
 ],
 "metadata": {
  "kernelspec": {
   "display_name": "Python 3",
   "language": "python",
   "name": "python3"
  },
  "language_info": {
   "codemirror_mode": {
    "name": "ipython",
    "version": 3
   },
   "file_extension": ".py",
   "mimetype": "text/x-python",
   "name": "python",
   "nbconvert_exporter": "python",
   "pygments_lexer": "ipython3",
   "version": "3.8.5"
  }
 },
 "nbformat": 4,
 "nbformat_minor": 4
}
