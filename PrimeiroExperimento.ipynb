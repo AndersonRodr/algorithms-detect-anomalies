{
 "cells": [
  {
   "cell_type": "code",
   "execution_count": 9,
   "metadata": {},
   "outputs": [],
   "source": [
    "import numpy as np\n",
    "import pandas as pd\n",
    "from sklearn.cluster import DBSCAN\n",
    "from sklearn import metrics\n",
    "from sklearn.datasets import make_blobs, make_circles\n",
    "from sklearn.preprocessing import StandardScaler\n",
    "import matplotlib.pyplot as plt\n",
    "import requests \n",
    "from collections import Counter\n",
    "import random\n",
    "import decimal\n",
    "import math\n",
    "import random\n",
    "from statsmodels.tsa.ar_model import AutoReg, ar_select_order"
   ]
  },
  {
   "cell_type": "code",
   "execution_count": 10,
   "metadata": {},
   "outputs": [
    {
     "name": "stderr",
     "output_type": "stream",
     "text": [
      "<ipython-input-10-dc51c845b7ff>:18: SettingWithCopyWarning:\n",
      "\n",
      "\n",
      "A value is trying to be set on a copy of a slice from a DataFrame.\n",
      "Try using .loc[row_indexer,col_indexer] = value instead\n",
      "\n",
      "See the caveats in the documentation: https://pandas.pydata.org/pandas-docs/stable/user_guide/indexing.html#returning-a-view-versus-a-copy\n",
      "\n"
     ]
    }
   ],
   "source": [
    "##------------------------------Pegando os Dados-----------------------------------\n",
    "\n",
    "url = \"https://apitempo.inmet.gov.br/estacao/diaria/2018-01-01/2019-12-31/A307\"\n",
    "headers = {'User-Agent': 'Mozilla/5.0 (Macintosh; Intel Mac OS X 10_11_5) AppleWebKit/537.36 (KHTML, like Gecko) Chrome/50.0.2661.102 Safari/537.36'}\n",
    "resp = requests.get(url, headers=headers)\n",
    "df = None\n",
    "df_temp = None\n",
    "if resp.status_code != 200:\n",
    "    print (resp.raise_for_status())\n",
    "else:\n",
    "    df = pd.DataFrame(resp.json())\n",
    "    df.dropna(inplace=True)\n",
    "    #df = df[df[\"TEM_MAX\"].astype('float') ]\n",
    "    df_temp = df[df['TEMP_MAX'].notnull()]\n",
    "    df_temp = df[df['UMID_MED'].notnull()]\n",
    "    \n",
    "    df_temp = df[['TEMP_MAX', 'UMID_MED']]\n",
    "    df_temp[\"id\"] = df.index + 1 \n",
    "\n",
    "    df_umid = df[df['UMID_MED'].notnull()]\n",
    "    df_umid = df[['UMID_MED']]\n",
    "    #df_umid[\"id\"] = df.index + 1"
   ]
  },
  {
   "cell_type": "code",
   "execution_count": 11,
   "metadata": {},
   "outputs": [],
   "source": [
    "\n",
    "df_training_temp = None\n",
    "df_training_temp_anomalie_edit = None\n",
    "desvioPadraoTempTraining = 0\n",
    "desvioPadraoUmidTraining = 0\n",
    "\n",
    "desvioPadraoTempTest = 0\n",
    "desvioPadraoUmidTest = 0\n",
    "\n",
    "desvioPadrao = 0\n",
    "\n",
    "def valorFinalTemperatura(df_training_temp_anomalie_edit, treino, equacaoExponencial):\n",
    "    valorFinalTemp = equacaoExponencial * extrairErro(df_training_temp_anomalie_edit, 'TEMP_MAX')\n",
    "    return valorFinalTemp\n",
    "\n",
    "def valorFinalUmidade(df_training_temp_anomalie_edit, treino, equacaoExponencial):\n",
    "    valorFinalUmid = equacaoExponencial * extrairErro(df_training_temp_anomalie_edit, 'UMID_MED')\n",
    "    return valorFinalUmid\n",
    "\n",
    "def qtdRowsTemp():\n",
    "    count_row_temp = df_temp.shape[0]\n",
    "    return count_row_temp\n",
    "\n",
    "def extrairErro(dataframe, coluna):\n",
    "    train_size = int(dataframe.shape[0] * 1)\n",
    "    train_Real, train_Pred = dataframe.to_numpy()[:,0], dataframe.to_numpy()[:,1]\n",
    "    train_resid = [train_Real[i]-train_Pred[i] for i in range(len(dataframe))]\n",
    "    desvioErro = np.std(train_resid)\n",
    "    return desvioErro\n",
    "\n",
    "def TransformarEmEstacionaria(df_training_temp):\n",
    "    converterColunasToFloat(df_training_temp, \"TEMP_MAX\")\n",
    "    converterColunasToFloat(df_training_temp, \"UMID_MED\")\n",
    "\n",
    "    df_training_temp['UMID_MED'] = df_training_temp['UMID_MED'].diff()\n",
    "    df_training_temp['TEMP_MAX'] = df_training_temp['TEMP_MAX'].diff()\n",
    "    df_training_temp.dropna()\n",
    "    return df_training_temp\n",
    "\n",
    "def equacaoExponencial():\n",
    "    numberX = decimal.Decimal(random.randrange(-50, 50))/100\n",
    "    eq = math.exp((3 * abs(numberX))) + 3\n",
    "    return float(eq)\n",
    "\n",
    "def converterColunasToFloat(dataframe, coluna):\n",
    "    dataframe[coluna] = dataframe[coluna].astype(float)\n",
    "    dataframe[coluna].apply(lambda x: float(x))\n",
    "    return dataframe\n",
    "\n",
    "\n",
    "def autoReg(dataframe_anomalies_edit):\n",
    "    ar_model = AutoReg(np.array(dataframe_anomalies_edit), trend='n', lags=1).fit()\n",
    "    pred = ar_model.predict(start=0,end= dataframe_anomalies_edit.shape[0], dynamic=False)\n",
    "    return pred"
   ]
  },
  {
   "cell_type": "code",
   "execution_count": 12,
   "metadata": {},
   "outputs": [],
   "source": [
    "#------------------------------Tratando os Dados-----------------------------------\n",
    "\n",
    "dfAnomaliasFinal =  pd.DataFrame()\n",
    "\n",
    "def dataTraining(percentOutliers, dbscan):\n",
    "    \n",
    "    qtd_training_temp = int(qtdRowsTemp()/3) * 2\n",
    "\n",
    "    if dbscan:\n",
    "        qtd_training_temp = qtdRowsTemp()\n",
    "\n",
    "    df_training_temp = df_temp.sample(qtd_training_temp)\n",
    "\n",
    "    df_training_temp = TransformarEmEstacionaria(df_training_temp) #Série Estacionária\n",
    "\n",
    "    count_training_temp = int((df_training_temp.shape[0] * percentOutliers) / 100)    \n",
    "    df_training_temp_anomalie_edit = df_training_temp.sample(n=count_training_temp)\n",
    "    \n",
    "    df_test_temp = pd.concat([df_temp, df_training_temp]).drop_duplicates(keep=False)\n",
    "\n",
    "    df_training_temp = pd.concat([df_training_temp, df_training_temp_anomalie_edit]).drop_duplicates(keep=False)\n",
    "    df_training_temp_anomalie_edit.dropna(inplace=True)\n",
    "\n",
    "    df_training_temp_anomalie_edit = converterColunasToFloat(df_training_temp_anomalie_edit, \"TEMP_MAX\")\n",
    "    df_training_temp_anomalie_edit = converterColunasToFloat(df_training_temp_anomalie_edit, \"UMID_MED\")\n",
    "\n",
    "    equacaoExpo = equacaoExponencial()\n",
    "    \n",
    "    temperaturas = autoReg(df_training_temp_anomalie_edit['TEMP_MAX']) #AutoRegressão\n",
    "    umidades = autoReg(df_training_temp_anomalie_edit['UMID_MED']) #AutoRegressão\n",
    "    \n",
    "    df_ids = np.array(df_training_temp_anomalie_edit['id'])\n",
    "    \n",
    "    df_temp_real_pred = pd.DataFrame()\n",
    "    colTemp = ['temp_real','temp_pred']\n",
    "    df_temp_real_pred = pd.DataFrame(columns=colTemp)\n",
    "    df_temp_real_pred['temp_real'] = df_training_temp_anomalie_edit['TEMP_MAX']\n",
    "    df_temp_real_pred['temp_pred'] = temperaturas.tolist()\n",
    "\n",
    "    df_umid_real_pred = pd.DataFrame()\n",
    "    col_umid = ['umid_real','umid_pred']\n",
    "    df_umid_real_pred = pd.DataFrame(columns=col_umid)\n",
    "    df_umid_real_pred['umid_real'] = df_training_temp_anomalie_edit['UMID_MED']\n",
    "    df_umid_real_pred['umid_pred'] = umidades.tolist()\n",
    "    \n",
    "    valorFinalTemp = valorFinalTemperatura(df_temp_real_pred, True, equacaoExpo)\n",
    "    valorFinalUmid = valorFinalUmidade(df_umid_real_pred, True, equacaoExpo)\n",
    "    \n",
    "    df_training_temp_anomalie_edit = converterColunasToFloat(df_training_temp_anomalie_edit, \"UMID_MED\")\n",
    "    df_training_temp_anomalie_edit = converterColunasToFloat(df_training_temp_anomalie_edit, \"TEMP_MAX\")\n",
    "\n",
    "    dfAnomalias = pd.DataFrame()\n",
    "    col = ['TEMP_MAX','UMID_MED', 'id']\n",
    "\n",
    "    dfAnomalias = pd.DataFrame(columns=col)\n",
    "\n",
    "    df_training_temp_anomalie_edit.sort_index(inplace=True)\n",
    "\n",
    "    for index, row in df_training_temp_anomalie_edit.iterrows():\n",
    "        temp = row['TEMP_MAX'] + (np.sign(row['TEMP_MAX']) * valorFinalTemp)\n",
    "        umid = row['UMID_MED'] + (np.sign(row['UMID_MED']) * valorFinalUmid)\n",
    "        x = np.array([[temp, umid, row['id']]], np.float)\n",
    "        df1=pd.DataFrame(x, columns=['TEMP_MAX', 'UMID_MED', 'id'])\n",
    "        \n",
    "        df1.set_index('id',inplace=True)\n",
    "\n",
    "        dfAnomalias = pd.concat([df1, dfAnomalias])\n",
    "        \n",
    "    dfAnomalias = dfAnomalias.drop(columns='id')\n",
    "        \n",
    "    dfAnomalias.sort_index(inplace=True)    \n",
    "\n",
    "    print ('Anomalias: ')\n",
    "    print (dfAnomalias)\n",
    "    dfFinal = dfAnomalias\n",
    "\n",
    "    for index, row in df_training_temp.iterrows():\n",
    "        x = np.array([[row['TEMP_MAX'], row['UMID_MED'], row['id']]], np.float)\n",
    "        df1=pd.DataFrame(x, columns=['TEMP_MAX', 'UMID_MED', 'id'])\n",
    "        \n",
    "        df1.set_index('id',inplace=True)\n",
    "        \n",
    "        dfFinal = pd.concat([df1, dfFinal])\n",
    "\n",
    "    dfFinal.sort_index(inplace=True)    \n",
    "    df_training_temp = dfFinal\n",
    "    df_training_temp.dropna(inplace=True)\n",
    "\n",
    "    dfAnomalias.sort_index(inplace=True)\n",
    " \n",
    "    #Treino\n",
    "    df_training_temp = converterColunasToFloat(df_training_temp, \"TEMP_MAX\")\n",
    "    df_training_temp = converterColunasToFloat(df_training_temp, \"UMID_MED\")\n",
    "    \n",
    "    df_training_temp.dropna(inplace=True)\n",
    "    df_training_temp.sort_index(inplace=True)\n",
    "\n",
    "    #Teste\n",
    "    count_test_temp = int((df_test_temp.shape[0] * percentOutliers) / 100)\n",
    "    df_test_temp_anomalie_edit = df_test_temp.sample(n=count_test_temp, random_state=1)\n",
    "    df_test_temp = pd.concat([df_test_temp, df_test_temp_anomalie_edit]).drop_duplicates(keep=False)\n",
    "    df_test_temp_anomalie_edit.dropna(inplace=True)\n",
    "    \n",
    "    df_test_temp = pd.concat([df_test_temp, df_test_temp_anomalie_edit])\n",
    "    \n",
    "    df_test_temp[\"TEMP_MAX\"] = df_test_temp[\"TEMP_MAX\"].astype(float)\n",
    "    df_test_temp[\"UMID_MED\"] = df_test_temp[\"UMID_MED\"].astype(float)\n",
    "    \n",
    "    df_test_temp = converterColunasToFloat(df_test_temp, \"TEMP_MAX\")\n",
    "    df_test_temp = converterColunasToFloat(df_test_temp, \"UMID_MED\")\n",
    "    \n",
    "    df_test_temp.sort_index(inplace=True)\n",
    "\n",
    "    df_test_temp.dropna(inplace=True)\n",
    "    df_test_temp = df_test_temp.drop(columns='id')\n",
    "    desvioPadrao = (desvioPadraoTempTraining + desvioPadraoUmidTraining) / 2\n",
    "    return df_training_temp, df_test_temp, dfAnomalias"
   ]
  },
  {
   "cell_type": "code",
   "execution_count": 13,
   "metadata": {
    "collapsed": true
   },
   "outputs": [
    {
     "name": "stderr",
     "output_type": "stream",
     "text": [
      "/home/anderson/Documentos/Python/anaconda3/lib/python3.8/site-packages/statsmodels/tsa/ar_model.py:248: FutureWarning:\n",
      "\n",
      "The parameter names will change after 0.12 is released. Set old_names to False to use the new names now. Set old_names to True to use the old names. \n",
      "\n",
      "/home/anderson/Documentos/Python/anaconda3/lib/python3.8/site-packages/statsmodels/tsa/ar_model.py:248: FutureWarning:\n",
      "\n",
      "The parameter names will change after 0.12 is released. Set old_names to False to use the new names now. Set old_names to True to use the old names. \n",
      "\n"
     ]
    },
    {
     "name": "stdout",
     "output_type": "stream",
     "text": [
      "Anomalias: \n",
      "        TEMP_MAX   UMID_MED\n",
      "1.0    21.854164 -46.844462\n",
      "24.0  -22.654164  55.444462\n",
      "34.0  -22.554164  63.244462\n",
      "189.0 -20.654164 -46.644462\n",
      "200.0 -27.954164  57.544462\n",
      "201.0 -27.754164  62.644462\n",
      "218.0  21.454164 -52.444462\n",
      "229.0 -21.054164 -52.444462\n",
      "277.0  28.054164 -71.244462\n",
      "286.0  23.454164 -67.044462\n",
      "296.0 -21.854164  58.444462\n",
      "303.0 -23.154164  55.844462\n",
      "306.0  24.454164 -55.444462\n",
      "312.0 -21.054164 -66.944462\n",
      "363.0  22.954164 -50.344462\n",
      "366.0  22.054164 -46.444462\n",
      "410.0 -23.754164  49.044462\n",
      "475.0  22.154164 -59.444462\n",
      "492.0  21.854164 -46.844462\n",
      "546.0 -27.454164  55.044462\n",
      "620.0  21.754164  47.944462\n",
      "628.0  22.054164  46.044462\n",
      "639.0 -21.354164 -49.344462\n",
      "667.0  22.454164 -50.544462\n",
      "675.0  24.954164 -51.644462\n",
      "680.0  21.254164 -63.344462\n",
      "703.0  21.854164 -52.344462\n",
      "714.0  22.254164 -64.444462\n",
      "721.0  23.054164 -49.844462\n",
      "(29, 2)\n"
     ]
    }
   ],
   "source": [
    "#import random\n",
    "\n",
    "taxaContaminacao = 5\n",
    "dfs = dataTraining(taxaContaminacao, True)\n",
    "df_training_temp = dfs[0]\n",
    "df_test_temp = dfs[1]\n",
    "dfAnomalias = dfs[2]\n",
    "print (dfAnomalias.shape)\n",
    "df_training_temp = df_training_temp[df_training_temp.index.notnull()]\n"
   ]
  },
  {
   "cell_type": "code",
   "execution_count": 19,
   "metadata": {
    "scrolled": true
   },
   "outputs": [
    {
     "name": "stdout",
     "output_type": "stream",
     "text": [
      "        TEMP_MAX   UMID_MED\n",
      "58.0   12.029808  69.607758\n",
      "263.0  15.829808 -92.407758\n",
      "272.0  10.500000 -30.800000\n",
      "280.0 -12.429808  64.207758\n",
      "288.0  17.929808 -74.107758\n",
      "318.0  15.229808 -90.607758\n",
      "338.0  -9.900000  40.600000\n",
      "350.0 -16.129808  67.207758\n",
      "381.0  11.729808  64.507758\n",
      "388.0  16.129808 -70.407758\n",
      "596.0  11.629808  66.907758\n",
      "648.0  15.529808 -91.107758\n",
      "698.0  17.929808 -77.907758\n"
     ]
    },
    {
     "data": {
      "image/png": "[encoded data removed]",
      "text/plain": [
       "<Figure size 432x288 with 1 Axes>"
      ]
     },
     "metadata": {
      "needs_background": "light"
     },
     "output_type": "display_data"
    }
   ],
   "source": [
    "#------------------------------Implementando o DBSCAN-----------------------------------\n",
    "def dbscan_part1(df_used, eps, min_samples):\n",
    "    X = np.array(df_used)\n",
    "    X = StandardScaler().fit_transform(df_used)\n",
    "    db = DBSCAN(eps=eps, min_samples=min_samples, algorithm='auto').fit(X)\n",
    "    core_samples_mask = np.zeros_like(db.labels_, dtype=bool)\n",
    "    #core_samples_mask[db.core_sample_indices_] = True\n",
    "\n",
    "    labels = db.labels_\n",
    "\n",
    "    outliers = df_used[db.labels_ == -1]\n",
    "\n",
    "    n_clusters_ = len(set(labels)) - (1 if -1 in labels else 0)\n",
    "    n_noise_ = list(labels).count(-1)\n",
    "\n",
    "    unique_labels = set(labels)\n",
    "    colors = [plt.cm.Spectral(each)\n",
    "              for each in np.linspace(0, 1, len(unique_labels))]\n",
    "    for k, col in zip(unique_labels, colors):\n",
    "        if k == -1:\n",
    "            # Preto usado para ruído\n",
    "            col = [0, 0, 0, 1]\n",
    "\n",
    "        class_member_mask = (labels == k)\n",
    "\n",
    "        xy = X[class_member_mask & core_samples_mask]\n",
    "        plt.plot(xy[:, 0], xy[:, 1], 'o', markerfacecolor=tuple(col),\n",
    "                 markeredgecolor='k', markersize=14)\n",
    "\n",
    "        xy = X[class_member_mask & ~core_samples_mask]\n",
    "        plt.plot(xy[:, 0], xy[:, 1], 'o', markerfacecolor=tuple(col),\n",
    "                 markeredgecolor='k', markersize=6)\n",
    "\n",
    "    outliers = outliers[outliers.index.notnull()]\n",
    "    \n",
    "    #print('Outliers encontrados: ')\n",
    "    #print (outliers.shape)\n",
    "    #print (outliers)\n",
    "\n",
    "    #plt.title('Número estimado de clusters: %d' % n_clusters_)\n",
    "    #plt.xlabel(\"TEMP_MAX\")\n",
    "    #plt.ylabel(\"UMID_MED\")\n",
    "    #plt.show()\n",
    "    return outliers\n",
    "\n",
    "eps = 0.5\n",
    "min_samples = 5\n",
    "df_training_temp = df_training_temp[df_training_temp.index.notnull()]\n",
    "outliers = dbscan_part1(df_training_temp, eps, min_samples)\n",
    "dfOutliersErrados = pd.concat([outliers, dfAnomalias]).drop_duplicates(keep=False)\n",
    "print (outliers)"
   ]
  },
  {
   "cell_type": "code",
   "execution_count": 18,
   "metadata": {
    "scrolled": false
   },
   "outputs": [
    {
     "name": "stdout",
     "output_type": "stream",
     "text": [
      "611\n",
      "        TEMP_MAX    scores  anomaly\n",
      "5.0    -9.700000 -0.001396       -1\n",
      "15.0   15.802652 -0.057771       -1\n",
      "58.0  -12.402652 -0.001647       -1\n",
      "64.0   16.302652 -0.071908       -1\n",
      "188.0 -11.902652 -0.024358       -1\n",
      "224.0 -12.702652 -0.001907       -1\n",
      "266.0  13.202652 -0.018510       -1\n",
      "302.0  14.302652 -0.019790       -1\n",
      "303.0 -13.102652 -0.013604       -1\n",
      "308.0  18.702652 -0.125479       -1\n",
      "331.0  -9.500000 -0.001396       -1\n",
      "391.0  15.602652 -0.055843       -1\n",
      "395.0  16.602652 -0.087833       -1\n",
      "403.0 -15.002652 -0.069796       -1\n",
      "434.0 -13.402652 -0.020889       -1\n",
      "438.0   8.600000 -0.003389       -1\n",
      "487.0  14.602652 -0.031313       -1\n",
      "528.0 -14.102652 -0.044896       -1\n",
      "539.0 -18.102652 -0.111857       -1\n",
      "540.0  12.002652 -0.030916       -1\n",
      "559.0  -9.700000 -0.001396       -1\n",
      "568.0 -14.902652 -0.066930       -1\n",
      "584.0 -10.800000 -0.023181       -1\n",
      "586.0 -20.002652 -0.123895       -1\n",
      "600.0 -14.402652 -0.048809       -1\n",
      "650.0  11.902652 -0.030819       -1\n",
      "661.0 -12.402652 -0.001647       -1\n",
      "693.0   9.900000 -0.023428       -1\n",
      "701.0   8.500000 -0.001164       -1\n",
      "702.0  10.500000 -0.031749       -1\n"
     ]
    }
   ],
   "source": [
    "import numpy as np\n",
    "import pandas as pd\n",
    "import seaborn as sns\n",
    "import matplotlib.pyplot as plt\n",
    "from sklearn.ensemble import IsolationForest\n",
    "from sklearn.metrics import roc_curve, auc\n",
    "\n",
    "dfTemp = pd.DataFrame()\n",
    "colTemp = ['TEMP_MAX']\n",
    "dfTemp = pd.DataFrame(columns=colTemp)\n",
    "\n",
    "dfTemp['TEMP_MAX'] = df_training_temp['TEMP_MAX']\n",
    "\n",
    "counter = int((dfTemp.shape[0] * 30) / 100)\n",
    "df_test_temp = dfTemp.sample(n=counter, random_state=1)\n",
    "df_train_temp = pd.concat([dfTemp, df_test_temp]).drop_duplicates(keep=False)\n",
    "\n",
    "model=IsolationForest(n_estimators=100, max_samples='auto', contamination=0.05, max_features=1.0).fit(dfTemp[['TEMP_MAX']])\n",
    "\n",
    "dfTemp['scores']=model.decision_function(dfTemp[['TEMP_MAX']])\n",
    "dfTemp['anomaly']=model.predict(dfTemp[['TEMP_MAX']])\n",
    "\n",
    "anomalyTemp=dfTemp.loc[dfTemp['anomaly']==-1]\n",
    "anomaly_index=list(anomalyTemp.index)\n",
    "\n",
    "print (dfTemp.shape[0])\n",
    "print(anomalyTemp.head(n=80).to_string(index=True))\n",
    "\n",
    "dfUmid = pd.DataFrame()\n",
    "colUmid = ['UMID_MED']\n",
    "dfUmid = pd.DataFrame(columns=colUmid)\n",
    "\n",
    "dfUmid['UMID_MED'] = df_training_temp['UMID_MED']\n",
    "\n",
    "model=IsolationForest(n_estimators=100, max_samples='auto', contamination='auto', max_features=1.0).fit(dfUmid[['UMID_MED']])\n",
    "\n",
    "dfUmid['scores']=model.decision_function(dfUmid[['UMID_MED']])\n",
    "dfUmid['anomaly']=model.predict(dfUmid[['UMID_MED']])\n",
    "\n",
    "anomalyUmid=dfUmid.loc[dfUmid['anomaly']==-1]\n",
    "anomaly_index=list(anomalyUmid.index)\n",
    "\n",
    "#print ('Anomalias Temperatura:')\n",
    "#print (anomalyTemp)\n",
    "\n",
    "#print ('Anomalias Umidade:')\n",
    "#print (anomalyUmid)\n",
    "\n",
    "dfTempUmidAnomalies = pd.DataFrame({'TEMP_MAX':anomalyTemp['TEMP_MAX'], 'UMID_MED': anomalyUmid['UMID_MED']})\n"
   ]
  },
  {
   "cell_type": "code",
   "execution_count": 19,
   "metadata": {},
   "outputs": [
    {
     "name": "stdout",
     "output_type": "stream",
     "text": [
      "        TEMP_MAX   UMID_MED\n",
      "3.0     5.600000  -3.000000\n",
      "4.0    -0.400000  13.600000\n",
      "5.0    -7.100000  32.200000\n",
      "8.0    -0.800000  -6.800000\n",
      "10.0    0.600000  -4.000000\n",
      "...          ...        ...\n",
      "722.0   4.700000 -16.900000\n",
      "723.0   1.600000  -3.400000\n",
      "724.0   6.300000 -13.300000\n",
      "726.0   0.900000 -18.000000\n",
      "728.0  16.797561 -57.890109\n",
      "\n",
      "[316 rows x 2 columns]\n",
      "\n",
      "       TEMP_MAX  UMID_MED\n",
      "2.0         2.2      -6.7\n",
      "3.0         5.6      -3.0\n",
      "7.0        -0.7      -4.4\n",
      "8.0        -0.8      -6.8\n",
      "9.0        -0.2      -6.2\n",
      "...         ...       ...\n",
      "723.0       1.6      -3.4\n",
      "724.0       6.3     -13.3\n",
      "727.0      -1.5      -2.6\n",
      "729.0       2.1     -10.5\n",
      "730.0      -2.9       3.0\n",
      "\n",
      "[424 rows x 2 columns]\n",
      "\n",
      "        TEMP_MAX   UMID_MED\n",
      "1.0     2.500000  -2.500000\n",
      "4.0    -0.400000  13.600000\n",
      "5.0    -7.100000  32.200000\n",
      "6.0    -1.700000  13.300000\n",
      "10.0    0.600000  -4.000000\n",
      "...          ...        ...\n",
      "719.0  -0.500000  -2.700000\n",
      "722.0   4.700000 -16.900000\n",
      "725.0   5.500000 -15.400000\n",
      "726.0   0.900000 -18.000000\n",
      "728.0  16.797561 -57.890109\n",
      "\n",
      "[183 rows x 2 columns]\n"
     ]
    }
   ],
   "source": [
    "from sklearn.svm import OneClassSVM\n",
    "from sklearn.decomposition import PCA\n",
    "from mpl_toolkits.mplot3d import Axes3D\n",
    "from sklearn.preprocessing import StandardScaler\n",
    "from numpy import quantile, where, random\n",
    "from sklearn.metrics import confusion_matrix, accuracy_score, precision_score, recall_score\n",
    "from sklearn.model_selection import train_test_split\n",
    "from numpy import where\n",
    "\n",
    "%matplotlib inline\n",
    "\n",
    "df = df_training_temp[[\"TEMP_MAX\", \"UMID_MED\"]]\n",
    "counter = int((df.shape[0] * 30) / 100)\n",
    "df_test = df.sample(n=counter, random_state=1)\n",
    "df_train = pd.concat([df, df_test]).drop_duplicates(keep=False)\n",
    "\n",
    "ocsvm = OneClassSVM(kernel='rbf', gamma='auto', nu=0.5).fit_predict(df)\n",
    "\n",
    "y_pred=ocsvm.predict(df)\n",
    "\n",
    "dfAnomaly = where(y_pred == -1)\n",
    "\n",
    "\n",
    "print (df.iloc[dfAnomaly])\n",
    "print ()\n",
    "df_train.sort_index(inplace=True)\n",
    "print (df_train)\n",
    "print ()\n",
    "df_test.sort_index(inplace=True)\n",
    "print (df_test)\n"
   ]
  },
  {
   "cell_type": "code",
   "execution_count": 22,
   "metadata": {},
   "outputs": [
    {
     "name": "stdout",
     "output_type": "stream",
     "text": [
      "       TEMP_MAX  UMID_MED\n",
      "1.0         2.9      -1.2\n",
      "2.0         2.8      -2.9\n",
      "3.0         3.0      -2.8\n",
      "4.0        -0.1      11.9\n",
      "6.0        -3.2      13.5\n",
      "...         ...       ...\n",
      "296.0      -4.1      25.0\n",
      "298.0       2.0      -7.8\n",
      "299.0       4.1      -5.5\n",
      "300.0       6.3     -15.9\n",
      "301.0       5.1     -28.3\n",
      "\n",
      "[125 rows x 2 columns]\n"
     ]
    }
   ],
   "source": [
    "from sklearn.svm import OneClassSVM\n",
    "from numpy import where\n",
    "\n",
    "df = df_training_temp[[\"TEMP_MAX\", \"UMID_MED\"]]\n",
    "counter = int((df.shape[0] * 30) / 100)\n",
    "testX = df.sample(n=counter, random_state=1)\n",
    "trainX = pd.concat([df, df_test]).drop_duplicates(keep=False)\n",
    "\n",
    "clf = OneClassSVM(kernel='rbf', gamma='auto', nu=0.5)\n",
    "clf.fit(trainX)\n",
    "y_pred_train = clf.predict(trainX)\n",
    "y_pred_test = clf.predict(testX)\n",
    "n_error_train = y_pred_train[y_pred_train == -1].size\n",
    "n_error_test = y_pred_test[y_pred_test == -1].size\n",
    "\n",
    "dfAnomaly = where(y_pred_test == -1)\n",
    "\n",
    "print (df.iloc[dfAnomaly])"
   ]
  },
  {
   "cell_type": "code",
   "execution_count": 57,
   "metadata": {},
   "outputs": [
    {
     "data": {
      "application/vnd.plotly.v1+json": {
       "config": {
        "plotlyServerURL": "https://plot.ly"
       },
       "data": [
        {
         "marker": {
          "color": [
           0,
           1,
           2,
           3,
           4,
           5,
           6,
           7,
           8,
           9,
           10,
           11,
           12,
           13,
           14,
           15,
           16,
           17,
           18,
           19,
           20,
           21,
           22,
           23,
           24,
           25,
           26,
           27,
           28,
           29,
           30,
           31,
           32,
           33,
           34,
           35,
           36,
           37,
           38,
           39,
           40,
           41,
           42,
           43,
           44,
           45,
           46,
           47,
           48,
           49,
           50,
           51,
           52,
           53,
           54,
           55,
           56,
           57,
           58,
           59,
           60,
           61,
           62,
           63,
           64,
           65,
           66,
           67,
           68,
           69,
           70,
           71,
           72,
           73,
           74,
           75,
           76,
           77,
           78,
           79,
           80,
           81,
           82,
           83,
           84,
           85,
           86,
           87,
           88,
           89,
           90,
           91,
           92,
           93,
           94,
           95,
           96,
           97,
           98,
           99,
           100,
           101,
           102,
           103,
           104,
           105,
           106,
           107,
           108,
           109,
           110,
           111,
           112,
           113,
           114,
           115,
           116,
           117,
           118,
           119,
           120,
           121,
           122,
           123,
           124,
           125,
           126,
           127,
           128,
           129,
           130,
           131,
           132,
           133,
           134,
           135,
           136,
           137,
           138,
           139,
           140,
           141,
           142,
           143,
           144,
           145,
           146,
           147,
           148,
           149,
           150,
           151,
           152,
           153,
           154,
           155,
           156,
           157,
           158,
           159,
           160,
           161,
           162,
           163,
           164,
           165,
           166,
           167,
           168,
           169,
           170,
           171,
           172,
           173,
           174,
           175,
           176,
           177,
           178,
           179,
           180,
           181,
           182,
           183,
           184,
           185,
           186,
           187,
           188,
           189,
           190,
           191,
           192,
           193,
           194,
           195,
           196,
           197,
           198,
           199,
           200,
           201,
           202,
           203,
           204,
           205,
           206,
           207,
           208,
           209,
           210,
           211,
           212,
           213,
           214,
           215,
           216,
           217,
           218,
           219,
           220,
           221,
           222,
           223,
           224,
           225,
           226,
           227,
           228,
           229,
           230,
           231,
           232,
           233,
           234,
           235,
           236,
           237,
           238,
           239,
           240,
           241,
           242,
           243,
           244,
           245,
           246,
           247,
           248,
           249,
           250,
           251,
           252,
           253,
           254,
           255,
           256,
           257,
           258,
           259,
           260,
           261,
           262,
           263,
           264,
           265,
           266,
           267,
           268,
           269,
           270,
           271,
           272,
           273,
           274,
           275,
           276,
           277,
           278,
           279,
           280,
           281,
           282,
           283,
           284,
           285,
           286,
           287,
           288,
           289,
           290,
           291,
           292,
           293,
           294,
           295,
           296,
           297,
           298,
           299,
           300,
           301,
           302,
           303,
           304,
           305,
           306,
           307,
           308,
           309,
           310,
           311,
           312,
           313,
           314,
           315,
           316,
           317,
           318,
           319,
           320,
           321,
           322,
           323,
           324,
           325,
           326,
           327,
           328,
           329,
           330,
           331,
           332,
           333,
           334,
           335,
           336,
           337,
           338,
           339,
           340,
           341,
           342,
           343,
           344,
           345,
           346,
           347,
           348,
           349,
           350,
           351,
           352,
           353,
           354,
           355,
           356,
           357,
           358,
           359,
           360,
           361,
           362,
           363,
           364,
           365,
           366,
           367,
           368,
           369,
           370,
           371,
           372,
           373,
           374,
           375,
           376,
           377,
           378,
           379,
           380,
           381,
           382,
           383,
           384,
           385,
           386,
           387,
           388,
           389,
           390,
           391,
           392,
           393,
           394,
           395,
           396,
           397,
           398,
           399,
           400,
           401,
           402,
           403,
           404,
           405,
           406,
           407,
           408,
           409,
           410,
           411,
           412,
           413,
           414,
           415,
           416,
           417,
           418,
           419,
           420,
           421,
           422,
           423,
           424,
           425,
           426,
           427,
           428,
           429,
           430,
           431,
           432,
           433,
           434,
           435,
           436,
           437,
           438,
           439,
           440,
           441,
           442,
           443,
           444,
           445,
           446,
           447,
           448,
           449,
           450,
           451,
           452,
           453,
           454,
           455,
           456,
           457,
           458,
           459,
           460,
           461,
           462,
           463,
           464,
           465,
           466,
           467,
           468,
           469,
           470,
           471,
           472,
           473,
           474,
           475,
           476,
           477,
           478,
           479,
           480,
           481,
           482,
           483,
           484,
           485,
           486,
           487,
           488,
           489,
           490,
           491,
           492,
           493,
           494,
           495,
           496,
           497,
           498,
           499,
           500,
           501,
           502,
           503,
           504,
           505,
           506,
           507,
           508,
           509,
           510,
           511,
           512,
           513,
           514,
           515,
           516,
           517,
           518,
           519,
           520,
           521,
           522,
           523,
           524,
           525,
           526,
           527,
           528,
           529,
           530,
           531,
           532,
           533,
           534,
           535,
           536,
           537,
           538,
           539,
           540,
           541,
           542,
           543,
           544,
           545,
           546,
           547,
           548,
           549,
           550,
           551,
           552,
           553,
           554,
           555,
           556,
           557,
           558,
           559,
           560,
           561,
           562,
           563,
           564,
           565,
           566,
           567,
           568,
           569,
           570,
           571,
           572,
           573,
           574,
           575,
           576,
           577,
           578,
           579,
           580,
           581,
           582,
           583,
           584,
           585,
           586,
           587,
           588,
           589,
           590,
           591,
           592,
           593,
           594,
           595,
           596,
           597,
           598,
           599,
           600,
           601,
           602,
           603,
           604,
           605,
           606,
           607,
           608,
           609,
           610
          ],
          "colorscale": [
           [
            0,
            "#440154"
           ],
           [
            0.1111111111111111,
            "#482878"
           ],
           [
            0.2222222222222222,
            "#3e4989"
           ],
           [
            0.3333333333333333,
            "#31688e"
           ],
           [
            0.4444444444444444,
            "#26828e"
           ],
           [
            0.5555555555555556,
            "#1f9e89"
           ],
           [
            0.6666666666666666,
            "#35b779"
           ],
           [
            0.7777777777777778,
            "#6ece58"
           ],
           [
            0.8888888888888888,
            "#b5de2b"
           ],
           [
            1,
            "#fde725"
           ]
          ],
          "opacity": 0.8,
          "size": 4
         },
         "mode": "markers",
         "type": "scatter",
         "x": [
          21.85416384663107,
          2.5,
          4.899999999999999,
          -2.1000000000000014,
          -0.40000000000000213,
          2,
          4.0000000000000036,
          -1,
          1.3999999999999986,
          2.5999999999999943,
          -5.600000000000001,
          -3,
          -0.8000000000000043,
          6.100000000000001,
          -2.299999999999997,
          -0.5,
          4.199999999999999,
          -1.1000000000000014,
          -4,
          0.5,
          2.1000000000000014,
          -0.5,
          4.799999999999997,
          -22.654163846631075,
          5.199999999999999,
          -0.5,
          0.8999999999999986,
          4,
          -1.1000000000000014,
          5,
          -0.10000000000000142,
          3.1000000000000014,
          7.4999999999999964,
          -22.554163846631074,
          1.3999999999999986,
          -2.700000000000003,
          -1.6000000000000014,
          -8.7,
          1.5000000000000036,
          -1.5999999999999943,
          -5.599999999999998,
          -3.1999999999999993,
          -2.700000000000003,
          -0.5,
          1.1000000000000014,
          0.29999999999999716,
          1.1999999999999993,
          -3.8000000000000043,
          -1.1999999999999993,
          -2.200000000000003,
          -2.200000000000003,
          1.3999999999999986,
          2,
          -1.2999999999999972,
          3,
          0.7999999999999972,
          -1.6999999999999957,
          -1.6999999999999957,
          1.7000000000000028,
          -2.0999999999999943,
          1.7999999999999972,
          -2.8000000000000043,
          -3,
          0.1999999999999993,
          -3.1000000000000014,
          -1.3000000000000043,
          3.1000000000000014,
          -2.700000000000003,
          -5.800000000000001,
          -4.100000000000001,
          -20.65416384663107,
          -4.599999999999998,
          -3.8999999999999986,
          -0.1999999999999993,
          -2.1000000000000014,
          -5.600000000000001,
          -3.700000000000003,
          -0.1999999999999993,
          -4.099999999999998,
          -4.5,
          -4.399999999999999,
          -27.954163846631072,
          -27.75416384663107,
          -3.400000000000002,
          -3.5,
          -6.300000000000001,
          -6.399999999999999,
          -3.8000000000000007,
          -6.699999999999999,
          -0.20000000000000284,
          -4.4999999999999964,
          -3.1999999999999957,
          -1,
          -2.8999999999999986,
          -3.5000000000000036,
          -1.2999999999999972,
          2.700000000000003,
          -3.8000000000000043,
          -1.7999999999999972,
          21.454163846631072,
          -2,
          -3.9999999999999964,
          -1.3999999999999986,
          2.1999999999999957,
          2.8000000000000007,
          1,
          2.6000000000000014,
          -3.3999999999999986,
          -3.6000000000000014,
          -0.8999999999999986,
          -21.054163846631074,
          1.1000000000000014,
          -2.5,
          0.3000000000000007,
          -5,
          -0.8000000000000007,
          -5.800000000000004,
          -1,
          0.6000000000000014,
          0.5999999999999979,
          -4.600000000000001,
          0.8000000000000007,
          -3.700000000000003,
          -4.099999999999998,
          -0.3999999999999986,
          -5.600000000000001,
          -4.600000000000001,
          4.0000000000000036,
          -0.5999999999999943,
          1.1000000000000014,
          -3.5,
          1.2000000000000028,
          -4.300000000000001,
          -0.6999999999999957,
          1.0000000000000036,
          -3.6000000000000014,
          -1.6000000000000014,
          0.7999999999999972,
          1.6000000000000014,
          1.2999999999999972,
          0.6999999999999957,
          2.3999999999999986,
          2.1000000000000014,
          -0.5,
          0.3999999999999986,
          -3.200000000000003,
          0.9000000000000057,
          1.3000000000000043,
          0.19999999999999574,
          -2,
          -1.7000000000000028,
          4,
          0.8999999999999986,
          6.400000000000002,
          2.6000000000000014,
          -0.6000000000000014,
          3,
          0.8000000000000043,
          28.054163846631074,
          4.700000000000003,
          0.4000000000000057,
          4.199999999999999,
          -0.5999999999999943,
          4.399999999999999,
          0.5,
          0.7999999999999972,
          2.3000000000000043,
          23.454163846631072,
          4.600000000000001,
          1.5,
          -0.6999999999999957,
          -2,
          -3.6999999999999957,
          -1.6999999999999957,
          4.099999999999998,
          -2,
          -4.399999999999999,
          -21.85416384663107,
          0.6999999999999957,
          3.5,
          5.100000000000001,
          5.600000000000001,
          3.1999999999999957,
          2.6000000000000014,
          -23.154163846631068,
          1.1000000000000014,
          4.900000000000002,
          24.454163846631076,
          4.299999999999997,
          1.5,
          7.100000000000001,
          3.799999999999997,
          0.29999999999999716,
          -21.054163846631067,
          6.200000000000003,
          5.599999999999998,
          4,
          0.6000000000000014,
          3.3999999999999986,
          2.9000000000000057,
          1.6000000000000014,
          1.1000000000000014,
          3,
          0.8000000000000043,
          -1.5,
          5.800000000000001,
          -0.7000000000000028,
          1.8999999999999986,
          -1.8999999999999986,
          0.5,
          2.6999999999999993,
          -3,
          0.3000000000000007,
          -1.3000000000000043,
          1.8000000000000043,
          0.7999999999999972,
          -1.5,
          -2.799999999999997,
          -2.1000000000000014,
          -9.200000000000003,
          -4,
          -0.3999999999999986,
          -1.4000000000000057,
          0.8000000000000043,
          1.3000000000000007,
          -5.699999999999996,
          -3.3000000000000043,
          1.8999999999999986,
          -0.3000000000000007,
          -1.6999999999999957,
          -3.700000000000003,
          -2,
          -0.19999999999999574,
          -0.4000000000000057,
          -2.799999999999997,
          6.099999999999998,
          -1.5,
          -2,
          1.3000000000000043,
          -3.8999999999999986,
          2.3999999999999986,
          0.29999999999999716,
          3,
          4.699999999999996,
          22.954163846631072,
          0.6999999999999957,
          -0.8999999999999986,
          22.054163846631074,
          -0.5,
          5.700000000000003,
          4.100000000000001,
          1.1000000000000014,
          -1.6000000000000014,
          -2.5,
          1.4000000000000021,
          -0.10000000000000142,
          -1.5,
          1.7000000000000028,
          2.200000000000003,
          3.6999999999999957,
          -3.6999999999999957,
          8.700000000000003,
          0.5,
          8.600000000000001,
          -0.10000000000000142,
          3,
          1,
          0.3999999999999986,
          4.199999999999996,
          1.6000000000000014,
          2.700000000000003,
          0.8999999999999986,
          0.6999999999999957,
          0.7999999999999972,
          1.7999999999999972,
          2.700000000000003,
          2.6000000000000014,
          -0.10000000000000142,
          1.3999999999999986,
          1,
          2.299999999999997,
          1.7000000000000028,
          2,
          1.1000000000000014,
          -1.7000000000000028,
          1.2000000000000028,
          7.5,
          0.8000000000000043,
          2,
          4.700000000000003,
          0.5999999999999943,
          -23.75416384663107,
          4.100000000000001,
          -4.5,
          3.3999999999999986,
          1.1000000000000014,
          0.7999999999999972,
          1.7999999999999972,
          0.20000000000000284,
          -0.8999999999999986,
          1.2000000000000028,
          5.5,
          -5,
          -1,
          -2.3999999999999986,
          -1.5,
          -1.6000000000000014,
          2.799999999999997,
          3.5,
          -2.5,
          -2.6999999999999957,
          -2.5,
          -0.19999999999999574,
          2.8999999999999986,
          2.200000000000003,
          6.5,
          -0.4000000000000057,
          5.899999999999999,
          5.400000000000002,
          6.399999999999999,
          0,
          0.7999999999999972,
          4.5,
          0.8999999999999986,
          -3.1999999999999957,
          5.700000000000003,
          2.1999999999999993,
          -0.6999999999999957,
          1.9000000000000021,
          -1.2000000000000028,
          -6.099999999999998,
          0,
          -0.6000000000000014,
          -2.5,
          -2.200000000000003,
          -0.6999999999999957,
          3.900000000000002,
          -3.8000000000000007,
          -1.5,
          1.6000000000000014,
          2.1000000000000014,
          1.1999999999999993,
          -0.30000000000000426,
          -1.8999999999999986,
          -0.7999999999999972,
          0.8999999999999986,
          -0.8000000000000043,
          2.8000000000000007,
          -1.7000000000000028,
          -1.2999999999999972,
          2.8999999999999986,
          1.7000000000000028,
          4.100000000000001,
          -0.10000000000000142,
          4.600000000000001,
          -0.09999999999999432,
          22.154163846631075,
          -1.2999999999999972,
          2.8999999999999986,
          0.7999999999999972,
          2.1999999999999957,
          1.5,
          3.6999999999999957,
          -0.9000000000000057,
          3.299999999999997,
          1.5,
          0.5,
          -2.200000000000003,
          0.20000000000000284,
          -0.3999999999999986,
          1.3999999999999986,
          -0.8000000000000043,
          1.7999999999999972,
          21.85416384663107,
          2.8999999999999986,
          -1.3999999999999986,
          1.9000000000000057,
          -2.6000000000000014,
          -0.09999999999999432,
          0.5,
          0.5,
          -1.5,
          -4.900000000000002,
          -1,
          -0.5,
          2.1999999999999993,
          2.599999999999998,
          -3.8999999999999986,
          8.099999999999998,
          -1.6000000000000014,
          0.8000000000000043,
          0.9000000000000057,
          2.5,
          -1.8999999999999986,
          1,
          -2.8000000000000043,
          2.6000000000000014,
          -1,
          2.200000000000003,
          1.2000000000000028,
          -5.199999999999996,
          -0.6000000000000014,
          -2.200000000000003,
          -4.5,
          -4,
          1.5,
          -3.599999999999998,
          -5.899999999999999,
          -2.299999999999997,
          -0.8999999999999986,
          2.400000000000002,
          -6,
          -0.3000000000000007,
          2,
          -6.0000000000000036,
          -5.800000000000001,
          -3.3999999999999986,
          -4.4999999999999964,
          -1.1999999999999993,
          -4.399999999999999,
          -3.6000000000000014,
          -5.699999999999996,
          -6,
          -5.300000000000001,
          -3.1999999999999957,
          -5.400000000000002,
          -27.454163846631072,
          -2.1000000000000014,
          0.8000000000000007,
          -5.199999999999996,
          2.6999999999999993,
          -0.19999999999999574,
          0.5,
          -4.5,
          -6.5000000000000036,
          -4.400000000000002,
          -8.600000000000001,
          -7.599999999999998,
          0.3999999999999986,
          -4.399999999999999,
          -3.299999999999997,
          -6.100000000000001,
          -1.0999999999999979,
          2.5,
          0.3000000000000007,
          -4.5,
          -8.8,
          3.6999999999999993,
          -4.300000000000004,
          -4.800000000000004,
          -2.3999999999999986,
          -8.3,
          -4.700000000000003,
          -5.9999999999999964,
          -3.200000000000003,
          -6.400000000000002,
          -1.8000000000000007,
          -4.300000000000001,
          -0.3999999999999986,
          -0.5,
          -2.3999999999999986,
          -1.4000000000000021,
          -4.0000000000000036,
          -3.200000000000003,
          -8.400000000000002,
          -4.899999999999999,
          -6.100000000000001,
          -1.4000000000000021,
          -3.3999999999999986,
          0.3000000000000007,
          -0.1999999999999993,
          -3.200000000000003,
          -3.3999999999999986,
          -3.799999999999997,
          -3.8999999999999986,
          -3.6000000000000014,
          -1.6999999999999957,
          -1.3000000000000043,
          0.09999999999999432,
          -2.8999999999999986,
          -3.8000000000000007,
          0.8999999999999986,
          2.8999999999999986,
          -1.3000000000000007,
          -1.8999999999999986,
          -0.8999999999999986,
          -2.099999999999998,
          -1.2000000000000028,
          0.6999999999999993,
          0.7000000000000028,
          0,
          -3.5,
          3.6000000000000014,
          2,
          -5.100000000000001,
          5.699999999999999,
          1.6999999999999957,
          -3.200000000000003,
          -4.300000000000004,
          -3.3000000000000007,
          21.75416384663107,
          -0.5,
          -3,
          0.5,
          -5.899999999999999,
          1.6000000000000014,
          -3.5,
          2.5,
          22.054163846631074,
          -3.700000000000003,
          -1.2000000000000028,
          -0.7999999999999972,
          3,
          3.6999999999999993,
          -0.9000000000000057,
          3.700000000000003,
          7,
          4.100000000000001,
          1.2000000000000028,
          -21.35416384663107,
          -2.200000000000003,
          0.30000000000000426,
          -0.20000000000000284,
          -1.9000000000000057,
          1.6000000000000014,
          0.5,
          0.3999999999999986,
          3.6000000000000014,
          -2.3999999999999986,
          -0.4000000000000057,
          -1.3999999999999986,
          1.6000000000000014,
          0.8999999999999986,
          4.400000000000002,
          1.0999999999999979,
          3.1000000000000014,
          -1.1000000000000014,
          -0.9000000000000057,
          1.7999999999999972,
          1.7000000000000028,
          5.100000000000001,
          0.7000000000000028,
          -0.9000000000000057,
          5.199999999999996,
          -0.3999999999999986,
          -0.29999999999999716,
          1.2999999999999972,
          22.454163846631072,
          -0.29999999999999716,
          0.30000000000000426,
          0.6000000000000014,
          -1.1000000000000014,
          -0.5,
          2.6999999999999957,
          1.8999999999999986,
          24.954163846631072,
          5.800000000000001,
          3.9999999999999964,
          5.299999999999997,
          3,
          21.254163846631076,
          2.1000000000000014,
          -0.5,
          1.2999999999999972,
          4.599999999999994,
          4.700000000000003,
          5.400000000000002,
          6.599999999999998,
          1.1000000000000014,
          2.799999999999997,
          4.300000000000004,
          1.7999999999999972,
          1,
          6.700000000000003,
          -0.3999999999999986,
          -2.8000000000000043,
          -0.20000000000000284,
          0.7000000000000028,
          5.399999999999999,
          6,
          3.5,
          6.5,
          -0.8000000000000043,
          21.85416384663107,
          7,
          6.5,
          4.200000000000003,
          1.5,
          -0.10000000000000142,
          5.299999999999997,
          1.8999999999999986,
          -0.09999999999999432,
          4.799999999999997,
          1.5,
          22.25416384663107,
          1,
          -0.29999999999999716,
          4.100000000000001,
          5.199999999999999,
          7.5,
          0.29999999999999716,
          23.054163846631074,
          2.1999999999999957,
          5.9999999999999964,
          0.7000000000000028,
          4.899999999999999,
          -1.0999999999999943,
          -1.3999999999999986,
          2.8999999999999986,
          2.900000000000002,
          -3.3999999999999986
         ],
         "y": [
          -46.84446220865471,
          -5.899999999999999,
          -7.200000000000003,
          14.600000000000009,
          -1.7999999999999972,
          6.899999999999999,
          -10.799999999999997,
          -3.5,
          -3.5999999999999943,
          -1,
          11.299999999999997,
          -1.8000000000000043,
          7.099999999999994,
          -25.9,
          -8.899999999999999,
          1.1000000000000014,
          -6.5,
          1,
          8.100000000000001,
          6,
          -3.299999999999997,
          -1.7000000000000028,
          -12.5,
          55.44446220865471,
          -7.100000000000001,
          4.299999999999997,
          24.199999999999996,
          -3.299999999999997,
          11.600000000000001,
          -10.200000000000003,
          12,
          -6.100000000000001,
          -6.200000000000003,
          63.24446220865472,
          15,
          11.299999999999997,
          9.699999999999996,
          32.3,
          14.700000000000003,
          6.8999999999999915,
          21.60000000000001,
          19.200000000000003,
          7.299999999999997,
          6.399999999999999,
          8,
          -7.700000000000003,
          -1,
          13.700000000000003,
          19.299999999999997,
          13.100000000000001,
          6,
          -2.1000000000000014,
          -7.899999999999999,
          5.799999999999997,
          -11.899999999999999,
          -17.699999999999996,
          18.200000000000003,
          11.600000000000001,
          3.1999999999999957,
          12,
          13.700000000000003,
          14.400000000000006,
          8.5,
          -9.399999999999999,
          -2.799999999999997,
          4.600000000000001,
          -8.299999999999997,
          -13,
          9.600000000000001,
          6.699999999999996,
          -46.644462208654716,
          8.799999999999997,
          3,
          -19.599999999999994,
          -3.3000000000000043,
          12.099999999999994,
          6.200000000000003,
          -4.5,
          -4.299999999999997,
          1.8999999999999986,
          6.100000000000001,
          57.54446220865472,
          62.644462208654716,
          -2.8999999999999986,
          3.799999999999997,
          8.5,
          11.5,
          -1,
          16.6,
          0.8999999999999986,
          5.399999999999999,
          10.100000000000001,
          2.5,
          -2.1000000000000014,
          5.799999999999997,
          -12,
          -13.200000000000003,
          0.7000000000000028,
          -0.19999999999999574,
          -52.44446220865471,
          -9.800000000000004,
          -0.10000000000000142,
          -9.600000000000001,
          -24.4,
          -8.199999999999996,
          1.4000000000000057,
          -7.899999999999999,
          4.600000000000001,
          3.5,
          -13.700000000000003,
          -52.44446220865471,
          -9.100000000000001,
          9.299999999999997,
          5.700000000000003,
          3.8000000000000043,
          -23.1,
          12.399999999999999,
          -12,
          -2.8000000000000043,
          -3.299999999999997,
          6.899999999999999,
          0.7000000000000028,
          7.100000000000001,
          3,
          -6.700000000000003,
          3.799999999999997,
          6.899999999999999,
          -19.799999999999997,
          1.2999999999999972,
          -0.7999999999999972,
          -3.6000000000000014,
          0.29999999999999716,
          3.700000000000003,
          -3.8000000000000043,
          -13,
          8.099999999999994,
          -4.299999999999997,
          -18.300000000000004,
          -20.200000000000003,
          -11.900000000000006,
          -2.4000000000000057,
          -10.299999999999997,
          -10.700000000000003,
          -2,
          3,
          -0.7999999999999972,
          -2.299999999999997,
          -5.600000000000001,
          -0.29999999999999716,
          1.3000000000000043,
          2.1999999999999957,
          -12.199999999999996,
          -3.200000000000003,
          -28.799999999999997,
          -3.6999999999999957,
          -7.299999999999997,
          -6,
          -13.600000000000001,
          -71.24446220865471,
          -11.600000000000001,
          -16,
          -17.1,
          0.7000000000000028,
          -18.300000000000004,
          -9.5,
          -19.099999999999994,
          -22.299999999999997,
          -67.04446220865472,
          -1.1000000000000014,
          0,
          1.6999999999999957,
          20,
          11.100000000000001,
          -0.5,
          -8.799999999999997,
          7.300000000000004,
          8.899999999999999,
          58.44446220865471,
          -2.0999999999999943,
          -1,
          -13.800000000000004,
          -12.700000000000003,
          -7.100000000000001,
          13.899999999999999,
          55.84446220865472,
          -0.8999999999999986,
          -20,
          -55.44446220865471,
          -23.299999999999997,
          -18,
          -11.299999999999997,
          -8.400000000000006,
          -9.799999999999997,
          -66.94446220865471,
          -17.1,
          -13.300000000000004,
          -3,
          -1.2000000000000028,
          -6.299999999999997,
          -17.400000000000006,
          -11.700000000000003,
          -12.399999999999999,
          -21.4,
          -9.200000000000003,
          5.5,
          -20.4,
          4.100000000000001,
          -16.4,
          6.699999999999996,
          -3.299999999999997,
          -8.700000000000003,
          19.700000000000003,
          -13.100000000000009,
          7,
          4.399999999999999,
          -8.200000000000003,
          15.699999999999996,
          28.9,
          28,
          28.999999999999993,
          31.5,
          22.299999999999997,
          15.699999999999996,
          3.5,
          15.399999999999999,
          29.700000000000003,
          4.5,
          -9.299999999999997,
          5.600000000000001,
          -3,
          9.200000000000003,
          0.7000000000000028,
          -6.700000000000003,
          9.600000000000001,
          7.899999999999999,
          -25.799999999999997,
          4.100000000000001,
          1.6999999999999957,
          -4.699999999999996,
          7.299999999999997,
          1.8000000000000043,
          0.8999999999999986,
          -12.300000000000004,
          -6.100000000000001,
          -50.34446220865472,
          -15,
          4.599999999999994,
          -46.44446220865472,
          3.3999999999999986,
          -15.900000000000006,
          -10.600000000000001,
          6.599999999999994,
          -22.4,
          0.8999999999999986,
          -8.100000000000001,
          -2.299999999999997,
          -12.699999999999996,
          -2.6000000000000014,
          -7,
          -14.700000000000003,
          12.399999999999999,
          -33.099999999999994,
          -10.5,
          -21.000000000000007,
          3.1999999999999957,
          -8.200000000000003,
          -18.799999999999997,
          -0.8999999999999986,
          -22.1,
          -11.699999999999996,
          -3,
          4.899999999999999,
          -7.200000000000003,
          -4.299999999999997,
          -2.1999999999999957,
          2.3000000000000043,
          -6.099999999999994,
          -2.1000000000000014,
          0.20000000000000284,
          8.100000000000001,
          -12.299999999999997,
          3.5,
          -8.599999999999994,
          11.200000000000003,
          15.300000000000004,
          -8.5,
          -13.400000000000006,
          0.10000000000000142,
          -6.5,
          -14.199999999999996,
          0.30000000000000426,
          49.044462208654714,
          -1.3000000000000043,
          33.3,
          7.200000000000003,
          -1.2999999999999972,
          8.899999999999999,
          6.200000000000003,
          2.8000000000000043,
          4.700000000000003,
          0.9000000000000057,
          -1.4000000000000057,
          29,
          27.799999999999997,
          17.39999999999999,
          16.1,
          12.299999999999997,
          -2.8000000000000043,
          -3.6000000000000014,
          23.5,
          23.199999999999996,
          10.5,
          4.099999999999994,
          -9.800000000000004,
          -11.399999999999999,
          -9.700000000000003,
          0.7000000000000028,
          -8.200000000000003,
          2.8999999999999986,
          -2.3999999999999986,
          1.1999999999999957,
          5.5,
          -8.900000000000006,
          -2.3000000000000043,
          19.8,
          -2.5999999999999943,
          2,
          14.199999999999996,
          15.099999999999994,
          14.699999999999996,
          30.500000000000007,
          8.800000000000004,
          19.9,
          18.799999999999997,
          16.5,
          11.299999999999997,
          4,
          22.5,
          16.199999999999996,
          -7.3999999999999915,
          8.799999999999997,
          17.5,
          3.799999999999997,
          18,
          3.6000000000000014,
          -1.6000000000000014,
          6.700000000000003,
          8.799999999999997,
          -4.799999999999997,
          9.100000000000001,
          6.900000000000006,
          -7.700000000000003,
          -9.299999999999997,
          8.099999999999994,
          -11,
          14.200000000000003,
          -59.44446220865471,
          6.400000000000006,
          2.3000000000000043,
          9.399999999999999,
          4.5,
          0.3999999999999986,
          -4.5,
          -3.6999999999999957,
          -21,
          3,
          0.8999999999999986,
          9,
          -5,
          1.7999999999999972,
          -1.5999999999999943,
          5.800000000000004,
          -6.5,
          -46.84446220865472,
          -23.39999999999999,
          3.6999999999999957,
          2.700000000000003,
          18.9,
          11.5,
          12.899999999999999,
          1.8999999999999986,
          -2.9000000000000057,
          20.299999999999997,
          14.799999999999997,
          -12,
          5,
          5.900000000000006,
          19.1,
          -16.9,
          10.399999999999999,
          -2.8999999999999986,
          0.7999999999999972,
          -21.60000000000001,
          11.800000000000004,
          11.700000000000003,
          7,
          -1.6999999999999957,
          -13.200000000000003,
          -4.600000000000001,
          -8.199999999999996,
          15.7,
          -3.9000000000000057,
          13.200000000000003,
          20.10000000000001,
          26,
          2.5,
          29.700000000000003,
          23.800000000000004,
          1.7000000000000028,
          13,
          -1.0999999999999943,
          15.399999999999999,
          2.0999999999999943,
          -16.200000000000003,
          22.200000000000003,
          15.400000000000006,
          21.199999999999996,
          12.799999999999997,
          -0.8999999999999986,
          13.5,
          8.400000000000006,
          19.800000000000004,
          17.4,
          14.100000000000001,
          3.799999999999997,
          11.899999999999999,
          55.044462208654714,
          11.799999999999997,
          1.7000000000000028,
          8.799999999999997,
          -3.6000000000000014,
          3.0999999999999943,
          -1.2999999999999972,
          7.299999999999997,
          20.199999999999996,
          9.199999999999996,
          22.400000000000006,
          20.900000000000006,
          -23.10000000000001,
          5,
          16.199999999999996,
          18.800000000000004,
          -15.600000000000001,
          -10.299999999999997,
          -2.6000000000000014,
          4.5,
          15.299999999999997,
          -14.200000000000003,
          11.299999999999997,
          13.5,
          -3,
          24.5,
          9.799999999999997,
          15.5,
          8.200000000000003,
          17.4,
          8,
          3.5,
          -0.3999999999999986,
          -0.3999999999999986,
          -8.399999999999999,
          3.8999999999999986,
          11.800000000000004,
          18.5,
          21.800000000000004,
          6.399999999999999,
          15.200000000000003,
          2.299999999999997,
          -0.8999999999999986,
          2.299999999999997,
          8.100000000000001,
          -3,
          5,
          3.5,
          3.799999999999997,
          8.100000000000001,
          -8.700000000000003,
          6,
          0.7999999999999972,
          1.8999999999999986,
          0.8999999999999986,
          -0.19999999999999574,
          -17.700000000000003,
          2.200000000000003,
          10.199999999999996,
          -1.2999999999999972,
          -3.6000000000000014,
          7.799999999999997,
          2.4000000000000057,
          -1.5,
          2.4000000000000057,
          5.5,
          -7.600000000000001,
          -4.300000000000004,
          3.1999999999999957,
          -11.899999999999999,
          -6.899999999999999,
          -1,
          17.5,
          8.399999999999999,
          47.94446220865472,
          5,
          4.5,
          5.300000000000004,
          16.5,
          -11.899999999999999,
          9.800000000000004,
          -21.199999999999996,
          46.044462208654714,
          15.399999999999999,
          4.399999999999999,
          4.800000000000004,
          -18.9,
          -14.200000000000003,
          0.6999999999999957,
          -23.9,
          -9.199999999999996,
          -4.799999999999997,
          -1.2000000000000028,
          -49.34446220865472,
          5,
          -21,
          5.799999999999997,
          0.8999999999999986,
          -8.299999999999997,
          -11.099999999999994,
          -3.1000000000000014,
          -5.399999999999999,
          0.30000000000000426,
          -16.799999999999997,
          5.399999999999999,
          -2.8000000000000043,
          -5.299999999999997,
          -15.199999999999996,
          -16.099999999999994,
          -4.600000000000001,
          -6.200000000000003,
          3.8000000000000043,
          -3.1999999999999957,
          -4.899999999999999,
          -19.299999999999997,
          2.299999999999997,
          7.899999999999999,
          -10.5,
          -1,
          -3.6999999999999957,
          -15.799999999999997,
          -50.544462208654714,
          -3.799999999999997,
          -4.099999999999994,
          -0.7000000000000028,
          -2.5,
          3.5,
          -1.5,
          -11.899999999999999,
          -51.644462208654716,
          -25.299999999999997,
          -23.5,
          -25.999999999999993,
          -5.5,
          -63.34446220865472,
          -11.400000000000006,
          3,
          -1.6000000000000014,
          -10.800000000000004,
          -17,
          -35.3,
          -13.100000000000001,
          1.1000000000000014,
          -14.5,
          -12.600000000000001,
          -2.299999999999997,
          -5.299999999999997,
          -11.600000000000001,
          3.8999999999999986,
          14.299999999999997,
          11,
          -1.4000000000000057,
          -5.799999999999997,
          -31.799999999999997,
          -14.099999999999998,
          -37.4,
          -5.300000000000001,
          -52.34446220865472,
          -22,
          -16.4,
          -21.1,
          -11.100000000000001,
          2.6999999999999957,
          -26.4,
          -3.6000000000000014,
          -3.799999999999997,
          -18,
          -13.200000000000003,
          -64.44446220865471,
          -8.399999999999999,
          -0.10000000000000142,
          -8.400000000000006,
          -12.199999999999996,
          -15.800000000000004,
          3.799999999999997,
          -49.84446220865472,
          -3.5,
          -23.699999999999996,
          -0.5,
          -6.799999999999997,
          3.200000000000003,
          -0.19999999999999574,
          3,
          -2,
          12.899999999999999
         ]
        }
       ],
       "layout": {
        "height": 600,
        "plot_bgcolor": "white",
        "template": {
         "data": {
          "bar": [
           {
            "error_x": {
             "color": "#2a3f5f"
            },
            "error_y": {
             "color": "#2a3f5f"
            },
            "marker": {
             "line": {
              "color": "#E5ECF6",
              "width": 0.5
             },
             "pattern": {
              "fillmode": "overlay",
              "size": 10,
              "solidity": 0.2
             }
            },
            "type": "bar"
           }
          ],
          "barpolar": [
           {
            "marker": {
             "line": {
              "color": "#E5ECF6",
              "width": 0.5
             },
             "pattern": {
              "fillmode": "overlay",
              "size": 10,
              "solidity": 0.2
             }
            },
            "type": "barpolar"
           }
          ],
          "carpet": [
           {
            "aaxis": {
             "endlinecolor": "#2a3f5f",
             "gridcolor": "white",
             "linecolor": "white",
             "minorgridcolor": "white",
             "startlinecolor": "#2a3f5f"
            },
            "baxis": {
             "endlinecolor": "#2a3f5f",
             "gridcolor": "white",
             "linecolor": "white",
             "minorgridcolor": "white",
             "startlinecolor": "#2a3f5f"
            },
            "type": "carpet"
           }
          ],
          "choropleth": [
           {
            "colorbar": {
             "outlinewidth": 0,
             "ticks": ""
            },
            "type": "choropleth"
           }
          ],
          "contour": [
           {
            "colorbar": {
             "outlinewidth": 0,
             "ticks": ""
            },
            "colorscale": [
             [
              0,
              "#0d0887"
             ],
             [
              0.1111111111111111,
              "#46039f"
             ],
             [
              0.2222222222222222,
              "#7201a8"
             ],
             [
              0.3333333333333333,
              "#9c179e"
             ],
             [
              0.4444444444444444,
              "#bd3786"
             ],
             [
              0.5555555555555556,
              "#d8576b"
             ],
             [
              0.6666666666666666,
              "#ed7953"
             ],
             [
              0.7777777777777778,
              "#fb9f3a"
             ],
             [
              0.8888888888888888,
              "#fdca26"
             ],
             [
              1,
              "#f0f921"
             ]
            ],
            "type": "contour"
           }
          ],
          "contourcarpet": [
           {
            "colorbar": {
             "outlinewidth": 0,
             "ticks": ""
            },
            "type": "contourcarpet"
           }
          ],
          "heatmap": [
           {
            "colorbar": {
             "outlinewidth": 0,
             "ticks": ""
            },
            "colorscale": [
             [
              0,
              "#0d0887"
             ],
             [
              0.1111111111111111,
              "#46039f"
             ],
             [
              0.2222222222222222,
              "#7201a8"
             ],
             [
              0.3333333333333333,
              "#9c179e"
             ],
             [
              0.4444444444444444,
              "#bd3786"
             ],
             [
              0.5555555555555556,
              "#d8576b"
             ],
             [
              0.6666666666666666,
              "#ed7953"
             ],
             [
              0.7777777777777778,
              "#fb9f3a"
             ],
             [
              0.8888888888888888,
              "#fdca26"
             ],
             [
              1,
              "#f0f921"
             ]
            ],
            "type": "heatmap"
           }
          ],
          "heatmapgl": [
           {
            "colorbar": {
             "outlinewidth": 0,
             "ticks": ""
            },
            "colorscale": [
             [
              0,
              "#0d0887"
             ],
             [
              0.1111111111111111,
              "#46039f"
             ],
             [
              0.2222222222222222,
              "#7201a8"
             ],
             [
              0.3333333333333333,
              "#9c179e"
             ],
             [
              0.4444444444444444,
              "#bd3786"
             ],
             [
              0.5555555555555556,
              "#d8576b"
             ],
             [
              0.6666666666666666,
              "#ed7953"
             ],
             [
              0.7777777777777778,
              "#fb9f3a"
             ],
             [
              0.8888888888888888,
              "#fdca26"
             ],
             [
              1,
              "#f0f921"
             ]
            ],
            "type": "heatmapgl"
           }
          ],
          "histogram": [
           {
            "marker": {
             "pattern": {
              "fillmode": "overlay",
              "size": 10,
              "solidity": 0.2
             }
            },
            "type": "histogram"
           }
          ],
          "histogram2d": [
           {
            "colorbar": {
             "outlinewidth": 0,
             "ticks": ""
            },
            "colorscale": [
             [
              0,
              "#0d0887"
             ],
             [
              0.1111111111111111,
              "#46039f"
             ],
             [
              0.2222222222222222,
              "#7201a8"
             ],
             [
              0.3333333333333333,
              "#9c179e"
             ],
             [
              0.4444444444444444,
              "#bd3786"
             ],
             [
              0.5555555555555556,
              "#d8576b"
             ],
             [
              0.6666666666666666,
              "#ed7953"
             ],
             [
              0.7777777777777778,
              "#fb9f3a"
             ],
             [
              0.8888888888888888,
              "#fdca26"
             ],
             [
              1,
              "#f0f921"
             ]
            ],
            "type": "histogram2d"
           }
          ],
          "histogram2dcontour": [
           {
            "colorbar": {
             "outlinewidth": 0,
             "ticks": ""
            },
            "colorscale": [
             [
              0,
              "#0d0887"
             ],
             [
              0.1111111111111111,
              "#46039f"
             ],
             [
              0.2222222222222222,
              "#7201a8"
             ],
             [
              0.3333333333333333,
              "#9c179e"
             ],
             [
              0.4444444444444444,
              "#bd3786"
             ],
             [
              0.5555555555555556,
              "#d8576b"
             ],
             [
              0.6666666666666666,
              "#ed7953"
             ],
             [
              0.7777777777777778,
              "#fb9f3a"
             ],
             [
              0.8888888888888888,
              "#fdca26"
             ],
             [
              1,
              "#f0f921"
             ]
            ],
            "type": "histogram2dcontour"
           }
          ],
          "mesh3d": [
           {
            "colorbar": {
             "outlinewidth": 0,
             "ticks": ""
            },
            "type": "mesh3d"
           }
          ],
          "parcoords": [
           {
            "line": {
             "colorbar": {
              "outlinewidth": 0,
              "ticks": ""
             }
            },
            "type": "parcoords"
           }
          ],
          "pie": [
           {
            "automargin": true,
            "type": "pie"
           }
          ],
          "scatter": [
           {
            "marker": {
             "colorbar": {
              "outlinewidth": 0,
              "ticks": ""
             }
            },
            "type": "scatter"
           }
          ],
          "scatter3d": [
           {
            "line": {
             "colorbar": {
              "outlinewidth": 0,
              "ticks": ""
             }
            },
            "marker": {
             "colorbar": {
              "outlinewidth": 0,
              "ticks": ""
             }
            },
            "type": "scatter3d"
           }
          ],
          "scattercarpet": [
           {
            "marker": {
             "colorbar": {
              "outlinewidth": 0,
              "ticks": ""
             }
            },
            "type": "scattercarpet"
           }
          ],
          "scattergeo": [
           {
            "marker": {
             "colorbar": {
              "outlinewidth": 0,
              "ticks": ""
             }
            },
            "type": "scattergeo"
           }
          ],
          "scattergl": [
           {
            "marker": {
             "colorbar": {
              "outlinewidth": 0,
              "ticks": ""
             }
            },
            "type": "scattergl"
           }
          ],
          "scattermapbox": [
           {
            "marker": {
             "colorbar": {
              "outlinewidth": 0,
              "ticks": ""
             }
            },
            "type": "scattermapbox"
           }
          ],
          "scatterpolar": [
           {
            "marker": {
             "colorbar": {
              "outlinewidth": 0,
              "ticks": ""
             }
            },
            "type": "scatterpolar"
           }
          ],
          "scatterpolargl": [
           {
            "marker": {
             "colorbar": {
              "outlinewidth": 0,
              "ticks": ""
             }
            },
            "type": "scatterpolargl"
           }
          ],
          "scatterternary": [
           {
            "marker": {
             "colorbar": {
              "outlinewidth": 0,
              "ticks": ""
             }
            },
            "type": "scatterternary"
           }
          ],
          "surface": [
           {
            "colorbar": {
             "outlinewidth": 0,
             "ticks": ""
            },
            "colorscale": [
             [
              0,
              "#0d0887"
             ],
             [
              0.1111111111111111,
              "#46039f"
             ],
             [
              0.2222222222222222,
              "#7201a8"
             ],
             [
              0.3333333333333333,
              "#9c179e"
             ],
             [
              0.4444444444444444,
              "#bd3786"
             ],
             [
              0.5555555555555556,
              "#d8576b"
             ],
             [
              0.6666666666666666,
              "#ed7953"
             ],
             [
              0.7777777777777778,
              "#fb9f3a"
             ],
             [
              0.8888888888888888,
              "#fdca26"
             ],
             [
              1,
              "#f0f921"
             ]
            ],
            "type": "surface"
           }
          ],
          "table": [
           {
            "cells": {
             "fill": {
              "color": "#EBF0F8"
             },
             "line": {
              "color": "white"
             }
            },
            "header": {
             "fill": {
              "color": "#C8D4E3"
             },
             "line": {
              "color": "white"
             }
            },
            "type": "table"
           }
          ]
         },
         "layout": {
          "annotationdefaults": {
           "arrowcolor": "#2a3f5f",
           "arrowhead": 0,
           "arrowwidth": 1
          },
          "autotypenumbers": "strict",
          "coloraxis": {
           "colorbar": {
            "outlinewidth": 0,
            "ticks": ""
           }
          },
          "colorscale": {
           "diverging": [
            [
             0,
             "#8e0152"
            ],
            [
             0.1,
             "#c51b7d"
            ],
            [
             0.2,
             "#de77ae"
            ],
            [
             0.3,
             "#f1b6da"
            ],
            [
             0.4,
             "#fde0ef"
            ],
            [
             0.5,
             "#f7f7f7"
            ],
            [
             0.6,
             "#e6f5d0"
            ],
            [
             0.7,
             "#b8e186"
            ],
            [
             0.8,
             "#7fbc41"
            ],
            [
             0.9,
             "#4d9221"
            ],
            [
             1,
             "#276419"
            ]
           ],
           "sequential": [
            [
             0,
             "#0d0887"
            ],
            [
             0.1111111111111111,
             "#46039f"
            ],
            [
             0.2222222222222222,
             "#7201a8"
            ],
            [
             0.3333333333333333,
             "#9c179e"
            ],
            [
             0.4444444444444444,
             "#bd3786"
            ],
            [
             0.5555555555555556,
             "#d8576b"
            ],
            [
             0.6666666666666666,
             "#ed7953"
            ],
            [
             0.7777777777777778,
             "#fb9f3a"
            ],
            [
             0.8888888888888888,
             "#fdca26"
            ],
            [
             1,
             "#f0f921"
            ]
           ],
           "sequentialminus": [
            [
             0,
             "#0d0887"
            ],
            [
             0.1111111111111111,
             "#46039f"
            ],
            [
             0.2222222222222222,
             "#7201a8"
            ],
            [
             0.3333333333333333,
             "#9c179e"
            ],
            [
             0.4444444444444444,
             "#bd3786"
            ],
            [
             0.5555555555555556,
             "#d8576b"
            ],
            [
             0.6666666666666666,
             "#ed7953"
            ],
            [
             0.7777777777777778,
             "#fb9f3a"
            ],
            [
             0.8888888888888888,
             "#fdca26"
            ],
            [
             1,
             "#f0f921"
            ]
           ]
          },
          "colorway": [
           "#636efa",
           "#EF553B",
           "#00cc96",
           "#ab63fa",
           "#FFA15A",
           "#19d3f3",
           "#FF6692",
           "#B6E880",
           "#FF97FF",
           "#FECB52"
          ],
          "font": {
           "color": "#2a3f5f"
          },
          "geo": {
           "bgcolor": "white",
           "lakecolor": "white",
           "landcolor": "#E5ECF6",
           "showlakes": true,
           "showland": true,
           "subunitcolor": "white"
          },
          "hoverlabel": {
           "align": "left"
          },
          "hovermode": "closest",
          "mapbox": {
           "style": "light"
          },
          "paper_bgcolor": "white",
          "plot_bgcolor": "#E5ECF6",
          "polar": {
           "angularaxis": {
            "gridcolor": "white",
            "linecolor": "white",
            "ticks": ""
           },
           "bgcolor": "#E5ECF6",
           "radialaxis": {
            "gridcolor": "white",
            "linecolor": "white",
            "ticks": ""
           }
          },
          "scene": {
           "xaxis": {
            "backgroundcolor": "#E5ECF6",
            "gridcolor": "white",
            "gridwidth": 2,
            "linecolor": "white",
            "showbackground": true,
            "ticks": "",
            "zerolinecolor": "white"
           },
           "yaxis": {
            "backgroundcolor": "#E5ECF6",
            "gridcolor": "white",
            "gridwidth": 2,
            "linecolor": "white",
            "showbackground": true,
            "ticks": "",
            "zerolinecolor": "white"
           },
           "zaxis": {
            "backgroundcolor": "#E5ECF6",
            "gridcolor": "white",
            "gridwidth": 2,
            "linecolor": "white",
            "showbackground": true,
            "ticks": "",
            "zerolinecolor": "white"
           }
          },
          "shapedefaults": {
           "line": {
            "color": "#2a3f5f"
           }
          },
          "ternary": {
           "aaxis": {
            "gridcolor": "white",
            "linecolor": "white",
            "ticks": ""
           },
           "baxis": {
            "gridcolor": "white",
            "linecolor": "white",
            "ticks": ""
           },
           "bgcolor": "#E5ECF6",
           "caxis": {
            "gridcolor": "white",
            "linecolor": "white",
            "ticks": ""
           }
          },
          "title": {
           "x": 0.05
          },
          "xaxis": {
           "automargin": true,
           "gridcolor": "white",
           "linecolor": "white",
           "ticks": "",
           "title": {
            "standoff": 15
           },
           "zerolinecolor": "white",
           "zerolinewidth": 2
          },
          "yaxis": {
           "automargin": true,
           "gridcolor": "white",
           "linecolor": "white",
           "ticks": "",
           "title": {
            "standoff": 15
           },
           "zerolinecolor": "white",
           "zerolinewidth": 2
          }
         }
        },
        "width": 600,
        "xaxis": {
         "anchor": "x",
         "exponentformat": "e",
         "linecolor": "black",
         "linewidth": 1,
         "mirror": false,
         "showexponent": "all",
         "showline": true,
         "side": "bottom",
         "ticks": "outside",
         "title": {
          "text": "0th"
         },
         "type": "linear",
         "zeroline": true
        },
        "yaxis": {
         "anchor": "y",
         "exponentformat": "e",
         "linecolor": "black",
         "linewidth": 1,
         "mirror": false,
         "showexponent": "all",
         "showline": true,
         "side": "left",
         "ticks": "outside",
         "title": {
          "text": "1st"
         },
         "type": "linear",
         "zeroline": true
        }
       }
      },
      "text/html": [
       "<div>                            <div id=\"9a06f694-7b68-486b-88cb-3582a5281341\" class=\"plotly-graph-div\" style=\"height:600px; width:600px;\"></div>            <script type=\"text/javascript\">                require([\"plotly\"], function(Plotly) {                    window.PLOTLYENV=window.PLOTLYENV || {};                                    if (document.getElementById(\"9a06f694-7b68-486b-88cb-3582a5281341\")) {                    Plotly.newPlot(                        \"9a06f694-7b68-486b-88cb-3582a5281341\",                        [{\"marker\":{\"color\":[0,1,2,3,4,5,6,7,8,9,10,11,12,13,14,15,16,17,18,19,20,21,22,23,24,25,26,27,28,29,30,31,32,33,34,35,36,37,38,39,40,41,42,43,44,45,46,47,48,49,50,51,52,53,54,55,56,57,58,59,60,61,62,63,64,65,66,67,68,69,70,71,72,73,74,75,76,77,78,79,80,81,82,83,84,85,86,87,88,89,90,91,92,93,94,95,96,97,98,99,100,101,102,103,104,105,106,107,108,109,110,111,112,113,114,115,116,117,118,119,120,121,122,123,124,125,126,127,128,129,130,131,132,133,134,135,136,137,138,139,140,141,142,143,144,145,146,147,148,149,150,151,152,153,154,155,156,157,158,159,160,161,162,163,164,165,166,167,168,169,170,171,172,173,174,175,176,177,178,179,180,181,182,183,184,185,186,187,188,189,190,191,192,193,194,195,196,197,198,199,200,201,202,203,204,205,206,207,208,209,210,211,212,213,214,215,216,217,218,219,220,221,222,223,224,225,226,227,228,229,230,231,232,233,234,235,236,237,238,239,240,241,242,243,244,245,246,247,248,249,250,251,252,253,254,255,256,257,258,259,260,261,262,263,264,265,266,267,268,269,270,271,272,273,274,275,276,277,278,279,280,281,282,283,284,285,286,287,288,289,290,291,292,293,294,295,296,297,298,299,300,301,302,303,304,305,306,307,308,309,310,311,312,313,314,315,316,317,318,319,320,321,322,323,324,325,326,327,328,329,330,331,332,333,334,335,336,337,338,339,340,341,342,343,344,345,346,347,348,349,350,351,352,353,354,355,356,357,358,359,360,361,362,363,364,365,366,367,368,369,370,371,372,373,374,375,376,377,378,379,380,381,382,383,384,385,386,387,388,389,390,391,392,393,394,395,396,397,398,399,400,401,402,403,404,405,406,407,408,409,410,411,412,413,414,415,416,417,418,419,420,421,422,423,424,425,426,427,428,429,430,431,432,433,434,435,436,437,438,439,440,441,442,443,444,445,446,447,448,449,450,451,452,453,454,455,456,457,458,459,460,461,462,463,464,465,466,467,468,469,470,471,472,473,474,475,476,477,478,479,480,481,482,483,484,485,486,487,488,489,490,491,492,493,494,495,496,497,498,499,500,501,502,503,504,505,506,507,508,509,510,511,512,513,514,515,516,517,518,519,520,521,522,523,524,525,526,527,528,529,530,531,532,533,534,535,536,537,538,539,540,541,542,543,544,545,546,547,548,549,550,551,552,553,554,555,556,557,558,559,560,561,562,563,564,565,566,567,568,569,570,571,572,573,574,575,576,577,578,579,580,581,582,583,584,585,586,587,588,589,590,591,592,593,594,595,596,597,598,599,600,601,602,603,604,605,606,607,608,609,610],\"colorscale\":[[0.0,\"#440154\"],[0.1111111111111111,\"#482878\"],[0.2222222222222222,\"#3e4989\"],[0.3333333333333333,\"#31688e\"],[0.4444444444444444,\"#26828e\"],[0.5555555555555556,\"#1f9e89\"],[0.6666666666666666,\"#35b779\"],[0.7777777777777778,\"#6ece58\"],[0.8888888888888888,\"#b5de2b\"],[1.0,\"#fde725\"]],\"opacity\":0.8,\"size\":4},\"mode\":\"markers\",\"type\":\"scatter\",\"x\":[21.85416384663107,2.5,4.899999999999999,-2.1000000000000014,-0.40000000000000213,2.0,4.0000000000000036,-1.0,1.3999999999999986,2.5999999999999943,-5.600000000000001,-3.0,-0.8000000000000043,6.100000000000001,-2.299999999999997,-0.5,4.199999999999999,-1.1000000000000014,-4.0,0.5,2.1000000000000014,-0.5,4.799999999999997,-22.654163846631075,5.199999999999999,-0.5,0.8999999999999986,4.0,-1.1000000000000014,5.0,-0.10000000000000142,3.1000000000000014,7.4999999999999964,-22.554163846631074,1.3999999999999986,-2.700000000000003,-1.6000000000000014,-8.7,1.5000000000000036,-1.5999999999999943,-5.599999999999998,-3.1999999999999993,-2.700000000000003,-0.5,1.1000000000000014,0.29999999999999716,1.1999999999999993,-3.8000000000000043,-1.1999999999999993,-2.200000000000003,-2.200000000000003,1.3999999999999986,2.0,-1.2999999999999972,3.0,0.7999999999999972,-1.6999999999999957,-1.6999999999999957,1.7000000000000028,-2.0999999999999943,1.7999999999999972,-2.8000000000000043,-3.0,0.1999999999999993,-3.1000000000000014,-1.3000000000000043,3.1000000000000014,-2.700000000000003,-5.800000000000001,-4.100000000000001,-20.65416384663107,-4.599999999999998,-3.8999999999999986,-0.1999999999999993,-2.1000000000000014,-5.600000000000001,-3.700000000000003,-0.1999999999999993,-4.099999999999998,-4.5,-4.399999999999999,-27.954163846631072,-27.75416384663107,-3.400000000000002,-3.5,-6.300000000000001,-6.399999999999999,-3.8000000000000007,-6.699999999999999,-0.20000000000000284,-4.4999999999999964,-3.1999999999999957,-1.0,-2.8999999999999986,-3.5000000000000036,-1.2999999999999972,2.700000000000003,-3.8000000000000043,-1.7999999999999972,21.454163846631072,-2.0,-3.9999999999999964,-1.3999999999999986,2.1999999999999957,2.8000000000000007,1.0,2.6000000000000014,-3.3999999999999986,-3.6000000000000014,-0.8999999999999986,-21.054163846631074,1.1000000000000014,-2.5,0.3000000000000007,-5.0,-0.8000000000000007,-5.800000000000004,-1.0,0.6000000000000014,0.5999999999999979,-4.600000000000001,0.8000000000000007,-3.700000000000003,-4.099999999999998,-0.3999999999999986,-5.600000000000001,-4.600000000000001,4.0000000000000036,-0.5999999999999943,1.1000000000000014,-3.5,1.2000000000000028,-4.300000000000001,-0.6999999999999957,1.0000000000000036,-3.6000000000000014,-1.6000000000000014,0.7999999999999972,1.6000000000000014,1.2999999999999972,0.6999999999999957,2.3999999999999986,2.1000000000000014,-0.5,0.3999999999999986,-3.200000000000003,0.9000000000000057,1.3000000000000043,0.19999999999999574,-2.0,-1.7000000000000028,4.0,0.8999999999999986,6.400000000000002,2.6000000000000014,-0.6000000000000014,3.0,0.8000000000000043,28.054163846631074,4.700000000000003,0.4000000000000057,4.199999999999999,-0.5999999999999943,4.399999999999999,0.5,0.7999999999999972,2.3000000000000043,23.454163846631072,4.600000000000001,1.5,-0.6999999999999957,-2.0,-3.6999999999999957,-1.6999999999999957,4.099999999999998,-2.0,-4.399999999999999,-21.85416384663107,0.6999999999999957,3.5,5.100000000000001,5.600000000000001,3.1999999999999957,2.6000000000000014,-23.154163846631068,1.1000000000000014,4.900000000000002,24.454163846631076,4.299999999999997,1.5,7.100000000000001,3.799999999999997,0.29999999999999716,-21.054163846631067,6.200000000000003,5.599999999999998,4.0,0.6000000000000014,3.3999999999999986,2.9000000000000057,1.6000000000000014,1.1000000000000014,3.0,0.8000000000000043,-1.5,5.800000000000001,-0.7000000000000028,1.8999999999999986,-1.8999999999999986,0.5,2.6999999999999993,-3.0,0.3000000000000007,-1.3000000000000043,1.8000000000000043,0.7999999999999972,-1.5,-2.799999999999997,-2.1000000000000014,-9.200000000000003,-4.0,-0.3999999999999986,-1.4000000000000057,0.8000000000000043,1.3000000000000007,-5.699999999999996,-3.3000000000000043,1.8999999999999986,-0.3000000000000007,-1.6999999999999957,-3.700000000000003,-2.0,-0.19999999999999574,-0.4000000000000057,-2.799999999999997,6.099999999999998,-1.5,-2.0,1.3000000000000043,-3.8999999999999986,2.3999999999999986,0.29999999999999716,3.0,4.699999999999996,22.954163846631072,0.6999999999999957,-0.8999999999999986,22.054163846631074,-0.5,5.700000000000003,4.100000000000001,1.1000000000000014,-1.6000000000000014,-2.5,1.4000000000000021,-0.10000000000000142,-1.5,1.7000000000000028,2.200000000000003,3.6999999999999957,-3.6999999999999957,8.700000000000003,0.5,8.600000000000001,-0.10000000000000142,3.0,1.0,0.3999999999999986,4.199999999999996,1.6000000000000014,2.700000000000003,0.8999999999999986,0.6999999999999957,0.7999999999999972,1.7999999999999972,2.700000000000003,2.6000000000000014,-0.10000000000000142,1.3999999999999986,1.0,2.299999999999997,1.7000000000000028,2.0,1.1000000000000014,-1.7000000000000028,1.2000000000000028,7.5,0.8000000000000043,2.0,4.700000000000003,0.5999999999999943,-23.75416384663107,4.100000000000001,-4.5,3.3999999999999986,1.1000000000000014,0.7999999999999972,1.7999999999999972,0.20000000000000284,-0.8999999999999986,1.2000000000000028,5.5,-5.0,-1.0,-2.3999999999999986,-1.5,-1.6000000000000014,2.799999999999997,3.5,-2.5,-2.6999999999999957,-2.5,-0.19999999999999574,2.8999999999999986,2.200000000000003,6.5,-0.4000000000000057,5.899999999999999,5.400000000000002,6.399999999999999,0.0,0.7999999999999972,4.5,0.8999999999999986,-3.1999999999999957,5.700000000000003,2.1999999999999993,-0.6999999999999957,1.9000000000000021,-1.2000000000000028,-6.099999999999998,0.0,-0.6000000000000014,-2.5,-2.200000000000003,-0.6999999999999957,3.900000000000002,-3.8000000000000007,-1.5,1.6000000000000014,2.1000000000000014,1.1999999999999993,-0.30000000000000426,-1.8999999999999986,-0.7999999999999972,0.8999999999999986,-0.8000000000000043,2.8000000000000007,-1.7000000000000028,-1.2999999999999972,2.8999999999999986,1.7000000000000028,4.100000000000001,-0.10000000000000142,4.600000000000001,-0.09999999999999432,22.154163846631075,-1.2999999999999972,2.8999999999999986,0.7999999999999972,2.1999999999999957,1.5,3.6999999999999957,-0.9000000000000057,3.299999999999997,1.5,0.5,-2.200000000000003,0.20000000000000284,-0.3999999999999986,1.3999999999999986,-0.8000000000000043,1.7999999999999972,21.85416384663107,2.8999999999999986,-1.3999999999999986,1.9000000000000057,-2.6000000000000014,-0.09999999999999432,0.5,0.5,-1.5,-4.900000000000002,-1.0,-0.5,2.1999999999999993,2.599999999999998,-3.8999999999999986,8.099999999999998,-1.6000000000000014,0.8000000000000043,0.9000000000000057,2.5,-1.8999999999999986,1.0,-2.8000000000000043,2.6000000000000014,-1.0,2.200000000000003,1.2000000000000028,-5.199999999999996,-0.6000000000000014,-2.200000000000003,-4.5,-4.0,1.5,-3.599999999999998,-5.899999999999999,-2.299999999999997,-0.8999999999999986,2.400000000000002,-6.0,-0.3000000000000007,2.0,-6.0000000000000036,-5.800000000000001,-3.3999999999999986,-4.4999999999999964,-1.1999999999999993,-4.399999999999999,-3.6000000000000014,-5.699999999999996,-6.0,-5.300000000000001,-3.1999999999999957,-5.400000000000002,-27.454163846631072,-2.1000000000000014,0.8000000000000007,-5.199999999999996,2.6999999999999993,-0.19999999999999574,0.5,-4.5,-6.5000000000000036,-4.400000000000002,-8.600000000000001,-7.599999999999998,0.3999999999999986,-4.399999999999999,-3.299999999999997,-6.100000000000001,-1.0999999999999979,2.5,0.3000000000000007,-4.5,-8.8,3.6999999999999993,-4.300000000000004,-4.800000000000004,-2.3999999999999986,-8.3,-4.700000000000003,-5.9999999999999964,-3.200000000000003,-6.400000000000002,-1.8000000000000007,-4.300000000000001,-0.3999999999999986,-0.5,-2.3999999999999986,-1.4000000000000021,-4.0000000000000036,-3.200000000000003,-8.400000000000002,-4.899999999999999,-6.100000000000001,-1.4000000000000021,-3.3999999999999986,0.3000000000000007,-0.1999999999999993,-3.200000000000003,-3.3999999999999986,-3.799999999999997,-3.8999999999999986,-3.6000000000000014,-1.6999999999999957,-1.3000000000000043,0.09999999999999432,-2.8999999999999986,-3.8000000000000007,0.8999999999999986,2.8999999999999986,-1.3000000000000007,-1.8999999999999986,-0.8999999999999986,-2.099999999999998,-1.2000000000000028,0.6999999999999993,0.7000000000000028,0.0,-3.5,3.6000000000000014,2.0,-5.100000000000001,5.699999999999999,1.6999999999999957,-3.200000000000003,-4.300000000000004,-3.3000000000000007,21.75416384663107,-0.5,-3.0,0.5,-5.899999999999999,1.6000000000000014,-3.5,2.5,22.054163846631074,-3.700000000000003,-1.2000000000000028,-0.7999999999999972,3.0,3.6999999999999993,-0.9000000000000057,3.700000000000003,7.0,4.100000000000001,1.2000000000000028,-21.35416384663107,-2.200000000000003,0.30000000000000426,-0.20000000000000284,-1.9000000000000057,1.6000000000000014,0.5,0.3999999999999986,3.6000000000000014,-2.3999999999999986,-0.4000000000000057,-1.3999999999999986,1.6000000000000014,0.8999999999999986,4.400000000000002,1.0999999999999979,3.1000000000000014,-1.1000000000000014,-0.9000000000000057,1.7999999999999972,1.7000000000000028,5.100000000000001,0.7000000000000028,-0.9000000000000057,5.199999999999996,-0.3999999999999986,-0.29999999999999716,1.2999999999999972,22.454163846631072,-0.29999999999999716,0.30000000000000426,0.6000000000000014,-1.1000000000000014,-0.5,2.6999999999999957,1.8999999999999986,24.954163846631072,5.800000000000001,3.9999999999999964,5.299999999999997,3.0,21.254163846631076,2.1000000000000014,-0.5,1.2999999999999972,4.599999999999994,4.700000000000003,5.400000000000002,6.599999999999998,1.1000000000000014,2.799999999999997,4.300000000000004,1.7999999999999972,1.0,6.700000000000003,-0.3999999999999986,-2.8000000000000043,-0.20000000000000284,0.7000000000000028,5.399999999999999,6.0,3.5,6.5,-0.8000000000000043,21.85416384663107,7.0,6.5,4.200000000000003,1.5,-0.10000000000000142,5.299999999999997,1.8999999999999986,-0.09999999999999432,4.799999999999997,1.5,22.25416384663107,1.0,-0.29999999999999716,4.100000000000001,5.199999999999999,7.5,0.29999999999999716,23.054163846631074,2.1999999999999957,5.9999999999999964,0.7000000000000028,4.899999999999999,-1.0999999999999943,-1.3999999999999986,2.8999999999999986,2.900000000000002,-3.3999999999999986],\"y\":[-46.84446220865471,-5.899999999999999,-7.200000000000003,14.600000000000009,-1.7999999999999972,6.899999999999999,-10.799999999999997,-3.5,-3.5999999999999943,-1.0,11.299999999999997,-1.8000000000000043,7.099999999999994,-25.9,-8.899999999999999,1.1000000000000014,-6.5,1.0,8.100000000000001,6.0,-3.299999999999997,-1.7000000000000028,-12.5,55.44446220865471,-7.100000000000001,4.299999999999997,24.199999999999996,-3.299999999999997,11.600000000000001,-10.200000000000003,12.0,-6.100000000000001,-6.200000000000003,63.24446220865472,15.0,11.299999999999997,9.699999999999996,32.3,14.700000000000003,6.8999999999999915,21.60000000000001,19.200000000000003,7.299999999999997,6.399999999999999,8.0,-7.700000000000003,-1.0,13.700000000000003,19.299999999999997,13.100000000000001,6.0,-2.1000000000000014,-7.899999999999999,5.799999999999997,-11.899999999999999,-17.699999999999996,18.200000000000003,11.600000000000001,3.1999999999999957,12.0,13.700000000000003,14.400000000000006,8.5,-9.399999999999999,-2.799999999999997,4.600000000000001,-8.299999999999997,-13.0,9.600000000000001,6.699999999999996,-46.644462208654716,8.799999999999997,3.0,-19.599999999999994,-3.3000000000000043,12.099999999999994,6.200000000000003,-4.5,-4.299999999999997,1.8999999999999986,6.100000000000001,57.54446220865472,62.644462208654716,-2.8999999999999986,3.799999999999997,8.5,11.5,-1.0,16.6,0.8999999999999986,5.399999999999999,10.100000000000001,2.5,-2.1000000000000014,5.799999999999997,-12.0,-13.200000000000003,0.7000000000000028,-0.19999999999999574,-52.44446220865471,-9.800000000000004,-0.10000000000000142,-9.600000000000001,-24.4,-8.199999999999996,1.4000000000000057,-7.899999999999999,4.600000000000001,3.5,-13.700000000000003,-52.44446220865471,-9.100000000000001,9.299999999999997,5.700000000000003,3.8000000000000043,-23.1,12.399999999999999,-12.0,-2.8000000000000043,-3.299999999999997,6.899999999999999,0.7000000000000028,7.100000000000001,3.0,-6.700000000000003,3.799999999999997,6.899999999999999,-19.799999999999997,1.2999999999999972,-0.7999999999999972,-3.6000000000000014,0.29999999999999716,3.700000000000003,-3.8000000000000043,-13.0,8.099999999999994,-4.299999999999997,-18.300000000000004,-20.200000000000003,-11.900000000000006,-2.4000000000000057,-10.299999999999997,-10.700000000000003,-2.0,3.0,-0.7999999999999972,-2.299999999999997,-5.600000000000001,-0.29999999999999716,1.3000000000000043,2.1999999999999957,-12.199999999999996,-3.200000000000003,-28.799999999999997,-3.6999999999999957,-7.299999999999997,-6.0,-13.600000000000001,-71.24446220865471,-11.600000000000001,-16.0,-17.1,0.7000000000000028,-18.300000000000004,-9.5,-19.099999999999994,-22.299999999999997,-67.04446220865472,-1.1000000000000014,0.0,1.6999999999999957,20.0,11.100000000000001,-0.5,-8.799999999999997,7.300000000000004,8.899999999999999,58.44446220865471,-2.0999999999999943,-1.0,-13.800000000000004,-12.700000000000003,-7.100000000000001,13.899999999999999,55.84446220865472,-0.8999999999999986,-20.0,-55.44446220865471,-23.299999999999997,-18.0,-11.299999999999997,-8.400000000000006,-9.799999999999997,-66.94446220865471,-17.1,-13.300000000000004,-3.0,-1.2000000000000028,-6.299999999999997,-17.400000000000006,-11.700000000000003,-12.399999999999999,-21.4,-9.200000000000003,5.5,-20.4,4.100000000000001,-16.4,6.699999999999996,-3.299999999999997,-8.700000000000003,19.700000000000003,-13.100000000000009,7.0,4.399999999999999,-8.200000000000003,15.699999999999996,28.9,28.0,28.999999999999993,31.5,22.299999999999997,15.699999999999996,3.5,15.399999999999999,29.700000000000003,4.5,-9.299999999999997,5.600000000000001,-3.0,9.200000000000003,0.7000000000000028,-6.700000000000003,9.600000000000001,7.899999999999999,-25.799999999999997,4.100000000000001,1.6999999999999957,-4.699999999999996,7.299999999999997,1.8000000000000043,0.8999999999999986,-12.300000000000004,-6.100000000000001,-50.34446220865472,-15.0,4.599999999999994,-46.44446220865472,3.3999999999999986,-15.900000000000006,-10.600000000000001,6.599999999999994,-22.4,0.8999999999999986,-8.100000000000001,-2.299999999999997,-12.699999999999996,-2.6000000000000014,-7.0,-14.700000000000003,12.399999999999999,-33.099999999999994,-10.5,-21.000000000000007,3.1999999999999957,-8.200000000000003,-18.799999999999997,-0.8999999999999986,-22.1,-11.699999999999996,-3.0,4.899999999999999,-7.200000000000003,-4.299999999999997,-2.1999999999999957,2.3000000000000043,-6.099999999999994,-2.1000000000000014,0.20000000000000284,8.100000000000001,-12.299999999999997,3.5,-8.599999999999994,11.200000000000003,15.300000000000004,-8.5,-13.400000000000006,0.10000000000000142,-6.5,-14.199999999999996,0.30000000000000426,49.044462208654714,-1.3000000000000043,33.3,7.200000000000003,-1.2999999999999972,8.899999999999999,6.200000000000003,2.8000000000000043,4.700000000000003,0.9000000000000057,-1.4000000000000057,29.0,27.799999999999997,17.39999999999999,16.1,12.299999999999997,-2.8000000000000043,-3.6000000000000014,23.5,23.199999999999996,10.5,4.099999999999994,-9.800000000000004,-11.399999999999999,-9.700000000000003,0.7000000000000028,-8.200000000000003,2.8999999999999986,-2.3999999999999986,1.1999999999999957,5.5,-8.900000000000006,-2.3000000000000043,19.8,-2.5999999999999943,2.0,14.199999999999996,15.099999999999994,14.699999999999996,30.500000000000007,8.800000000000004,19.9,18.799999999999997,16.5,11.299999999999997,4.0,22.5,16.199999999999996,-7.3999999999999915,8.799999999999997,17.5,3.799999999999997,18.0,3.6000000000000014,-1.6000000000000014,6.700000000000003,8.799999999999997,-4.799999999999997,9.100000000000001,6.900000000000006,-7.700000000000003,-9.299999999999997,8.099999999999994,-11.0,14.200000000000003,-59.44446220865471,6.400000000000006,2.3000000000000043,9.399999999999999,4.5,0.3999999999999986,-4.5,-3.6999999999999957,-21.0,3.0,0.8999999999999986,9.0,-5.0,1.7999999999999972,-1.5999999999999943,5.800000000000004,-6.5,-46.84446220865472,-23.39999999999999,3.6999999999999957,2.700000000000003,18.9,11.5,12.899999999999999,1.8999999999999986,-2.9000000000000057,20.299999999999997,14.799999999999997,-12.0,5.0,5.900000000000006,19.1,-16.9,10.399999999999999,-2.8999999999999986,0.7999999999999972,-21.60000000000001,11.800000000000004,11.700000000000003,7.0,-1.6999999999999957,-13.200000000000003,-4.600000000000001,-8.199999999999996,15.7,-3.9000000000000057,13.200000000000003,20.10000000000001,26.0,2.5,29.700000000000003,23.800000000000004,1.7000000000000028,13.0,-1.0999999999999943,15.399999999999999,2.0999999999999943,-16.200000000000003,22.200000000000003,15.400000000000006,21.199999999999996,12.799999999999997,-0.8999999999999986,13.5,8.400000000000006,19.800000000000004,17.4,14.100000000000001,3.799999999999997,11.899999999999999,55.044462208654714,11.799999999999997,1.7000000000000028,8.799999999999997,-3.6000000000000014,3.0999999999999943,-1.2999999999999972,7.299999999999997,20.199999999999996,9.199999999999996,22.400000000000006,20.900000000000006,-23.10000000000001,5.0,16.199999999999996,18.800000000000004,-15.600000000000001,-10.299999999999997,-2.6000000000000014,4.5,15.299999999999997,-14.200000000000003,11.299999999999997,13.5,-3.0,24.5,9.799999999999997,15.5,8.200000000000003,17.4,8.0,3.5,-0.3999999999999986,-0.3999999999999986,-8.399999999999999,3.8999999999999986,11.800000000000004,18.5,21.800000000000004,6.399999999999999,15.200000000000003,2.299999999999997,-0.8999999999999986,2.299999999999997,8.100000000000001,-3.0,5.0,3.5,3.799999999999997,8.100000000000001,-8.700000000000003,6.0,0.7999999999999972,1.8999999999999986,0.8999999999999986,-0.19999999999999574,-17.700000000000003,2.200000000000003,10.199999999999996,-1.2999999999999972,-3.6000000000000014,7.799999999999997,2.4000000000000057,-1.5,2.4000000000000057,5.5,-7.600000000000001,-4.300000000000004,3.1999999999999957,-11.899999999999999,-6.899999999999999,-1.0,17.5,8.399999999999999,47.94446220865472,5.0,4.5,5.300000000000004,16.5,-11.899999999999999,9.800000000000004,-21.199999999999996,46.044462208654714,15.399999999999999,4.399999999999999,4.800000000000004,-18.9,-14.200000000000003,0.6999999999999957,-23.9,-9.199999999999996,-4.799999999999997,-1.2000000000000028,-49.34446220865472,5.0,-21.0,5.799999999999997,0.8999999999999986,-8.299999999999997,-11.099999999999994,-3.1000000000000014,-5.399999999999999,0.30000000000000426,-16.799999999999997,5.399999999999999,-2.8000000000000043,-5.299999999999997,-15.199999999999996,-16.099999999999994,-4.600000000000001,-6.200000000000003,3.8000000000000043,-3.1999999999999957,-4.899999999999999,-19.299999999999997,2.299999999999997,7.899999999999999,-10.5,-1.0,-3.6999999999999957,-15.799999999999997,-50.544462208654714,-3.799999999999997,-4.099999999999994,-0.7000000000000028,-2.5,3.5,-1.5,-11.899999999999999,-51.644462208654716,-25.299999999999997,-23.5,-25.999999999999993,-5.5,-63.34446220865472,-11.400000000000006,3.0,-1.6000000000000014,-10.800000000000004,-17.0,-35.3,-13.100000000000001,1.1000000000000014,-14.5,-12.600000000000001,-2.299999999999997,-5.299999999999997,-11.600000000000001,3.8999999999999986,14.299999999999997,11.0,-1.4000000000000057,-5.799999999999997,-31.799999999999997,-14.099999999999998,-37.4,-5.300000000000001,-52.34446220865472,-22.0,-16.4,-21.1,-11.100000000000001,2.6999999999999957,-26.4,-3.6000000000000014,-3.799999999999997,-18.0,-13.200000000000003,-64.44446220865471,-8.399999999999999,-0.10000000000000142,-8.400000000000006,-12.199999999999996,-15.800000000000004,3.799999999999997,-49.84446220865472,-3.5,-23.699999999999996,-0.5,-6.799999999999997,3.200000000000003,-0.19999999999999574,3.0,-2.0,12.899999999999999]}],                        {\"height\":600,\"plot_bgcolor\":\"white\",\"template\":{\"data\":{\"bar\":[{\"error_x\":{\"color\":\"#2a3f5f\"},\"error_y\":{\"color\":\"#2a3f5f\"},\"marker\":{\"line\":{\"color\":\"#E5ECF6\",\"width\":0.5},\"pattern\":{\"fillmode\":\"overlay\",\"size\":10,\"solidity\":0.2}},\"type\":\"bar\"}],\"barpolar\":[{\"marker\":{\"line\":{\"color\":\"#E5ECF6\",\"width\":0.5},\"pattern\":{\"fillmode\":\"overlay\",\"size\":10,\"solidity\":0.2}},\"type\":\"barpolar\"}],\"carpet\":[{\"aaxis\":{\"endlinecolor\":\"#2a3f5f\",\"gridcolor\":\"white\",\"linecolor\":\"white\",\"minorgridcolor\":\"white\",\"startlinecolor\":\"#2a3f5f\"},\"baxis\":{\"endlinecolor\":\"#2a3f5f\",\"gridcolor\":\"white\",\"linecolor\":\"white\",\"minorgridcolor\":\"white\",\"startlinecolor\":\"#2a3f5f\"},\"type\":\"carpet\"}],\"choropleth\":[{\"colorbar\":{\"outlinewidth\":0,\"ticks\":\"\"},\"type\":\"choropleth\"}],\"contour\":[{\"colorbar\":{\"outlinewidth\":0,\"ticks\":\"\"},\"colorscale\":[[0.0,\"#0d0887\"],[0.1111111111111111,\"#46039f\"],[0.2222222222222222,\"#7201a8\"],[0.3333333333333333,\"#9c179e\"],[0.4444444444444444,\"#bd3786\"],[0.5555555555555556,\"#d8576b\"],[0.6666666666666666,\"#ed7953\"],[0.7777777777777778,\"#fb9f3a\"],[0.8888888888888888,\"#fdca26\"],[1.0,\"#f0f921\"]],\"type\":\"contour\"}],\"contourcarpet\":[{\"colorbar\":{\"outlinewidth\":0,\"ticks\":\"\"},\"type\":\"contourcarpet\"}],\"heatmap\":[{\"colorbar\":{\"outlinewidth\":0,\"ticks\":\"\"},\"colorscale\":[[0.0,\"#0d0887\"],[0.1111111111111111,\"#46039f\"],[0.2222222222222222,\"#7201a8\"],[0.3333333333333333,\"#9c179e\"],[0.4444444444444444,\"#bd3786\"],[0.5555555555555556,\"#d8576b\"],[0.6666666666666666,\"#ed7953\"],[0.7777777777777778,\"#fb9f3a\"],[0.8888888888888888,\"#fdca26\"],[1.0,\"#f0f921\"]],\"type\":\"heatmap\"}],\"heatmapgl\":[{\"colorbar\":{\"outlinewidth\":0,\"ticks\":\"\"},\"colorscale\":[[0.0,\"#0d0887\"],[0.1111111111111111,\"#46039f\"],[0.2222222222222222,\"#7201a8\"],[0.3333333333333333,\"#9c179e\"],[0.4444444444444444,\"#bd3786\"],[0.5555555555555556,\"#d8576b\"],[0.6666666666666666,\"#ed7953\"],[0.7777777777777778,\"#fb9f3a\"],[0.8888888888888888,\"#fdca26\"],[1.0,\"#f0f921\"]],\"type\":\"heatmapgl\"}],\"histogram\":[{\"marker\":{\"pattern\":{\"fillmode\":\"overlay\",\"size\":10,\"solidity\":0.2}},\"type\":\"histogram\"}],\"histogram2d\":[{\"colorbar\":{\"outlinewidth\":0,\"ticks\":\"\"},\"colorscale\":[[0.0,\"#0d0887\"],[0.1111111111111111,\"#46039f\"],[0.2222222222222222,\"#7201a8\"],[0.3333333333333333,\"#9c179e\"],[0.4444444444444444,\"#bd3786\"],[0.5555555555555556,\"#d8576b\"],[0.6666666666666666,\"#ed7953\"],[0.7777777777777778,\"#fb9f3a\"],[0.8888888888888888,\"#fdca26\"],[1.0,\"#f0f921\"]],\"type\":\"histogram2d\"}],\"histogram2dcontour\":[{\"colorbar\":{\"outlinewidth\":0,\"ticks\":\"\"},\"colorscale\":[[0.0,\"#0d0887\"],[0.1111111111111111,\"#46039f\"],[0.2222222222222222,\"#7201a8\"],[0.3333333333333333,\"#9c179e\"],[0.4444444444444444,\"#bd3786\"],[0.5555555555555556,\"#d8576b\"],[0.6666666666666666,\"#ed7953\"],[0.7777777777777778,\"#fb9f3a\"],[0.8888888888888888,\"#fdca26\"],[1.0,\"#f0f921\"]],\"type\":\"histogram2dcontour\"}],\"mesh3d\":[{\"colorbar\":{\"outlinewidth\":0,\"ticks\":\"\"},\"type\":\"mesh3d\"}],\"parcoords\":[{\"line\":{\"colorbar\":{\"outlinewidth\":0,\"ticks\":\"\"}},\"type\":\"parcoords\"}],\"pie\":[{\"automargin\":true,\"type\":\"pie\"}],\"scatter\":[{\"marker\":{\"colorbar\":{\"outlinewidth\":0,\"ticks\":\"\"}},\"type\":\"scatter\"}],\"scatter3d\":[{\"line\":{\"colorbar\":{\"outlinewidth\":0,\"ticks\":\"\"}},\"marker\":{\"colorbar\":{\"outlinewidth\":0,\"ticks\":\"\"}},\"type\":\"scatter3d\"}],\"scattercarpet\":[{\"marker\":{\"colorbar\":{\"outlinewidth\":0,\"ticks\":\"\"}},\"type\":\"scattercarpet\"}],\"scattergeo\":[{\"marker\":{\"colorbar\":{\"outlinewidth\":0,\"ticks\":\"\"}},\"type\":\"scattergeo\"}],\"scattergl\":[{\"marker\":{\"colorbar\":{\"outlinewidth\":0,\"ticks\":\"\"}},\"type\":\"scattergl\"}],\"scattermapbox\":[{\"marker\":{\"colorbar\":{\"outlinewidth\":0,\"ticks\":\"\"}},\"type\":\"scattermapbox\"}],\"scatterpolar\":[{\"marker\":{\"colorbar\":{\"outlinewidth\":0,\"ticks\":\"\"}},\"type\":\"scatterpolar\"}],\"scatterpolargl\":[{\"marker\":{\"colorbar\":{\"outlinewidth\":0,\"ticks\":\"\"}},\"type\":\"scatterpolargl\"}],\"scatterternary\":[{\"marker\":{\"colorbar\":{\"outlinewidth\":0,\"ticks\":\"\"}},\"type\":\"scatterternary\"}],\"surface\":[{\"colorbar\":{\"outlinewidth\":0,\"ticks\":\"\"},\"colorscale\":[[0.0,\"#0d0887\"],[0.1111111111111111,\"#46039f\"],[0.2222222222222222,\"#7201a8\"],[0.3333333333333333,\"#9c179e\"],[0.4444444444444444,\"#bd3786\"],[0.5555555555555556,\"#d8576b\"],[0.6666666666666666,\"#ed7953\"],[0.7777777777777778,\"#fb9f3a\"],[0.8888888888888888,\"#fdca26\"],[1.0,\"#f0f921\"]],\"type\":\"surface\"}],\"table\":[{\"cells\":{\"fill\":{\"color\":\"#EBF0F8\"},\"line\":{\"color\":\"white\"}},\"header\":{\"fill\":{\"color\":\"#C8D4E3\"},\"line\":{\"color\":\"white\"}},\"type\":\"table\"}]},\"layout\":{\"annotationdefaults\":{\"arrowcolor\":\"#2a3f5f\",\"arrowhead\":0,\"arrowwidth\":1},\"autotypenumbers\":\"strict\",\"coloraxis\":{\"colorbar\":{\"outlinewidth\":0,\"ticks\":\"\"}},\"colorscale\":{\"diverging\":[[0,\"#8e0152\"],[0.1,\"#c51b7d\"],[0.2,\"#de77ae\"],[0.3,\"#f1b6da\"],[0.4,\"#fde0ef\"],[0.5,\"#f7f7f7\"],[0.6,\"#e6f5d0\"],[0.7,\"#b8e186\"],[0.8,\"#7fbc41\"],[0.9,\"#4d9221\"],[1,\"#276419\"]],\"sequential\":[[0.0,\"#0d0887\"],[0.1111111111111111,\"#46039f\"],[0.2222222222222222,\"#7201a8\"],[0.3333333333333333,\"#9c179e\"],[0.4444444444444444,\"#bd3786\"],[0.5555555555555556,\"#d8576b\"],[0.6666666666666666,\"#ed7953\"],[0.7777777777777778,\"#fb9f3a\"],[0.8888888888888888,\"#fdca26\"],[1.0,\"#f0f921\"]],\"sequentialminus\":[[0.0,\"#0d0887\"],[0.1111111111111111,\"#46039f\"],[0.2222222222222222,\"#7201a8\"],[0.3333333333333333,\"#9c179e\"],[0.4444444444444444,\"#bd3786\"],[0.5555555555555556,\"#d8576b\"],[0.6666666666666666,\"#ed7953\"],[0.7777777777777778,\"#fb9f3a\"],[0.8888888888888888,\"#fdca26\"],[1.0,\"#f0f921\"]]},\"colorway\":[\"#636efa\",\"#EF553B\",\"#00cc96\",\"#ab63fa\",\"#FFA15A\",\"#19d3f3\",\"#FF6692\",\"#B6E880\",\"#FF97FF\",\"#FECB52\"],\"font\":{\"color\":\"#2a3f5f\"},\"geo\":{\"bgcolor\":\"white\",\"lakecolor\":\"white\",\"landcolor\":\"#E5ECF6\",\"showlakes\":true,\"showland\":true,\"subunitcolor\":\"white\"},\"hoverlabel\":{\"align\":\"left\"},\"hovermode\":\"closest\",\"mapbox\":{\"style\":\"light\"},\"paper_bgcolor\":\"white\",\"plot_bgcolor\":\"#E5ECF6\",\"polar\":{\"angularaxis\":{\"gridcolor\":\"white\",\"linecolor\":\"white\",\"ticks\":\"\"},\"bgcolor\":\"#E5ECF6\",\"radialaxis\":{\"gridcolor\":\"white\",\"linecolor\":\"white\",\"ticks\":\"\"}},\"scene\":{\"xaxis\":{\"backgroundcolor\":\"#E5ECF6\",\"gridcolor\":\"white\",\"gridwidth\":2,\"linecolor\":\"white\",\"showbackground\":true,\"ticks\":\"\",\"zerolinecolor\":\"white\"},\"yaxis\":{\"backgroundcolor\":\"#E5ECF6\",\"gridcolor\":\"white\",\"gridwidth\":2,\"linecolor\":\"white\",\"showbackground\":true,\"ticks\":\"\",\"zerolinecolor\":\"white\"},\"zaxis\":{\"backgroundcolor\":\"#E5ECF6\",\"gridcolor\":\"white\",\"gridwidth\":2,\"linecolor\":\"white\",\"showbackground\":true,\"ticks\":\"\",\"zerolinecolor\":\"white\"}},\"shapedefaults\":{\"line\":{\"color\":\"#2a3f5f\"}},\"ternary\":{\"aaxis\":{\"gridcolor\":\"white\",\"linecolor\":\"white\",\"ticks\":\"\"},\"baxis\":{\"gridcolor\":\"white\",\"linecolor\":\"white\",\"ticks\":\"\"},\"bgcolor\":\"#E5ECF6\",\"caxis\":{\"gridcolor\":\"white\",\"linecolor\":\"white\",\"ticks\":\"\"}},\"title\":{\"x\":0.05},\"xaxis\":{\"automargin\":true,\"gridcolor\":\"white\",\"linecolor\":\"white\",\"ticks\":\"\",\"title\":{\"standoff\":15},\"zerolinecolor\":\"white\",\"zerolinewidth\":2},\"yaxis\":{\"automargin\":true,\"gridcolor\":\"white\",\"linecolor\":\"white\",\"ticks\":\"\",\"title\":{\"standoff\":15},\"zerolinecolor\":\"white\",\"zerolinewidth\":2}}},\"width\":600,\"xaxis\":{\"anchor\":\"x\",\"exponentformat\":\"e\",\"linecolor\":\"black\",\"linewidth\":1,\"mirror\":false,\"showexponent\":\"all\",\"showline\":true,\"side\":\"bottom\",\"ticks\":\"outside\",\"title\":{\"text\":\"0th\"},\"type\":\"linear\",\"zeroline\":true},\"yaxis\":{\"anchor\":\"y\",\"exponentformat\":\"e\",\"linecolor\":\"black\",\"linewidth\":1,\"mirror\":false,\"showexponent\":\"all\",\"showline\":true,\"side\":\"left\",\"ticks\":\"outside\",\"title\":{\"text\":\"1st\"},\"type\":\"linear\",\"zeroline\":true}},                        {\"responsive\": true}                    ).then(function(){\n",
       "                            \n",
       "var gd = document.getElementById('9a06f694-7b68-486b-88cb-3582a5281341');\n",
       "var x = new MutationObserver(function (mutations, observer) {{\n",
       "        var display = window.getComputedStyle(gd).display;\n",
       "        if (!display || display === 'none') {{\n",
       "            console.log([gd, 'removed!']);\n",
       "            Plotly.purge(gd);\n",
       "            observer.disconnect();\n",
       "        }}\n",
       "}});\n",
       "\n",
       "// Listen for the removal of the full notebook cells\n",
       "var notebookContainer = gd.closest('#notebook-container');\n",
       "if (notebookContainer) {{\n",
       "    x.observe(notebookContainer, {childList: true});\n",
       "}}\n",
       "\n",
       "// Listen for the clearing of the current output cell\n",
       "var outputEl = gd.closest('.output');\n",
       "if (outputEl) {{\n",
       "    x.observe(outputEl, {childList: true});\n",
       "}}\n",
       "\n",
       "                        })                };                });            </script>        </div>"
      ]
     },
     "metadata": {},
     "output_type": "display_data"
    }
   ],
   "source": [
    "import matplotlib.pyplot as plot\n",
    "from gtda.plotting import plot_point_cloud\n",
    "\n",
    "from gtda.mapper import (\n",
    "    CubicalCover,\n",
    "    make_mapper_pipeline,\n",
    "    Projection,\n",
    "    plot_static_mapper_graph,\n",
    "    plot_interactive_mapper_graph,\n",
    "    MapperInteractivePlotter\n",
    ")\n",
    "\n",
    "from sklearn import datasets\n",
    "from sklearn.decomposition import PCA\n",
    "\n",
    "data = np.array(df_training_temp)\n",
    "plot_point_cloud(data)\n",
    "\n"
   ]
  },
  {
   "cell_type": "code",
   "execution_count": 77,
   "metadata": {
    "scrolled": false
   },
   "outputs": [
    {
     "data": {
      "application/vnd.plotly.v1+json": {
       "config": {
        "plotlyServerURL": "https://plot.ly",
        "scrollZoom": true
       },
       "data": [
        {
         "hoverinfo": "none",
         "line": {
          "color": "#888",
          "width": 1
         },
         "mode": "lines",
         "name": "edge_trace",
         "type": "scatter",
         "uid": "556a2fe0-6c46-480c-9509-0a9994e8160a",
         "x": [
          3.553724254393351,
          4.139192444041727,
          null,
          4.139192444041727,
          4.598565153473692,
          null,
          0.8878932092664671,
          0.36322269302796567,
          null,
          0.8878932092664671,
          1.3957633756181014,
          null,
          0.8878932092664671,
          0.4498713768717381,
          null,
          0.8878932092664671,
          -0.21093008628648832,
          null,
          0.8878932092664671,
          1.5169428054820695,
          null,
          0.8878932092664671,
          1.9564607818217603,
          null,
          0.8878932092664671,
          1.1274117194112747,
          null,
          0.8878932092664671,
          0.91457914166796,
          null,
          0.36322269302796567,
          1.3957633756181014,
          null,
          0.36322269302796567,
          -0.7116695947257211,
          null,
          0.36322269302796567,
          0.4498713768717381,
          null,
          0.36322269302796567,
          -0.21093008628648832,
          null,
          0.36322269302796567,
          -0.3166677004094264,
          null,
          0.36322269302796567,
          1.1274117194112747,
          null,
          1.3957633756181014,
          1.5169428054820695,
          null,
          1.3957633756181014,
          1.9564607818217603,
          null,
          1.3957633756181014,
          1.1274117194112747,
          null,
          -0.7116695947257211,
          -0.21093008628648832,
          null,
          -0.7116695947257211,
          -0.3166677004094264,
          null,
          -0.7116695947257211,
          -1.020026692034293,
          null,
          -0.7116695947257211,
          -1.2412718791007857,
          null,
          -0.7116695947257211,
          -1.1327339223958846,
          null,
          -0.7116695947257211,
          -1.4486969240363519,
          null,
          -0.7116695947257211,
          -1.6829734004712393,
          null,
          0.4498713768717381,
          -0.21093008628648832,
          null,
          0.4498713768717381,
          1.5169428054820695,
          null,
          0.4498713768717381,
          0.91457914166796,
          null,
          -0.21093008628648832,
          -0.3166677004094264,
          null,
          -0.21093008628648832,
          -1.020026692034293,
          null,
          -0.21093008628648832,
          -1.2412718791007857,
          null,
          -0.3166677004094264,
          -1.1327339223958846,
          null,
          -0.3166677004094264,
          -1.4486969240363519,
          null,
          -1.020026692034293,
          -1.2412718791007857,
          null,
          -1.2412718791007857,
          -1.1327339223958846,
          null,
          -1.2412718791007857,
          -1.6829734004712393,
          null,
          1.5169428054820695,
          1.9564607818217603,
          null,
          1.5169428054820695,
          0.91457914166796,
          null,
          1.5169428054820695,
          2.6001836102198883,
          null,
          1.5169428054820695,
          2.222365903015153,
          null,
          1.9564607818217603,
          2.6001836102198883,
          null,
          1.9564607818217603,
          2.222365903015153,
          null,
          1.0444778893745739,
          0.21918843665964854,
          null,
          1.0444778893745739,
          1.835801368520334,
          null,
          -1.1327339223958846,
          -1.4486969240363519,
          null,
          -1.1327339223958846,
          -1.6829734004712393,
          null,
          -1.1327339223958846,
          -1.5774371717841795,
          null,
          -1.1327339223958846,
          -2.167908286721471,
          null,
          -1.6829734004712393,
          -1.5774371717841795,
          null,
          -1.6829734004712393,
          -2.167908286721471,
          null,
          -1.5774371717841795,
          -2.167908286721471,
          null,
          2.6001836102198883,
          2.222365903015153,
          null,
          4.598565153473692,
          4.941773874926227,
          null
         ],
         "y": [
          3.99491729051349,
          3.429711640145144,
          null,
          3.429711640145144,
          2.770653937492256,
          null,
          -0.6487297781442011,
          0.017043726837160933,
          null,
          -0.6487297781442011,
          -0.16548536869901398,
          null,
          -0.6487297781442011,
          -1.1399860985616057,
          null,
          -0.6487297781442011,
          -0.5212724223521221,
          null,
          -0.6487297781442011,
          -1.2352973546504515,
          null,
          -0.6487297781442011,
          -0.7473413906052921,
          null,
          -0.6487297781442011,
          0.46345645434394356,
          null,
          -0.6487297781442011,
          -1.7597734746792593,
          null,
          0.017043726837160933,
          -0.16548536869901398,
          null,
          0.017043726837160933,
          0.1355388355541965,
          null,
          0.017043726837160933,
          -1.1399860985616057,
          null,
          0.017043726837160933,
          -0.5212724223521221,
          null,
          0.017043726837160933,
          0.644867253811933,
          null,
          0.017043726837160933,
          0.46345645434394356,
          null,
          -0.16548536869901398,
          -1.2352973546504515,
          null,
          -0.16548536869901398,
          -0.7473413906052921,
          null,
          -0.16548536869901398,
          0.46345645434394356,
          null,
          0.1355388355541965,
          -0.5212724223521221,
          null,
          0.1355388355541965,
          0.644867253811933,
          null,
          0.1355388355541965,
          -0.9327039288471234,
          null,
          0.1355388355541965,
          -0.21535777837550024,
          null,
          0.1355388355541965,
          1.001124344972567,
          null,
          0.1355388355541965,
          0.3270567545992024,
          null,
          0.1355388355541965,
          0.7002579791103735,
          null,
          -1.1399860985616057,
          -0.5212724223521221,
          null,
          -1.1399860985616057,
          -1.2352973546504515,
          null,
          -1.1399860985616057,
          -1.7597734746792593,
          null,
          -0.5212724223521221,
          0.644867253811933,
          null,
          -0.5212724223521221,
          -0.9327039288471234,
          null,
          -0.5212724223521221,
          -0.21535777837550024,
          null,
          0.644867253811933,
          1.001124344972567,
          null,
          0.644867253811933,
          0.3270567545992024,
          null,
          -0.9327039288471234,
          -0.21535777837550024,
          null,
          -0.21535777837550024,
          1.001124344972567,
          null,
          -0.21535777837550024,
          0.7002579791103735,
          null,
          -1.2352973546504515,
          -0.7473413906052921,
          null,
          -1.2352973546504515,
          -1.7597734746792593,
          null,
          -1.2352973546504515,
          -1.2025092887727886,
          null,
          -1.2352973546504515,
          -1.7917690892222269,
          null,
          -0.7473413906052921,
          -1.2025092887727886,
          null,
          -0.7473413906052921,
          -1.7917690892222269,
          null,
          5.1703128796308935,
          5.114332405012637,
          null,
          5.1703128796308935,
          4.942389003122787,
          null,
          1.001124344972567,
          0.3270567545992024,
          null,
          1.001124344972567,
          0.7002579791103735,
          null,
          1.001124344972567,
          1.7753784859739024,
          null,
          1.001124344972567,
          1.3484458462373619,
          null,
          0.7002579791103735,
          1.7753784859739024,
          null,
          0.7002579791103735,
          1.3484458462373619,
          null,
          1.7753784859739024,
          1.3484458462373619,
          null,
          -1.2025092887727886,
          -1.7917690892222269,
          null,
          2.770653937492256,
          2.0198981092268373,
          null
         ]
        },
        {
         "hoverinfo": "text",
         "hovertext": [
          "Node ID: 0<br>Pullback set label: 26<br>Partial cluster label: 0<br>Node size: 6<br>Summary statistic: 52.4",
          "Node ID: 1<br>Pullback set label: 29<br>Partial cluster label: 0<br>Node size: 10<br>Summary statistic: 53.5",
          "Node ID: 2<br>Pullback set label: 17<br>Partial cluster label: 0<br>Node size: 198<br>Summary statistic: 7.92",
          "Node ID: 3<br>Pullback set label: 18<br>Partial cluster label: 0<br>Node size: 206<br>Summary statistic: -0.922",
          "Node ID: 4<br>Pullback set label: 23<br>Partial cluster label: 0<br>Node size: 40<br>Summary statistic: 11.8",
          "Node ID: 5<br>Pullback set label: 12<br>Partial cluster label: 0<br>Node size: 138<br>Summary statistic: -13.8",
          "Node ID: 6<br>Pullback set label: 10<br>Partial cluster label: 0<br>Node size: 94<br>Summary statistic: 6.01",
          "Node ID: 7<br>Pullback set label: 11<br>Partial cluster label: 0<br>Node size: 249<br>Summary statistic: -3.83",
          "Node ID: 8<br>Pullback set label: 19<br>Partial cluster label: 0<br>Node size: 41<br>Summary statistic: -11.7",
          "Node ID: 9<br>Pullback set label: 5<br>Partial cluster label: 0<br>Node size: 24<br>Summary statistic: -8.59",
          "Node ID: 10<br>Pullback set label: 6<br>Partial cluster label: 0<br>Node size: 44<br>Summary statistic: -16.4",
          "Node ID: 11<br>Pullback set label: 16<br>Partial cluster label: 0<br>Node size: 58<br>Summary statistic: 19.3",
          "Node ID: 12<br>Pullback set label: 22<br>Partial cluster label: 0<br>Node size: 24<br>Summary statistic: 21.1",
          "Node ID: 13<br>Pullback set label: 3<br>Partial cluster label: -1<br>Node size: 8<br>Summary statistic: -62.1",
          "Node ID: 14<br>Pullback set label: 13<br>Partial cluster label: 0<br>Node size: 29<br>Summary statistic: -24.8",
          "Node ID: 15<br>Pullback set label: 20<br>Partial cluster label: -1<br>Node size: 4<br>Summary statistic: -23.6",
          "Node ID: 16<br>Pullback set label: 24<br>Partial cluster label: 0<br>Node size: 8<br>Summary statistic: 3.41",
          "Node ID: 17<br>Pullback set label: 4<br>Partial cluster label: -1<br>Node size: 2<br>Summary statistic: -65.1",
          "Node ID: 18<br>Pullback set label: 7<br>Partial cluster label: 0<br>Node size: 17<br>Summary statistic: -26.3",
          "Node ID: 19<br>Pullback set label: 8<br>Partial cluster label: -1<br>Node size: 2<br>Summary statistic: -34.1",
          "Node ID: 20<br>Pullback set label: 9<br>Partial cluster label: 0<br>Node size: 14<br>Summary statistic: 17.5",
          "Node ID: 21<br>Pullback set label: 1<br>Partial cluster label: -1<br>Node size: 3<br>Summary statistic: 42.3",
          "Node ID: 22<br>Pullback set label: 15<br>Partial cluster label: -1<br>Node size: 4<br>Summary statistic: 33.1",
          "Node ID: 23<br>Pullback set label: 21<br>Partial cluster label: 0<br>Node size: 5<br>Summary statistic: 33.2",
          "Node ID: 24<br>Pullback set label: 28<br>Partial cluster label: -1<br>Node size: 6<br>Summary statistic: 66.6",
          "Node ID: 25<br>Pullback set label: 0<br>Partial cluster label: -1<br>Node size: 1<br>Summary statistic: 59.2",
          "Node ID: 26<br>Pullback set label: 2<br>Partial cluster label: -1<br>Node size: 1<br>Summary statistic: -54.0",
          "Node ID: 27<br>Pullback set label: 14<br>Partial cluster label: -1<br>Node size: 1<br>Summary statistic: -34.1",
          "Node ID: 28<br>Pullback set label: 25<br>Partial cluster label: -1<br>Node size: 3<br>Summary statistic: 65.1",
          "Node ID: 29<br>Pullback set label: 27<br>Partial cluster label: -1<br>Node size: 2<br>Summary statistic: -41.1"
         ],
         "marker": {
          "color": [
           52.36055073497874,
           53.546017618171604,
           7.920055231010132,
           -0.9224651551227329,
           11.761958119025598,
           -13.761727349146371,
           6.013993283988355,
           -3.826332416812923,
           -11.675501260955038,
           -8.59246834598508,
           -16.412795960255764,
           19.313985919491564,
           21.098331116352302,
           -62.10492579929206,
           -24.83802125527915,
           -23.63310245744174,
           3.405200768336674,
           -65.09983929229381,
           -26.338694655313972,
           -34.13052440518436,
           17.541803298173825,
           42.28348557479698,
           33.10403938563501,
           33.1863244350061,
           66.59816789014114,
           59.23189687312703,
           -54.016467836998444,
           -34.112035983378995,
           65.13457879762247,
           -41.07092570107146
          ],
          "colorbar": {
           "thickness": 15,
           "title": {
            "side": "right",
            "text": ""
           },
           "xanchor": "left"
          },
          "colorscale": [
           [
            0,
            "#440154"
           ],
           [
            0.1111111111111111,
            "#482878"
           ],
           [
            0.2222222222222222,
            "#3e4989"
           ],
           [
            0.3333333333333333,
            "#31688e"
           ],
           [
            0.4444444444444444,
            "#26828e"
           ],
           [
            0.5555555555555556,
            "#1f9e89"
           ],
           [
            0.6666666666666666,
            "#35b779"
           ],
           [
            0.7777777777777778,
            "#6ece58"
           ],
           [
            0.8888888888888888,
            "#b5de2b"
           ],
           [
            1,
            "#fde725"
           ]
          ],
          "line": {
           "color": "#888",
           "width": 1
          },
          "opacity": 1,
          "reversescale": false,
          "showscale": true,
          "size": [
           6,
           10,
           198,
           206,
           40,
           138,
           94,
           249,
           41,
           24,
           44,
           58,
           24,
           8,
           29,
           4,
           8,
           2,
           17,
           2,
           14,
           3,
           4,
           5,
           6,
           1,
           1,
           1,
           3,
           2
          ],
          "sizemin": 4,
          "sizemode": "area",
          "sizeref": 3.4583333333333335
         },
         "mode": "markers",
         "name": "node_trace",
         "type": "scatter",
         "uid": "20ccdeba-9bbc-46bf-94da-7a5110b6135a",
         "x": [
          3.553724254393351,
          4.139192444041727,
          0.8878932092664671,
          0.36322269302796567,
          1.3957633756181014,
          -0.7116695947257211,
          0.4498713768717381,
          -0.21093008628648832,
          -0.3166677004094264,
          -1.020026692034293,
          -1.2412718791007857,
          1.5169428054820695,
          1.9564607818217603,
          1.0444778893745739,
          -1.1327339223958846,
          -1.4486969240363519,
          1.1274117194112747,
          0.21918843665964854,
          -1.6829734004712393,
          -1.5774371717841795,
          0.91457914166796,
          5.329967061239651,
          2.6001836102198883,
          2.222365903015153,
          4.598565153473692,
          -1.5559248023123116,
          1.835801368520334,
          -2.167908286721471,
          4.941773874926227,
          0.050612091161678065
         ],
         "y": [
          3.99491729051349,
          3.429711640145144,
          -0.6487297781442011,
          0.017043726837160933,
          -0.16548536869901398,
          0.1355388355541965,
          -1.1399860985616057,
          -0.5212724223521221,
          0.644867253811933,
          -0.9327039288471234,
          -0.21535777837550024,
          -1.2352973546504515,
          -0.7473413906052921,
          5.1703128796308935,
          1.001124344972567,
          0.3270567545992024,
          0.46345645434394356,
          5.114332405012637,
          0.7002579791103735,
          1.7753784859739024,
          -1.7597734746792593,
          -0.015927773966377734,
          -1.2025092887727886,
          -1.7917690892222269,
          2.770653937492256,
          4.756809102596735,
          4.942389003122787,
          1.3484458462373619,
          2.0198981092268373,
          -0.2006989676920901
         ]
        }
       ],
       "layout": {
        "autosize": false,
        "hovermode": "closest",
        "margin": {
         "b": 20,
         "l": 5,
         "r": 5,
         "t": 40
        },
        "showlegend": false,
        "template": {
         "data": {
          "bar": [
           {
            "error_x": {
             "color": "rgb(36,36,36)"
            },
            "error_y": {
             "color": "rgb(36,36,36)"
            },
            "marker": {
             "line": {
              "color": "white",
              "width": 0.5
             },
             "pattern": {
              "fillmode": "overlay",
              "size": 10,
              "solidity": 0.2
             }
            },
            "type": "bar"
           }
          ],
          "barpolar": [
           {
            "marker": {
             "line": {
              "color": "white",
              "width": 0.5
             },
             "pattern": {
              "fillmode": "overlay",
              "size": 10,
              "solidity": 0.2
             }
            },
            "type": "barpolar"
           }
          ],
          "carpet": [
           {
            "aaxis": {
             "endlinecolor": "rgb(36,36,36)",
             "gridcolor": "white",
             "linecolor": "white",
             "minorgridcolor": "white",
             "startlinecolor": "rgb(36,36,36)"
            },
            "baxis": {
             "endlinecolor": "rgb(36,36,36)",
             "gridcolor": "white",
             "linecolor": "white",
             "minorgridcolor": "white",
             "startlinecolor": "rgb(36,36,36)"
            },
            "type": "carpet"
           }
          ],
          "choropleth": [
           {
            "colorbar": {
             "outlinewidth": 1,
             "tickcolor": "rgb(36,36,36)",
             "ticks": "outside"
            },
            "type": "choropleth"
           }
          ],
          "contour": [
           {
            "colorbar": {
             "outlinewidth": 1,
             "tickcolor": "rgb(36,36,36)",
             "ticks": "outside"
            },
            "colorscale": [
             [
              0,
              "#440154"
             ],
             [
              0.1111111111111111,
              "#482878"
             ],
             [
              0.2222222222222222,
              "#3e4989"
             ],
             [
              0.3333333333333333,
              "#31688e"
             ],
             [
              0.4444444444444444,
              "#26828e"
             ],
             [
              0.5555555555555556,
              "#1f9e89"
             ],
             [
              0.6666666666666666,
              "#35b779"
             ],
             [
              0.7777777777777778,
              "#6ece58"
             ],
             [
              0.8888888888888888,
              "#b5de2b"
             ],
             [
              1,
              "#fde725"
             ]
            ],
            "type": "contour"
           }
          ],
          "contourcarpet": [
           {
            "colorbar": {
             "outlinewidth": 1,
             "tickcolor": "rgb(36,36,36)",
             "ticks": "outside"
            },
            "type": "contourcarpet"
           }
          ],
          "heatmap": [
           {
            "colorbar": {
             "outlinewidth": 1,
             "tickcolor": "rgb(36,36,36)",
             "ticks": "outside"
            },
            "colorscale": [
             [
              0,
              "#440154"
             ],
             [
              0.1111111111111111,
              "#482878"
             ],
             [
              0.2222222222222222,
              "#3e4989"
             ],
             [
              0.3333333333333333,
              "#31688e"
             ],
             [
              0.4444444444444444,
              "#26828e"
             ],
             [
              0.5555555555555556,
              "#1f9e89"
             ],
             [
              0.6666666666666666,
              "#35b779"
             ],
             [
              0.7777777777777778,
              "#6ece58"
             ],
             [
              0.8888888888888888,
              "#b5de2b"
             ],
             [
              1,
              "#fde725"
             ]
            ],
            "type": "heatmap"
           }
          ],
          "heatmapgl": [
           {
            "colorbar": {
             "outlinewidth": 1,
             "tickcolor": "rgb(36,36,36)",
             "ticks": "outside"
            },
            "colorscale": [
             [
              0,
              "#440154"
             ],
             [
              0.1111111111111111,
              "#482878"
             ],
             [
              0.2222222222222222,
              "#3e4989"
             ],
             [
              0.3333333333333333,
              "#31688e"
             ],
             [
              0.4444444444444444,
              "#26828e"
             ],
             [
              0.5555555555555556,
              "#1f9e89"
             ],
             [
              0.6666666666666666,
              "#35b779"
             ],
             [
              0.7777777777777778,
              "#6ece58"
             ],
             [
              0.8888888888888888,
              "#b5de2b"
             ],
             [
              1,
              "#fde725"
             ]
            ],
            "type": "heatmapgl"
           }
          ],
          "histogram": [
           {
            "marker": {
             "line": {
              "color": "white",
              "width": 0.6
             }
            },
            "type": "histogram"
           }
          ],
          "histogram2d": [
           {
            "colorbar": {
             "outlinewidth": 1,
             "tickcolor": "rgb(36,36,36)",
             "ticks": "outside"
            },
            "colorscale": [
             [
              0,
              "#440154"
             ],
             [
              0.1111111111111111,
              "#482878"
             ],
             [
              0.2222222222222222,
              "#3e4989"
             ],
             [
              0.3333333333333333,
              "#31688e"
             ],
             [
              0.4444444444444444,
              "#26828e"
             ],
             [
              0.5555555555555556,
              "#1f9e89"
             ],
             [
              0.6666666666666666,
              "#35b779"
             ],
             [
              0.7777777777777778,
              "#6ece58"
             ],
             [
              0.8888888888888888,
              "#b5de2b"
             ],
             [
              1,
              "#fde725"
             ]
            ],
            "type": "histogram2d"
           }
          ],
          "histogram2dcontour": [
           {
            "colorbar": {
             "outlinewidth": 1,
             "tickcolor": "rgb(36,36,36)",
             "ticks": "outside"
            },
            "colorscale": [
             [
              0,
              "#440154"
             ],
             [
              0.1111111111111111,
              "#482878"
             ],
             [
              0.2222222222222222,
              "#3e4989"
             ],
             [
              0.3333333333333333,
              "#31688e"
             ],
             [
              0.4444444444444444,
              "#26828e"
             ],
             [
              0.5555555555555556,
              "#1f9e89"
             ],
             [
              0.6666666666666666,
              "#35b779"
             ],
             [
              0.7777777777777778,
              "#6ece58"
             ],
             [
              0.8888888888888888,
              "#b5de2b"
             ],
             [
              1,
              "#fde725"
             ]
            ],
            "type": "histogram2dcontour"
           }
          ],
          "mesh3d": [
           {
            "colorbar": {
             "outlinewidth": 1,
             "tickcolor": "rgb(36,36,36)",
             "ticks": "outside"
            },
            "type": "mesh3d"
           }
          ],
          "parcoords": [
           {
            "line": {
             "colorbar": {
              "outlinewidth": 1,
              "tickcolor": "rgb(36,36,36)",
              "ticks": "outside"
             }
            },
            "type": "parcoords"
           }
          ],
          "pie": [
           {
            "automargin": true,
            "type": "pie"
           }
          ],
          "scatter": [
           {
            "marker": {
             "colorbar": {
              "outlinewidth": 1,
              "tickcolor": "rgb(36,36,36)",
              "ticks": "outside"
             }
            },
            "type": "scatter"
           }
          ],
          "scatter3d": [
           {
            "line": {
             "colorbar": {
              "outlinewidth": 1,
              "tickcolor": "rgb(36,36,36)",
              "ticks": "outside"
             }
            },
            "marker": {
             "colorbar": {
              "outlinewidth": 1,
              "tickcolor": "rgb(36,36,36)",
              "ticks": "outside"
             }
            },
            "type": "scatter3d"
           }
          ],
          "scattercarpet": [
           {
            "marker": {
             "colorbar": {
              "outlinewidth": 1,
              "tickcolor": "rgb(36,36,36)",
              "ticks": "outside"
             }
            },
            "type": "scattercarpet"
           }
          ],
          "scattergeo": [
           {
            "marker": {
             "colorbar": {
              "outlinewidth": 1,
              "tickcolor": "rgb(36,36,36)",
              "ticks": "outside"
             }
            },
            "type": "scattergeo"
           }
          ],
          "scattergl": [
           {
            "marker": {
             "colorbar": {
              "outlinewidth": 1,
              "tickcolor": "rgb(36,36,36)",
              "ticks": "outside"
             }
            },
            "type": "scattergl"
           }
          ],
          "scattermapbox": [
           {
            "marker": {
             "colorbar": {
              "outlinewidth": 1,
              "tickcolor": "rgb(36,36,36)",
              "ticks": "outside"
             }
            },
            "type": "scattermapbox"
           }
          ],
          "scatterpolar": [
           {
            "marker": {
             "colorbar": {
              "outlinewidth": 1,
              "tickcolor": "rgb(36,36,36)",
              "ticks": "outside"
             }
            },
            "type": "scatterpolar"
           }
          ],
          "scatterpolargl": [
           {
            "marker": {
             "colorbar": {
              "outlinewidth": 1,
              "tickcolor": "rgb(36,36,36)",
              "ticks": "outside"
             }
            },
            "type": "scatterpolargl"
           }
          ],
          "scatterternary": [
           {
            "marker": {
             "colorbar": {
              "outlinewidth": 1,
              "tickcolor": "rgb(36,36,36)",
              "ticks": "outside"
             }
            },
            "type": "scatterternary"
           }
          ],
          "surface": [
           {
            "colorbar": {
             "outlinewidth": 1,
             "tickcolor": "rgb(36,36,36)",
             "ticks": "outside"
            },
            "colorscale": [
             [
              0,
              "#440154"
             ],
             [
              0.1111111111111111,
              "#482878"
             ],
             [
              0.2222222222222222,
              "#3e4989"
             ],
             [
              0.3333333333333333,
              "#31688e"
             ],
             [
              0.4444444444444444,
              "#26828e"
             ],
             [
              0.5555555555555556,
              "#1f9e89"
             ],
             [
              0.6666666666666666,
              "#35b779"
             ],
             [
              0.7777777777777778,
              "#6ece58"
             ],
             [
              0.8888888888888888,
              "#b5de2b"
             ],
             [
              1,
              "#fde725"
             ]
            ],
            "type": "surface"
           }
          ],
          "table": [
           {
            "cells": {
             "fill": {
              "color": "rgb(237,237,237)"
             },
             "line": {
              "color": "white"
             }
            },
            "header": {
             "fill": {
              "color": "rgb(217,217,217)"
             },
             "line": {
              "color": "white"
             }
            },
            "type": "table"
           }
          ]
         },
         "layout": {
          "annotationdefaults": {
           "arrowhead": 0,
           "arrowwidth": 1
          },
          "autotypenumbers": "strict",
          "coloraxis": {
           "colorbar": {
            "outlinewidth": 1,
            "tickcolor": "rgb(36,36,36)",
            "ticks": "outside"
           }
          },
          "colorscale": {
           "diverging": [
            [
             0,
             "rgb(103,0,31)"
            ],
            [
             0.1,
             "rgb(178,24,43)"
            ],
            [
             0.2,
             "rgb(214,96,77)"
            ],
            [
             0.3,
             "rgb(244,165,130)"
            ],
            [
             0.4,
             "rgb(253,219,199)"
            ],
            [
             0.5,
             "rgb(247,247,247)"
            ],
            [
             0.6,
             "rgb(209,229,240)"
            ],
            [
             0.7,
             "rgb(146,197,222)"
            ],
            [
             0.8,
             "rgb(67,147,195)"
            ],
            [
             0.9,
             "rgb(33,102,172)"
            ],
            [
             1,
             "rgb(5,48,97)"
            ]
           ],
           "sequential": [
            [
             0,
             "#440154"
            ],
            [
             0.1111111111111111,
             "#482878"
            ],
            [
             0.2222222222222222,
             "#3e4989"
            ],
            [
             0.3333333333333333,
             "#31688e"
            ],
            [
             0.4444444444444444,
             "#26828e"
            ],
            [
             0.5555555555555556,
             "#1f9e89"
            ],
            [
             0.6666666666666666,
             "#35b779"
            ],
            [
             0.7777777777777778,
             "#6ece58"
            ],
            [
             0.8888888888888888,
             "#b5de2b"
            ],
            [
             1,
             "#fde725"
            ]
           ],
           "sequentialminus": [
            [
             0,
             "#440154"
            ],
            [
             0.1111111111111111,
             "#482878"
            ],
            [
             0.2222222222222222,
             "#3e4989"
            ],
            [
             0.3333333333333333,
             "#31688e"
            ],
            [
             0.4444444444444444,
             "#26828e"
            ],
            [
             0.5555555555555556,
             "#1f9e89"
            ],
            [
             0.6666666666666666,
             "#35b779"
            ],
            [
             0.7777777777777778,
             "#6ece58"
            ],
            [
             0.8888888888888888,
             "#b5de2b"
            ],
            [
             1,
             "#fde725"
            ]
           ]
          },
          "colorway": [
           "#1F77B4",
           "#FF7F0E",
           "#2CA02C",
           "#D62728",
           "#9467BD",
           "#8C564B",
           "#E377C2",
           "#7F7F7F",
           "#BCBD22",
           "#17BECF"
          ],
          "font": {
           "color": "rgb(36,36,36)"
          },
          "geo": {
           "bgcolor": "white",
           "lakecolor": "white",
           "landcolor": "white",
           "showlakes": true,
           "showland": true,
           "subunitcolor": "white"
          },
          "hoverlabel": {
           "align": "left"
          },
          "hovermode": "closest",
          "mapbox": {
           "style": "light"
          },
          "paper_bgcolor": "white",
          "plot_bgcolor": "white",
          "polar": {
           "angularaxis": {
            "gridcolor": "rgb(232,232,232)",
            "linecolor": "rgb(36,36,36)",
            "showgrid": false,
            "showline": true,
            "ticks": "outside"
           },
           "bgcolor": "white",
           "radialaxis": {
            "gridcolor": "rgb(232,232,232)",
            "linecolor": "rgb(36,36,36)",
            "showgrid": false,
            "showline": true,
            "ticks": "outside"
           }
          },
          "scene": {
           "xaxis": {
            "backgroundcolor": "white",
            "gridcolor": "rgb(232,232,232)",
            "gridwidth": 2,
            "linecolor": "rgb(36,36,36)",
            "showbackground": true,
            "showgrid": false,
            "showline": true,
            "ticks": "outside",
            "zeroline": false,
            "zerolinecolor": "rgb(36,36,36)"
           },
           "yaxis": {
            "backgroundcolor": "white",
            "gridcolor": "rgb(232,232,232)",
            "gridwidth": 2,
            "linecolor": "rgb(36,36,36)",
            "showbackground": true,
            "showgrid": false,
            "showline": true,
            "ticks": "outside",
            "zeroline": false,
            "zerolinecolor": "rgb(36,36,36)"
           },
           "zaxis": {
            "backgroundcolor": "white",
            "gridcolor": "rgb(232,232,232)",
            "gridwidth": 2,
            "linecolor": "rgb(36,36,36)",
            "showbackground": true,
            "showgrid": false,
            "showline": true,
            "ticks": "outside",
            "zeroline": false,
            "zerolinecolor": "rgb(36,36,36)"
           }
          },
          "shapedefaults": {
           "fillcolor": "black",
           "line": {
            "width": 0
           },
           "opacity": 0.3
          },
          "ternary": {
           "aaxis": {
            "gridcolor": "rgb(232,232,232)",
            "linecolor": "rgb(36,36,36)",
            "showgrid": false,
            "showline": true,
            "ticks": "outside"
           },
           "baxis": {
            "gridcolor": "rgb(232,232,232)",
            "linecolor": "rgb(36,36,36)",
            "showgrid": false,
            "showline": true,
            "ticks": "outside"
           },
           "bgcolor": "white",
           "caxis": {
            "gridcolor": "rgb(232,232,232)",
            "linecolor": "rgb(36,36,36)",
            "showgrid": false,
            "showline": true,
            "ticks": "outside"
           }
          },
          "title": {
           "x": 0.05
          },
          "xaxis": {
           "automargin": true,
           "gridcolor": "rgb(232,232,232)",
           "linecolor": "rgb(36,36,36)",
           "showgrid": false,
           "showline": true,
           "ticks": "outside",
           "title": {
            "standoff": 15
           },
           "zeroline": false,
           "zerolinecolor": "rgb(36,36,36)"
          },
          "yaxis": {
           "automargin": true,
           "gridcolor": "rgb(232,232,232)",
           "linecolor": "rgb(36,36,36)",
           "showgrid": false,
           "showline": true,
           "ticks": "outside",
           "title": {
            "standoff": 15
           },
           "zeroline": false,
           "zerolinecolor": "rgb(36,36,36)"
          }
         }
        },
        "title": {
         "text": ""
        },
        "xaxis": {
         "showgrid": false,
         "showline": false,
         "showticklabels": false,
         "ticks": "",
         "title": {
          "text": ""
         },
         "zeroline": false
        },
        "yaxis": {
         "showgrid": false,
         "showline": false,
         "showticklabels": false,
         "ticks": "",
         "title": {
          "text": ""
         },
         "zeroline": false
        }
       }
      },
      "text/html": [
       "<div>                            <div id=\"d53ad564-ef0b-4031-9f7e-7a07fe9e969a\" class=\"plotly-graph-div\" style=\"height:525px; width:100%;\"></div>            <script type=\"text/javascript\">                require([\"plotly\"], function(Plotly) {                    window.PLOTLYENV=window.PLOTLYENV || {};                                    if (document.getElementById(\"d53ad564-ef0b-4031-9f7e-7a07fe9e969a\")) {                    Plotly.newPlot(                        \"d53ad564-ef0b-4031-9f7e-7a07fe9e969a\",                        [{\"hoverinfo\":\"none\",\"line\":{\"color\":\"#888\",\"width\":1},\"mode\":\"lines\",\"name\":\"edge_trace\",\"type\":\"scatter\",\"uid\":\"556a2fe0-6c46-480c-9509-0a9994e8160a\",\"x\":[3.553724254393351,4.139192444041727,null,4.139192444041727,4.598565153473692,null,0.8878932092664671,0.36322269302796567,null,0.8878932092664671,1.3957633756181014,null,0.8878932092664671,0.4498713768717381,null,0.8878932092664671,-0.21093008628648832,null,0.8878932092664671,1.5169428054820695,null,0.8878932092664671,1.9564607818217603,null,0.8878932092664671,1.1274117194112747,null,0.8878932092664671,0.91457914166796,null,0.36322269302796567,1.3957633756181014,null,0.36322269302796567,-0.7116695947257211,null,0.36322269302796567,0.4498713768717381,null,0.36322269302796567,-0.21093008628648832,null,0.36322269302796567,-0.3166677004094264,null,0.36322269302796567,1.1274117194112747,null,1.3957633756181014,1.5169428054820695,null,1.3957633756181014,1.9564607818217603,null,1.3957633756181014,1.1274117194112747,null,-0.7116695947257211,-0.21093008628648832,null,-0.7116695947257211,-0.3166677004094264,null,-0.7116695947257211,-1.020026692034293,null,-0.7116695947257211,-1.2412718791007857,null,-0.7116695947257211,-1.1327339223958846,null,-0.7116695947257211,-1.4486969240363519,null,-0.7116695947257211,-1.6829734004712393,null,0.4498713768717381,-0.21093008628648832,null,0.4498713768717381,1.5169428054820695,null,0.4498713768717381,0.91457914166796,null,-0.21093008628648832,-0.3166677004094264,null,-0.21093008628648832,-1.020026692034293,null,-0.21093008628648832,-1.2412718791007857,null,-0.3166677004094264,-1.1327339223958846,null,-0.3166677004094264,-1.4486969240363519,null,-1.020026692034293,-1.2412718791007857,null,-1.2412718791007857,-1.1327339223958846,null,-1.2412718791007857,-1.6829734004712393,null,1.5169428054820695,1.9564607818217603,null,1.5169428054820695,0.91457914166796,null,1.5169428054820695,2.6001836102198883,null,1.5169428054820695,2.222365903015153,null,1.9564607818217603,2.6001836102198883,null,1.9564607818217603,2.222365903015153,null,1.0444778893745739,0.21918843665964854,null,1.0444778893745739,1.835801368520334,null,-1.1327339223958846,-1.4486969240363519,null,-1.1327339223958846,-1.6829734004712393,null,-1.1327339223958846,-1.5774371717841795,null,-1.1327339223958846,-2.167908286721471,null,-1.6829734004712393,-1.5774371717841795,null,-1.6829734004712393,-2.167908286721471,null,-1.5774371717841795,-2.167908286721471,null,2.6001836102198883,2.222365903015153,null,4.598565153473692,4.941773874926227,null],\"y\":[3.99491729051349,3.429711640145144,null,3.429711640145144,2.770653937492256,null,-0.6487297781442011,0.017043726837160933,null,-0.6487297781442011,-0.16548536869901398,null,-0.6487297781442011,-1.1399860985616057,null,-0.6487297781442011,-0.5212724223521221,null,-0.6487297781442011,-1.2352973546504515,null,-0.6487297781442011,-0.7473413906052921,null,-0.6487297781442011,0.46345645434394356,null,-0.6487297781442011,-1.7597734746792593,null,0.017043726837160933,-0.16548536869901398,null,0.017043726837160933,0.1355388355541965,null,0.017043726837160933,-1.1399860985616057,null,0.017043726837160933,-0.5212724223521221,null,0.017043726837160933,0.644867253811933,null,0.017043726837160933,0.46345645434394356,null,-0.16548536869901398,-1.2352973546504515,null,-0.16548536869901398,-0.7473413906052921,null,-0.16548536869901398,0.46345645434394356,null,0.1355388355541965,-0.5212724223521221,null,0.1355388355541965,0.644867253811933,null,0.1355388355541965,-0.9327039288471234,null,0.1355388355541965,-0.21535777837550024,null,0.1355388355541965,1.001124344972567,null,0.1355388355541965,0.3270567545992024,null,0.1355388355541965,0.7002579791103735,null,-1.1399860985616057,-0.5212724223521221,null,-1.1399860985616057,-1.2352973546504515,null,-1.1399860985616057,-1.7597734746792593,null,-0.5212724223521221,0.644867253811933,null,-0.5212724223521221,-0.9327039288471234,null,-0.5212724223521221,-0.21535777837550024,null,0.644867253811933,1.001124344972567,null,0.644867253811933,0.3270567545992024,null,-0.9327039288471234,-0.21535777837550024,null,-0.21535777837550024,1.001124344972567,null,-0.21535777837550024,0.7002579791103735,null,-1.2352973546504515,-0.7473413906052921,null,-1.2352973546504515,-1.7597734746792593,null,-1.2352973546504515,-1.2025092887727886,null,-1.2352973546504515,-1.7917690892222269,null,-0.7473413906052921,-1.2025092887727886,null,-0.7473413906052921,-1.7917690892222269,null,5.1703128796308935,5.114332405012637,null,5.1703128796308935,4.942389003122787,null,1.001124344972567,0.3270567545992024,null,1.001124344972567,0.7002579791103735,null,1.001124344972567,1.7753784859739024,null,1.001124344972567,1.3484458462373619,null,0.7002579791103735,1.7753784859739024,null,0.7002579791103735,1.3484458462373619,null,1.7753784859739024,1.3484458462373619,null,-1.2025092887727886,-1.7917690892222269,null,2.770653937492256,2.0198981092268373,null]},{\"hoverinfo\":\"text\",\"hovertext\":[\"Node ID: 0<br>Pullback set label: 26<br>Partial cluster label: 0<br>Node size: 6<br>Summary statistic: 52.4\",\"Node ID: 1<br>Pullback set label: 29<br>Partial cluster label: 0<br>Node size: 10<br>Summary statistic: 53.5\",\"Node ID: 2<br>Pullback set label: 17<br>Partial cluster label: 0<br>Node size: 198<br>Summary statistic: 7.92\",\"Node ID: 3<br>Pullback set label: 18<br>Partial cluster label: 0<br>Node size: 206<br>Summary statistic: -0.922\",\"Node ID: 4<br>Pullback set label: 23<br>Partial cluster label: 0<br>Node size: 40<br>Summary statistic: 11.8\",\"Node ID: 5<br>Pullback set label: 12<br>Partial cluster label: 0<br>Node size: 138<br>Summary statistic: -13.8\",\"Node ID: 6<br>Pullback set label: 10<br>Partial cluster label: 0<br>Node size: 94<br>Summary statistic: 6.01\",\"Node ID: 7<br>Pullback set label: 11<br>Partial cluster label: 0<br>Node size: 249<br>Summary statistic: -3.83\",\"Node ID: 8<br>Pullback set label: 19<br>Partial cluster label: 0<br>Node size: 41<br>Summary statistic: -11.7\",\"Node ID: 9<br>Pullback set label: 5<br>Partial cluster label: 0<br>Node size: 24<br>Summary statistic: -8.59\",\"Node ID: 10<br>Pullback set label: 6<br>Partial cluster label: 0<br>Node size: 44<br>Summary statistic: -16.4\",\"Node ID: 11<br>Pullback set label: 16<br>Partial cluster label: 0<br>Node size: 58<br>Summary statistic: 19.3\",\"Node ID: 12<br>Pullback set label: 22<br>Partial cluster label: 0<br>Node size: 24<br>Summary statistic: 21.1\",\"Node ID: 13<br>Pullback set label: 3<br>Partial cluster label: -1<br>Node size: 8<br>Summary statistic: -62.1\",\"Node ID: 14<br>Pullback set label: 13<br>Partial cluster label: 0<br>Node size: 29<br>Summary statistic: -24.8\",\"Node ID: 15<br>Pullback set label: 20<br>Partial cluster label: -1<br>Node size: 4<br>Summary statistic: -23.6\",\"Node ID: 16<br>Pullback set label: 24<br>Partial cluster label: 0<br>Node size: 8<br>Summary statistic: 3.41\",\"Node ID: 17<br>Pullback set label: 4<br>Partial cluster label: -1<br>Node size: 2<br>Summary statistic: -65.1\",\"Node ID: 18<br>Pullback set label: 7<br>Partial cluster label: 0<br>Node size: 17<br>Summary statistic: -26.3\",\"Node ID: 19<br>Pullback set label: 8<br>Partial cluster label: -1<br>Node size: 2<br>Summary statistic: -34.1\",\"Node ID: 20<br>Pullback set label: 9<br>Partial cluster label: 0<br>Node size: 14<br>Summary statistic: 17.5\",\"Node ID: 21<br>Pullback set label: 1<br>Partial cluster label: -1<br>Node size: 3<br>Summary statistic: 42.3\",\"Node ID: 22<br>Pullback set label: 15<br>Partial cluster label: -1<br>Node size: 4<br>Summary statistic: 33.1\",\"Node ID: 23<br>Pullback set label: 21<br>Partial cluster label: 0<br>Node size: 5<br>Summary statistic: 33.2\",\"Node ID: 24<br>Pullback set label: 28<br>Partial cluster label: -1<br>Node size: 6<br>Summary statistic: 66.6\",\"Node ID: 25<br>Pullback set label: 0<br>Partial cluster label: -1<br>Node size: 1<br>Summary statistic: 59.2\",\"Node ID: 26<br>Pullback set label: 2<br>Partial cluster label: -1<br>Node size: 1<br>Summary statistic: -54.0\",\"Node ID: 27<br>Pullback set label: 14<br>Partial cluster label: -1<br>Node size: 1<br>Summary statistic: -34.1\",\"Node ID: 28<br>Pullback set label: 25<br>Partial cluster label: -1<br>Node size: 3<br>Summary statistic: 65.1\",\"Node ID: 29<br>Pullback set label: 27<br>Partial cluster label: -1<br>Node size: 2<br>Summary statistic: -41.1\"],\"marker\":{\"color\":[52.36055073497874,53.546017618171604,7.920055231010132,-0.9224651551227329,11.761958119025598,-13.761727349146371,6.013993283988355,-3.826332416812923,-11.675501260955038,-8.59246834598508,-16.412795960255764,19.313985919491564,21.098331116352302,-62.10492579929206,-24.83802125527915,-23.63310245744174,3.405200768336674,-65.09983929229381,-26.338694655313972,-34.13052440518436,17.541803298173825,42.28348557479698,33.10403938563501,33.1863244350061,66.59816789014114,59.23189687312703,-54.016467836998444,-34.112035983378995,65.13457879762247,-41.07092570107146],\"colorbar\":{\"thickness\":15,\"title\":{\"side\":\"right\",\"text\":\"\"},\"xanchor\":\"left\"},\"colorscale\":[[0.0,\"#440154\"],[0.1111111111111111,\"#482878\"],[0.2222222222222222,\"#3e4989\"],[0.3333333333333333,\"#31688e\"],[0.4444444444444444,\"#26828e\"],[0.5555555555555556,\"#1f9e89\"],[0.6666666666666666,\"#35b779\"],[0.7777777777777778,\"#6ece58\"],[0.8888888888888888,\"#b5de2b\"],[1.0,\"#fde725\"]],\"line\":{\"color\":\"#888\",\"width\":1},\"opacity\":1.0,\"reversescale\":false,\"showscale\":true,\"size\":[6,10,198,206,40,138,94,249,41,24,44,58,24,8,29,4,8,2,17,2,14,3,4,5,6,1,1,1,3,2],\"sizemin\":4,\"sizemode\":\"area\",\"sizeref\":3.4583333333333335},\"mode\":\"markers\",\"name\":\"node_trace\",\"type\":\"scatter\",\"uid\":\"20ccdeba-9bbc-46bf-94da-7a5110b6135a\",\"x\":[3.553724254393351,4.139192444041727,0.8878932092664671,0.36322269302796567,1.3957633756181014,-0.7116695947257211,0.4498713768717381,-0.21093008628648832,-0.3166677004094264,-1.020026692034293,-1.2412718791007857,1.5169428054820695,1.9564607818217603,1.0444778893745739,-1.1327339223958846,-1.4486969240363519,1.1274117194112747,0.21918843665964854,-1.6829734004712393,-1.5774371717841795,0.91457914166796,5.329967061239651,2.6001836102198883,2.222365903015153,4.598565153473692,-1.5559248023123116,1.835801368520334,-2.167908286721471,4.941773874926227,0.050612091161678065],\"y\":[3.99491729051349,3.429711640145144,-0.6487297781442011,0.017043726837160933,-0.16548536869901398,0.1355388355541965,-1.1399860985616057,-0.5212724223521221,0.644867253811933,-0.9327039288471234,-0.21535777837550024,-1.2352973546504515,-0.7473413906052921,5.1703128796308935,1.001124344972567,0.3270567545992024,0.46345645434394356,5.114332405012637,0.7002579791103735,1.7753784859739024,-1.7597734746792593,-0.015927773966377734,-1.2025092887727886,-1.7917690892222269,2.770653937492256,4.756809102596735,4.942389003122787,1.3484458462373619,2.0198981092268373,-0.2006989676920901]}],                        {\"autosize\":false,\"hovermode\":\"closest\",\"margin\":{\"b\":20,\"l\":5,\"r\":5,\"t\":40},\"showlegend\":false,\"template\":{\"data\":{\"bar\":[{\"error_x\":{\"color\":\"rgb(36,36,36)\"},\"error_y\":{\"color\":\"rgb(36,36,36)\"},\"marker\":{\"line\":{\"color\":\"white\",\"width\":0.5},\"pattern\":{\"fillmode\":\"overlay\",\"size\":10,\"solidity\":0.2}},\"type\":\"bar\"}],\"barpolar\":[{\"marker\":{\"line\":{\"color\":\"white\",\"width\":0.5},\"pattern\":{\"fillmode\":\"overlay\",\"size\":10,\"solidity\":0.2}},\"type\":\"barpolar\"}],\"carpet\":[{\"aaxis\":{\"endlinecolor\":\"rgb(36,36,36)\",\"gridcolor\":\"white\",\"linecolor\":\"white\",\"minorgridcolor\":\"white\",\"startlinecolor\":\"rgb(36,36,36)\"},\"baxis\":{\"endlinecolor\":\"rgb(36,36,36)\",\"gridcolor\":\"white\",\"linecolor\":\"white\",\"minorgridcolor\":\"white\",\"startlinecolor\":\"rgb(36,36,36)\"},\"type\":\"carpet\"}],\"choropleth\":[{\"colorbar\":{\"outlinewidth\":1,\"tickcolor\":\"rgb(36,36,36)\",\"ticks\":\"outside\"},\"type\":\"choropleth\"}],\"contour\":[{\"colorbar\":{\"outlinewidth\":1,\"tickcolor\":\"rgb(36,36,36)\",\"ticks\":\"outside\"},\"colorscale\":[[0.0,\"#440154\"],[0.1111111111111111,\"#482878\"],[0.2222222222222222,\"#3e4989\"],[0.3333333333333333,\"#31688e\"],[0.4444444444444444,\"#26828e\"],[0.5555555555555556,\"#1f9e89\"],[0.6666666666666666,\"#35b779\"],[0.7777777777777778,\"#6ece58\"],[0.8888888888888888,\"#b5de2b\"],[1.0,\"#fde725\"]],\"type\":\"contour\"}],\"contourcarpet\":[{\"colorbar\":{\"outlinewidth\":1,\"tickcolor\":\"rgb(36,36,36)\",\"ticks\":\"outside\"},\"type\":\"contourcarpet\"}],\"heatmap\":[{\"colorbar\":{\"outlinewidth\":1,\"tickcolor\":\"rgb(36,36,36)\",\"ticks\":\"outside\"},\"colorscale\":[[0.0,\"#440154\"],[0.1111111111111111,\"#482878\"],[0.2222222222222222,\"#3e4989\"],[0.3333333333333333,\"#31688e\"],[0.4444444444444444,\"#26828e\"],[0.5555555555555556,\"#1f9e89\"],[0.6666666666666666,\"#35b779\"],[0.7777777777777778,\"#6ece58\"],[0.8888888888888888,\"#b5de2b\"],[1.0,\"#fde725\"]],\"type\":\"heatmap\"}],\"heatmapgl\":[{\"colorbar\":{\"outlinewidth\":1,\"tickcolor\":\"rgb(36,36,36)\",\"ticks\":\"outside\"},\"colorscale\":[[0.0,\"#440154\"],[0.1111111111111111,\"#482878\"],[0.2222222222222222,\"#3e4989\"],[0.3333333333333333,\"#31688e\"],[0.4444444444444444,\"#26828e\"],[0.5555555555555556,\"#1f9e89\"],[0.6666666666666666,\"#35b779\"],[0.7777777777777778,\"#6ece58\"],[0.8888888888888888,\"#b5de2b\"],[1.0,\"#fde725\"]],\"type\":\"heatmapgl\"}],\"histogram\":[{\"marker\":{\"line\":{\"color\":\"white\",\"width\":0.6}},\"type\":\"histogram\"}],\"histogram2d\":[{\"colorbar\":{\"outlinewidth\":1,\"tickcolor\":\"rgb(36,36,36)\",\"ticks\":\"outside\"},\"colorscale\":[[0.0,\"#440154\"],[0.1111111111111111,\"#482878\"],[0.2222222222222222,\"#3e4989\"],[0.3333333333333333,\"#31688e\"],[0.4444444444444444,\"#26828e\"],[0.5555555555555556,\"#1f9e89\"],[0.6666666666666666,\"#35b779\"],[0.7777777777777778,\"#6ece58\"],[0.8888888888888888,\"#b5de2b\"],[1.0,\"#fde725\"]],\"type\":\"histogram2d\"}],\"histogram2dcontour\":[{\"colorbar\":{\"outlinewidth\":1,\"tickcolor\":\"rgb(36,36,36)\",\"ticks\":\"outside\"},\"colorscale\":[[0.0,\"#440154\"],[0.1111111111111111,\"#482878\"],[0.2222222222222222,\"#3e4989\"],[0.3333333333333333,\"#31688e\"],[0.4444444444444444,\"#26828e\"],[0.5555555555555556,\"#1f9e89\"],[0.6666666666666666,\"#35b779\"],[0.7777777777777778,\"#6ece58\"],[0.8888888888888888,\"#b5de2b\"],[1.0,\"#fde725\"]],\"type\":\"histogram2dcontour\"}],\"mesh3d\":[{\"colorbar\":{\"outlinewidth\":1,\"tickcolor\":\"rgb(36,36,36)\",\"ticks\":\"outside\"},\"type\":\"mesh3d\"}],\"parcoords\":[{\"line\":{\"colorbar\":{\"outlinewidth\":1,\"tickcolor\":\"rgb(36,36,36)\",\"ticks\":\"outside\"}},\"type\":\"parcoords\"}],\"pie\":[{\"automargin\":true,\"type\":\"pie\"}],\"scatter\":[{\"marker\":{\"colorbar\":{\"outlinewidth\":1,\"tickcolor\":\"rgb(36,36,36)\",\"ticks\":\"outside\"}},\"type\":\"scatter\"}],\"scatter3d\":[{\"line\":{\"colorbar\":{\"outlinewidth\":1,\"tickcolor\":\"rgb(36,36,36)\",\"ticks\":\"outside\"}},\"marker\":{\"colorbar\":{\"outlinewidth\":1,\"tickcolor\":\"rgb(36,36,36)\",\"ticks\":\"outside\"}},\"type\":\"scatter3d\"}],\"scattercarpet\":[{\"marker\":{\"colorbar\":{\"outlinewidth\":1,\"tickcolor\":\"rgb(36,36,36)\",\"ticks\":\"outside\"}},\"type\":\"scattercarpet\"}],\"scattergeo\":[{\"marker\":{\"colorbar\":{\"outlinewidth\":1,\"tickcolor\":\"rgb(36,36,36)\",\"ticks\":\"outside\"}},\"type\":\"scattergeo\"}],\"scattergl\":[{\"marker\":{\"colorbar\":{\"outlinewidth\":1,\"tickcolor\":\"rgb(36,36,36)\",\"ticks\":\"outside\"}},\"type\":\"scattergl\"}],\"scattermapbox\":[{\"marker\":{\"colorbar\":{\"outlinewidth\":1,\"tickcolor\":\"rgb(36,36,36)\",\"ticks\":\"outside\"}},\"type\":\"scattermapbox\"}],\"scatterpolar\":[{\"marker\":{\"colorbar\":{\"outlinewidth\":1,\"tickcolor\":\"rgb(36,36,36)\",\"ticks\":\"outside\"}},\"type\":\"scatterpolar\"}],\"scatterpolargl\":[{\"marker\":{\"colorbar\":{\"outlinewidth\":1,\"tickcolor\":\"rgb(36,36,36)\",\"ticks\":\"outside\"}},\"type\":\"scatterpolargl\"}],\"scatterternary\":[{\"marker\":{\"colorbar\":{\"outlinewidth\":1,\"tickcolor\":\"rgb(36,36,36)\",\"ticks\":\"outside\"}},\"type\":\"scatterternary\"}],\"surface\":[{\"colorbar\":{\"outlinewidth\":1,\"tickcolor\":\"rgb(36,36,36)\",\"ticks\":\"outside\"},\"colorscale\":[[0.0,\"#440154\"],[0.1111111111111111,\"#482878\"],[0.2222222222222222,\"#3e4989\"],[0.3333333333333333,\"#31688e\"],[0.4444444444444444,\"#26828e\"],[0.5555555555555556,\"#1f9e89\"],[0.6666666666666666,\"#35b779\"],[0.7777777777777778,\"#6ece58\"],[0.8888888888888888,\"#b5de2b\"],[1.0,\"#fde725\"]],\"type\":\"surface\"}],\"table\":[{\"cells\":{\"fill\":{\"color\":\"rgb(237,237,237)\"},\"line\":{\"color\":\"white\"}},\"header\":{\"fill\":{\"color\":\"rgb(217,217,217)\"},\"line\":{\"color\":\"white\"}},\"type\":\"table\"}]},\"layout\":{\"annotationdefaults\":{\"arrowhead\":0,\"arrowwidth\":1},\"autotypenumbers\":\"strict\",\"coloraxis\":{\"colorbar\":{\"outlinewidth\":1,\"tickcolor\":\"rgb(36,36,36)\",\"ticks\":\"outside\"}},\"colorscale\":{\"diverging\":[[0.0,\"rgb(103,0,31)\"],[0.1,\"rgb(178,24,43)\"],[0.2,\"rgb(214,96,77)\"],[0.3,\"rgb(244,165,130)\"],[0.4,\"rgb(253,219,199)\"],[0.5,\"rgb(247,247,247)\"],[0.6,\"rgb(209,229,240)\"],[0.7,\"rgb(146,197,222)\"],[0.8,\"rgb(67,147,195)\"],[0.9,\"rgb(33,102,172)\"],[1.0,\"rgb(5,48,97)\"]],\"sequential\":[[0.0,\"#440154\"],[0.1111111111111111,\"#482878\"],[0.2222222222222222,\"#3e4989\"],[0.3333333333333333,\"#31688e\"],[0.4444444444444444,\"#26828e\"],[0.5555555555555556,\"#1f9e89\"],[0.6666666666666666,\"#35b779\"],[0.7777777777777778,\"#6ece58\"],[0.8888888888888888,\"#b5de2b\"],[1.0,\"#fde725\"]],\"sequentialminus\":[[0.0,\"#440154\"],[0.1111111111111111,\"#482878\"],[0.2222222222222222,\"#3e4989\"],[0.3333333333333333,\"#31688e\"],[0.4444444444444444,\"#26828e\"],[0.5555555555555556,\"#1f9e89\"],[0.6666666666666666,\"#35b779\"],[0.7777777777777778,\"#6ece58\"],[0.8888888888888888,\"#b5de2b\"],[1.0,\"#fde725\"]]},\"colorway\":[\"#1F77B4\",\"#FF7F0E\",\"#2CA02C\",\"#D62728\",\"#9467BD\",\"#8C564B\",\"#E377C2\",\"#7F7F7F\",\"#BCBD22\",\"#17BECF\"],\"font\":{\"color\":\"rgb(36,36,36)\"},\"geo\":{\"bgcolor\":\"white\",\"lakecolor\":\"white\",\"landcolor\":\"white\",\"showlakes\":true,\"showland\":true,\"subunitcolor\":\"white\"},\"hoverlabel\":{\"align\":\"left\"},\"hovermode\":\"closest\",\"mapbox\":{\"style\":\"light\"},\"paper_bgcolor\":\"white\",\"plot_bgcolor\":\"white\",\"polar\":{\"angularaxis\":{\"gridcolor\":\"rgb(232,232,232)\",\"linecolor\":\"rgb(36,36,36)\",\"showgrid\":false,\"showline\":true,\"ticks\":\"outside\"},\"bgcolor\":\"white\",\"radialaxis\":{\"gridcolor\":\"rgb(232,232,232)\",\"linecolor\":\"rgb(36,36,36)\",\"showgrid\":false,\"showline\":true,\"ticks\":\"outside\"}},\"scene\":{\"xaxis\":{\"backgroundcolor\":\"white\",\"gridcolor\":\"rgb(232,232,232)\",\"gridwidth\":2,\"linecolor\":\"rgb(36,36,36)\",\"showbackground\":true,\"showgrid\":false,\"showline\":true,\"ticks\":\"outside\",\"zeroline\":false,\"zerolinecolor\":\"rgb(36,36,36)\"},\"yaxis\":{\"backgroundcolor\":\"white\",\"gridcolor\":\"rgb(232,232,232)\",\"gridwidth\":2,\"linecolor\":\"rgb(36,36,36)\",\"showbackground\":true,\"showgrid\":false,\"showline\":true,\"ticks\":\"outside\",\"zeroline\":false,\"zerolinecolor\":\"rgb(36,36,36)\"},\"zaxis\":{\"backgroundcolor\":\"white\",\"gridcolor\":\"rgb(232,232,232)\",\"gridwidth\":2,\"linecolor\":\"rgb(36,36,36)\",\"showbackground\":true,\"showgrid\":false,\"showline\":true,\"ticks\":\"outside\",\"zeroline\":false,\"zerolinecolor\":\"rgb(36,36,36)\"}},\"shapedefaults\":{\"fillcolor\":\"black\",\"line\":{\"width\":0},\"opacity\":0.3},\"ternary\":{\"aaxis\":{\"gridcolor\":\"rgb(232,232,232)\",\"linecolor\":\"rgb(36,36,36)\",\"showgrid\":false,\"showline\":true,\"ticks\":\"outside\"},\"baxis\":{\"gridcolor\":\"rgb(232,232,232)\",\"linecolor\":\"rgb(36,36,36)\",\"showgrid\":false,\"showline\":true,\"ticks\":\"outside\"},\"bgcolor\":\"white\",\"caxis\":{\"gridcolor\":\"rgb(232,232,232)\",\"linecolor\":\"rgb(36,36,36)\",\"showgrid\":false,\"showline\":true,\"ticks\":\"outside\"}},\"title\":{\"x\":0.05},\"xaxis\":{\"automargin\":true,\"gridcolor\":\"rgb(232,232,232)\",\"linecolor\":\"rgb(36,36,36)\",\"showgrid\":false,\"showline\":true,\"ticks\":\"outside\",\"title\":{\"standoff\":15},\"zeroline\":false,\"zerolinecolor\":\"rgb(36,36,36)\"},\"yaxis\":{\"automargin\":true,\"gridcolor\":\"rgb(232,232,232)\",\"linecolor\":\"rgb(36,36,36)\",\"showgrid\":false,\"showline\":true,\"ticks\":\"outside\",\"title\":{\"standoff\":15},\"zeroline\":false,\"zerolinecolor\":\"rgb(36,36,36)\"}}},\"title\":{\"text\":\"\"},\"xaxis\":{\"showgrid\":false,\"showline\":false,\"showticklabels\":false,\"ticks\":\"\",\"title\":{\"text\":\"\"},\"zeroline\":false},\"yaxis\":{\"showgrid\":false,\"showline\":false,\"showticklabels\":false,\"ticks\":\"\",\"title\":{\"text\":\"\"},\"zeroline\":false}},                        {\"scrollZoom\": true, \"responsive\": true}                    ).then(function(){\n",
       "                            \n",
       "var gd = document.getElementById('d53ad564-ef0b-4031-9f7e-7a07fe9e969a');\n",
       "var x = new MutationObserver(function (mutations, observer) {{\n",
       "        var display = window.getComputedStyle(gd).display;\n",
       "        if (!display || display === 'none') {{\n",
       "            console.log([gd, 'removed!']);\n",
       "            Plotly.purge(gd);\n",
       "            observer.disconnect();\n",
       "        }}\n",
       "}});\n",
       "\n",
       "// Listen for the removal of the full notebook cells\n",
       "var notebookContainer = gd.closest('#notebook-container');\n",
       "if (notebookContainer) {{\n",
       "    x.observe(notebookContainer, {childList: true});\n",
       "}}\n",
       "\n",
       "// Listen for the clearing of the current output cell\n",
       "var outputEl = gd.closest('.output');\n",
       "if (outputEl) {{\n",
       "    x.observe(outputEl, {childList: true});\n",
       "}}\n",
       "\n",
       "                        })                };                });            </script>        </div>"
      ]
     },
     "metadata": {},
     "output_type": "display_data"
    },
    {
     "name": "stdout",
     "output_type": "stream",
     "text": [
      "\n",
      "Node ID: 27\n",
      "Node elements: [293]\n",
      "Data points: [[-4.5 33.3]]\n",
      "\n"
     ]
    }
   ],
   "source": [
    "#data, _ = datasets.make_circles(n_samples=5000, noise=0.05, factor=0.3, random_state=42)\n",
    "\n",
    "filter_func = Projection(columns=[0, 1])\n",
    "cover = CubicalCover(n_intervals=10, overlap_frac=0.3)\n",
    "clusterer = DBSCAN(eps=5)\n",
    "\n",
    "n_jobs = 1\n",
    "\n",
    "pipe = make_mapper_pipeline(\n",
    "    filter_func=filter_func,\n",
    "    cover=cover,\n",
    "    clusterer=clusterer,\n",
    "    verbose=False,\n",
    "    n_jobs=n_jobs,\n",
    ")\n",
    "\n",
    "pca = PCA(n_components=1)\n",
    "\n",
    "fig = plot_static_mapper_graph(\n",
    "    pipe, data, color_data=data, color_features=pca\n",
    ")\n",
    "fig.show(config={'scrollZoom': True})\n",
    "\n",
    "df = pd.DataFrame(data, columns=[\"x\", \"y\"])\n",
    "\n",
    "graph = pipe.fit_transform(data)\n",
    "\n",
    "node_id = 27\n",
    "node_elements = graph.vs[\"node_elements\"]\n",
    "\n",
    "print(f\"\"\"\n",
    "Node ID: {node_id}\n",
    "Node elements: {node_elements[node_id]}\n",
    "Data points: {data[node_elements[node_id]]}\n",
    "\"\"\")"
   ]
  }
 ],
 "metadata": {
  "kernelspec": {
   "display_name": "Python 3",
   "language": "python",
   "name": "python3"
  },
  "language_info": {
   "codemirror_mode": {
    "name": "ipython",
    "version": 3
   },
   "file_extension": ".py",
   "mimetype": "text/x-python",
   "name": "python",
   "nbconvert_exporter": "python",
   "pygments_lexer": "ipython3",
   "version": "3.8.5"
  }
 },
 "nbformat": 4,
 "nbformat_minor": 4
}
