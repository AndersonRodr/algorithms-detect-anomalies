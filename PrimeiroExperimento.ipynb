{
 "cells": [
  {
   "cell_type": "code",
   "execution_count": 1,
   "metadata": {},
   "outputs": [],
   "source": [
    "import numpy as np\n",
    "import pandas as pd\n",
    "from sklearn.cluster import DBSCAN\n",
    "from sklearn import metrics\n",
    "from sklearn.datasets import make_blobs, make_circles\n",
    "from sklearn.preprocessing import StandardScaler\n",
    "import matplotlib.pyplot as plt\n",
    "import requests \n",
    "from collections import Counter"
   ]
  },
  {
   "cell_type": "code",
   "execution_count": 19,
   "metadata": {},
   "outputs": [
    {
     "name": "stderr",
     "output_type": "stream",
     "text": [
      "<ipython-input-19-fb496ac972b8>:16: SettingWithCopyWarning: \n",
      "A value is trying to be set on a copy of a slice from a DataFrame.\n",
      "Try using .loc[row_indexer,col_indexer] = value instead\n",
      "\n",
      "See the caveats in the documentation: https://pandas.pydata.org/pandas-docs/stable/user_guide/indexing.html#returning-a-view-versus-a-copy\n",
      "  df_temp[\"id\"] = df.index + 1\n"
     ]
    }
   ],
   "source": [
    "##------------------------------Pegando os Dados-----------------------------------\n",
    "\n",
    "url = \"https://apitempo.inmet.gov.br/estacao/diaria/2018-01-01/2020-12-31/A307\"\n",
    "headers = {'User-Agent': 'Mozilla/5.0 (Macintosh; Intel Mac OS X 10_11_5) AppleWebKit/537.36 (KHTML, like Gecko) Chrome/50.0.2661.102 Safari/537.36'}\n",
    "resp = requests.get(url, headers=headers)\n",
    "df = None\n",
    "if resp.status_code != 200:\n",
    "    print (resp.raise_for_status())\n",
    "else:\n",
    "    df = pd.DataFrame(resp.json())\n",
    "    #df = df[df[\"TEM_MAX\"].astype('float') ]\n",
    "    df_temp = df[df['TEMP_MAX'].notnull()]\n",
    "    df_temp = df[df['UMID_MED'].notnull()]\n",
    "    \n",
    "    df_temp = df[['TEMP_MAX', 'UMID_MED']]\n",
    "    df_temp[\"id\"] = df.index + 1 \n",
    "\n",
    "    df_umid = df[df['UMID_MED'].notnull()]\n",
    "    df_umid = df[['UMID_MED']]\n",
    "    #df_umid[\"id\"] = df.index + 1"
   ]
  },
  {
   "cell_type": "code",
   "execution_count": 137,
   "metadata": {},
   "outputs": [
    {
     "name": "stdout",
     "output_type": "stream",
     "text": [
      "Valor adicionado Temperatura: \n",
      "40.55265788071856\n",
      "\n",
      "Valor adicionado Umidade: \n",
      "78.16220164741307\n",
      "\n",
      "       TEMP_MAX    UMID_MED\n",
      "752   25.100000   81.200000\n",
      "554   25.700000   69.800000\n",
      "555   25.900000   64.400000\n",
      "564   26.300000   59.900000\n",
      "337   26.400000   80.100000\n",
      "...         ...         ...\n",
      "1018  76.652658  119.262202\n",
      "317   76.752658  115.962202\n",
      "314   77.052658  119.962202\n",
      "721   77.852658  116.462202\n",
      "692   80.652658  111.162202\n",
      "\n",
      "[666 rows x 2 columns]\n"
     ]
    }
   ],
   "source": [
    "#------------------------------Tratando os Dados-----------------------------------\n",
    "\n",
    "count_row_temp = df_temp.shape[0]\n",
    "\n",
    "qtd_training_temp = int(count_row_temp/3) * 2\n",
    "\n",
    "df_training_temp = df_temp.sample(qtd_training_temp) # 2/3 de dados de treino\n",
    "\n",
    "count_training_temp = int((df_training_temp.shape[0] * 5) / 100)\n",
    "df_training_temp_anomalie_edit = df_training_temp.sample(count_training_temp) #1% de dos dados de treino editados\n",
    "df_training_temp = pd.concat([df_training_temp, df_training_temp_anomalie_edit]).drop_duplicates(keep=False)\n",
    "df_training_temp_anomalie_edit.dropna(inplace=True)\n",
    "#df_training_temp_anomalie_edit.loc[df_training_temp_anomalie_edit['TEMP_MAX'] == None,'TEMP_MAX'] = 0\n",
    "#df_training_temp_anomalie_edit.loc[df_training_temp_anomalie_edit['UMID_MED'] == None,'TEMP_MAX'] = 0\n",
    "\n",
    "df_training_temp_anomalie_edit[\"TEMP_MAX\"] = df_training_temp_anomalie_edit[\"TEMP_MAX\"].astype(float)\n",
    "df_training_temp_anomalie_edit[\"UMID_MED\"] = df_training_temp_anomalie_edit[\"UMID_MED\"].astype(float)\n",
    "\n",
    "valorMediaTemp = df_training_temp_anomalie_edit['TEMP_MAX'].sum()/df_training_temp_anomalie_edit.shape[0]\n",
    "valorMediaUmid = df_training_temp_anomalie_edit['UMID_MED'].sum()/df_training_temp_anomalie_edit.shape[0]\n",
    "\n",
    "desvioPadraoTemp = df_training_temp_anomalie_edit[\"TEMP_MAX\"].std()\n",
    "desvioPadraoUmid = df_training_temp_anomalie_edit[\"UMID_MED\"].std()\n",
    "\n",
    "desvioPadraoEditadoTemp = 3 * desvioPadraoTemp\n",
    "desvioPadraoEditadoUmid = 3 * desvioPadraoUmid\n",
    "\n",
    "#df_training_temp_anomalie_edit.loc[df_training_temp_anomalie_edit['TEMP_MAX']>0,'TEMP_MAX'] = desvioPadraoEditado + valorMediaTemp\n",
    "\n",
    "valorFinalTemp = desvioPadraoEditadoTemp + valorMediaTemp\n",
    "valorFinalUmid = desvioPadraoEditadoUmid + valorMediaUmid\n",
    "\n",
    "df_training_temp_anomalie_edit[\"TEMP_MAX\"] = df_training_temp_anomalie_edit[\"TEMP_MAX\"].add(valorFinalTemp)\n",
    "df_training_temp_anomalie_edit[\"UMID_MED\"] = df_training_temp_anomalie_edit[\"UMID_MED\"].add(valorFinalUmid)\n",
    "\n",
    "df_training_temp = pd.concat([df_training_temp, df_training_temp_anomalie_edit])\n",
    "df_training_temp.sort_values(by=['id'])\n",
    "\n",
    "df_test_temp = pd.concat([df_temp, df_training_temp]).drop_duplicates(keep=False)\n",
    "\n",
    "#Treino\n",
    "df_training_temp[\"TEMP_MAX\"] = df_training_temp[\"TEMP_MAX\"].astype(float)\n",
    "df_training_temp[\"UMID_MED\"] = df_training_temp[\"UMID_MED\"].astype(float)\n",
    "df_training_temp.dropna(inplace=True)\n",
    "df_training_temp = df_training_temp.drop(columns='id')\n",
    "\n",
    "print (\"Valor adicionado Temperatura: \")\n",
    "print (valorFinalTemp)\n",
    "print ()\n",
    "print (\"Valor adicionado Umidade: \")\n",
    "print (valorFinalUmid)\n",
    "print ()\n",
    "print (df_training_temp.sort_values(by=['TEMP_MAX']))\n",
    "\n",
    "#Teste\n"
   ]
  },
  {
   "cell_type": "code",
   "execution_count": 128,
   "metadata": {
    "scrolled": true
   },
   "outputs": [
    {
     "name": "stdout",
     "output_type": "stream",
     "text": [
      "Número estimado de clusters: 2\n",
      "Número estimado de pontos de ruído: 0\n"
     ]
    },
    {
     "data": {
      "image/png": "[encoded data removed]",
      "text/plain": [
       "<Figure size 432x288 with 1 Axes>"
      ]
     },
     "metadata": {
      "needs_background": "light"
     },
     "output_type": "display_data"
    }
   ],
   "source": [
    "#------------------------------Implementando o DBSCAN-----------------------------------\n",
    "\n",
    "X = np.array(df_training_temp)\n",
    "X, labels_true = make_blobs(n_samples=df_training_temp.shape[0], centers=X, cluster_std=0.4,random_state=None)\n",
    "X = StandardScaler().fit_transform(X)\n",
    "db = DBSCAN(eps=0.5, min_samples=5,\n",
    "                    metric='euclidean', algorithm='auto', leaf_size=30).fit(X)\n",
    "\n",
    "#print (df_training_temp.sort_values(by=['TEMP_MAX']))\n",
    "\n",
    "#from sklearn.model_selection import train_test_split\n",
    "#X_train, X_teste, y_train, y_test = train_test_split(X, y)\n",
    "\n",
    "core_samples_mask = np.zeros_like(db.labels_, dtype=bool)\n",
    "core_samples_mask[db.core_sample_indices_] = True\n",
    "\n",
    "labels = db.labels_\n",
    "#print (labels)\n",
    "\n",
    "outliers = df_training_temp[db.labels_ == -1]\n",
    "\n",
    "n_clusters_ = len(set(labels)) - (1 if -1 in labels else 0)\n",
    "n_noise_ = list(labels).count(-1)\n",
    "\n",
    "#print (\"Outliers:\")\n",
    "#print (outliers.sort_values(by=['TEMP_MAX']))\n",
    "\n",
    "unique_labels = set(labels)\n",
    "colors = [plt.cm.Spectral(each)\n",
    "          for each in np.linspace(0, 1, len(unique_labels))]\n",
    "for k, col in zip(unique_labels, colors):\n",
    "    if k == -1:\n",
    "        # Preto usado para ruído\n",
    "        col = [0, 0, 0, 1]\n",
    "\n",
    "    class_member_mask = (labels == k)\n",
    "\n",
    "    xy = X[class_member_mask & core_samples_mask]\n",
    "    plt.plot(xy[:, 0], xy[:, 1], 'o', markerfacecolor=tuple(col),\n",
    "             markeredgecolor='k', markersize=14)\n",
    "\n",
    "    xy = X[class_member_mask & ~core_samples_mask]\n",
    "    plt.plot(xy[:, 0], xy[:, 1], 'o', markerfacecolor=tuple(col),\n",
    "             markeredgecolor='k', markersize=6)\n",
    "\n",
    "print('Número estimado de clusters: %d' % n_clusters_)\n",
    "print('Número estimado de pontos de ruído: %d' % n_noise_)\n",
    "\n",
    "'''\n",
    "print(\"Homogeneity: %0.3f\" % metrics.homogeneity_score(labels_true, labels))\n",
    "print(\"Completeness: %0.3f\" % metrics.completeness_score(labels_true, labels))\n",
    "print(\"V-measure: %0.3f\" % metrics.v_measure_score(labels_true, labels))\n",
    "print(\"Adjusted Rand Index: %0.3f\"\n",
    "      % metrics.adjusted_rand_score(labels_true, labels))\n",
    "print(\"Adjusted Mutual Information: %0.3f\"\n",
    "      % metrics.adjusted_mutual_info_score(labels_true, labels))\n",
    "print(\"Silhouette Coefficient: %0.3f\"\n",
    "      % metrics.silhouette_score(X, labels))\n",
    "'''\n",
    "\n",
    "plt.title('Número estimado de clusters: %d' % n_clusters_)\n",
    "plt.xlabel(\"TEMP_MAX\")\n",
    "plt.ylabel(\"UMID_MED\")\n",
    "plt.show()\n",
    "\n",
    "#sns.scatterplot(x=X[:,0], y=X[:,1])\n",
    "#sns.scatterplot(x=outliers[:,0], \n",
    "#                y=outliers[:,1], color='black')\n",
    "#plt.title(\"DBSCAN\", fontsize=15, pad=15)\n",
    "#plt.savefig(\"DBSCAN.png\", dpi=80)"
   ]
  },
  {
   "cell_type": "code",
   "execution_count": 111,
   "metadata": {},
   "outputs": [
    {
     "name": "stdout",
     "output_type": "stream",
     "text": [
      "Outliers:\n",
      "Empty DataFrame\n",
      "Columns: [TEMP_MAX, UMID_MED]\n",
      "Index: []\n"
     ]
    },
    {
     "name": "stderr",
     "output_type": "stream",
     "text": [
      "<ipython-input-111-c9e5b223fa32>:37: MatplotlibDeprecationWarning: Adding an axes using the same arguments as a previous axes currently reuses the earlier instance.  In a future version, a new instance will always be created and returned.  Meanwhile, this warning can be suppressed, and the future behavior ensured, by passing a unique label to each axes instance.\n",
      "  ax = fig.add_axes([.1, .1, 1, 1])\n"
     ]
    },
    {
     "data": {
      "text/plain": [
       "<matplotlib.collections.PathCollection at 0x7f9798165cd0>"
      ]
     },
     "execution_count": 111,
     "metadata": {},
     "output_type": "execute_result"
    }
   ],
   "source": [
    "#------------------------------Outra Tentativa o DBSCAN-----------------------------------\n",
    "import seaborn as sns\n",
    "\n",
    "X = np.array(df_training_temp)\n",
    "X, labels_true = make_blobs(n_samples=df_training_temp.shape[0], centers=X, cluster_std=0.4,random_state=None)\n",
    "X = StandardScaler().fit_transform(X)\n",
    "\n",
    "db = DBSCAN(eps=0.5, min_samples=5, \n",
    "                    metric='euclidean', algorithm='auto').fit(X)\n",
    "core_samples_mask = np.zeros_like(db.labels_, dtype=bool)\n",
    "core_samples_mask[db.core_sample_indices_] = True\n",
    "labels = db.labels_\n",
    "\n",
    "outliers = df_training_temp[db.labels_ == -1]\n",
    "\n",
    "\n",
    "n_noise_ = list(labels).count(-1)\n",
    "print (\"Outliers:\")\n",
    "print (outliers)\n",
    "\n",
    "# Number of clusters in labels, ignoring noise if present.\n",
    "n_clusters_ = len(set(labels)) - (1 if -1 in labels else 0)\n",
    "n_noise_ = list(labels).count(-1)\n",
    "\n",
    "outl_df = df_training_temp[db.labels_ == -1]\n",
    "clust_df = df_training_temp[db.labels_ != -1]\n",
    "\n",
    "colors = db.labels_\n",
    "colors_clusters = colors[colors != -1]\n",
    "colors_out = 'yellow'\n",
    "    \n",
    "clusters = Counter(db.labels_)\n",
    "#print (df_dados_plt[model_test.labels_ == -1].head())\n",
    "#print ('Número de Clusters: {}'.format(len(clusters) -1 ))\n",
    "#print ()    \n",
    "#fig = plt.figure()\n",
    "ax = fig.add_axes([.1, .1, 1, 1])\n",
    "ax.scatter(clust_df['TEMP_MAX'], clust_df['UMID_MED'], c = colors_clusters, edgecolors = 'black', s=50)\n",
    "ax.scatter(outl_df['TEMP_MAX'], outl_df['UMID_MED'], c = colors_out, edgecolors = 'black', s=50)\n",
    "\n",
    "\n",
    "#ax.set_xlabel('TEMP_MAX', fontsize=9)\n",
    "#ax.set_ylabel('UMID_MED', fontsize=9)\n",
    "#plt.title('DBSCAN', fontsize=12)\n",
    "#plt.grid(which='major', color='#cccccc', alpha=0.45)\n",
    "#plt.show()\n"
   ]
  },
  {
   "cell_type": "code",
   "execution_count": 147,
   "metadata": {},
   "outputs": [
    {
     "data": {
      "image/png": "[encoded data removed]",
      "text/plain": [
       "<Figure size 432x288 with 1 Axes>"
      ]
     },
     "metadata": {
      "needs_background": "light"
     },
     "output_type": "display_data"
    }
   ],
   "source": [
    "from sklearn.svm import OneClassSVM\n",
    "import seaborn as sns\n",
    "\n",
    "X = np.array(df_training_temp)\n",
    "X, _ = make_blobs(n_samples=df_training_temp.shape[0], centers=X, cluster_std=0.4,random_state=None)\n",
    "\n",
    "ocsvm = OneClassSVM(kernel='rbf', degree=3, gamma='scale', nu=0.5, coef0=0.0,tol=0.001,\n",
    "                    shrinking=True,cache_size=200,\n",
    "                    verbose=False,max_iter=-1).fit(X)\n",
    "pred = ocsvm.predict(X)\n",
    "outlier_index = np.where(pred==-1)\n",
    "outlier_values = X[outlier_index]\n",
    "\n",
    "sns.scatterplot(x=X[:,0], y=X[:,1])\n",
    "sns.scatterplot(x=outlier_values[:,0], \n",
    "                y=outlier_values[:,1], color='black')\n",
    "plt.title(\"OCSVM\", fontsize=15, pad=15)\n",
    "plt.savefig(\"One-Class SVM Detection.png\", dpi=80)"
   ]
  },
  {
   "cell_type": "code",
   "execution_count": 138,
   "metadata": {},
   "outputs": [
    {
     "data": {
      "image/png": "[encoded data removed]",
      "text/plain": [
       "<Figure size 432x288 with 1 Axes>"
      ]
     },
     "metadata": {
      "needs_background": "light"
     },
     "output_type": "display_data"
    }
   ],
   "source": [
    "from sklearn.ensemble import IsolationForest\n",
    "from sklearn.decomposition import PCA\n",
    "\n",
    "X = np.array(df_training_temp)\n",
    "iforest = IsolationForest(n_estimators=100, max_samples=df_training_temp.shape[0], \n",
    "                          warm_start=False,\n",
    "                          contamination='auto', max_features=1.0, \n",
    "                          bootstrap=False, n_jobs=None, random_state=None)\n",
    "\n",
    "pred = iforest.fit_predict(X)\n",
    "outlier_index = np.where(pred==-1)\n",
    "outlier_values = X[outlier_index]\n",
    "\n",
    "\n",
    "sc=StandardScaler()\n",
    "X_scaled = sc.fit_transform(X)\n",
    "outlier_values_scaled = sc.transform(outlier_values)\n",
    "\n",
    "pca = PCA(n_components=2)\n",
    "X_pca = pca.fit_transform(X_scaled)\n",
    "outlier_values_pca = pca.transform(outlier_values_scaled)\n",
    "\n",
    "sns.scatterplot(x=X_pca[:,0], y=X_pca[:,1])\n",
    "sns.scatterplot(x=outlier_values_pca[:,0], \n",
    "                y=outlier_values_pca[:,1], color='r')\n",
    "plt.title(\"IF\", fontsize=15, pad=15)\n",
    "plt.xlabel(\"PC1\")\n",
    "plt.ylabel(\"PC2\")\n",
    "plt.savefig(\"Isolation Forest Detection.png\", dpi=80)"
   ]
  },
  {
   "cell_type": "code",
   "execution_count": null,
   "metadata": {},
   "outputs": [],
   "source": []
  }
 ],
 "metadata": {
  "kernelspec": {
   "display_name": "Python 3",
   "language": "python",
   "name": "python3"
  },
  "language_info": {
   "codemirror_mode": {
    "name": "ipython",
    "version": 3
   },
   "file_extension": ".py",
   "mimetype": "text/x-python",
   "name": "python",
   "nbconvert_exporter": "python",
   "pygments_lexer": "ipython3",
   "version": "3.8.5"
  }
 },
 "nbformat": 4,
 "nbformat_minor": 4
}
