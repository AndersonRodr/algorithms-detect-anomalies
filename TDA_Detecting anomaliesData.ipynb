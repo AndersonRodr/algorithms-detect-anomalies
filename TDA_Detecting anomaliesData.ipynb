{
 "cells": [
  {
   "cell_type": "code",
   "execution_count": 41,
   "metadata": {},
   "outputs": [],
   "source": [
    "import numpy as np\n",
    "import pandas as pd\n",
    "import matplotlib.pyplot as plt\n",
    "import requests \n",
    "import random\n",
    "import decimal\n",
    "import math\n",
    "import random\n",
    "from statsmodels.tsa.ar_model import AutoReg, ar_select_order"
   ]
  },
  {
   "cell_type": "code",
   "execution_count": 42,
   "metadata": {},
   "outputs": [],
   "source": [
    "dataInicial = '2003-01-01'\n",
    "dataFinal = '2021-11-30'"
   ]
  },
  {
   "cell_type": "code",
   "execution_count": 43,
   "metadata": {
    "scrolled": true
   },
   "outputs": [
    {
     "name": "stderr",
     "output_type": "stream",
     "text": [
      "<ipython-input-43-ea3ea4aacd59>:18: SettingWithCopyWarning: \n",
      "A value is trying to be set on a copy of a slice from a DataFrame.\n",
      "Try using .loc[row_indexer,col_indexer] = value instead\n",
      "\n",
      "See the caveats in the documentation: https://pandas.pydata.org/pandas-docs/stable/user_guide/indexing.html#returning-a-view-versus-a-copy\n",
      "  df_temp[\"id\"] = df.index + 1\n",
      "<ipython-input-43-ea3ea4aacd59>:19: SettingWithCopyWarning: \n",
      "A value is trying to be set on a copy of a slice from a DataFrame\n",
      "\n",
      "See the caveats in the documentation: https://pandas.pydata.org/pandas-docs/stable/user_guide/indexing.html#returning-a-view-versus-a-copy\n",
      "  df_temp.dropna(inplace=True)\n",
      "<ipython-input-43-ea3ea4aacd59>:23: SettingWithCopyWarning: \n",
      "A value is trying to be set on a copy of a slice from a DataFrame.\n",
      "Try using .loc[row_indexer,col_indexer] = value instead\n",
      "\n",
      "See the caveats in the documentation: https://pandas.pydata.org/pandas-docs/stable/user_guide/indexing.html#returning-a-view-versus-a-copy\n",
      "  df_umid[\"id\"] = df.index + 1\n",
      "<ipython-input-43-ea3ea4aacd59>:24: SettingWithCopyWarning: \n",
      "A value is trying to be set on a copy of a slice from a DataFrame\n",
      "\n",
      "See the caveats in the documentation: https://pandas.pydata.org/pandas-docs/stable/user_guide/indexing.html#returning-a-view-versus-a-copy\n",
      "  df_umid.dropna(inplace=True)\n"
     ]
    }
   ],
   "source": [
    "##------------------------------Pegando os Dados-----------------------------------\n",
    "\n",
    "url = \"https://apitempo.inmet.gov.br/estacao/diaria/\" + dataInicial + \"/\" + dataFinal + \"/A307\"\n",
    "headers = {'User-Agent': 'Mozilla/5.0 (Macintosh; Intel Mac OS X 10_11_5) AppleWebKit/537.36 (KHTML, like Gecko) Chrome/50.0.2661.102 Safari/537.36'}\n",
    "resp = requests.get(url, headers=headers)\n",
    "df = None\n",
    "df_temp = None\n",
    "if resp.status_code != 200:\n",
    "    print (resp.raise_for_status())\n",
    "else:\n",
    "    df = pd.DataFrame(resp.json())\n",
    "    #df = df[df[\"TEM_MAX\"].astype('float') ]\n",
    "    df_temp = df[df['TEMP_MAX'].notnull()]\n",
    "    df_temp = df[df['UMID_MED'].notnull()]\n",
    "    df_temp = df[df['DT_MEDICAO'].notnull()]\n",
    "    \n",
    "    df_temp = df[['TEMP_MAX', 'UMID_MED', 'DT_MEDICAO']]\n",
    "    df_temp[\"id\"] = df.index + 1 \n",
    "    df_temp.dropna(inplace=True)\n",
    "\n",
    "    df_umid = df[df['UMID_MED'].notnull()]\n",
    "    df_umid = df[['UMID_MED']]\n",
    "    df_umid[\"id\"] = df.index + 1\n",
    "    df_umid.dropna(inplace=True)"
   ]
  },
  {
   "cell_type": "code",
   "execution_count": 44,
   "metadata": {},
   "outputs": [],
   "source": [
    "from joblib import Parallel, delayed, effective_n_jobs\n",
    "\n",
    "from sklearn.utils import gen_even_slices\n",
    "from sklearn.utils.validation import check_is_fitted\n",
    "\n",
    "from gtda.diagrams import PairwiseDistance\n",
    "from gtda.diagrams._metrics import _parallel_pairwise, landscapes, betti_curves\n",
    "from gtda.diagrams._utils import _subdiagrams\n",
    "from gtda.utils.validation import check_diagrams\n",
    "\n",
    "\n",
    "class HomologicalDerivative(PairwiseDistance):\n",
    "    def __init__(self, **kw_args):\n",
    "        super().__init__(**kw_args)\n",
    "\n",
    "    def _derivatives_generic(self, X, s):\n",
    "\n",
    "        return np.array(\n",
    "            [\n",
    "                _parallel_pairwise(\n",
    "                    np.expand_dims(X[t + 1], axis=0),\n",
    "                    np.expand_dims(X[t], axis=0),\n",
    "                    self.metric,\n",
    "                    self.effective_metric_params_,\n",
    "                    self.homology_dimensions_,\n",
    "                    self.n_jobs,\n",
    "                )[0, 0]\n",
    "                for t in range(s.start, s.stop, 1)\n",
    "            ]\n",
    "        )\n",
    "\n",
    "    def _derivatives(self, subdiagrams, kind, dim, params):\n",
    "        n_samples, n_points = subdiagrams.shape[:2]\n",
    "        if kind == \"landscape\":\n",
    "            n_layers = min(params[\"n_layers\"], n_points)\n",
    "            features = landscapes(subdiagrams, params[\"samplings\"][dim], n_layers)\n",
    "        elif kind == \"betti\":\n",
    "            features = betti_curves(subdiagrams, params[\"samplings\"][dim])\n",
    "        features = (features[1:] - features[:-1]).reshape(n_samples - 1, -1)\n",
    "        features = np.linalg.norm(features, axis=1, ord=params[\"p\"])\n",
    "\n",
    "        return (params[\"step_sizes\"][dim] ** (1 / params[\"p\"])) * features\n",
    "\n",
    "    def fit(self, X, y=None):\n",
    "        super().fit(X, y)\n",
    "\n",
    "        return self\n",
    "\n",
    "    def transform(self, X, y=None):\n",
    "        check_is_fitted(self, [\"effective_metric_params_\", \"homology_dimensions_\"])\n",
    "        X = check_diagrams(X)\n",
    "\n",
    "        if self.metric in [\"landscape\", \"betti\"]:\n",
    "            Xt = Parallel(n_jobs=self.n_jobs)(\n",
    "                delayed(self._derivatives)(\n",
    "                    _subdiagrams(X[s.start : s.stop + 1], [dim], remove_dim=True),\n",
    "                    self.metric,\n",
    "                    dim,\n",
    "                    self.effective_metric_params_,\n",
    "                )\n",
    "                for dim in self.homology_dimensions_\n",
    "                for s in gen_even_slices(len(X) - 1, effective_n_jobs(self.n_jobs))\n",
    "            )\n",
    "            Xt = np.concatenate(Xt)\n",
    "            Xt = Xt.reshape(len(self.homology_dimensions_), len(X) - 1).T\n",
    "        else:\n",
    "            Xt = Parallel(n_jobs=self.n_jobs)(\n",
    "                delayed(self._derivatives_generic)(X, s)\n",
    "                for s in gen_even_slices(len(X) - 1, effective_n_jobs(self.n_jobs))\n",
    "            )\n",
    "            Xt = np.concatenate(Xt)\n",
    "\n",
    "        if self.order is not None:\n",
    "            Xt = np.linalg.norm(Xt, axis=1, ord=self.order)\n",
    "\n",
    "        return Xt"
   ]
  },
  {
   "cell_type": "code",
   "execution_count": 45,
   "metadata": {},
   "outputs": [],
   "source": [
    "df_training_temp = None\n",
    "df_training_temp_anomalie_edit = None"
   ]
  },
  {
   "cell_type": "code",
   "execution_count": 46,
   "metadata": {},
   "outputs": [],
   "source": [
    "\n",
    "desvioPadraoTempTraining = 0\n",
    "desvioPadraoUmidTraining = 0\n",
    "\n",
    "desvioPadraoTempTest = 0\n",
    "desvioPadraoUmidTest = 0\n",
    "\n",
    "desvioPadrao = 0\n",
    "\n",
    "def valorFinalTemperatura(df_training_temp_anomalie_edit, treino, equacaoExponencial):\n",
    "    valorFinalTemp = equacaoExponencial * extrairErro(df_training_temp_anomalie_edit, 'TEMP_MAX')\n",
    "    return valorFinalTemp\n",
    "\n",
    "def valorFinalUmidade(df_training_temp_anomalie_edit, treino, equacaoExponencial):\n",
    "    valorFinalUmid = equacaoExponencial * extrairErro(df_training_temp_anomalie_edit, 'UMID_MED')\n",
    "    return valorFinalUmid\n",
    "\n",
    "def qtdRowsTemp():\n",
    "    count_row_temp = df_temp.shape[0]\n",
    "    return count_row_temp\n",
    "\n",
    "def extrairErro(dataframe, coluna):\n",
    "    train_size = int(dataframe.shape[0] * 1)\n",
    "    train_Real, train_Pred = dataframe.to_numpy()[:,0], dataframe.to_numpy()[:,1]\n",
    "    train_resid = [train_Real[i]-train_Pred[i] for i in range(len(dataframe))]\n",
    "    desvioErro = np.std(train_resid)\n",
    "    return desvioErro\n",
    "\n",
    "def TransformarEmEstacionaria(df_training_temp):\n",
    "    converterColunasToFloat(df_training_temp, \"TEMP_MAX\")\n",
    "    converterColunasToFloat(df_training_temp, \"UMID_MED\")\n",
    "\n",
    "    df_training_temp['UMID_MED'] = df_training_temp['UMID_MED'].diff()\n",
    "    df_training_temp['TEMP_MAX'] = df_training_temp['TEMP_MAX'].diff()\n",
    "    df_training_temp.dropna()\n",
    "    return df_training_temp\n",
    "\n",
    "def equacaoExponencial():\n",
    "    numberX = decimal.Decimal(random.randrange(-50, 50))/100\n",
    "    eq = math.exp((3 * abs(numberX))) + 3\n",
    "    return float(eq)\n",
    "\n",
    "def converterColunasToFloat(dataframe, coluna):\n",
    "    dataframe[coluna] = dataframe[coluna].astype(float)\n",
    "    dataframe[coluna].apply(lambda x: float(x))\n",
    "    return dataframe\n",
    "\n",
    "\n",
    "def autoReg(dataframe_anomalies_edit):\n",
    "    ar_model = AutoReg(np.array(dataframe_anomalies_edit), trend='n', lags=1).fit()\n",
    "    pred = ar_model.predict(start=0,end= dataframe_anomalies_edit.shape[0], dynamic=False)\n",
    "    return pred"
   ]
  },
  {
   "cell_type": "code",
   "execution_count": 47,
   "metadata": {},
   "outputs": [],
   "source": [
    "#------------------------------Tratando os Dados-----------------------------------\n",
    "\n",
    "def dataTraining(percentOutliers):\n",
    "    \n",
    "    qtd_training_temp = int(qtdRowsTemp()/3) * 2\n",
    "\n",
    "    qtd_training_temp = qtdRowsTemp()\n",
    "\n",
    "    df_training_temp = df_temp.sample(qtd_training_temp)\n",
    "\n",
    "    df_training_temp = TransformarEmEstacionaria(df_training_temp) #Série Estacionária\n",
    "\n",
    "    count_training_temp = int((df_training_temp.shape[0] * percentOutliers) / 100)    \n",
    "    df_training_temp_anomalie_edit = df_training_temp.sample(n=count_training_temp)\n",
    "    \n",
    "    df_test_temp = pd.concat([df_temp, df_training_temp]).drop_duplicates(keep=False)\n",
    "\n",
    "    df_training_temp = pd.concat([df_training_temp, df_training_temp_anomalie_edit]).drop_duplicates(keep=False)\n",
    "    df_training_temp_anomalie_edit.dropna(inplace=True)\n",
    "\n",
    "    df_training_temp_anomalie_edit = converterColunasToFloat(df_training_temp_anomalie_edit, \"TEMP_MAX\")\n",
    "    df_training_temp_anomalie_edit = converterColunasToFloat(df_training_temp_anomalie_edit, \"UMID_MED\")\n",
    "\n",
    "    equacaoExpo = equacaoExponencial()\n",
    "       \n",
    "    temperaturas = autoReg(df_training_temp_anomalie_edit['TEMP_MAX']) #AutoRegressão\n",
    "    umidades = autoReg(df_training_temp_anomalie_edit['UMID_MED']) #AutoRegressão\n",
    "    \n",
    "    df_ids = np.array(df_training_temp_anomalie_edit['id'])\n",
    "    \n",
    "    df_temp_real_pred = pd.DataFrame()\n",
    "    colTemp = ['temp_real','temp_pred']\n",
    "    df_temp_real_pred = pd.DataFrame(columns=colTemp)\n",
    "    df_temp_real_pred['temp_real'] = df_training_temp_anomalie_edit['TEMP_MAX']\n",
    "    df_temp_real_pred['temp_pred'] = temperaturas.tolist()\n",
    "\n",
    "    df_umid_real_pred = pd.DataFrame()\n",
    "    col_umid = ['umid_real','umid_pred']\n",
    "    df_umid_real_pred = pd.DataFrame(columns=col_umid)\n",
    "    df_umid_real_pred['umid_real'] = df_training_temp_anomalie_edit['UMID_MED']\n",
    "    df_umid_real_pred['umid_pred'] = umidades.tolist()\n",
    "    \n",
    "    valorFinalTemp = valorFinalTemperatura(df_temp_real_pred, True, equacaoExpo)\n",
    "    valorFinalUmid = valorFinalUmidade(df_umid_real_pred, True, equacaoExpo)\n",
    "    \n",
    "    df_training_temp_anomalie_edit = converterColunasToFloat(df_training_temp_anomalie_edit, \"UMID_MED\")\n",
    "    df_training_temp_anomalie_edit = converterColunasToFloat(df_training_temp_anomalie_edit, \"TEMP_MAX\")\n",
    "\n",
    "    dfAnomalias = pd.DataFrame()\n",
    "    col = ['TEMP_MAX','UMID_MED', 'DT_MEDICAO', 'id']\n",
    "\n",
    "    dfAnomalias = pd.DataFrame(columns=col)\n",
    "\n",
    "    df_training_temp_anomalie_edit.sort_index(inplace=True)\n",
    "\n",
    "    #Df Anomalias\n",
    "    for index, row in df_training_temp_anomalie_edit.iterrows():\n",
    "        temp = row['TEMP_MAX'] + (np.sign(row['TEMP_MAX']) * valorFinalTemp) #Cálculo outliers Temp\n",
    "        umid = row['UMID_MED'] + (np.sign(row['UMID_MED']) * valorFinalUmid) #Cálculo outliers Umid\n",
    "        x = np.array([[temp, umid, row['DT_MEDICAO'], row['id']]])\n",
    "        df1=pd.DataFrame(x, columns=['TEMP_MAX', 'UMID_MED', 'DT_MEDICAO', 'id'])\n",
    "        \n",
    "        df1.set_index('id',inplace=True)\n",
    "\n",
    "        dfAnomalias = pd.concat([df1, dfAnomalias])\n",
    "   \n",
    "    dfAnomalias = dfAnomalias.drop(columns='id')\n",
    "        \n",
    "    dfAnomalias.sort_index(inplace=True)    \n",
    "\n",
    "    dfFinal = dfAnomalias\n",
    "    \n",
    "\n",
    "    #Inserindo as Anomalias junto das temps normais\n",
    "    for index, row in df_training_temp.iterrows():\n",
    "        x = np.array([[row['TEMP_MAX'], row['UMID_MED'], row['DT_MEDICAO'], row['id']]])\n",
    "        df1=pd.DataFrame(x, columns=['TEMP_MAX', 'UMID_MED', 'DT_MEDICAO', 'id'])\n",
    "        \n",
    "        df1.set_index('id',inplace=True)\n",
    "        \n",
    "        dfFinal = pd.concat([df1, dfFinal])\n",
    "\n",
    "    dfFinal.sort_index(inplace=True)    \n",
    "    df_training_temp = dfFinal\n",
    "    df_training_temp.dropna(inplace=True)\n",
    "\n",
    "    dfAnomalias.sort_index(inplace=True)\n",
    "    df_training_temp.sort_index(inplace=True)\n",
    "    \n",
    "    df_training_temp = converterColunasToFloat(df_training_temp, \"TEMP_MAX\")\n",
    "    df_training_temp = converterColunasToFloat(df_training_temp, \"UMID_MED\")\n",
    "    \n",
    "    df_training_temp.dropna(inplace=True)\n",
    "    df_training_temp.sort_index(inplace=True)\n",
    "    \n",
    "    return df_training_temp, dfAnomalias    "
   ]
  },
  {
   "cell_type": "code",
   "execution_count": 48,
   "metadata": {},
   "outputs": [],
   "source": [
    "dfs = df_temp.sort_values(by=\"DT_MEDICAO\")\n",
    "\n",
    "df_temp['DT_MEDICAO'].astype('datetime64')\n",
    "df_filterDate = (df_temp['DT_MEDICAO'] >= dataInicial) & (df_temp['DT_MEDICAO'] < \"2012-05-31\")\n",
    "df_normal_values = df_temp.loc[df_filterDate]"
   ]
  },
  {
   "cell_type": "code",
   "execution_count": 49,
   "metadata": {},
   "outputs": [],
   "source": [
    "df_temp = pd.concat([df_temp, df_normal_values]).drop_duplicates(keep=False).sort_values(by=\"DT_MEDICAO\")"
   ]
  },
  {
   "cell_type": "code",
   "execution_count": 50,
   "metadata": {},
   "outputs": [],
   "source": [
    "df_normal_values = TransformarEmEstacionaria(df_normal_values)\n",
    "df_normal_values.dropna(inplace=True)\n",
    "\n",
    "df_normal_values = converterColunasToFloat(df_normal_values, \"TEMP_MAX\")\n",
    "df_normal_values = converterColunasToFloat(df_normal_values, \"UMID_MED\")\n",
    "\n",
    "#df_normal_values['TEMP_MAX'] = df_normal_values['TEMP_MAX'].abs()\n"
   ]
  },
  {
   "cell_type": "code",
   "execution_count": 51,
   "metadata": {
    "scrolled": true
   },
   "outputs": [
    {
     "name": "stderr",
     "output_type": "stream",
     "text": [
      "/home/anderson/Documentos/Python/anaconda3/lib/python3.8/site-packages/statsmodels/tsa/ar_model.py:248: FutureWarning: The parameter names will change after 0.12 is released. Set old_names to False to use the new names now. Set old_names to True to use the old names. \n",
      "  warnings.warn(\n",
      "/home/anderson/Documentos/Python/anaconda3/lib/python3.8/site-packages/statsmodels/tsa/ar_model.py:248: FutureWarning: The parameter names will change after 0.12 is released. Set old_names to False to use the new names now. Set old_names to True to use the old names. \n",
      "  warnings.warn(\n"
     ]
    }
   ],
   "source": [
    "taxaContaminacao = 5 #Porcentagem de anomalias na série\n",
    "dfs = dataTraining(taxaContaminacao)\n",
    "df_training_temp = dfs[0]\n",
    "dfAnomalias = dfs[1]\n",
    "\n",
    "dfAnomalias = dfAnomalias.sort_values(by=\"DT_MEDICAO\")\n",
    "\n",
    "df_training_temp = converterColunasToFloat(df_training_temp, \"TEMP_MAX\")\n",
    "#df_training_temp['TEMP_MAX'] = df_training_temp['TEMP_MAX'].abs()\n",
    "\n",
    "df_training_temp = df_training_temp[df_training_temp.index.notnull()]\n",
    "\n",
    "df_training_temp = df_training_temp.sort_values(by=\"DT_MEDICAO\")"
   ]
  },
  {
   "cell_type": "code",
   "execution_count": 52,
   "metadata": {},
   "outputs": [
    {
     "name": "stdout",
     "output_type": "stream",
     "text": [
      "(167, 3)\n",
      "Anomalias:\n",
      "                 TEMP_MAX            UMID_MED  DT_MEDICAO\n",
      "3439   18.956552736766316  -65.34449597265258  2012-05-31\n",
      "3454   -19.85655273676631   73.34449597265258  2012-06-15\n",
      "3485  -20.856552736766307   62.24449597265258  2012-07-16\n",
      "3503  -21.156552736766315  -66.34449597265258  2012-08-03\n",
      "3504   -24.15655273676631   72.24449597265257  2012-08-04\n",
      "...                   ...                 ...         ...\n",
      "6743   -21.15655273676631   70.04449597265258  2021-06-17\n",
      "6764  -21.956552736766312   71.34449597265258  2021-07-08\n",
      "6819  -22.756552736766313   70.84449597265258  2021-09-01\n",
      "6828  -18.756552736766306  -66.54449597265258  2021-09-10\n",
      "6860    21.05655273676631  -73.24449597265257  2021-10-12\n",
      "\n",
      "[167 rows x 3 columns]\n"
     ]
    }
   ],
   "source": [
    "print (dfAnomalias.shape)\n",
    "print (\"Anomalias:\")\n",
    "print (dfAnomalias)"
   ]
  },
  {
   "cell_type": "code",
   "execution_count": 53,
   "metadata": {},
   "outputs": [
    {
     "data": {
      "image/png": "[encoded data removed]",
      "text/plain": [
       "<Figure size 432x288 with 1 Axes>"
      ]
     },
     "metadata": {},
     "output_type": "display_data"
    },
    {
     "data": {
      "image/png": "[encoded data removed]",
      "text/plain": [
       "<Figure size 432x288 with 1 Axes>"
      ]
     },
     "metadata": {},
     "output_type": "display_data"
    }
   ],
   "source": [
    "import matplotlib.pyplot as plt\n",
    "\n",
    "#df_normal_values['TEMP_MAX'] = df_normal_values['TEMP_MAX'].abs()\n",
    "series = pd.DataFrame(df_normal_values, columns = ['DT_MEDICAO', 'TEMP_MAX'])\n",
    "series.reset_index(drop=True, inplace=True)\n",
    "\n",
    "x = series['DT_MEDICAO']\n",
    "y = series['TEMP_MAX']\n",
    "plt.plot(x,y)\n",
    "plt.show()\n",
    "\n",
    "\n",
    "series = pd.DataFrame(df_training_temp, columns = ['DT_MEDICAO', 'TEMP_MAX'])\n",
    "series.reset_index(drop=True, inplace=True)\n",
    "\n",
    "x = series['DT_MEDICAO']\n",
    "y = series['TEMP_MAX']\n",
    "plt.plot(x,y)\n",
    "plt.show()"
   ]
  },
  {
   "cell_type": "code",
   "execution_count": 54,
   "metadata": {},
   "outputs": [],
   "source": [
    "# TDA magic\n",
    "import gtda.time_series as time_series\n",
    "import gtda.homology as hl\n",
    "import gtda.graphs as gr\n",
    "from gtda.plotting import plot_diagram, plot_point_cloud\n",
    "from gtda.pipeline import Pipeline\n",
    "from gtda.time_series import TakensEmbedding\n",
    "import gtda.time_series as ts"
   ]
  },
  {
   "cell_type": "code",
   "execution_count": 55,
   "metadata": {
    "scrolled": false
   },
   "outputs": [
    {
     "name": "stdout",
     "output_type": "stream",
     "text": [
      "(16, 9)\n"
     ]
    }
   ],
   "source": [
    "data = np.array(df_training_temp)\n",
    "\n",
    "df_training_temp.head()\n",
    "df_training_temp.tail()\n",
    "df_training_temp.shape\n",
    "\n",
    "df_training_temp.dropna(inplace=True)\n",
    "\n",
    "df_training_temp['DT_MEDICAO'] = df_training_temp['DT_MEDICAO'].astype('datetime64')\n",
    "\n",
    "temps_resampled_df = pd.DataFrame(df_training_temp, columns = ['DT_MEDICAO', 'TEMP_MAX'])\n",
    "\n",
    "#temps_resampled_df['DT_MEDICAO'] = temps_resampled_df['DT_MEDICAO'].astype('datetime64')\n",
    "\n",
    "temps_resampled_df.set_index('DT_MEDICAO',inplace=True)\n",
    "temps_values = temps_resampled_df[\"TEMP_MAX\"].tolist()\n",
    "\n",
    "embedding_series_with_anomalies = time_series.takens_embedding_optimal_parameters(temps_values, \n",
    "                                                            max_time_delay=20, \n",
    "                                                            max_dimension=20)\n",
    "\n",
    "\n",
    "print (embedding_series_with_anomalies)"
   ]
  },
  {
   "cell_type": "code",
   "execution_count": 56,
   "metadata": {},
   "outputs": [],
   "source": [
    "from gtda.time_series import SingleTakensEmbedding\n",
    "embedding_time_delay = embedding_series_with_anomalies[0]\n",
    "embedding_dimension = embedding_series_with_anomalies[1]\n",
    "stride = 5\n",
    "\n",
    "embedder = SingleTakensEmbedding(\n",
    "    parameters_type=\"fixed\", n_jobs=6, time_delay=embedding_time_delay, dimension=embedding_dimension, stride=stride\n",
    ")\n",
    "\n",
    "temps_values_anomalie_embedded = embedder.fit_transform(temps_values)"
   ]
  },
  {
   "cell_type": "code",
   "execution_count": 57,
   "metadata": {},
   "outputs": [],
   "source": [
    "sliding_window = ts.SlidingWindow(size=30, stride=5)\n",
    "temps_values_anomalie_windows = sliding_window.fit_transform(temps_values_anomalie_embedded)"
   ]
  },
  {
   "cell_type": "code",
   "execution_count": 58,
   "metadata": {},
   "outputs": [],
   "source": [
    "persistence = hl.VietorisRipsPersistence(homology_dimensions=(0, 1), n_jobs=-1)\n",
    "persistences_diagrams_anomalies = persistence.fit_transform(temps_values_anomalie_windows)\n",
    "#final_embbeded_anomalies = temps_values_anomalie_embedded[None, :, :]\n"
   ]
  },
  {
   "cell_type": "code",
   "execution_count": 59,
   "metadata": {},
   "outputs": [],
   "source": [
    "metric_params = {\"p\": 2, \"n_bins\": 1000}\n",
    "\n",
    "\n",
    "bettiHomDer = HomologicalDerivative(\n",
    "    metric='betti', metric_params=metric_params, order=2, n_jobs=-1\n",
    ")\n",
    "betti_succ_dists = bettiHomDer.fit_transform(\n",
    "    persistences_diagrams_anomalies)"
   ]
  },
  {
   "cell_type": "code",
   "execution_count": 60,
   "metadata": {},
   "outputs": [
    {
     "data": {
      "text/plain": [
       "3356"
      ]
     },
     "execution_count": 60,
     "metadata": {},
     "output_type": "execute_result"
    }
   ],
   "source": [
    "len(temps_values) #Total data"
   ]
  },
  {
   "cell_type": "code",
   "execution_count": 61,
   "metadata": {},
   "outputs": [
    {
     "data": {
      "text/plain": [
       "646"
      ]
     },
     "execution_count": 61,
     "metadata": {},
     "output_type": "execute_result"
    }
   ],
   "source": [
    "len(temps_values_anomalie_embedded) #Takens Embedded"
   ]
  },
  {
   "cell_type": "code",
   "execution_count": 62,
   "metadata": {},
   "outputs": [
    {
     "data": {
      "text/plain": [
       "124"
      ]
     },
     "execution_count": 62,
     "metadata": {},
     "output_type": "execute_result"
    }
   ],
   "source": [
    "len(temps_values_anomalie_windows) #Sliding Window"
   ]
  },
  {
   "cell_type": "code",
   "execution_count": 63,
   "metadata": {},
   "outputs": [
    {
     "data": {
      "text/plain": [
       "124"
      ]
     },
     "execution_count": 63,
     "metadata": {},
     "output_type": "execute_result"
    }
   ],
   "source": [
    "len(persistences_diagrams_anomalies) #Vietoris Rips"
   ]
  },
  {
   "cell_type": "code",
   "execution_count": 66,
   "metadata": {},
   "outputs": [
    {
     "data": {
      "text/plain": [
       "123"
      ]
     },
     "execution_count": 66,
     "metadata": {},
     "output_type": "execute_result"
    }
   ],
   "source": [
    "len(betti_succ_dists)"
   ]
  },
  {
   "cell_type": "code",
   "execution_count": 67,
   "metadata": {},
   "outputs": [
    {
     "name": "stdout",
     "output_type": "stream",
     "text": [
      "[ 3.79032194  7.26212852  7.38978192  4.321205    2.95891543  8.81497064\n",
      "  8.22162087  6.49047597  8.65643598 13.13963803  3.95063713  9.19855734\n",
      "  8.0200889   5.08938256  5.47026662 12.69304781  8.36745956  5.46563116\n",
      " 11.14336942  7.12634356  8.05346492  4.14763765  6.43608192  8.04953604\n",
      "  5.72042995  6.31795838  5.01306806  4.85660984  7.8696029  10.85000289\n",
      "  5.43192696  6.77824737  4.16083529  6.54622958  5.85854547  9.55741538\n",
      "  6.84008706  6.19697974  5.71870666  4.6306053  12.15756635  7.67503368\n",
      "  3.94893512  5.40313667  6.54657854  4.60791293  7.58382337  8.03948056\n",
      "  8.18289187  7.54163211  4.78897811 10.44748172  3.58471105  9.74724227\n",
      "  5.15892586  5.17101954  6.24798936  7.22021788  5.40266145  8.22034807\n",
      "  7.33228585  9.54431267  4.84996624  2.73196358  4.05575695  7.92752717\n",
      "  6.22707888  8.46963999  5.39167275  7.71571186  6.20044763  6.92354624\n",
      "  4.3287055   8.41999418 10.79057417  5.67363666 11.16361917  7.11833423\n",
      "  3.56867055  6.80274828  9.85507977  9.50711343  7.49360201  8.27917951\n",
      "  9.54953584 10.90069448  8.65905444  7.07751496  6.75076753  3.65136303\n",
      "  4.07369842  7.21676389  8.08168414  5.27351416  6.63545299  4.75088304\n",
      "  4.25322888  6.24916282  6.05533879  7.92780434  8.81440537 11.45818233\n",
      "  3.17684391  6.24173225  9.83760845  6.51838565  8.59534477 13.06686469\n",
      "  5.10027195  6.54728971 10.63916384  5.66272808  8.28753719  7.54679711\n",
      "  3.43814653  6.81456177  6.4017435   6.32119449  4.70944106  4.25302914\n",
      "  5.815981    7.31097993  6.56928405]\n"
     ]
    }
   ],
   "source": [
    "print (betti_succ_dists)"
   ]
  },
  {
   "cell_type": "code",
   "execution_count": null,
   "metadata": {},
   "outputs": [],
   "source": [
    "########"
   ]
  },
  {
   "cell_type": "code",
   "execution_count": null,
   "metadata": {},
   "outputs": [],
   "source": [
    "########"
   ]
  },
  {
   "cell_type": "code",
   "execution_count": null,
   "metadata": {},
   "outputs": [],
   "source": [
    "###Dados sem anomalias##### "
   ]
  },
  {
   "cell_type": "code",
   "execution_count": 68,
   "metadata": {},
   "outputs": [
    {
     "name": "stdout",
     "output_type": "stream",
     "text": [
      "(12, 9)\n"
     ]
    }
   ],
   "source": [
    "df_normal_values.head()\n",
    "df_normal_values.tail()\n",
    "df_normal_values.shape\n",
    "\n",
    "df_normal_values.dropna(inplace=True)\n",
    "\n",
    "df_normal_values['DT_MEDICAO'] = df_normal_values['DT_MEDICAO'].astype('datetime64')\n",
    "df_normal_resampled = pd.DataFrame(df_normal_values, columns = ['DT_MEDICAO', 'TEMP_MAX'])\n",
    "df_normal_resampled.set_index('DT_MEDICAO',inplace=True)\n",
    "normal_temps_values = df_normal_resampled[\"TEMP_MAX\"].tolist()\n",
    "\n",
    "\n",
    "embedding_series_without_anomalies = time_series.takens_embedding_optimal_parameters(normal_temps_values, \n",
    "                                                            max_time_delay=20, \n",
    "                                                            max_dimension=20)\n",
    "print (embedding_series_without_anomalies)"
   ]
  },
  {
   "cell_type": "code",
   "execution_count": 69,
   "metadata": {},
   "outputs": [],
   "source": [
    "embedding_time_delay = embedding_series_without_anomalies[0]\n",
    "embedding_dimension = embedding_series_without_anomalies[1]\n",
    "stride = 5\n",
    "\n",
    "embedder = SingleTakensEmbedding(\n",
    "    parameters_type=\"fixed\", n_jobs=6, time_delay=embedding_time_delay, dimension=embedding_dimension, stride=stride\n",
    ")\n",
    "\n",
    "normal_values_embedded = embedder.fit_transform(normal_temps_values)"
   ]
  },
  {
   "cell_type": "code",
   "execution_count": 70,
   "metadata": {},
   "outputs": [],
   "source": [
    "temps_values_normal_windows = sliding_window.fit_transform(normal_values_embedded)"
   ]
  },
  {
   "cell_type": "code",
   "execution_count": 71,
   "metadata": {},
   "outputs": [],
   "source": [
    "persistences_diagrams_normal = persistence.fit_transform(temps_values_normal_windows)"
   ]
  },
  {
   "cell_type": "code",
   "execution_count": 72,
   "metadata": {},
   "outputs": [],
   "source": [
    "distance_diagrams_normal = pairwise_distance.fit_transform(persistences_diagrams_normal)"
   ]
  },
  {
   "cell_type": "code",
   "execution_count": 73,
   "metadata": {},
   "outputs": [],
   "source": [
    "betti_succ_dists_normal = bettiHomDer.fit_transform(\n",
    "    persistences_diagrams_normal)"
   ]
  },
  {
   "cell_type": "code",
   "execution_count": 74,
   "metadata": {},
   "outputs": [
    {
     "name": "stdout",
     "output_type": "stream",
     "text": [
      "[4.40042085 2.7819312  3.01715921 3.43421329 2.62663191 2.65762422\n",
      " 5.37376126 3.31564052 3.63071795 2.91290588 2.89590764 2.46591789\n",
      " 3.27486326 3.40899623 2.28147342 2.40340982 2.98105221 2.74368418\n",
      " 3.78398931 5.21346349 3.26556935 2.885963   3.47864472 4.44425769\n",
      " 2.22965513 5.70155234 2.36372536 3.45591456 3.51002672 2.75181845\n",
      " 3.79744155 2.49534464 4.78056688 2.98745359 2.48986108 2.68847628\n",
      " 4.09945906 5.61593423 2.65834722 5.04886211 6.45048592 8.13109412\n",
      " 4.21181182 3.71360367 4.48890936 3.82621815 3.34447135 4.62383694\n",
      " 4.12530839 5.82366076 5.00626864 4.97224652 4.41515779 3.76254841\n",
      " 5.42445732 3.38994002 6.43765441 5.90869098 5.41477842 5.4128568\n",
      " 2.47203416 2.70873883 3.16907521 6.22022765 3.00756845 3.25294717\n",
      " 2.79090962 3.47881318 2.80508285 3.44112463 4.7595052  6.34390121\n",
      " 5.50739266 2.19356383 4.72000214 2.88365724 3.31281544 2.89403966\n",
      " 6.36623248 2.37178092 3.26988288 3.45088896 5.27393504 4.85798076\n",
      " 3.35589055 3.05593952 5.09581356 3.14120748 5.70162419 3.14347519\n",
      " 5.04281167 3.58116198 3.89865092 3.83691418 4.3179968  6.12165348\n",
      " 3.34613907 3.4357782  2.61798828 4.38906557 3.09028504 2.89240056\n",
      " 3.38386716 3.36248287 2.73859998 2.29276144 4.47458515 2.89316874\n",
      " 2.62774142 3.08083972 2.79985121 4.50060035 5.4519416  3.33320748\n",
      " 2.48046169 4.08720638]\n"
     ]
    }
   ],
   "source": [
    "print(betti_succ_dists_normal)"
   ]
  },
  {
   "cell_type": "code",
   "execution_count": 21,
   "metadata": {},
   "outputs": [],
   "source": []
  }
 ],
 "metadata": {
  "kernelspec": {
   "display_name": "Python 3",
   "language": "python",
   "name": "python3"
  },
  "language_info": {
   "codemirror_mode": {
    "name": "ipython",
    "version": 3
   },
   "file_extension": ".py",
   "mimetype": "text/x-python",
   "name": "python",
   "nbconvert_exporter": "python",
   "pygments_lexer": "ipython3",
   "version": "3.8.5"
  }
 },
 "nbformat": 4,
 "nbformat_minor": 4
}
